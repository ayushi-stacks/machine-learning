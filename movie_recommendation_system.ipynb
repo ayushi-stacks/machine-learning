{
  "nbformat": 4,
  "nbformat_minor": 0,
  "metadata": {
    "colab": {
      "provenance": [],
      "authorship_tag": "ABX9TyOnQri7m369UPlJq7RgQjoV",
      "include_colab_link": true
    },
    "kernelspec": {
      "name": "python3",
      "display_name": "Python 3"
    },
    "language_info": {
      "name": "python"
    }
  },
  "cells": [
    {
      "cell_type": "markdown",
      "metadata": {
        "id": "view-in-github",
        "colab_type": "text"
      },
      "source": [
        "<a href=\"https://colab.research.google.com/github/ayushi-stacks/machine-learning/blob/main/movie_recommendation_system.ipynb\" target=\"_parent\"><img src=\"https://colab.research.google.com/assets/colab-badge.svg\" alt=\"Open In Colab\"/></a>"
      ]
    },
    {
      "cell_type": "code",
      "execution_count": null,
      "metadata": {
        "id": "yyCz-QPDv7vv"
      },
      "outputs": [],
      "source": [
        "import pandas as pd"
      ]
    },
    {
      "cell_type": "code",
      "source": [
        "import numpy as np"
      ],
      "metadata": {
        "id": "DVr81bNrwd8w"
      },
      "execution_count": null,
      "outputs": []
    },
    {
      "cell_type": "code",
      "source": [
        "df = pd.read_csv(r'https://raw.githubusercontent.com/YBI-Foundation/Dataset/main/Movies%20Recommendation.csv')"
      ],
      "metadata": {
        "id": "UHBm5q9ayKZQ"
      },
      "execution_count": null,
      "outputs": []
    },
    {
      "cell_type": "code",
      "source": [
        "df.head()"
      ],
      "metadata": {
        "colab": {
          "base_uri": "https://localhost:8080/",
          "height": 620
        },
        "id": "27dBuByiylcg",
        "outputId": "0045c2f5-e056-4dde-de5e-763a23e09467"
      },
      "execution_count": null,
      "outputs": [
        {
          "output_type": "execute_result",
          "data": {
            "text/plain": [
              "   Movie_ID      Movie_Title                       Movie_Genre Movie_Language  \\\n",
              "0         1       Four Rooms                      Crime Comedy             en   \n",
              "1         2        Star Wars  Adventure Action Science Fiction             en   \n",
              "2         3     Finding Nemo                  Animation Family             en   \n",
              "3         4     Forrest Gump              Comedy Drama Romance             en   \n",
              "4         5  American Beauty                             Drama             en   \n",
              "\n",
              "   Movie_Budget  Movie_Popularity Movie_Release_Date  Movie_Revenue  \\\n",
              "0       4000000         22.876230         09-12-1995        4300000   \n",
              "1      11000000        126.393695         25-05-1977      775398007   \n",
              "2      94000000         85.688789         30-05-2003      940335536   \n",
              "3      55000000        138.133331         06-07-1994      677945399   \n",
              "4      15000000         80.878605         15-09-1999      356296601   \n",
              "\n",
              "   Movie_Runtime  Movie_Vote  ...  \\\n",
              "0           98.0         6.5  ...   \n",
              "1          121.0         8.1  ...   \n",
              "2          100.0         7.6  ...   \n",
              "3          142.0         8.2  ...   \n",
              "4          122.0         7.9  ...   \n",
              "\n",
              "                                      Movie_Homepage  \\\n",
              "0                                                NaN   \n",
              "1  http://www.starwars.com/films/star-wars-episod...   \n",
              "2              http://movies.disney.com/finding-nemo   \n",
              "3                                                NaN   \n",
              "4                      http://www.dreamworks.com/ab/   \n",
              "\n",
              "                                      Movie_Keywords  \\\n",
              "0          hotel new year's eve witch bet hotel room   \n",
              "1        android galaxy hermit death star lightsaber   \n",
              "2  father son relationship harbor underwater fish...   \n",
              "3  vietnam veteran hippie mentally disabled runni...   \n",
              "4  male nudity female nudity adultery midlife cri...   \n",
              "\n",
              "                                      Movie_Overview  \\\n",
              "0  It's Ted the Bellhop's first night on the job....   \n",
              "1  Princess Leia is captured and held hostage by ...   \n",
              "2  Nemo, an adventurous young clownfish, is unexp...   \n",
              "3  A man with a low IQ has accomplished great thi...   \n",
              "4  Lester Burnham, a depressed suburban father in...   \n",
              "\n",
              "                              Movie_Production_House  \\\n",
              "0  [{\"name\": \"Miramax Films\", \"id\": 14}, {\"name\":...   \n",
              "1  [{\"name\": \"Lucasfilm\", \"id\": 1}, {\"name\": \"Twe...   \n",
              "2     [{\"name\": \"Pixar Animation Studios\", \"id\": 3}]   \n",
              "3          [{\"name\": \"Paramount Pictures\", \"id\": 4}]   \n",
              "4  [{\"name\": \"DreamWorks SKG\", \"id\": 27}, {\"name\"...   \n",
              "\n",
              "                            Movie_Production_Country  \\\n",
              "0  [{\"iso_3166_1\": \"US\", \"name\": \"United States o...   \n",
              "1  [{\"iso_3166_1\": \"US\", \"name\": \"United States o...   \n",
              "2  [{\"iso_3166_1\": \"US\", \"name\": \"United States o...   \n",
              "3  [{\"iso_3166_1\": \"US\", \"name\": \"United States o...   \n",
              "4  [{\"iso_3166_1\": \"US\", \"name\": \"United States o...   \n",
              "\n",
              "                      Movie_Spoken_Language  \\\n",
              "0  [{\"iso_639_1\": \"en\", \"name\": \"English\"}]   \n",
              "1  [{\"iso_639_1\": \"en\", \"name\": \"English\"}]   \n",
              "2  [{\"iso_639_1\": \"en\", \"name\": \"English\"}]   \n",
              "3  [{\"iso_639_1\": \"en\", \"name\": \"English\"}]   \n",
              "4  [{\"iso_639_1\": \"en\", \"name\": \"English\"}]   \n",
              "\n",
              "                                       Movie_Tagline  \\\n",
              "0  Twelve outrageous guests. Four scandalous requ...   \n",
              "1       A long time ago in a galaxy far, far away...   \n",
              "2  There are 3.7 trillion fish in the ocean, they...   \n",
              "3  The world will never be the same, once you've ...   \n",
              "4                                       Look closer.   \n",
              "\n",
              "                                          Movie_Cast  \\\n",
              "0  Tim Roth Antonio Banderas Jennifer Beals Madon...   \n",
              "1  Mark Hamill Harrison Ford Carrie Fisher Peter ...   \n",
              "2  Albert Brooks Ellen DeGeneres Alexander Gould ...   \n",
              "3  Tom Hanks Robin Wright Gary Sinise Mykelti Wil...   \n",
              "4  Kevin Spacey Annette Bening Thora Birch Wes Be...   \n",
              "\n",
              "                                          Movie_Crew   Movie_Director  \n",
              "0  [{'name': 'Allison Anders', 'gender': 1, 'depa...   Allison Anders  \n",
              "1  [{'name': 'George Lucas', 'gender': 2, 'depart...     George Lucas  \n",
              "2  [{'name': 'Andrew Stanton', 'gender': 2, 'depa...   Andrew Stanton  \n",
              "3  [{'name': 'Alan Silvestri', 'gender': 2, 'depa...  Robert Zemeckis  \n",
              "4  [{'name': 'Thomas Newman', 'gender': 2, 'depar...       Sam Mendes  \n",
              "\n",
              "[5 rows x 21 columns]"
            ],
            "text/html": [
              "\n",
              "  <div id=\"df-46f98ebd-0c7b-4ab6-bc0b-74df1ed811c2\" class=\"colab-df-container\">\n",
              "    <div>\n",
              "<style scoped>\n",
              "    .dataframe tbody tr th:only-of-type {\n",
              "        vertical-align: middle;\n",
              "    }\n",
              "\n",
              "    .dataframe tbody tr th {\n",
              "        vertical-align: top;\n",
              "    }\n",
              "\n",
              "    .dataframe thead th {\n",
              "        text-align: right;\n",
              "    }\n",
              "</style>\n",
              "<table border=\"1\" class=\"dataframe\">\n",
              "  <thead>\n",
              "    <tr style=\"text-align: right;\">\n",
              "      <th></th>\n",
              "      <th>Movie_ID</th>\n",
              "      <th>Movie_Title</th>\n",
              "      <th>Movie_Genre</th>\n",
              "      <th>Movie_Language</th>\n",
              "      <th>Movie_Budget</th>\n",
              "      <th>Movie_Popularity</th>\n",
              "      <th>Movie_Release_Date</th>\n",
              "      <th>Movie_Revenue</th>\n",
              "      <th>Movie_Runtime</th>\n",
              "      <th>Movie_Vote</th>\n",
              "      <th>...</th>\n",
              "      <th>Movie_Homepage</th>\n",
              "      <th>Movie_Keywords</th>\n",
              "      <th>Movie_Overview</th>\n",
              "      <th>Movie_Production_House</th>\n",
              "      <th>Movie_Production_Country</th>\n",
              "      <th>Movie_Spoken_Language</th>\n",
              "      <th>Movie_Tagline</th>\n",
              "      <th>Movie_Cast</th>\n",
              "      <th>Movie_Crew</th>\n",
              "      <th>Movie_Director</th>\n",
              "    </tr>\n",
              "  </thead>\n",
              "  <tbody>\n",
              "    <tr>\n",
              "      <th>0</th>\n",
              "      <td>1</td>\n",
              "      <td>Four Rooms</td>\n",
              "      <td>Crime Comedy</td>\n",
              "      <td>en</td>\n",
              "      <td>4000000</td>\n",
              "      <td>22.876230</td>\n",
              "      <td>09-12-1995</td>\n",
              "      <td>4300000</td>\n",
              "      <td>98.0</td>\n",
              "      <td>6.5</td>\n",
              "      <td>...</td>\n",
              "      <td>NaN</td>\n",
              "      <td>hotel new year's eve witch bet hotel room</td>\n",
              "      <td>It's Ted the Bellhop's first night on the job....</td>\n",
              "      <td>[{\"name\": \"Miramax Films\", \"id\": 14}, {\"name\":...</td>\n",
              "      <td>[{\"iso_3166_1\": \"US\", \"name\": \"United States o...</td>\n",
              "      <td>[{\"iso_639_1\": \"en\", \"name\": \"English\"}]</td>\n",
              "      <td>Twelve outrageous guests. Four scandalous requ...</td>\n",
              "      <td>Tim Roth Antonio Banderas Jennifer Beals Madon...</td>\n",
              "      <td>[{'name': 'Allison Anders', 'gender': 1, 'depa...</td>\n",
              "      <td>Allison Anders</td>\n",
              "    </tr>\n",
              "    <tr>\n",
              "      <th>1</th>\n",
              "      <td>2</td>\n",
              "      <td>Star Wars</td>\n",
              "      <td>Adventure Action Science Fiction</td>\n",
              "      <td>en</td>\n",
              "      <td>11000000</td>\n",
              "      <td>126.393695</td>\n",
              "      <td>25-05-1977</td>\n",
              "      <td>775398007</td>\n",
              "      <td>121.0</td>\n",
              "      <td>8.1</td>\n",
              "      <td>...</td>\n",
              "      <td>http://www.starwars.com/films/star-wars-episod...</td>\n",
              "      <td>android galaxy hermit death star lightsaber</td>\n",
              "      <td>Princess Leia is captured and held hostage by ...</td>\n",
              "      <td>[{\"name\": \"Lucasfilm\", \"id\": 1}, {\"name\": \"Twe...</td>\n",
              "      <td>[{\"iso_3166_1\": \"US\", \"name\": \"United States o...</td>\n",
              "      <td>[{\"iso_639_1\": \"en\", \"name\": \"English\"}]</td>\n",
              "      <td>A long time ago in a galaxy far, far away...</td>\n",
              "      <td>Mark Hamill Harrison Ford Carrie Fisher Peter ...</td>\n",
              "      <td>[{'name': 'George Lucas', 'gender': 2, 'depart...</td>\n",
              "      <td>George Lucas</td>\n",
              "    </tr>\n",
              "    <tr>\n",
              "      <th>2</th>\n",
              "      <td>3</td>\n",
              "      <td>Finding Nemo</td>\n",
              "      <td>Animation Family</td>\n",
              "      <td>en</td>\n",
              "      <td>94000000</td>\n",
              "      <td>85.688789</td>\n",
              "      <td>30-05-2003</td>\n",
              "      <td>940335536</td>\n",
              "      <td>100.0</td>\n",
              "      <td>7.6</td>\n",
              "      <td>...</td>\n",
              "      <td>http://movies.disney.com/finding-nemo</td>\n",
              "      <td>father son relationship harbor underwater fish...</td>\n",
              "      <td>Nemo, an adventurous young clownfish, is unexp...</td>\n",
              "      <td>[{\"name\": \"Pixar Animation Studios\", \"id\": 3}]</td>\n",
              "      <td>[{\"iso_3166_1\": \"US\", \"name\": \"United States o...</td>\n",
              "      <td>[{\"iso_639_1\": \"en\", \"name\": \"English\"}]</td>\n",
              "      <td>There are 3.7 trillion fish in the ocean, they...</td>\n",
              "      <td>Albert Brooks Ellen DeGeneres Alexander Gould ...</td>\n",
              "      <td>[{'name': 'Andrew Stanton', 'gender': 2, 'depa...</td>\n",
              "      <td>Andrew Stanton</td>\n",
              "    </tr>\n",
              "    <tr>\n",
              "      <th>3</th>\n",
              "      <td>4</td>\n",
              "      <td>Forrest Gump</td>\n",
              "      <td>Comedy Drama Romance</td>\n",
              "      <td>en</td>\n",
              "      <td>55000000</td>\n",
              "      <td>138.133331</td>\n",
              "      <td>06-07-1994</td>\n",
              "      <td>677945399</td>\n",
              "      <td>142.0</td>\n",
              "      <td>8.2</td>\n",
              "      <td>...</td>\n",
              "      <td>NaN</td>\n",
              "      <td>vietnam veteran hippie mentally disabled runni...</td>\n",
              "      <td>A man with a low IQ has accomplished great thi...</td>\n",
              "      <td>[{\"name\": \"Paramount Pictures\", \"id\": 4}]</td>\n",
              "      <td>[{\"iso_3166_1\": \"US\", \"name\": \"United States o...</td>\n",
              "      <td>[{\"iso_639_1\": \"en\", \"name\": \"English\"}]</td>\n",
              "      <td>The world will never be the same, once you've ...</td>\n",
              "      <td>Tom Hanks Robin Wright Gary Sinise Mykelti Wil...</td>\n",
              "      <td>[{'name': 'Alan Silvestri', 'gender': 2, 'depa...</td>\n",
              "      <td>Robert Zemeckis</td>\n",
              "    </tr>\n",
              "    <tr>\n",
              "      <th>4</th>\n",
              "      <td>5</td>\n",
              "      <td>American Beauty</td>\n",
              "      <td>Drama</td>\n",
              "      <td>en</td>\n",
              "      <td>15000000</td>\n",
              "      <td>80.878605</td>\n",
              "      <td>15-09-1999</td>\n",
              "      <td>356296601</td>\n",
              "      <td>122.0</td>\n",
              "      <td>7.9</td>\n",
              "      <td>...</td>\n",
              "      <td>http://www.dreamworks.com/ab/</td>\n",
              "      <td>male nudity female nudity adultery midlife cri...</td>\n",
              "      <td>Lester Burnham, a depressed suburban father in...</td>\n",
              "      <td>[{\"name\": \"DreamWorks SKG\", \"id\": 27}, {\"name\"...</td>\n",
              "      <td>[{\"iso_3166_1\": \"US\", \"name\": \"United States o...</td>\n",
              "      <td>[{\"iso_639_1\": \"en\", \"name\": \"English\"}]</td>\n",
              "      <td>Look closer.</td>\n",
              "      <td>Kevin Spacey Annette Bening Thora Birch Wes Be...</td>\n",
              "      <td>[{'name': 'Thomas Newman', 'gender': 2, 'depar...</td>\n",
              "      <td>Sam Mendes</td>\n",
              "    </tr>\n",
              "  </tbody>\n",
              "</table>\n",
              "<p>5 rows × 21 columns</p>\n",
              "</div>\n",
              "    <div class=\"colab-df-buttons\">\n",
              "\n",
              "  <div class=\"colab-df-container\">\n",
              "    <button class=\"colab-df-convert\" onclick=\"convertToInteractive('df-46f98ebd-0c7b-4ab6-bc0b-74df1ed811c2')\"\n",
              "            title=\"Convert this dataframe to an interactive table.\"\n",
              "            style=\"display:none;\">\n",
              "\n",
              "  <svg xmlns=\"http://www.w3.org/2000/svg\" height=\"24px\" viewBox=\"0 -960 960 960\">\n",
              "    <path d=\"M120-120v-720h720v720H120Zm60-500h600v-160H180v160Zm220 220h160v-160H400v160Zm0 220h160v-160H400v160ZM180-400h160v-160H180v160Zm440 0h160v-160H620v160ZM180-180h160v-160H180v160Zm440 0h160v-160H620v160Z\"/>\n",
              "  </svg>\n",
              "    </button>\n",
              "\n",
              "  <style>\n",
              "    .colab-df-container {\n",
              "      display:flex;\n",
              "      gap: 12px;\n",
              "    }\n",
              "\n",
              "    .colab-df-convert {\n",
              "      background-color: #E8F0FE;\n",
              "      border: none;\n",
              "      border-radius: 50%;\n",
              "      cursor: pointer;\n",
              "      display: none;\n",
              "      fill: #1967D2;\n",
              "      height: 32px;\n",
              "      padding: 0 0 0 0;\n",
              "      width: 32px;\n",
              "    }\n",
              "\n",
              "    .colab-df-convert:hover {\n",
              "      background-color: #E2EBFA;\n",
              "      box-shadow: 0px 1px 2px rgba(60, 64, 67, 0.3), 0px 1px 3px 1px rgba(60, 64, 67, 0.15);\n",
              "      fill: #174EA6;\n",
              "    }\n",
              "\n",
              "    .colab-df-buttons div {\n",
              "      margin-bottom: 4px;\n",
              "    }\n",
              "\n",
              "    [theme=dark] .colab-df-convert {\n",
              "      background-color: #3B4455;\n",
              "      fill: #D2E3FC;\n",
              "    }\n",
              "\n",
              "    [theme=dark] .colab-df-convert:hover {\n",
              "      background-color: #434B5C;\n",
              "      box-shadow: 0px 1px 3px 1px rgba(0, 0, 0, 0.15);\n",
              "      filter: drop-shadow(0px 1px 2px rgba(0, 0, 0, 0.3));\n",
              "      fill: #FFFFFF;\n",
              "    }\n",
              "  </style>\n",
              "\n",
              "    <script>\n",
              "      const buttonEl =\n",
              "        document.querySelector('#df-46f98ebd-0c7b-4ab6-bc0b-74df1ed811c2 button.colab-df-convert');\n",
              "      buttonEl.style.display =\n",
              "        google.colab.kernel.accessAllowed ? 'block' : 'none';\n",
              "\n",
              "      async function convertToInteractive(key) {\n",
              "        const element = document.querySelector('#df-46f98ebd-0c7b-4ab6-bc0b-74df1ed811c2');\n",
              "        const dataTable =\n",
              "          await google.colab.kernel.invokeFunction('convertToInteractive',\n",
              "                                                    [key], {});\n",
              "        if (!dataTable) return;\n",
              "\n",
              "        const docLinkHtml = 'Like what you see? Visit the ' +\n",
              "          '<a target=\"_blank\" href=https://colab.research.google.com/notebooks/data_table.ipynb>data table notebook</a>'\n",
              "          + ' to learn more about interactive tables.';\n",
              "        element.innerHTML = '';\n",
              "        dataTable['output_type'] = 'display_data';\n",
              "        await google.colab.output.renderOutput(dataTable, element);\n",
              "        const docLink = document.createElement('div');\n",
              "        docLink.innerHTML = docLinkHtml;\n",
              "        element.appendChild(docLink);\n",
              "      }\n",
              "    </script>\n",
              "  </div>\n",
              "\n",
              "\n",
              "<div id=\"df-b80e8427-c3d7-4208-b79d-05b40dab1d35\">\n",
              "  <button class=\"colab-df-quickchart\" onclick=\"quickchart('df-b80e8427-c3d7-4208-b79d-05b40dab1d35')\"\n",
              "            title=\"Suggest charts\"\n",
              "            style=\"display:none;\">\n",
              "\n",
              "<svg xmlns=\"http://www.w3.org/2000/svg\" height=\"24px\"viewBox=\"0 0 24 24\"\n",
              "     width=\"24px\">\n",
              "    <g>\n",
              "        <path d=\"M19 3H5c-1.1 0-2 .9-2 2v14c0 1.1.9 2 2 2h14c1.1 0 2-.9 2-2V5c0-1.1-.9-2-2-2zM9 17H7v-7h2v7zm4 0h-2V7h2v10zm4 0h-2v-4h2v4z\"/>\n",
              "    </g>\n",
              "</svg>\n",
              "  </button>\n",
              "\n",
              "<style>\n",
              "  .colab-df-quickchart {\n",
              "      --bg-color: #E8F0FE;\n",
              "      --fill-color: #1967D2;\n",
              "      --hover-bg-color: #E2EBFA;\n",
              "      --hover-fill-color: #174EA6;\n",
              "      --disabled-fill-color: #AAA;\n",
              "      --disabled-bg-color: #DDD;\n",
              "  }\n",
              "\n",
              "  [theme=dark] .colab-df-quickchart {\n",
              "      --bg-color: #3B4455;\n",
              "      --fill-color: #D2E3FC;\n",
              "      --hover-bg-color: #434B5C;\n",
              "      --hover-fill-color: #FFFFFF;\n",
              "      --disabled-bg-color: #3B4455;\n",
              "      --disabled-fill-color: #666;\n",
              "  }\n",
              "\n",
              "  .colab-df-quickchart {\n",
              "    background-color: var(--bg-color);\n",
              "    border: none;\n",
              "    border-radius: 50%;\n",
              "    cursor: pointer;\n",
              "    display: none;\n",
              "    fill: var(--fill-color);\n",
              "    height: 32px;\n",
              "    padding: 0;\n",
              "    width: 32px;\n",
              "  }\n",
              "\n",
              "  .colab-df-quickchart:hover {\n",
              "    background-color: var(--hover-bg-color);\n",
              "    box-shadow: 0 1px 2px rgba(60, 64, 67, 0.3), 0 1px 3px 1px rgba(60, 64, 67, 0.15);\n",
              "    fill: var(--button-hover-fill-color);\n",
              "  }\n",
              "\n",
              "  .colab-df-quickchart-complete:disabled,\n",
              "  .colab-df-quickchart-complete:disabled:hover {\n",
              "    background-color: var(--disabled-bg-color);\n",
              "    fill: var(--disabled-fill-color);\n",
              "    box-shadow: none;\n",
              "  }\n",
              "\n",
              "  .colab-df-spinner {\n",
              "    border: 2px solid var(--fill-color);\n",
              "    border-color: transparent;\n",
              "    border-bottom-color: var(--fill-color);\n",
              "    animation:\n",
              "      spin 1s steps(1) infinite;\n",
              "  }\n",
              "\n",
              "  @keyframes spin {\n",
              "    0% {\n",
              "      border-color: transparent;\n",
              "      border-bottom-color: var(--fill-color);\n",
              "      border-left-color: var(--fill-color);\n",
              "    }\n",
              "    20% {\n",
              "      border-color: transparent;\n",
              "      border-left-color: var(--fill-color);\n",
              "      border-top-color: var(--fill-color);\n",
              "    }\n",
              "    30% {\n",
              "      border-color: transparent;\n",
              "      border-left-color: var(--fill-color);\n",
              "      border-top-color: var(--fill-color);\n",
              "      border-right-color: var(--fill-color);\n",
              "    }\n",
              "    40% {\n",
              "      border-color: transparent;\n",
              "      border-right-color: var(--fill-color);\n",
              "      border-top-color: var(--fill-color);\n",
              "    }\n",
              "    60% {\n",
              "      border-color: transparent;\n",
              "      border-right-color: var(--fill-color);\n",
              "    }\n",
              "    80% {\n",
              "      border-color: transparent;\n",
              "      border-right-color: var(--fill-color);\n",
              "      border-bottom-color: var(--fill-color);\n",
              "    }\n",
              "    90% {\n",
              "      border-color: transparent;\n",
              "      border-bottom-color: var(--fill-color);\n",
              "    }\n",
              "  }\n",
              "</style>\n",
              "\n",
              "  <script>\n",
              "    async function quickchart(key) {\n",
              "      const quickchartButtonEl =\n",
              "        document.querySelector('#' + key + ' button');\n",
              "      quickchartButtonEl.disabled = true;  // To prevent multiple clicks.\n",
              "      quickchartButtonEl.classList.add('colab-df-spinner');\n",
              "      try {\n",
              "        const charts = await google.colab.kernel.invokeFunction(\n",
              "            'suggestCharts', [key], {});\n",
              "      } catch (error) {\n",
              "        console.error('Error during call to suggestCharts:', error);\n",
              "      }\n",
              "      quickchartButtonEl.classList.remove('colab-df-spinner');\n",
              "      quickchartButtonEl.classList.add('colab-df-quickchart-complete');\n",
              "    }\n",
              "    (() => {\n",
              "      let quickchartButtonEl =\n",
              "        document.querySelector('#df-b80e8427-c3d7-4208-b79d-05b40dab1d35 button');\n",
              "      quickchartButtonEl.style.display =\n",
              "        google.colab.kernel.accessAllowed ? 'block' : 'none';\n",
              "    })();\n",
              "  </script>\n",
              "</div>\n",
              "\n",
              "    </div>\n",
              "  </div>\n"
            ],
            "application/vnd.google.colaboratory.intrinsic+json": {
              "type": "dataframe",
              "variable_name": "df"
            }
          },
          "metadata": {},
          "execution_count": 12
        }
      ]
    },
    {
      "cell_type": "code",
      "source": [
        "df.info()"
      ],
      "metadata": {
        "colab": {
          "base_uri": "https://localhost:8080/"
        },
        "id": "NyM8DKJyIM_Z",
        "outputId": "19a76cb4-99b9-42b9-ec9f-87f456d5cc95"
      },
      "execution_count": null,
      "outputs": [
        {
          "output_type": "stream",
          "name": "stdout",
          "text": [
            "<class 'pandas.core.frame.DataFrame'>\n",
            "RangeIndex: 4760 entries, 0 to 4759\n",
            "Data columns (total 21 columns):\n",
            " #   Column                    Non-Null Count  Dtype  \n",
            "---  ------                    --------------  -----  \n",
            " 0   Movie_ID                  4760 non-null   int64  \n",
            " 1   Movie_Title               4760 non-null   object \n",
            " 2   Movie_Genre               4760 non-null   object \n",
            " 3   Movie_Language            4760 non-null   object \n",
            " 4   Movie_Budget              4760 non-null   int64  \n",
            " 5   Movie_Popularity          4760 non-null   float64\n",
            " 6   Movie_Release_Date        4760 non-null   object \n",
            " 7   Movie_Revenue             4760 non-null   int64  \n",
            " 8   Movie_Runtime             4758 non-null   float64\n",
            " 9   Movie_Vote                4760 non-null   float64\n",
            " 10  Movie_Vote_Count          4760 non-null   int64  \n",
            " 11  Movie_Homepage            1699 non-null   object \n",
            " 12  Movie_Keywords            4373 non-null   object \n",
            " 13  Movie_Overview            4757 non-null   object \n",
            " 14  Movie_Production_House    4760 non-null   object \n",
            " 15  Movie_Production_Country  4760 non-null   object \n",
            " 16  Movie_Spoken_Language     4760 non-null   object \n",
            " 17  Movie_Tagline             3942 non-null   object \n",
            " 18  Movie_Cast                4733 non-null   object \n",
            " 19  Movie_Crew                4760 non-null   object \n",
            " 20  Movie_Director            4738 non-null   object \n",
            "dtypes: float64(3), int64(4), object(14)\n",
            "memory usage: 781.1+ KB\n"
          ]
        }
      ]
    },
    {
      "cell_type": "code",
      "source": [
        "df.shape"
      ],
      "metadata": {
        "colab": {
          "base_uri": "https://localhost:8080/"
        },
        "id": "dbCcRdBJIyQX",
        "outputId": "19377adf-a2ba-45e6-8628-08b8376d37a7"
      },
      "execution_count": null,
      "outputs": [
        {
          "output_type": "execute_result",
          "data": {
            "text/plain": [
              "(4760, 21)"
            ]
          },
          "metadata": {},
          "execution_count": 14
        }
      ]
    },
    {
      "cell_type": "code",
      "source": [
        "df.columns"
      ],
      "metadata": {
        "colab": {
          "base_uri": "https://localhost:8080/"
        },
        "id": "8l0uja62JBQb",
        "outputId": "3a774b79-5f2a-4857-cd5d-6c807d422664"
      },
      "execution_count": null,
      "outputs": [
        {
          "output_type": "execute_result",
          "data": {
            "text/plain": [
              "Index(['Movie_ID', 'Movie_Title', 'Movie_Genre', 'Movie_Language',\n",
              "       'Movie_Budget', 'Movie_Popularity', 'Movie_Release_Date',\n",
              "       'Movie_Revenue', 'Movie_Runtime', 'Movie_Vote', 'Movie_Vote_Count',\n",
              "       'Movie_Homepage', 'Movie_Keywords', 'Movie_Overview',\n",
              "       'Movie_Production_House', 'Movie_Production_Country',\n",
              "       'Movie_Spoken_Language', 'Movie_Tagline', 'Movie_Cast', 'Movie_Crew',\n",
              "       'Movie_Director'],\n",
              "      dtype='object')"
            ]
          },
          "metadata": {},
          "execution_count": 15
        }
      ]
    },
    {
      "cell_type": "code",
      "source": [
        "df_features = df[['Movie_Genre','Movie_Language','Movie_Popularity','Movie_Vote','Movie_Crew']].fillna('')"
      ],
      "metadata": {
        "id": "df6k0mPHJNr3"
      },
      "execution_count": null,
      "outputs": []
    },
    {
      "cell_type": "code",
      "source": [
        "df_features.shape"
      ],
      "metadata": {
        "colab": {
          "base_uri": "https://localhost:8080/"
        },
        "id": "tTndmP99KV7-",
        "outputId": "89d57aaf-df42-4e40-c767-51755fce2ce0"
      },
      "execution_count": null,
      "outputs": [
        {
          "output_type": "execute_result",
          "data": {
            "text/plain": [
              "(4760, 5)"
            ]
          },
          "metadata": {},
          "execution_count": 17
        }
      ]
    },
    {
      "cell_type": "code",
      "source": [
        "df_features"
      ],
      "metadata": {
        "colab": {
          "base_uri": "https://localhost:8080/",
          "height": 1000
        },
        "id": "gS1OirNRKocV",
        "outputId": "7128354f-60df-4c7a-f798-5b4d1450fe83"
      },
      "execution_count": null,
      "outputs": [
        {
          "output_type": "execute_result",
          "data": {
            "text/plain": [
              "                           Movie_Genre Movie_Language  Movie_Popularity  \\\n",
              "0                         Crime Comedy             en         22.876230   \n",
              "1     Adventure Action Science Fiction             en        126.393695   \n",
              "2                     Animation Family             en         85.688789   \n",
              "3                 Comedy Drama Romance             en        138.133331   \n",
              "4                                Drama             en         80.878605   \n",
              "...                                ...            ...               ...   \n",
              "4755                            Horror             en          0.001389   \n",
              "4756               Comedy Family Drama             en          0.710870   \n",
              "4757                    Thriller Drama             en          0.015295   \n",
              "4758                            Family             en          0.028756   \n",
              "4759                       Documentary             en          0.050625   \n",
              "\n",
              "      Movie_Vote                                         Movie_Crew  \n",
              "0            6.5  [{'name': 'Allison Anders', 'gender': 1, 'depa...  \n",
              "1            8.1  [{'name': 'George Lucas', 'gender': 2, 'depart...  \n",
              "2            7.6  [{'name': 'Andrew Stanton', 'gender': 2, 'depa...  \n",
              "3            8.2  [{'name': 'Alan Silvestri', 'gender': 2, 'depa...  \n",
              "4            7.9  [{'name': 'Thomas Newman', 'gender': 2, 'depar...  \n",
              "...          ...                                                ...  \n",
              "4755         0.0  [{'name': 'Pece Dingo', 'gender': 0, 'departme...  \n",
              "4756         7.4  [{'name': 'Frank Lotito', 'gender': 0, 'depart...  \n",
              "4757         0.0  [{'name': 'Jaco Booyens', 'gender': 0, 'depart...  \n",
              "4758         0.0                                                 []  \n",
              "4759         0.0  [{'name': 'Simon Napier-Bell', 'gender': 0, 'd...  \n",
              "\n",
              "[4760 rows x 5 columns]"
            ],
            "text/html": [
              "\n",
              "  <div id=\"df-634393fe-94ff-47cc-9ecb-2d9b9a309882\" class=\"colab-df-container\">\n",
              "    <div>\n",
              "<style scoped>\n",
              "    .dataframe tbody tr th:only-of-type {\n",
              "        vertical-align: middle;\n",
              "    }\n",
              "\n",
              "    .dataframe tbody tr th {\n",
              "        vertical-align: top;\n",
              "    }\n",
              "\n",
              "    .dataframe thead th {\n",
              "        text-align: right;\n",
              "    }\n",
              "</style>\n",
              "<table border=\"1\" class=\"dataframe\">\n",
              "  <thead>\n",
              "    <tr style=\"text-align: right;\">\n",
              "      <th></th>\n",
              "      <th>Movie_Genre</th>\n",
              "      <th>Movie_Language</th>\n",
              "      <th>Movie_Popularity</th>\n",
              "      <th>Movie_Vote</th>\n",
              "      <th>Movie_Crew</th>\n",
              "    </tr>\n",
              "  </thead>\n",
              "  <tbody>\n",
              "    <tr>\n",
              "      <th>0</th>\n",
              "      <td>Crime Comedy</td>\n",
              "      <td>en</td>\n",
              "      <td>22.876230</td>\n",
              "      <td>6.5</td>\n",
              "      <td>[{'name': 'Allison Anders', 'gender': 1, 'depa...</td>\n",
              "    </tr>\n",
              "    <tr>\n",
              "      <th>1</th>\n",
              "      <td>Adventure Action Science Fiction</td>\n",
              "      <td>en</td>\n",
              "      <td>126.393695</td>\n",
              "      <td>8.1</td>\n",
              "      <td>[{'name': 'George Lucas', 'gender': 2, 'depart...</td>\n",
              "    </tr>\n",
              "    <tr>\n",
              "      <th>2</th>\n",
              "      <td>Animation Family</td>\n",
              "      <td>en</td>\n",
              "      <td>85.688789</td>\n",
              "      <td>7.6</td>\n",
              "      <td>[{'name': 'Andrew Stanton', 'gender': 2, 'depa...</td>\n",
              "    </tr>\n",
              "    <tr>\n",
              "      <th>3</th>\n",
              "      <td>Comedy Drama Romance</td>\n",
              "      <td>en</td>\n",
              "      <td>138.133331</td>\n",
              "      <td>8.2</td>\n",
              "      <td>[{'name': 'Alan Silvestri', 'gender': 2, 'depa...</td>\n",
              "    </tr>\n",
              "    <tr>\n",
              "      <th>4</th>\n",
              "      <td>Drama</td>\n",
              "      <td>en</td>\n",
              "      <td>80.878605</td>\n",
              "      <td>7.9</td>\n",
              "      <td>[{'name': 'Thomas Newman', 'gender': 2, 'depar...</td>\n",
              "    </tr>\n",
              "    <tr>\n",
              "      <th>...</th>\n",
              "      <td>...</td>\n",
              "      <td>...</td>\n",
              "      <td>...</td>\n",
              "      <td>...</td>\n",
              "      <td>...</td>\n",
              "    </tr>\n",
              "    <tr>\n",
              "      <th>4755</th>\n",
              "      <td>Horror</td>\n",
              "      <td>en</td>\n",
              "      <td>0.001389</td>\n",
              "      <td>0.0</td>\n",
              "      <td>[{'name': 'Pece Dingo', 'gender': 0, 'departme...</td>\n",
              "    </tr>\n",
              "    <tr>\n",
              "      <th>4756</th>\n",
              "      <td>Comedy Family Drama</td>\n",
              "      <td>en</td>\n",
              "      <td>0.710870</td>\n",
              "      <td>7.4</td>\n",
              "      <td>[{'name': 'Frank Lotito', 'gender': 0, 'depart...</td>\n",
              "    </tr>\n",
              "    <tr>\n",
              "      <th>4757</th>\n",
              "      <td>Thriller Drama</td>\n",
              "      <td>en</td>\n",
              "      <td>0.015295</td>\n",
              "      <td>0.0</td>\n",
              "      <td>[{'name': 'Jaco Booyens', 'gender': 0, 'depart...</td>\n",
              "    </tr>\n",
              "    <tr>\n",
              "      <th>4758</th>\n",
              "      <td>Family</td>\n",
              "      <td>en</td>\n",
              "      <td>0.028756</td>\n",
              "      <td>0.0</td>\n",
              "      <td>[]</td>\n",
              "    </tr>\n",
              "    <tr>\n",
              "      <th>4759</th>\n",
              "      <td>Documentary</td>\n",
              "      <td>en</td>\n",
              "      <td>0.050625</td>\n",
              "      <td>0.0</td>\n",
              "      <td>[{'name': 'Simon Napier-Bell', 'gender': 0, 'd...</td>\n",
              "    </tr>\n",
              "  </tbody>\n",
              "</table>\n",
              "<p>4760 rows × 5 columns</p>\n",
              "</div>\n",
              "    <div class=\"colab-df-buttons\">\n",
              "\n",
              "  <div class=\"colab-df-container\">\n",
              "    <button class=\"colab-df-convert\" onclick=\"convertToInteractive('df-634393fe-94ff-47cc-9ecb-2d9b9a309882')\"\n",
              "            title=\"Convert this dataframe to an interactive table.\"\n",
              "            style=\"display:none;\">\n",
              "\n",
              "  <svg xmlns=\"http://www.w3.org/2000/svg\" height=\"24px\" viewBox=\"0 -960 960 960\">\n",
              "    <path d=\"M120-120v-720h720v720H120Zm60-500h600v-160H180v160Zm220 220h160v-160H400v160Zm0 220h160v-160H400v160ZM180-400h160v-160H180v160Zm440 0h160v-160H620v160ZM180-180h160v-160H180v160Zm440 0h160v-160H620v160Z\"/>\n",
              "  </svg>\n",
              "    </button>\n",
              "\n",
              "  <style>\n",
              "    .colab-df-container {\n",
              "      display:flex;\n",
              "      gap: 12px;\n",
              "    }\n",
              "\n",
              "    .colab-df-convert {\n",
              "      background-color: #E8F0FE;\n",
              "      border: none;\n",
              "      border-radius: 50%;\n",
              "      cursor: pointer;\n",
              "      display: none;\n",
              "      fill: #1967D2;\n",
              "      height: 32px;\n",
              "      padding: 0 0 0 0;\n",
              "      width: 32px;\n",
              "    }\n",
              "\n",
              "    .colab-df-convert:hover {\n",
              "      background-color: #E2EBFA;\n",
              "      box-shadow: 0px 1px 2px rgba(60, 64, 67, 0.3), 0px 1px 3px 1px rgba(60, 64, 67, 0.15);\n",
              "      fill: #174EA6;\n",
              "    }\n",
              "\n",
              "    .colab-df-buttons div {\n",
              "      margin-bottom: 4px;\n",
              "    }\n",
              "\n",
              "    [theme=dark] .colab-df-convert {\n",
              "      background-color: #3B4455;\n",
              "      fill: #D2E3FC;\n",
              "    }\n",
              "\n",
              "    [theme=dark] .colab-df-convert:hover {\n",
              "      background-color: #434B5C;\n",
              "      box-shadow: 0px 1px 3px 1px rgba(0, 0, 0, 0.15);\n",
              "      filter: drop-shadow(0px 1px 2px rgba(0, 0, 0, 0.3));\n",
              "      fill: #FFFFFF;\n",
              "    }\n",
              "  </style>\n",
              "\n",
              "    <script>\n",
              "      const buttonEl =\n",
              "        document.querySelector('#df-634393fe-94ff-47cc-9ecb-2d9b9a309882 button.colab-df-convert');\n",
              "      buttonEl.style.display =\n",
              "        google.colab.kernel.accessAllowed ? 'block' : 'none';\n",
              "\n",
              "      async function convertToInteractive(key) {\n",
              "        const element = document.querySelector('#df-634393fe-94ff-47cc-9ecb-2d9b9a309882');\n",
              "        const dataTable =\n",
              "          await google.colab.kernel.invokeFunction('convertToInteractive',\n",
              "                                                    [key], {});\n",
              "        if (!dataTable) return;\n",
              "\n",
              "        const docLinkHtml = 'Like what you see? Visit the ' +\n",
              "          '<a target=\"_blank\" href=https://colab.research.google.com/notebooks/data_table.ipynb>data table notebook</a>'\n",
              "          + ' to learn more about interactive tables.';\n",
              "        element.innerHTML = '';\n",
              "        dataTable['output_type'] = 'display_data';\n",
              "        await google.colab.output.renderOutput(dataTable, element);\n",
              "        const docLink = document.createElement('div');\n",
              "        docLink.innerHTML = docLinkHtml;\n",
              "        element.appendChild(docLink);\n",
              "      }\n",
              "    </script>\n",
              "  </div>\n",
              "\n",
              "\n",
              "<div id=\"df-6b41e1ee-8f81-4dac-bbd6-9eb50eec035b\">\n",
              "  <button class=\"colab-df-quickchart\" onclick=\"quickchart('df-6b41e1ee-8f81-4dac-bbd6-9eb50eec035b')\"\n",
              "            title=\"Suggest charts\"\n",
              "            style=\"display:none;\">\n",
              "\n",
              "<svg xmlns=\"http://www.w3.org/2000/svg\" height=\"24px\"viewBox=\"0 0 24 24\"\n",
              "     width=\"24px\">\n",
              "    <g>\n",
              "        <path d=\"M19 3H5c-1.1 0-2 .9-2 2v14c0 1.1.9 2 2 2h14c1.1 0 2-.9 2-2V5c0-1.1-.9-2-2-2zM9 17H7v-7h2v7zm4 0h-2V7h2v10zm4 0h-2v-4h2v4z\"/>\n",
              "    </g>\n",
              "</svg>\n",
              "  </button>\n",
              "\n",
              "<style>\n",
              "  .colab-df-quickchart {\n",
              "      --bg-color: #E8F0FE;\n",
              "      --fill-color: #1967D2;\n",
              "      --hover-bg-color: #E2EBFA;\n",
              "      --hover-fill-color: #174EA6;\n",
              "      --disabled-fill-color: #AAA;\n",
              "      --disabled-bg-color: #DDD;\n",
              "  }\n",
              "\n",
              "  [theme=dark] .colab-df-quickchart {\n",
              "      --bg-color: #3B4455;\n",
              "      --fill-color: #D2E3FC;\n",
              "      --hover-bg-color: #434B5C;\n",
              "      --hover-fill-color: #FFFFFF;\n",
              "      --disabled-bg-color: #3B4455;\n",
              "      --disabled-fill-color: #666;\n",
              "  }\n",
              "\n",
              "  .colab-df-quickchart {\n",
              "    background-color: var(--bg-color);\n",
              "    border: none;\n",
              "    border-radius: 50%;\n",
              "    cursor: pointer;\n",
              "    display: none;\n",
              "    fill: var(--fill-color);\n",
              "    height: 32px;\n",
              "    padding: 0;\n",
              "    width: 32px;\n",
              "  }\n",
              "\n",
              "  .colab-df-quickchart:hover {\n",
              "    background-color: var(--hover-bg-color);\n",
              "    box-shadow: 0 1px 2px rgba(60, 64, 67, 0.3), 0 1px 3px 1px rgba(60, 64, 67, 0.15);\n",
              "    fill: var(--button-hover-fill-color);\n",
              "  }\n",
              "\n",
              "  .colab-df-quickchart-complete:disabled,\n",
              "  .colab-df-quickchart-complete:disabled:hover {\n",
              "    background-color: var(--disabled-bg-color);\n",
              "    fill: var(--disabled-fill-color);\n",
              "    box-shadow: none;\n",
              "  }\n",
              "\n",
              "  .colab-df-spinner {\n",
              "    border: 2px solid var(--fill-color);\n",
              "    border-color: transparent;\n",
              "    border-bottom-color: var(--fill-color);\n",
              "    animation:\n",
              "      spin 1s steps(1) infinite;\n",
              "  }\n",
              "\n",
              "  @keyframes spin {\n",
              "    0% {\n",
              "      border-color: transparent;\n",
              "      border-bottom-color: var(--fill-color);\n",
              "      border-left-color: var(--fill-color);\n",
              "    }\n",
              "    20% {\n",
              "      border-color: transparent;\n",
              "      border-left-color: var(--fill-color);\n",
              "      border-top-color: var(--fill-color);\n",
              "    }\n",
              "    30% {\n",
              "      border-color: transparent;\n",
              "      border-left-color: var(--fill-color);\n",
              "      border-top-color: var(--fill-color);\n",
              "      border-right-color: var(--fill-color);\n",
              "    }\n",
              "    40% {\n",
              "      border-color: transparent;\n",
              "      border-right-color: var(--fill-color);\n",
              "      border-top-color: var(--fill-color);\n",
              "    }\n",
              "    60% {\n",
              "      border-color: transparent;\n",
              "      border-right-color: var(--fill-color);\n",
              "    }\n",
              "    80% {\n",
              "      border-color: transparent;\n",
              "      border-right-color: var(--fill-color);\n",
              "      border-bottom-color: var(--fill-color);\n",
              "    }\n",
              "    90% {\n",
              "      border-color: transparent;\n",
              "      border-bottom-color: var(--fill-color);\n",
              "    }\n",
              "  }\n",
              "</style>\n",
              "\n",
              "  <script>\n",
              "    async function quickchart(key) {\n",
              "      const quickchartButtonEl =\n",
              "        document.querySelector('#' + key + ' button');\n",
              "      quickchartButtonEl.disabled = true;  // To prevent multiple clicks.\n",
              "      quickchartButtonEl.classList.add('colab-df-spinner');\n",
              "      try {\n",
              "        const charts = await google.colab.kernel.invokeFunction(\n",
              "            'suggestCharts', [key], {});\n",
              "      } catch (error) {\n",
              "        console.error('Error during call to suggestCharts:', error);\n",
              "      }\n",
              "      quickchartButtonEl.classList.remove('colab-df-spinner');\n",
              "      quickchartButtonEl.classList.add('colab-df-quickchart-complete');\n",
              "    }\n",
              "    (() => {\n",
              "      let quickchartButtonEl =\n",
              "        document.querySelector('#df-6b41e1ee-8f81-4dac-bbd6-9eb50eec035b button');\n",
              "      quickchartButtonEl.style.display =\n",
              "        google.colab.kernel.accessAllowed ? 'block' : 'none';\n",
              "    })();\n",
              "  </script>\n",
              "</div>\n",
              "\n",
              "  <div id=\"id_101285dc-2fff-4352-87cb-8fbb372ea187\">\n",
              "    <style>\n",
              "      .colab-df-generate {\n",
              "        background-color: #E8F0FE;\n",
              "        border: none;\n",
              "        border-radius: 50%;\n",
              "        cursor: pointer;\n",
              "        display: none;\n",
              "        fill: #1967D2;\n",
              "        height: 32px;\n",
              "        padding: 0 0 0 0;\n",
              "        width: 32px;\n",
              "      }\n",
              "\n",
              "      .colab-df-generate:hover {\n",
              "        background-color: #E2EBFA;\n",
              "        box-shadow: 0px 1px 2px rgba(60, 64, 67, 0.3), 0px 1px 3px 1px rgba(60, 64, 67, 0.15);\n",
              "        fill: #174EA6;\n",
              "      }\n",
              "\n",
              "      [theme=dark] .colab-df-generate {\n",
              "        background-color: #3B4455;\n",
              "        fill: #D2E3FC;\n",
              "      }\n",
              "\n",
              "      [theme=dark] .colab-df-generate:hover {\n",
              "        background-color: #434B5C;\n",
              "        box-shadow: 0px 1px 3px 1px rgba(0, 0, 0, 0.15);\n",
              "        filter: drop-shadow(0px 1px 2px rgba(0, 0, 0, 0.3));\n",
              "        fill: #FFFFFF;\n",
              "      }\n",
              "    </style>\n",
              "    <button class=\"colab-df-generate\" onclick=\"generateWithVariable('df_features')\"\n",
              "            title=\"Generate code using this dataframe.\"\n",
              "            style=\"display:none;\">\n",
              "\n",
              "  <svg xmlns=\"http://www.w3.org/2000/svg\" height=\"24px\"viewBox=\"0 0 24 24\"\n",
              "       width=\"24px\">\n",
              "    <path d=\"M7,19H8.4L18.45,9,17,7.55,7,17.6ZM5,21V16.75L18.45,3.32a2,2,0,0,1,2.83,0l1.4,1.43a1.91,1.91,0,0,1,.58,1.4,1.91,1.91,0,0,1-.58,1.4L9.25,21ZM18.45,9,17,7.55Zm-12,3A5.31,5.31,0,0,0,4.9,8.1,5.31,5.31,0,0,0,1,6.5,5.31,5.31,0,0,0,4.9,4.9,5.31,5.31,0,0,0,6.5,1,5.31,5.31,0,0,0,8.1,4.9,5.31,5.31,0,0,0,12,6.5,5.46,5.46,0,0,0,6.5,12Z\"/>\n",
              "  </svg>\n",
              "    </button>\n",
              "    <script>\n",
              "      (() => {\n",
              "      const buttonEl =\n",
              "        document.querySelector('#id_101285dc-2fff-4352-87cb-8fbb372ea187 button.colab-df-generate');\n",
              "      buttonEl.style.display =\n",
              "        google.colab.kernel.accessAllowed ? 'block' : 'none';\n",
              "\n",
              "      buttonEl.onclick = () => {\n",
              "        google.colab.notebook.generateWithVariable('df_features');\n",
              "      }\n",
              "      })();\n",
              "    </script>\n",
              "  </div>\n",
              "\n",
              "    </div>\n",
              "  </div>\n"
            ],
            "application/vnd.google.colaboratory.intrinsic+json": {
              "type": "dataframe",
              "variable_name": "df_features",
              "summary": "{\n  \"name\": \"df_features\",\n  \"rows\": 4760,\n  \"fields\": [\n    {\n      \"column\": \"Movie_Genre\",\n      \"properties\": {\n        \"dtype\": \"category\",\n        \"num_unique_values\": 1164,\n        \"samples\": [\n          \"Family Animation Adventure\",\n          \"Adventure Science Fiction Action\",\n          \"Action Crime Drama Romance Thriller\"\n        ],\n        \"semantic_type\": \"\",\n        \"description\": \"\"\n      }\n    },\n    {\n      \"column\": \"Movie_Language\",\n      \"properties\": {\n        \"dtype\": \"category\",\n        \"num_unique_values\": 37,\n        \"samples\": [\n          \"he\",\n          \"fr\",\n          \"ja\"\n        ],\n        \"semantic_type\": \"\",\n        \"description\": \"\"\n      }\n    },\n    {\n      \"column\": \"Movie_Popularity\",\n      \"properties\": {\n        \"dtype\": \"number\",\n        \"std\": 31.887919408553724,\n        \"min\": 0.000372,\n        \"max\": 875.581305,\n        \"num_unique_values\": 4759,\n        \"samples\": [\n          3.231848,\n          26.090746,\n          92.201962\n        ],\n        \"semantic_type\": \"\",\n        \"description\": \"\"\n      }\n    },\n    {\n      \"column\": \"Movie_Vote\",\n      \"properties\": {\n        \"dtype\": \"number\",\n        \"std\": 1.1412939937795856,\n        \"min\": 0.0,\n        \"max\": 10.0,\n        \"num_unique_values\": 69,\n        \"samples\": [\n          8.3,\n          6.5,\n          4.5\n        ],\n        \"semantic_type\": \"\",\n        \"description\": \"\"\n      }\n    },\n    {\n      \"column\": \"Movie_Crew\",\n      \"properties\": {\n        \"dtype\": \"string\",\n        \"num_unique_values\": 4747,\n        \"samples\": [\n          \"[{'name': 'Sylvie Landra', 'gender': 1, 'department': 'Editing', 'job': 'Editor', 'credit_id': '52fe431e9251416c7500438b', 'id': 998}, {'name': 'John Hardy', 'gender': 2, 'department': 'Production', 'job': 'Executive Producer', 'credit_id': '52fe431e9251416c7500434f', 'id': 6341}, {'name': 'Richard Roberts', 'gender': 2, 'department': 'Art', 'job': 'Set Decoration', 'credit_id': '52fe431e9251416c750043a9', 'id': 8410}, {'name': 'Keith Pain', 'gender': 2, 'department': 'Art', 'job': 'Art Direction', 'credit_id': '52fe431e9251416c750043b5', 'id': 8646}, {'name': 'Frank H\\\\\\\\u00fcbner', 'gender': 2, 'department': 'Production', 'job': 'Producer', 'credit_id': '52fe431e9251416c75004355', 'id': 15303}, {'name': 'Elie Samaha', 'gender': 2, 'department': 'Production', 'job': 'Executive Producer', 'credit_id': '52fe431e9251416c75004379', 'id': 18691}, {'name': 'Esther Walz', 'gender': 0, 'department': 'Costume & Make-Up', 'job': 'Costume Design', 'credit_id': '52fe431e9251416c750043c7', 'id': 20079}, {'name': 'Andrew Stevens', 'gender': 2, 'department': 'Production', 'job': 'Producer', 'credit_id': '52fe431e9251416c75004385', 'id': 21479}, {'name': 'Anja Dihrberg', 'gender': 0, 'department': 'Production', 'job': 'Casting', 'credit_id': '52fe431e9251416c75004397', 'id': 25755}, {'name': 'Peter Hyams', 'gender': 2, 'department': 'Directing', 'job': 'Director', 'credit_id': '52fe431e9251416c75004325', 'id': 37710}, {'name': 'Peter Hyams', 'gender': 2, 'department': 'Camera', 'job': 'Director of Photography', 'credit_id': '52fe431e9251416c750043bb', 'id': 37710}, {'name': 'Yoram Barzilai', 'gender': 0, 'department': 'Production', 'job': 'Line Producer', 'credit_id': '52fe431e9251416c75004337', 'id': 42504}, {'name': 'Richard Holland', 'gender': 2, 'department': 'Art', 'job': 'Production Design', 'credit_id': '52fe431e9251416c7500439d', 'id': 49909}, {'name': 'Jan Fantl', 'gender': 0, 'department': 'Production', 'job': 'Producer', 'credit_id': '52fe431e9251416c75004391', 'id': 52036}, {'name': 'Gregory Poirier', 'gender': 2, 'department': 'Writing', 'job': 'Author', 'credit_id': '52fe431e9251416c75004331', 'id': 50942}, {'name': 'Breck Eisner', 'gender': 2, 'department': 'Production', 'job': 'Executive Producer', 'credit_id': '52fe431e9251416c75004349', 'id': 52609}, {'name': 'Thomas Dean Donnelly', 'gender': 2, 'department': 'Writing', 'job': 'Author', 'credit_id': '52fe431e9251416c75004319', 'id': 53297}, {'name': 'Howard Baldwin', 'gender': 2, 'department': 'Production', 'job': 'Producer', 'credit_id': '52fe431e9251416c75004343', 'id': 53299}, {'name': 'Karen Elise Baldwin', 'gender': 1, 'department': 'Production', 'job': 'Producer', 'credit_id': '52fe431f9251416c75004423', 'id': 53300}, {'name': 'Moshe Diamant', 'gender': 2, 'department': 'Production', 'job': 'Producer', 'credit_id': '52fe431e9251416c7500433d', 'id': 56032}, {'name': 'Nick Glennie-Smith', 'gender': 2, 'department': 'Sound', 'job': 'Original Music Composer', 'credit_id': '52fe431e9251416c7500437f', 'id': 57263}, {'name': 'J\\\\\\\\u00f6rg Westerkamp', 'gender': 2, 'department': 'Production', 'job': 'Executive Producer', 'credit_id': '52fe431e9251416c750043c1', 'id': 62686}, {'name': 'Ray Bradbury', 'gender': 2, 'department': 'Writing', 'job': 'Author', 'credit_id': '52fe431e9251416c7500435b', 'id': 62923}, {'name': 'Steven Cantor', 'gender': 2, 'department': 'Production', 'job': 'Producer', 'credit_id': '52fe431e9251416c75004361', 'id': 62926}, {'name': 'Guy J. Louthan', 'gender': 2, 'department': 'Production', 'job': 'Line Producer', 'credit_id': '52fe431e9251416c75004367', 'id': 62927}, {'name': 'Romana Cisarova', 'gender': 0, 'department': 'Production', 'job': 'Executive Producer', 'credit_id': '52fe431e9251416c7500436d', 'id': 62925}, {'name': 'Rick Nathanson', 'gender': 0, 'department': 'Production', 'job': 'Executive Producer', 'credit_id': '52fe431e9251416c75004373', 'id': 62928}, {'name': 'William J. Immerman', 'gender': 2, 'department': 'Production', 'job': 'Executive Producer', 'credit_id': '52fe431e9251416c750043a3', 'id': 62929}, {'name': 'Jessica Hor\\\\\\\\u00e1thov\\\\\\\\u00e1', 'gender': 1, 'department': 'Production', 'job': 'Casting', 'credit_id': '52fe431e9251416c750043af', 'id': 62930}, {'name': 'Sakina Msa', 'gender': 0, 'department': 'Costume & Make-Up', 'job': 'Costume Design', 'credit_id': '52fe431e9251416c750043cd', 'id': 62931}, {'name': 'Joshua Oppenheimer', 'gender': 0, 'department': 'Writing', 'job': 'Screenplay', 'credit_id': '56cf5b78c3a3681e36003413', 'id': 1582866}]\",\n          \"[{'name': 'Vincenzo Natali', 'gender': 2, 'department': 'Writing', 'job': 'Scenario Writer', 'credit_id': '52fe46669251416c9105329f', 'id': 5877}, {'name': 'Vincenzo Natali', 'gender': 2, 'department': 'Writing', 'job': 'Screenplay', 'credit_id': '5373857ec3a368150900145b', 'id': 5877}, {'name': 'Vincenzo Natali', 'gender': 2, 'department': 'Directing', 'job': 'Director', 'credit_id': '537385f1c3a36815300013b0', 'id': 5877}, {'name': 'Plato Fountidakis', 'gender': 0, 'department': 'Crew', 'job': 'Stunt Coordinator', 'credit_id': '54901a26925141221800131e', 'id': 8361}, {'name': 'Alex Kavanagh', 'gender': 1, 'department': 'Costume & Make-Up', 'job': 'Costume Design', 'credit_id': '53738470c3a3681509001430', 'id': 51035}, {'name': 'Tetsuo Nagata', 'gender': 0, 'department': 'Crew', 'job': 'Cinematography', 'credit_id': '52fe46659251416c91053293', 'id': 16930}, {'name': 'Guillermo del Toro', 'gender': 2, 'department': 'Production', 'job': 'Producer', 'credit_id': '52fe46659251416c91053281', 'id': 10828}, {'name': 'Doug Taylor', 'gender': 0, 'department': 'Writing', 'job': 'Screenplay', 'credit_id': '537385acc3a3681518001448', 'id': 23801}, {'name': 'Paul Rapovski', 'gender': 0, 'department': 'Crew', 'job': 'Stunt Coordinator', 'credit_id': '54901a3992514122090015f8', 'id': 28242}, {'name': 'Steven Hoban', 'gender': 2, 'department': 'Production', 'job': 'Producer', 'credit_id': '52fe46659251416c9105328d', 'id': 59935}, {'name': 'Joshu de Cartier', 'gender': 0, 'department': 'Art', 'job': 'Art Direction', 'credit_id': '537384bfc3a36815200013a7', 'id': 60088}, {'name': 'Roderick Deogrades', 'gender': 2, 'department': 'Sound', 'job': 'Sound Effects Editor', 'credit_id': '549017039251412215001396', 'id': 85964}, {'name': 'David Rose', 'gender': 2, 'department': 'Sound', 'job': 'Sound Designer', 'credit_id': '549017ccc3a3687cb80003ef', 'id': 90769}, {'name': 'Antoinette Terry Bryant', 'gender': 1, 'department': 'Writing', 'job': 'Screenplay', 'credit_id': '53738594c3a36815300013a3', 'id': 118360}, {'name': 'Franck Chorot', 'gender': 0, 'department': 'Production', 'job': 'Producer', 'credit_id': '52fe46659251416c91053287', 'id': 118361}, {'name': 'Jason Knight', 'gender': 0, 'department': 'Production', 'job': 'Casting', 'credit_id': '5373845ac3a368151800141b', 'id': 190936}, {'name': 'Jean-Fran\\\\\\\\u00e7ois Bourrel', 'gender': 0, 'department': 'Visual Effects', 'job': 'Visual Effects Producer', 'credit_id': '549018c292514122180012e8', 'id': 544428}, {'name': 'John Buchan', 'gender': 0, 'department': 'Production', 'job': 'Casting', 'credit_id': '537383f0c3a3681520001387', 'id': 933333}, {'name': 'Pierre Buffin', 'gender': 2, 'department': 'Visual Effects', 'job': 'Visual Effects Supervisor', 'credit_id': '549019f9c3a3686d860016a0', 'id': 937975}, {'name': 'Todd Cherniawsky', 'gender': 2, 'department': 'Art', 'job': 'Production Design', 'credit_id': '537384a8c3a3681528001347', 'id': 959555}, {'name': 'Constance Demontoy', 'gender': 1, 'department': 'Production', 'job': 'Casting', 'credit_id': '53738405c3a368152000138a', 'id': 966444}, {'name': 'Joseph Boccia', 'gender': 0, 'department': 'Production', 'job': 'Production Manager', 'credit_id': '54901529c3a3686d820013ff', 'id': 1121601}, {'name': 'Steve Wilkie', 'gender': 0, 'department': 'Camera', 'job': 'Still Photographer', 'credit_id': '54901a8b925141220b00149c', 'id': 1179441}, {'name': 'Cyrille Aufort', 'gender': 0, 'department': 'Sound', 'job': 'Music', 'credit_id': '5373848ac3a368150200137b', 'id': 1183015}, {'name': 'David R. Beecroft', 'gender': 2, 'department': 'Costume & Make-Up', 'job': 'Hairstylist', 'credit_id': '54901c789251412218001370', 'id': 1193691}, {'name': 'Alain Lalanne', 'gender': 0, 'department': 'Visual Effects', 'job': 'Visual Effects Producer', 'credit_id': '5490191092514122120014dc', 'id': 1204668}, {'name': 'Bob Munroe', 'gender': 0, 'department': 'Visual Effects', 'job': 'Visual Effects Supervisor', 'credit_id': '549019919251412205001435', 'id': 1233109}, {'name': 'Cynthia Amsden', 'gender': 1, 'department': 'Crew', 'job': 'Unit Publicist', 'credit_id': '5902322b9251410acb001e54', 'id': 1242935}, {'name': 'Leslie Kavanagh', 'gender': 0, 'department': 'Costume & Make-Up', 'job': 'Costume Supervisor', 'credit_id': '54901beb9251412218001356', 'id': 1312174}, {'name': 'Marie Nardella', 'gender': 0, 'department': 'Costume & Make-Up', 'job': 'Makeup Department Head', 'credit_id': '537384e1c3a368150900143f', 'id': 1319467}, {'name': 'Dana Howes', 'gender': 0, 'department': 'Crew', 'job': 'Transportation Coordinator', 'credit_id': '54901b3ac3a3686d820014e2', 'id': 1337473}, {'name': 'David McCallum', 'gender': 0, 'department': 'Sound', 'job': 'Supervising Sound Editor', 'credit_id': '549016529251412203001463', 'id': 1338133}, {'name': 'John Sievert', 'gender': 0, 'department': 'Sound', 'job': 'Foley', 'credit_id': '549016ca925141220300146d', 'id': 1338134}, {'name': 'Lisa Burling', 'gender': 0, 'department': 'Directing', 'job': 'Script Supervisor', 'credit_id': '54901b52925141221500141d', 'id': 1340343}, {'name': 'Jill Purdy', 'gender': 0, 'department': 'Editing', 'job': 'Dialogue Editor', 'credit_id': '5490161692514122050013b0', 'id': 1340346}, {'name': 'Janice Ierulli', 'gender': 0, 'department': 'Editing', 'job': 'Dialogue Editor', 'credit_id': '549015fe9251412215001376', 'id': 1375604}, {'name': 'Garrett Kerr', 'gender': 0, 'department': 'Sound', 'job': 'Sound Effects Editor', 'credit_id': '549017219251412203001476', 'id': 1375605}, {'name': 'Steve Pederson', 'gender': 0, 'department': 'Sound', 'job': 'Sound Re-Recording Mixer', 'credit_id': '549017eb925141220f001481', 'id': 1378228}, {'name': 'Ian Hunter', 'gender': 0, 'department': 'Visual Effects', 'job': 'Visual Effects Supervisor', 'credit_id': '549019c5c3a3686d820014ad', 'id': 1392095}, {'name': 'Shie Rozow', 'gender': 0, 'department': 'Sound', 'job': 'Music Editor', 'credit_id': '54901b249251412209001617', 'id': 1393021}, {'name': 'David Sanger', 'gender': 0, 'department': 'Visual Effects', 'job': 'Visual Effects Producer', 'credit_id': '54901945c3a3686d7400151a', 'id': 1394445}, {'name': 'Chris Howard', 'gender': 0, 'department': 'Lighting', 'job': 'Gaffer', 'credit_id': '54901aaf925141221200151f', 'id': 1399508}, {'name': 'Chris Howard', 'gender': 0, 'department': 'Crew', 'job': 'Thanks', 'credit_id': '54901bb79251412212001538', 'id': 1399508}, {'name': 'Brad Sherman', 'gender': 2, 'department': 'Sound', 'job': 'Sound Re-Recording Mixer', 'credit_id': '54901806925141220b001434', 'id': 1399861}, {'name': 'William Cheng', 'gender': 0, 'department': 'Art', 'job': 'Set Designer', 'credit_id': '5490156ac3a3686d8200140d', 'id': 1399909}, {'name': 'Sam Hudecki', 'gender': 0, 'department': 'Art', 'job': 'Assistant Art Director', 'credit_id': '5490158bc3a3686d74001490', 'id': 1399910}, {'name': 'Rossana DeCampo', 'gender': 0, 'department': 'Crew', 'job': 'Scenic Artist', 'credit_id': '549015a1c3a3686d74001499', 'id': 1399911}, {'name': 'Jason Lunn', 'gender': 0, 'department': 'Art', 'job': 'Leadman', 'credit_id': '549015b99251412203001443', 'id': 1399912}, {'name': 'James R. Murray', 'gender': 0, 'department': 'Crew', 'job': 'Property Master', 'credit_id': '549015cfc3a3686d71001178', 'id': 1399913}, {'name': 'Laurent Kossayan', 'gender': 0, 'department': 'Sound', 'job': 'Supervising Sound Editor', 'credit_id': '549016689251412212001473', 'id': 1399914}, {'name': 'Lou Thomas', 'gender': 0, 'department': 'Editing', 'job': 'Dialogue Editor', 'credit_id': '5490168cc3a3686d7100118e', 'id': 1399915}, {'name': 'Jean-Alexandre Villemer', 'gender': 0, 'department': 'Crew', 'job': 'Sound Recordist', 'credit_id': '549016a19251412215001389', 'id': 1399916}, {'name': 'Stefan Fraticelli', 'gender': 0, 'department': 'Sound', 'job': 'Foley', 'credit_id': '549016b59251412212001482', 'id': 1399917}, {'name': 'Mark Shnuriwsky', 'gender': 0, 'department': 'Sound', 'job': 'Sound Effects Editor', 'credit_id': '5490174192514122180012b7', 'id': 1399918}, {'name': 'Daniel White', 'gender': 0, 'department': 'Crew', 'job': 'Special Effects Coordinator', 'credit_id': '54901865c3a3686d86001658', 'id': 1399919}, {'name': 'Fran\\\\\\\\u00e7ois-Xavier Aubague', 'gender': 0, 'department': 'Visual Effects', 'job': 'Visual Effects Producer', 'credit_id': '5490187f92514122090015b1', 'id': 1399920}, {'name': 'Jacques Bled', 'gender': 0, 'department': 'Visual Effects', 'job': 'Visual Effects Producer', 'credit_id': '54901895c3a368269a000245', 'id': 1399921}, {'name': 'Arnauld Boulard', 'gender': 0, 'department': 'Visual Effects', 'job': 'Visual Effects Producer', 'credit_id': '549018abc3a3686d740014fa', 'id': 1399922}, {'name': 'Dale Gagne', 'gender': 0, 'department': 'Visual Effects', 'job': 'Visual Effects Producer', 'credit_id': '549018df92514122120014d1', 'id': 1399923}, {'name': 'Michael Griffith', 'gender': 0, 'department': 'Crew', 'job': 'Visual Effects Editor', 'credit_id': '549018f7925141220b00144e', 'id': 1399924}, {'name': 'Sue Len Quon', 'gender': 0, 'department': 'Crew', 'job': 'Visual Effects Editor', 'credit_id': '5490192592514122090015d3', 'id': 1399925}, {'name': 'Fabrice Lagayette', 'gender': 0, 'department': 'Visual Effects', 'job': 'Visual Effects Supervisor', 'credit_id': '549019aa92514122030014b9', 'id': 1399926}, {'name': 'Angelo Colavecchia', 'gender': 0, 'department': 'Camera', 'job': 'Camera Operator', 'credit_id': '54901a56925141221200150e', 'id': 1399927}, {'name': 'Dino Laurenza', 'gender': 0, 'department': 'Camera', 'job': 'Camera Operator', 'credit_id': '54901a739251412218001327', 'id': 1399928}, {'name': 'Christopher M. Meagher', 'gender': 0, 'department': 'Editing', 'job': 'Digital Intermediate', 'credit_id': '54901b03c3a3686d74001562', 'id': 1399929}, {'name': 'Marty Dejczak', 'gender': 1, 'department': 'Production', 'job': 'Location Manager', 'credit_id': '54901b84c3a3686d71001216', 'id': 1399930}, {'name': 'Aidan Stanford', 'gender': 0, 'department': 'Editing', 'job': 'Color Timer', 'credit_id': '54901c359251412212001554', 'id': 1399931}, {'name': 'Christina Butterfield', 'gender': 0, 'department': 'Visual Effects', 'job': 'VFX Artist', 'credit_id': '554aad00925141469c00035c', 'id': 1460504}]\",\n          \"[{'name': 'Rick Heinrichs', 'gender': 2, 'department': 'Art', 'job': 'Production Design', 'credit_id': '52fe4307c3a36847f8034f01', 'id': 1226}, {'name': 'John Dexter', 'gender': 2, 'department': 'Art', 'job': 'Art Direction', 'credit_id': '52fe4307c3a36847f8034f07', 'id': 553}, {'name': 'Harold Ramis', 'gender': 2, 'department': 'Directing', 'job': 'Director', 'credit_id': '52fe4306c3a36847f8034e8d', 'id': 1524}, {'name': 'Harold Ramis', 'gender': 2, 'department': 'Writing', 'job': 'Screenplay', 'credit_id': '52fe4306c3a36847f8034e99', 'id': 1524}, {'name': 'Harold Ramis', 'gender': 2, 'department': 'Production', 'job': 'Producer', 'credit_id': '52fe4307c3a36847f8034ecb', 'id': 1524}, {'name': 'Trevor Albert', 'gender': 2, 'department': 'Production', 'job': 'Producer', 'credit_id': '52fe4307c3a36847f8034ec5', 'id': 1525}, {'name': 'David Newman', 'gender': 2, 'department': 'Sound', 'job': 'Original Music Composer', 'credit_id': '52fe4307c3a36847f8034ee3', 'id': 3393}, {'name': 'Sheila Jaffe', 'gender': 1, 'department': 'Production', 'job': 'Casting', 'credit_id': '52fe4307c3a36847f8034ef5', 'id': 7494}, {'name': 'Georgianne Walken', 'gender': 1, 'department': 'Production', 'job': 'Casting', 'credit_id': '52fe4307c3a36847f8034efb', 'id': 7495}, {'name': 'Bill Pope', 'gender': 0, 'department': 'Camera', 'job': 'Director of Photography', 'credit_id': '52fe4307c3a36847f8034ee9', 'id': 9341}, {'name': 'Neil A. Machlis', 'gender': 2, 'department': 'Production', 'job': 'Executive Producer', 'credit_id': '52fe4307c3a36847f8034edd', 'id': 8880}, {'name': 'Garrett Lewis', 'gender': 2, 'department': 'Art', 'job': 'Set Decoration', 'credit_id': '52fe4307c3a36847f8034f0d', 'id': 11413}, {'name': 'Deena Appel', 'gender': 1, 'department': 'Costume & Make-Up', 'job': 'Costume Design', 'credit_id': '52fe4307c3a36847f8034f13', 'id': 14042}, {'name': 'Larry Gelbart', 'gender': 2, 'department': 'Writing', 'job': 'Screenplay', 'credit_id': '52fe4306c3a36847f8034e93', 'id': 18267}, {'name': 'Peter Tolan', 'gender': 2, 'department': 'Writing', 'job': 'Screenplay', 'credit_id': '52fe4306c3a36847f8034e9f', 'id': 18268}, {'name': 'Michael Haley', 'gender': 0, 'department': 'Production', 'job': 'Producer', 'credit_id': '52fe4307c3a36847f8034ed1', 'id': 18274}, {'name': 'Suzanne Herrington', 'gender': 1, 'department': 'Production', 'job': 'Producer', 'credit_id': '52fe4307c3a36847f8034ed7', 'id': 18275}, {'name': 'Craig Herring', 'gender': 2, 'department': 'Editing', 'job': 'Editor', 'credit_id': '52fe4307c3a36847f8034eef', 'id': 18276}, {'name': 'Karin Silvestri', 'gender': 1, 'department': 'Crew', 'job': 'Stunts', 'credit_id': '59125d23c3a36864d404cbf9', 'id': 1813644}]\"\n        ],\n        \"semantic_type\": \"\",\n        \"description\": \"\"\n      }\n    }\n  ]\n}"
            }
          },
          "metadata": {},
          "execution_count": 18
        }
      ]
    },
    {
      "cell_type": "code",
      "source": [
        "X = df_features['Movie_Genre'].fillna('').astype(str) + ' ' + df_features['Movie_Language'].fillna('').astype(str) + ' ' + df_features['Movie_Popularity'].fillna('').astype(str) + df_features['Movie_Crew'].fillna('').astype(str) + df_features['Movie_Crew'].fillna('').astype(str)"
      ],
      "metadata": {
        "id": "aniv-A-gLqww"
      },
      "execution_count": null,
      "outputs": []
    },
    {
      "cell_type": "code",
      "source": [
        "X"
      ],
      "metadata": {
        "colab": {
          "base_uri": "https://localhost:8080/",
          "height": 614
        },
        "id": "vatcXhxwpHB4",
        "outputId": "666d38f0-dc2d-4ca3-a802-d4cb7df9de55"
      },
      "execution_count": null,
      "outputs": [
        {
          "output_type": "execute_result",
          "data": {
            "text/plain": [
              "0       Crime Comedy en 22.87623[{'name': 'Allison And...\n",
              "1       Adventure Action Science Fiction en 126.393695...\n",
              "2       Animation Family en 85.688789[{'name': 'Andrew...\n",
              "3       Comedy Drama Romance en 138.133331[{'name': 'A...\n",
              "4       Drama en 80.878605[{'name': 'Thomas Newman', '...\n",
              "                              ...                        \n",
              "4755    Horror en 0.001389[{'name': 'Pece Dingo', 'gen...\n",
              "4756    Comedy Family Drama en 0.71087[{'name': 'Frank...\n",
              "4757    Thriller Drama en 0.015295[{'name': 'Jaco Booy...\n",
              "4758                               Family en 0.028756[][]\n",
              "4759    Documentary en 0.050625[{'name': 'Simon Napier...\n",
              "Length: 4760, dtype: object"
            ],
            "text/html": [
              "<div>\n",
              "<style scoped>\n",
              "    .dataframe tbody tr th:only-of-type {\n",
              "        vertical-align: middle;\n",
              "    }\n",
              "\n",
              "    .dataframe tbody tr th {\n",
              "        vertical-align: top;\n",
              "    }\n",
              "\n",
              "    .dataframe thead th {\n",
              "        text-align: right;\n",
              "    }\n",
              "</style>\n",
              "<table border=\"1\" class=\"dataframe\">\n",
              "  <thead>\n",
              "    <tr style=\"text-align: right;\">\n",
              "      <th></th>\n",
              "      <th>0</th>\n",
              "    </tr>\n",
              "  </thead>\n",
              "  <tbody>\n",
              "    <tr>\n",
              "      <th>0</th>\n",
              "      <td>Crime Comedy en 22.87623[{'name': 'Allison And...</td>\n",
              "    </tr>\n",
              "    <tr>\n",
              "      <th>1</th>\n",
              "      <td>Adventure Action Science Fiction en 126.393695...</td>\n",
              "    </tr>\n",
              "    <tr>\n",
              "      <th>2</th>\n",
              "      <td>Animation Family en 85.688789[{'name': 'Andrew...</td>\n",
              "    </tr>\n",
              "    <tr>\n",
              "      <th>3</th>\n",
              "      <td>Comedy Drama Romance en 138.133331[{'name': 'A...</td>\n",
              "    </tr>\n",
              "    <tr>\n",
              "      <th>4</th>\n",
              "      <td>Drama en 80.878605[{'name': 'Thomas Newman', '...</td>\n",
              "    </tr>\n",
              "    <tr>\n",
              "      <th>...</th>\n",
              "      <td>...</td>\n",
              "    </tr>\n",
              "    <tr>\n",
              "      <th>4755</th>\n",
              "      <td>Horror en 0.001389[{'name': 'Pece Dingo', 'gen...</td>\n",
              "    </tr>\n",
              "    <tr>\n",
              "      <th>4756</th>\n",
              "      <td>Comedy Family Drama en 0.71087[{'name': 'Frank...</td>\n",
              "    </tr>\n",
              "    <tr>\n",
              "      <th>4757</th>\n",
              "      <td>Thriller Drama en 0.015295[{'name': 'Jaco Booy...</td>\n",
              "    </tr>\n",
              "    <tr>\n",
              "      <th>4758</th>\n",
              "      <td>Family en 0.028756[][]</td>\n",
              "    </tr>\n",
              "    <tr>\n",
              "      <th>4759</th>\n",
              "      <td>Documentary en 0.050625[{'name': 'Simon Napier...</td>\n",
              "    </tr>\n",
              "  </tbody>\n",
              "</table>\n",
              "<p>4760 rows × 1 columns</p>\n",
              "</div><br><label><b>dtype:</b> object</label>"
            ]
          },
          "metadata": {},
          "execution_count": 25
        }
      ]
    },
    {
      "cell_type": "code",
      "source": [
        "X.shape"
      ],
      "metadata": {
        "colab": {
          "base_uri": "https://localhost:8080/"
        },
        "id": "pgMAowRjpOSf",
        "outputId": "336c9c88-5c30-42df-a44d-79734f93cc9d"
      },
      "execution_count": null,
      "outputs": [
        {
          "output_type": "execute_result",
          "data": {
            "text/plain": [
              "(4760,)"
            ]
          },
          "metadata": {},
          "execution_count": 26
        }
      ]
    },
    {
      "cell_type": "code",
      "source": [
        "from sklearn.feature_extraction.text import TfidfVectorizer"
      ],
      "metadata": {
        "id": "HQIb1lUqpce0"
      },
      "execution_count": null,
      "outputs": []
    },
    {
      "cell_type": "code",
      "source": [
        "tfidf = TfidfVectorizer()"
      ],
      "metadata": {
        "id": "DUbSworhps6N"
      },
      "execution_count": null,
      "outputs": []
    },
    {
      "cell_type": "code",
      "source": [
        "X = tfidf.fit_transform(X)"
      ],
      "metadata": {
        "id": "zyg5gZPnp10n"
      },
      "execution_count": null,
      "outputs": []
    },
    {
      "cell_type": "code",
      "source": [
        "X.shape"
      ],
      "metadata": {
        "colab": {
          "base_uri": "https://localhost:8080/"
        },
        "id": "zDp_g4Z5p-6S",
        "outputId": "ffe98e79-bd3b-480c-be20-8f994cc409ae"
      },
      "execution_count": null,
      "outputs": [
        {
          "output_type": "execute_result",
          "data": {
            "text/plain": [
              "(4760, 219796)"
            ]
          },
          "metadata": {},
          "execution_count": 23
        }
      ]
    },
    {
      "cell_type": "code",
      "source": [
        "print(X)"
      ],
      "metadata": {
        "colab": {
          "base_uri": "https://localhost:8080/"
        },
        "id": "kERn5U14qDu-",
        "outputId": "08949e7f-728b-43ce-994f-7c84da5da604"
      },
      "execution_count": null,
      "outputs": [
        {
          "output_type": "stream",
          "name": "stdout",
          "text": [
            "  (0, 37495)\t0.031823188967268226\n",
            "  (0, 175025)\t0.031823188967268226\n",
            "  (0, 215563)\t0.018631311663288515\n",
            "  (0, 214892)\t0.018631311663288515\n",
            "  (0, 216612)\t0.031823188967268226\n",
            "  (0, 200583)\t0.01575462344052075\n",
            "  (0, 37494)\t0.031823188967268226\n",
            "  (0, 175016)\t0.031823188967268226\n",
            "  (0, 196159)\t0.010446859842544204\n",
            "  (0, 197190)\t0.03035275068145451\n",
            "  (0, 193178)\t0.007327299494204592\n",
            "  (0, 37486)\t0.031823188967268226\n",
            "  (0, 174988)\t0.031823188967268226\n",
            "  (0, 185908)\t0.014298604843825976\n",
            "  (0, 198975)\t0.026368581542806756\n",
            "  (0, 193275)\t0.014129241133284846\n",
            "  (0, 37485)\t0.031823188967268226\n",
            "  (0, 174985)\t0.031823188967268226\n",
            "  (0, 196652)\t0.010372694741765108\n",
            "  (0, 213956)\t0.011132114328813577\n",
            "  (0, 37484)\t0.031823188967268226\n",
            "  (0, 174984)\t0.031823188967268226\n",
            "  (0, 194945)\t0.014386348165058415\n",
            "  (0, 193385)\t0.031823188967268226\n",
            "  (0, 205215)\t0.02385485068997273\n",
            "  :\t:\n",
            "  (4757, 200949)\t0.08849792576021366\n",
            "  (4757, 193950)\t0.029511703315714805\n",
            "  (4757, 193569)\t0.08849792576021366\n",
            "  (4757, 197059)\t0.08849792576021366\n",
            "  (4757, 207620)\t0.08849792576021366\n",
            "  (4757, 195138)\t0.015643738304907086\n",
            "  (4758, 159)\t0.932367471896968\n",
            "  (4758, 195559)\t0.3433895240191255\n",
            "  (4758, 195138)\t0.11302447585534374\n",
            "  (4759, 5903)\t0.5305023665177314\n",
            "  (4759, 169019)\t0.5305023665177314\n",
            "  (4759, 277)\t0.2652511832588657\n",
            "  (4759, 207643)\t0.4274407012367775\n",
            "  (4759, 194036)\t0.143844646888624\n",
            "  (4759, 188361)\t0.2899080990088912\n",
            "  (4759, 213713)\t0.2210906900320322\n",
            "  (4759, 200114)\t0.0606336919133832\n",
            "  (4759, 192603)\t0.0606336919133832\n",
            "  (4759, 193952)\t0.060659168380939266\n",
            "  (4759, 200949)\t0.0606336919133832\n",
            "  (4759, 193950)\t0.060659168380939266\n",
            "  (4759, 193569)\t0.0606336919133832\n",
            "  (4759, 197059)\t0.0606336919133832\n",
            "  (4759, 207620)\t0.0606336919133832\n",
            "  (4759, 195138)\t0.03215457087627353\n"
          ]
        }
      ]
    },
    {
      "cell_type": "code",
      "source": [
        "from sklearn.metrics.pairwise import cosine_similarity"
      ],
      "metadata": {
        "id": "ycaiL7z4quSX"
      },
      "execution_count": null,
      "outputs": []
    },
    {
      "cell_type": "code",
      "source": [
        "Similarity_score = cosine_similarity(X)"
      ],
      "metadata": {
        "id": "fykxXaPRq6SX"
      },
      "execution_count": null,
      "outputs": []
    },
    {
      "cell_type": "code",
      "source": [
        "Similarity_score"
      ],
      "metadata": {
        "colab": {
          "base_uri": "https://localhost:8080/"
        },
        "id": "g4GJLtxIrEAK",
        "outputId": "785a9037-f600-40cc-d3bc-a76b0c129888"
      },
      "execution_count": null,
      "outputs": [
        {
          "output_type": "execute_result",
          "data": {
            "text/plain": [
              "array([[1.00000000e+00, 5.12795028e-01, 6.50982934e-01, ...,\n",
              "        1.76898699e-01, 2.18007579e-04, 1.20479188e-01],\n",
              "       [5.12795028e-01, 1.00000000e+00, 5.18868266e-01, ...,\n",
              "        1.35621320e-01, 7.36034531e-04, 9.17945353e-02],\n",
              "       [6.50982934e-01, 5.18868266e-01, 1.00000000e+00, ...,\n",
              "        1.66298704e-01, 1.81452806e-03, 1.16011616e-01],\n",
              "       ...,\n",
              "       [1.76898699e-01, 1.35621320e-01, 1.66298704e-01, ...,\n",
              "        1.00000000e+00, 1.76812532e-03, 3.62790642e-02],\n",
              "       [2.18007579e-04, 7.36034531e-04, 1.81452806e-03, ...,\n",
              "        1.76812532e-03, 1.00000000e+00, 3.63425352e-03],\n",
              "       [1.20479188e-01, 9.17945353e-02, 1.16011616e-01, ...,\n",
              "        3.62790642e-02, 3.63425352e-03, 1.00000000e+00]])"
            ]
          },
          "metadata": {},
          "execution_count": 27
        }
      ]
    },
    {
      "cell_type": "code",
      "source": [
        "Similarity_score.shape"
      ],
      "metadata": {
        "colab": {
          "base_uri": "https://localhost:8080/"
        },
        "id": "DhEmJv-9rLzz",
        "outputId": "c8bea8a0-b290-4fa6-d85f-dffa646bdbf2"
      },
      "execution_count": null,
      "outputs": [
        {
          "output_type": "execute_result",
          "data": {
            "text/plain": [
              "(4760, 4760)"
            ]
          },
          "metadata": {},
          "execution_count": 28
        }
      ]
    },
    {
      "cell_type": "code",
      "source": [
        "Favourite_Movie_Name = input('enter your favourite movie name:')"
      ],
      "metadata": {
        "colab": {
          "base_uri": "https://localhost:8080/"
        },
        "id": "2FSThwCirdkk",
        "outputId": "31899045-5731-4a68-974b-c82a0e0b0afe"
      },
      "execution_count": null,
      "outputs": [
        {
          "name": "stdout",
          "output_type": "stream",
          "text": [
            "enter your favourite movie name:avtaar\n"
          ]
        }
      ]
    },
    {
      "cell_type": "code",
      "source": [
        "All_Movies_Title_List = df['Movie_Title'].tolist()"
      ],
      "metadata": {
        "id": "yI-EAYbmr0mp"
      },
      "execution_count": null,
      "outputs": []
    },
    {
      "cell_type": "code",
      "source": [
        "import difflib"
      ],
      "metadata": {
        "id": "972RK8lmsB9W"
      },
      "execution_count": null,
      "outputs": []
    },
    {
      "cell_type": "code",
      "source": [
        "Movie_Recommendation = difflib.get_close_matches(Favourite_Movie_Name, All_Movies_Title_List)\n",
        "print (Movie_Recommendation)"
      ],
      "metadata": {
        "colab": {
          "base_uri": "https://localhost:8080/"
        },
        "id": "hx4xunKWsFNC",
        "outputId": "5dff981b-d115-4445-fbe1-604ce8307252"
      },
      "execution_count": null,
      "outputs": [
        {
          "output_type": "stream",
          "name": "stdout",
          "text": [
            "['Avatar', 'Gattaca']\n"
          ]
        }
      ]
    },
    {
      "cell_type": "code",
      "source": [
        "Close_Match = Movie_Recommendation[0]\n",
        "print (Close_Match)"
      ],
      "metadata": {
        "colab": {
          "base_uri": "https://localhost:8080/"
        },
        "id": "4k_rwMULsjSg",
        "outputId": "495808a1-f16d-4609-cd39-dc1692696f8b"
      },
      "execution_count": null,
      "outputs": [
        {
          "output_type": "stream",
          "name": "stdout",
          "text": [
            "Avatar\n"
          ]
        }
      ]
    },
    {
      "cell_type": "code",
      "source": [
        "Index_of_Close_Match_Movie = df[df.Movie_Title == Close_Match]['Movie_ID'].values[0]\n",
        "print(Index_of_Close_Match_Movie)"
      ],
      "metadata": {
        "colab": {
          "base_uri": "https://localhost:8080/"
        },
        "id": "2vHWpBZ6tHLs",
        "outputId": "57c46b56-de5f-44f8-9ab3-60d0c25d85c0"
      },
      "execution_count": null,
      "outputs": [
        {
          "output_type": "stream",
          "name": "stdout",
          "text": [
            "2692\n"
          ]
        }
      ]
    },
    {
      "cell_type": "code",
      "source": [
        "#getting a list of similar movies\n",
        "Recommendation_Score = list(enumerate(Similarity_score[Index_of_Close_Match_Movie]))\n",
        "print(Recommendation_Score)"
      ],
      "metadata": {
        "colab": {
          "base_uri": "https://localhost:8080/"
        },
        "id": "LwJRAc-X2HBh",
        "outputId": "ba6793f7-2b9b-49de-c6f5-aeef566ff4b4"
      },
      "execution_count": null,
      "outputs": [
        {
          "output_type": "stream",
          "name": "stdout",
          "text": [
            "[(0, 0.536868148725694), (1, 0.4134089941598853), (2, 0.5090572688743586), (3, 0.5686323673743893), (4, 0.5668422097814859), (5, 0.4875653885622384), (6, 0.5720162330898722), (7, 0.3454686159996179), (8, 0.3427295073813772), (9, 0.5695309324548467), (10, 0.5821826082089502), (11, 0.31394207644844324), (12, 0.4822771809886536), (13, 0.497282889744986), (14, 0.46001188071259), (15, 0.3710791504031756), (16, 0.44241853824480837), (17, 0.41494108558960446), (18, 0.4593398457710524), (19, 0.3529742552050515), (20, 0.5521729873991892), (21, 0.37060924125537975), (22, 0.4421306122037368), (23, 0.5406095063197504), (24, 0.5397527671124279), (25, 0.3700729736039414), (26, 0.5500791220252185), (27, 0.5885256061334734), (28, 0.4270390306466132), (29, 0.31749064194076354), (30, 0.395626325808833), (31, 0.46370761566608476), (32, 0.3284470145024675), (33, 0.2924417486446102), (34, 0.36727759601231547), (35, 0.5044132528933228), (36, 0.44401004361427593), (37, 0.5007668299522574), (38, 0.348041040992771), (39, 0.5653094277336979), (40, 0.4360839040297651), (41, 0.5709188121492078), (42, 0.32075074399196424), (43, 0.49332952897099985), (44, 0.44053227460099587), (45, 0.508615226863064), (46, 0.5252583015370188), (47, 0.5174138718943265), (48, 0.48958220072365444), (49, 0.31551373433362295), (50, 0.557590778729387), (51, 0.4808610592696145), (52, 0.45634519969054954), (53, 0.565487657482595), (54, 0.446602156209589), (55, 0.4686964546554778), (56, 0.44285602203638275), (57, 0.38472250164253996), (58, 0.38122095702515657), (59, 0.43271117943728094), (60, 0.5132643323813492), (61, 0.47582728455922024), (62, 0.46458777342528695), (63, 0.3022570396666679), (64, 0.33130402450486107), (65, 0.39548115739965223), (66, 0.4504064022110131), (67, 0.34260552488754126), (68, 0.5570000361721933), (69, 0.3276623102465834), (70, 0.5782740688101268), (71, 0.3491275183699221), (72, 0.5581630900981133), (73, 0.43795380446569476), (74, 0.5381750910104476), (75, 0.3599654398834516), (76, 0.5491481586598396), (77, 0.4656342759296747), (78, 0.3172379477489846), (79, 0.3132308049643844), (80, 0.3435379995540759), (81, 0.5239881648556607), (82, 0.3562251623366177), (83, 0.5658843791940986), (84, 0.5831667256908623), (85, 0.5176796823574419), (86, 0.28145209847659464), (87, 0.35552138532223176), (88, 0.5435478027357974), (89, 0.4890830171351033), (90, 0.3673673174667684), (91, 0.3901431117847674), (92, 0.5390214109729304), (93, 0.40527869021157154), (94, 0.40142849880039505), (95, 0.42229176970154725), (96, 0.2618184186696873), (97, 0.4593343670839634), (98, 0.31323033743905854), (99, 0.3456594347225262), (100, 0.39501373141320273), (101, 0.36912395368322654), (102, 0.511386588011534), (103, 0.38881101022054537), (104, 0.4574076362633301), (105, 0.40902688378602003), (106, 0.3166734579900457), (107, 0.5093430199942339), (108, 0.32739422525582623), (109, 0.4933433623502783), (110, 0.48921908000898334), (111, 0.5113535250276797), (112, 0.3982737059543734), (113, 0.34662957267031436), (114, 0.3425543787494696), (115, 0.27371445856570925), (116, 0.5187911556398502), (117, 0.3297349515435938), (118, 0.3812736623719953), (119, 0.47417254720499075), (120, 0.35725752754695905), (121, 0.37326876406366066), (122, 0.33715327706748366), (123, 0.5760746905563734), (124, 0.5469951505690828), (125, 0.5383388643537503), (126, 0.545315829136675), (127, 0.40786218610638847), (128, 0.5375893648204283), (129, 0.4217161805221961), (130, 0.4777913705631414), (131, 0.4553331247700604), (132, 0.4461671161916189), (133, 0.22725145605422972), (134, 0.3028167477763676), (135, 0.5778247008468306), (136, 0.562124167656787), (137, 0.517444677802243), (138, 0.2904258431311388), (139, 0.31211007440352256), (140, 0.28081742800743237), (141, 0.5627210912183339), (142, 0.4096455112861292), (143, 0.5851336026482474), (144, 0.46515963237365876), (145, 0.4830398447672222), (146, 0.2995256888708618), (147, 0.3222300372315115), (148, 0.3785072540754816), (149, 0.3160340495834296), (150, 0.5453787365657825), (151, 0.547731838142671), (152, 0.557844145490228), (153, 0.24646503450471705), (154, 0.4921980963703395), (155, 0.3167559814325663), (156, 0.45876981910111747), (157, 0.3532593914083024), (158, 0.34129423807202636), (159, 0.3193072828634717), (160, 0.44806551564999775), (161, 0.38633041914079586), (162, 0.3724885312868961), (163, 0.3684889400040706), (164, 0.5233542349537867), (165, 0.44944144482539466), (166, 0.43018316829608216), (167, 0.35118009688012103), (168, 0.41058059053502843), (169, 0.4863132694314103), (170, 0.5715732706443037), (171, 0.5555336943979273), (172, 0.42052010879532636), (173, 0.28962223228700074), (174, 0.40673228496046265), (175, 0.481770067589898), (176, 0.3666575070978504), (177, 0.4685897454219661), (178, 0.3930111017240578), (179, 0.43556474157885877), (180, 0.3825426342805922), (181, 0.558699082634933), (182, 0.3936926109126079), (183, 0.47364833697316894), (184, 0.4578379545951236), (185, 0.48483338229841794), (186, 0.4083221345663426), (187, 0.48143965988750026), (188, 0.3517224122417636), (189, 0.5783914913843129), (190, 0.5007103563123622), (191, 0.5147027740359672), (192, 0.2949703603876992), (193, 0.5265324173425873), (194, 0.34001438395223743), (195, 0.34812876304941387), (196, 0.5668631701496273), (197, 0.30905486884559896), (198, 0.32161150956581175), (199, 0.3174000859993697), (200, 0.2751356178172126), (201, 0.33720049677641967), (202, 0.3539622235795283), (203, 0.5076468623119819), (204, 0.41471874160109123), (205, 0.3651309796359225), (206, 0.5036503533806977), (207, 0.514902571754469), (208, 0.43505071679873974), (209, 0.4282919382911231), (210, 0.25522409797357454), (211, 0.3871604573803312), (212, 0.3390112082887123), (213, 0.4747877150563391), (214, 0.3597463477350893), (215, 0.5305206228425486), (216, 0.29002282031510085), (217, 0.3812033511154052), (218, 0.37958741151371944), (219, 0.41193491238928553), (220, 0.5076185881773204), (221, 0.39915261920531286), (222, 0.41552409929258893), (223, 0.3585674700735112), (224, 0.32940918041117967), (225, 0.5416724297173161), (226, 0.34175802606742905), (227, 0.435833602032187), (228, 0.40066117373397164), (229, 0.5640344577875209), (230, 0.5708450970777448), (231, 0.5733797235856903), (232, 0.4888342131472017), (233, 0.5472638579419541), (234, 0.4945086998431761), (235, 0.5640239839760985), (236, 0.2997964690636676), (237, 0.4401335414311615), (238, 0.3714155313891608), (239, 0.4477667336024019), (240, 0.43385509553934276), (241, 0.3918307974201796), (242, 0.5344045150652584), (243, 0.4366169357194747), (244, 0.5601944671946588), (245, 0.5141134712821445), (246, 0.47684116159950307), (247, 0.5810310870592625), (248, 0.4210803295276958), (249, 0.38465610660616356), (250, 0.5560101995681315), (251, 0.35416648247947774), (252, 0.36754949142635074), (253, 0.55849355984434), (254, 0.45743112469874053), (255, 0.5208394802616043), (256, 0.4317551596441102), (257, 0.41770110543476957), (258, 0.519581355009696), (259, 0.5185673468964239), (260, 0.4116112177620062), (261, 0.4202841895230962), (262, 0.39792208075348845), (263, 0.5663256905516472), (264, 0.5798575332616859), (265, 0.4420039157234966), (266, 0.423886407362027), (267, 0.4861493518853752), (268, 0.5555270672804278), (269, 0.38341975629727765), (270, 0.2883774109795139), (271, 0.5212809124284934), (272, 0.3746909903312985), (273, 0.3766647515704378), (274, 0.4913325090839228), (275, 0.3787870992355547), (276, 0.5224728898671142), (277, 0.3884429520781366), (278, 0.5554374855854053), (279, 0.3692232323185316), (280, 0.5770765709355336), (281, 0.4100373670871132), (282, 0.38523699778487447), (283, 0.5768280798017162), (284, 0.33438560729531164), (285, 0.3481430062871272), (286, 0.5705169705089109), (287, 0.3026875741013866), (288, 0.45690168157170485), (289, 0.3521195235802883), (290, 0.3686383526238387), (291, 0.3991797326676612), (292, 0.5503981197530402), (293, 0.44037449351066793), (294, 0.3245424329665829), (295, 0.359518830960016), (296, 0.29356123128199013), (297, 0.5786346516698732), (298, 0.5765338405956614), (299, 0.579827668212023), (300, 0.47309098725645093), (301, 0.4486599107289863), (302, 0.5696701173743294), (303, 0.4741769242798079), (304, 0.49827804651103086), (305, 0.4029497837765774), (306, 0.4272250884648387), (307, 0.5872818383895747), (308, 0.5403193942734343), (309, 0.3166772120624741), (310, 0.40461647646979015), (311, 0.17605367814059075), (312, 0.5599358329678182), (313, 0.37384199188904904), (314, 0.39482262256449924), (315, 0.3860203595067848), (316, 0.4013072296343998), (317, 0.42101778861960676), (318, 0.4984516312927921), (319, 0.3085184853337384), (320, 0.3833242748208392), (321, 0.39314420984691867), (322, 0.3976443091436035), (323, 0.4980066756607368), (324, 0.29454861258419507), (325, 0.35143995152908114), (326, 0.24234649568590452), (327, 0.4118405065126307), (328, 0.4829822327489171), (329, 0.5542306606125132), (330, 0.4469354832327198), (331, 0.37168820569308303), (332, 0.5383351287068088), (333, 0.49114132122588966), (334, 0.5136788462098643), (335, 0.43672173615311405), (336, 0.3414319707248238), (337, 0.30043211546812165), (338, 0.40763105669003036), (339, 0.3725069481310677), (340, 0.4459383433212163), (341, 0.5403496126392812), (342, 0.5339438001409722), (343, 0.5263559498926248), (344, 0.49410555413106344), (345, 0.34324245593263597), (346, 0.5243420250086117), (347, 0.5084395247597087), (348, 0.4617080681320884), (349, 0.35469389470883683), (350, 0.40487656521446524), (351, 0.41083070648604064), (352, 0.47107141207996533), (353, 0.4556484568616146), (354, 0.4749393280021503), (355, 0.341232348196562), (356, 0.29649031387357005), (357, 0.3810168094819571), (358, 0.2709573838664481), (359, 0.3398981361157374), (360, 0.5549790147538444), (361, 0.5161163289455662), (362, 0.5137162401548152), (363, 0.3503869036875137), (364, 0.29803869984068043), (365, 0.48560484346617694), (366, 0.41028955880101764), (367, 0.41862132885813147), (368, 0.44198472602195354), (369, 0.5783068500108266), (370, 0.3409832959434515), (371, 0.5493250469346491), (372, 0.4317887204641188), (373, 0.3509331364380817), (374, 0.3429245320567078), (375, 0.40063893752763086), (376, 0.3997720832591243), (377, 0.35616016698134634), (378, 0.445079506981037), (379, 0.4926924123687522), (380, 0.36142014256266014), (381, 0.36566144375474224), (382, 0.36504012034821853), (383, 0.32159439283213637), (384, 0.5323869774563768), (385, 0.33186417099547233), (386, 0.5791561442946729), (387, 0.5592448922817731), (388, 0.31163393314092447), (389, 0.3719841405410787), (390, 0.42308237822224437), (391, 0.4877716857200361), (392, 0.48842204627599706), (393, 0.32570120698911303), (394, 0.3987284816275379), (395, 0.33872622359859456), (396, 0.3431066890907381), (397, 0.4195194263252303), (398, 0.3763759811040064), (399, 0.38690484867617686), (400, 0.3539608078899882), (401, 0.3759894944232571), (402, 0.5087524747651032), (403, 0.3310140216916874), (404, 0.43572585118911694), (405, 0.3974685851569006), (406, 0.2196257175544734), (407, 0.46390308719192447), (408, 0.37981637220421577), (409, 0.4353555250936396), (410, 0.5034530507686671), (411, 0.5704553245575938), (412, 0.3834183677529923), (413, 0.5235890560596584), (414, 0.4027309987599288), (415, 0.3957412637404853), (416, 0.42235520172123353), (417, 0.3877344332462186), (418, 0.5523761950185804), (419, 0.5023915133120286), (420, 0.359138477324896), (421, 0.30861672463783324), (422, 0.4506282815167524), (423, 0.48744145493535196), (424, 0.5540183023090289), (425, 0.572388392613113), (426, 0.4488146425945981), (427, 0.39898060689582504), (428, 0.33254805262332826), (429, 0.38646291729999616), (430, 0.1797898941065232), (431, 0.3501492286793086), (432, 0.31681520862887436), (433, 0.35863002703447905), (434, 0.27498115474690177), (435, 0.41678233578371926), (436, 0.5064992387165143), (437, 0.2621535484212762), (438, 0.40127882657599606), (439, 0.4773706812082972), (440, 0.3524010770757336), (441, 0.28126803403289297), (442, 0.3420016952880302), (443, 0.528798260750783), (444, 0.566420350380059), (445, 0.3466924741779579), (446, 0.473353251533286), (447, 0.5278569059726705), (448, 0.49485848033557517), (449, 0.4152441749308717), (450, 0.38618743764958846), (451, 0.5310796488894906), (452, 0.5006996970745231), (453, 0.23367613950510113), (454, 0.3445873835711179), (455, 0.35026102776374346), (456, 0.4077655695631742), (457, 0.3338569849538242), (458, 0.3980887689753057), (459, 0.3977225052471639), (460, 0.37494065779462965), (461, 0.2985498528189618), (462, 0.2191515871756779), (463, 0.5211184706759133), (464, 0.41787427402213195), (465, 0.4343430898482818), (466, 0.4406720843133675), (467, 0.5077066256375163), (468, 0.44358014077193375), (469, 0.44220462845380415), (470, 0.5424418252051062), (471, 0.27850042129006974), (472, 0.5205630923101766), (473, 0.33497623005852695), (474, 0.35806604442423473), (475, 0.26380207283246154), (476, 0.47987521855716), (477, 0.3521640400528537), (478, 0.27747075718477726), (479, 0.3366615942650217), (480, 0.44938408283181064), (481, 0.5564920343087958), (482, 0.3236769980676691), (483, 0.4075619698167212), (484, 0.4596388046230341), (485, 0.4233066766371998), (486, 0.35935119585960124), (487, 0.1655788190300236), (488, 0.36358084706047994), (489, 0.45971515065579965), (490, 0.376504772326941), (491, 0.38304339330640574), (492, 0.5550900491034421), (493, 0.4744481756423093), (494, 0.47430881438987715), (495, 0.3182766823574164), (496, 0.5572629944618395), (497, 0.34494692597590726), (498, 0.2588531252413236), (499, 0.4768501372822947), (500, 0.48299745884860834), (501, 0.28562997199001544), (502, 0.5804328456077456), (503, 0.3588581110087525), (504, 0.4063632441459769), (505, 0.3744812039024031), (506, 0.43008221096785265), (507, 0.38528292644692247), (508, 0.3172188262514479), (509, 0.4357775938626158), (510, 0.28451906004306365), (511, 0.47137912121385916), (512, 0.5646151689594784), (513, 0.5076848685531602), (514, 0.5431007721037863), (515, 0.3598823344890527), (516, 0.5413651853139455), (517, 0.5420594526301684), (518, 0.5062344303889305), (519, 0.534102388257471), (520, 0.30196234188622084), (521, 0.38729435148662184), (522, 0.42447133496189077), (523, 0.5438570541027884), (524, 0.15035258120734218), (525, 0.3228434105053108), (526, 0.3739738705393403), (527, 0.38159229150325774), (528, 0.393218959537986), (529, 0.5435075026844483), (530, 0.5012758220981628), (531, 0.24984183689288567), (532, 0.42762650652006934), (533, 0.3337224903418707), (534, 0.36006197742648466), (535, 0.3946172929991244), (536, 0.5413678759113876), (537, 0.5245159998478666), (538, 0.37684031709472326), (539, 0.33823426229957254), (540, 0.5575955096796428), (541, 0.44791853665686876), (542, 0.2388762986243916), (543, 0.3310994113687186), (544, 0.5422533943072585), (545, 0.34640241546882), (546, 0.33149279680676863), (547, 0.23692874779344328), (548, 0.40708700481772825), (549, 0.23013440174969585), (550, 0.3403607982042823), (551, 0.4620406374213318), (552, 0.3713204164095613), (553, 0.36908211371275446), (554, 0.3788723633511044), (555, 0.2798888570930735), (556, 0.48613400535150986), (557, 0.3533816011783429), (558, 0.4786478335951346), (559, 0.24118213729701213), (560, 0.47072112974684577), (561, 0.291269806909872), (562, 0.40164392659178605), (563, 0.4349473219601349), (564, 0.3316610007087006), (565, 0.41496921735516296), (566, 0.4508942214189569), (567, 0.4020286879011612), (568, 0.36793433246703217), (569, 0.32653346400521044), (570, 0.36982306338358967), (571, 0.3638014520874089), (572, 0.5517473841166135), (573, 0.19796353087813112), (574, 0.14614442317656723), (575, 0.36035335972870325), (576, 0.35070593285924806), (577, 0.2864787180290136), (578, 0.35647994117780873), (579, 0.16428775459261613), (580, 0.35153207670480185), (581, 0.3601944283962207), (582, 0.39139902573947966), (583, 0.574536686619474), (584, 0.3392884622633357), (585, 0.34533945810128563), (586, 0.4814517694328815), (587, 0.4120250717187765), (588, 0.5613889876589981), (589, 0.4145418649680407), (590, 0.48461882691908237), (591, 0.4872835980772038), (592, 0.4816415853539293), (593, 0.36702201481491126), (594, 0.5579109046584881), (595, 0.2815357401271947), (596, 0.36703468097597813), (597, 0.40572813030807775), (598, 0.36313929555547886), (599, 0.5110597301741355), (600, 0.3321253467422694), (601, 0.37372335983855154), (602, 0.41248201348842556), (603, 0.40355674445039436), (604, 0.45806041102730466), (605, 0.33388336085163134), (606, 0.34621724689596683), (607, 0.3761471168163924), (608, 0.32910798341609415), (609, 0.32955472265270497), (610, 0.3553357141225687), (611, 0.48144672818468914), (612, 0.40594647304629816), (613, 0.38477274861657884), (614, 0.5781939167842145), (615, 0.5514822031783805), (616, 0.3495104471048756), (617, 0.4868967505247592), (618, 0.38023818456479896), (619, 0.5091997859195354), (620, 0.47623418944790274), (621, 0.5370645314854458), (622, 0.4999428879648619), (623, 0.48871691214914864), (624, 0.317320330182088), (625, 0.5626339911867668), (626, 0.4859739853439741), (627, 0.3142249067180149), (628, 0.5394322206829846), (629, 0.13588486246443363), (630, 0.1622573556412481), (631, 0.586144595816414), (632, 0.3343565370835043), (633, 0.5179864774469993), (634, 0.3797182689603447), (635, 0.4359946667958574), (636, 0.5115062162114946), (637, 0.37172411911762393), (638, 0.3482219452592304), (639, 0.4854576269388337), (640, 0.3523030408094315), (641, 0.26977283416233433), (642, 0.31401403474584244), (643, 0.42218686633607716), (644, 0.260153302981414), (645, 0.3293002216378175), (646, 0.366554919782635), (647, 0.36239519543003396), (648, 0.36990710123725795), (649, 0.3468939865520348), (650, 0.5694768824150791), (651, 0.5694313101196465), (652, 0.3901120118155152), (653, 0.3990012485416158), (654, 0.4702496956675546), (655, 0.4645779101027038), (656, 0.5709247883246186), (657, 0.5146000467450941), (658, 0.3612411582805069), (659, 0.36268475056417243), (660, 0.27888957996794156), (661, 0.5724003453443437), (662, 0.4711103150793501), (663, 0.47894422359945305), (664, 0.5444069927549575), (665, 0.36743420529856335), (666, 0.2806111632362052), (667, 0.42596286520351256), (668, 0.26404808233860955), (669, 0.4065911244315282), (670, 0.35686399423669957), (671, 0.542370391154435), (672, 0.2973331006360384), (673, 0.529960804926969), (674, 0.459156642428062), (675, 0.5594283201659179), (676, 0.5504103718572376), (677, 0.39476417864434177), (678, 0.5507728100566606), (679, 0.5496772776938368), (680, 0.37930053485896387), (681, 0.423441043552691), (682, 0.35962628321808976), (683, 0.39001652014413285), (684, 0.37706328056340255), (685, 0.3819616093214889), (686, 0.5543705561529857), (687, 0.365332372361913), (688, 0.35909908117364264), (689, 0.5062005249983814), (690, 0.24722810326190453), (691, 0.2734365435806302), (692, 0.3466201375627787), (693, 0.3525286264919827), (694, 0.4453972801716564), (695, 0.5093678288227148), (696, 0.4420329575590766), (697, 0.2775017197182734), (698, 0.4737336324778608), (699, 0.45925368659384735), (700, 0.5408787856974349), (701, 0.41731135432906136), (702, 0.32409825163749967), (703, 0.30355861060337336), (704, 0.26232434112389075), (705, 0.4806772114405746), (706, 0.5493536446137987), (707, 0.3923682570337715), (708, 0.23238526116439578), (709, 0.30715377498642976), (710, 0.5600085077189327), (711, 0.27585960273314036), (712, 0.5586152516046125), (713, 0.4397468676109493), (714, 0.5321802339017818), (715, 0.43995049474109027), (716, 0.4112115022034738), (717, 0.352651889690319), (718, 0.3721685792581334), (719, 0.31754485065779803), (720, 0.35278425334738445), (721, 0.3739913804692416), (722, 0.38960446206419086), (723, 0.2872250298050416), (724, 0.54003759086381), (725, 0.43858985549198876), (726, 0.3839514728554153), (727, 0.572118381272323), (728, 0.5711462998527223), (729, 0.5706790028287868), (730, 0.5646927408405742), (731, 0.5803573638659038), (732, 0.4703619153630386), (733, 0.39396976113939464), (734, 0.45128430380153844), (735, 0.32938525917280276), (736, 0.3853514090738413), (737, 0.1712851068487558), (738, 0.3815393222241253), (739, 0.3931061294354881), (740, 0.30339775533419255), (741, 0.25972682986143397), (742, 0.32522284312955135), (743, 0.34958783091249834), (744, 0.5627805724855768), (745, 0.291277527364467), (746, 0.5386900854005199), (747, 0.5127612297959752), (748, 0.38839815334009437), (749, 0.3997621956711608), (750, 0.5499503835163493), (751, 0.4218246843258528), (752, 0.44027254379236275), (753, 0.5696700357328305), (754, 0.3408339437832172), (755, 0.44933464023720227), (756, 0.5557649748528466), (757, 0.3790034272363588), (758, 0.5561205405297355), (759, 0.19534363476316755), (760, 0.3203222819756063), (761, 0.2882749568780457), (762, 0.5584812689454991), (763, 0.5982761843080995), (764, 0.2853794173930246), (765, 0.47606123541269085), (766, 0.25041543837395963), (767, 0.20525452497738708), (768, 0.461551438817674), (769, 0.4962247470305508), (770, 0.35354385872459465), (771, 0.5507998552402408), (772, 0.3665007775591955), (773, 0.3969356578977371), (774, 0.3560740901482171), (775, 0.35637151958945973), (776, 0.2933484133230019), (777, 0.34555133748716127), (778, 0.4971594046349537), (779, 0.29031514407245024), (780, 0.2877691459887415), (781, 0.3308007551415943), (782, 0.36129364063190017), (783, 0.30300978063575607), (784, 0.2963631975229372), (785, 0.2959152097396202), (786, 0.3929598506781593), (787, 0.3278822109231492), (788, 0.46417773185344713), (789, 0.2759216580943739), (790, 0.3520993242731234), (791, 0.34226646563107527), (792, 0.45365274560688545), (793, 0.4109708373053652), (794, 0.43884600734328866), (795, 0.5556891736920597), (796, 0.3422464975725609), (797, 0.41605713798256716), (798, 0.3786528623103374), (799, 0.438139207018468), (800, 0.3521902333460512), (801, 0.37118365186294866), (802, 0.43425119230144094), (803, 0.4303463500361211), (804, 0.40334417875849493), (805, 0.5103366711550075), (806, 0.4592683731275661), (807, 0.32954987744625425), (808, 0.362836172280969), (809, 0.3960887119429778), (810, 0.5385527025853724), (811, 0.5445864426948333), (812, 0.32736518131070513), (813, 0.33867782803333835), (814, 0.32245100869710563), (815, 0.5327559079242615), (816, 0.47623355971063375), (817, 0.494504403718245), (818, 0.38878631705003663), (819, 0.4646165669057257), (820, 0.5572648084802845), (821, 0.3896349315562008), (822, 0.44503104742389554), (823, 0.3840057961878558), (824, 0.35059614311550674), (825, 0.44012690526700593), (826, 0.12641048927582121), (827, 0.4156774960729361), (828, 0.47567107383848994), (829, 0.568372372797742), (830, 0.4915425654756158), (831, 0.293314892283373), (832, 0.24512626117843322), (833, 0.5443664300017412), (834, 0.46605756755588224), (835, 0.43706312184153423), (836, 0.38135053317214146), (837, 0.5635986140775088), (838, 0.26391630089629614), (839, 0.562117276006832), (840, 0.29931314375365736), (841, 0.40118921174187505), (842, 0.4832576947571741), (843, 0.45625976511874516), (844, 0.4207275509781083), (845, 0.40349471672705745), (846, 0.3763589000090459), (847, 0.35850002061039904), (848, 0.38141532623555635), (849, 0.5621617595412151), (850, 0.5323231447129122), (851, 0.3764445500146088), (852, 0.3769339755941274), (853, 0.37439270017919984), (854, 0.3456838866544696), (855, 0.49467822356039287), (856, 0.3736219784584343), (857, 0.5476022705890145), (858, 0.5081673974757912), (859, 0.40821972003881346), (860, 0.5410483039420885), (861, 0.3257407583405386), (862, 0.38178600306172483), (863, 0.27450303159835243), (864, 0.36439078303321887), (865, 0.28029284230369306), (866, 0.3116024736200991), (867, 0.5369979682580956), (868, 0.5606391936992314), (869, 0.4057407629105624), (870, 0.3478782878961954), (871, 0.299497733022301), (872, 0.43562557765255316), (873, 0.46905577721659497), (874, 0.24588244781396484), (875, 0.5533289358172276), (876, 0.3810175559032709), (877, 0.3999576184967712), (878, 0.4147704160779196), (879, 0.37096387632787314), (880, 0.5782708718892013), (881, 0.30799071067667916), (882, 0.33500067130524586), (883, 0.43880271622988765), (884, 0.371384759068319), (885, 0.4723946461515927), (886, 0.2832492966360626), (887, 0.48736322582415037), (888, 0.27060317765740943), (889, 0.3020026939665923), (890, 0.3644876988654422), (891, 0.3865333876832595), (892, 0.4160218488497283), (893, 0.5602027898574279), (894, 0.5283525754723939), (895, 0.38364052706151675), (896, 0.2838167562117543), (897, 0.2610950695238313), (898, 0.36111666804959164), (899, 0.4379200524515296), (900, 0.4803547000817633), (901, 0.32591026561986247), (902, 0.53937729537572), (903, 0.3081484199579737), (904, 0.3940783528938817), (905, 0.3108747927565592), (906, 0.5692105316657535), (907, 0.1949897974821683), (908, 0.41251770315106295), (909, 0.5751040188704977), (910, 0.3661960714368928), (911, 0.3148029343920428), (912, 0.4255853299948303), (913, 0.3281498615519582), (914, 0.27044896704072224), (915, 0.44053169147771387), (916, 0.39791779417415435), (917, 0.40166993533325446), (918, 0.33559879630163536), (919, 0.4329287913561388), (920, 0.3896976074013216), (921, 0.21228466074084032), (922, 0.293392208097941), (923, 0.42480871990386665), (924, 0.3119098638466855), (925, 0.21233291355553333), (926, 0.23735169650089724), (927, 0.3279691724207362), (928, 0.4199457339011142), (929, 0.15328864095322167), (930, 0.39388961779332443), (931, 0.28987375259113735), (932, 0.5042672941745486), (933, 0.20268657907317644), (934, 0.32374049934914806), (935, 0.5006172041889645), (936, 0.2829750123558148), (937, 0.3476854142655863), (938, 0.5620473821503335), (939, 0.3101757943221645), (940, 0.3082187305569794), (941, 0.2151400205797253), (942, 0.45975280906720767), (943, 0.2849967124239841), (944, 0.3793898000928428), (945, 0.3851788412885548), (946, 0.4837563763984379), (947, 0.2334996724250652), (948, 0.3303088958650494), (949, 0.3344922708268674), (950, 0.3560625177378184), (951, 0.2810871584556569), (952, 0.550250938143493), (953, 0.3326873604804977), (954, 0.5605887572755988), (955, 0.47941532270391857), (956, 0.41307712872067803), (957, 0.4482549036625166), (958, 0.23808406468525034), (959, 0.44831546265486455), (960, 0.5727100759843521), (961, 0.40596436520196266), (962, 0.21667772403144828), (963, 0.3887275006148941), (964, 0.3284359082981358), (965, 0.5376619526672125), (966, 0.3388043945718596), (967, 0.2996257762357107), (968, 0.32042705131267185), (969, 0.3277248529439704), (970, 0.3354652442908563), (971, 0.5163523895608466), (972, 0.30628536081615243), (973, 0.3490344590505867), (974, 0.5460974728556875), (975, 0.3406245158434267), (976, 0.3657707473384901), (977, 0.4551700756486042), (978, 0.2824118951828635), (979, 0.4614310245589592), (980, 0.571882871598647), (981, 0.32195463625586435), (982, 0.2301466058875203), (983, 0.3342671920239656), (984, 0.44055448739401004), (985, 0.2332880456509104), (986, 0.47213198854646127), (987, 0.5042171850479577), (988, 0.526689101201917), (989, 0.45369559150106537), (990, 0.3792343107064435), (991, 0.3513347790079199), (992, 0.5496581472881016), (993, 0.38724995335505435), (994, 0.5682036096268472), (995, 0.32655724223496724), (996, 0.2837744991064885), (997, 0.5495696102674591), (998, 0.2274218970626013), (999, 0.5591908230823992), (1000, 0.3309096875592467), (1001, 0.3631226670067081), (1002, 0.5339322521995051), (1003, 0.47797049663293817), (1004, 0.4694359855381999), (1005, 0.4432213093093451), (1006, 0.551872043373148), (1007, 0.5627919846820808), (1008, 0.42145314322056415), (1009, 0.5324917501870976), (1010, 0.43486877718084305), (1011, 0.4603919317715882), (1012, 0.5766539897019133), (1013, 0.34569011762873103), (1014, 0.36829986529843806), (1015, 0.3282035901813808), (1016, 0.3398643237269207), (1017, 0.3000882712606068), (1018, 0.1967973352493116), (1019, 0.1948608598871414), (1020, 0.16272190518036747), (1021, 0.40907366021051417), (1022, 0.1843870224272361), (1023, 0.42912935269335284), (1024, 0.40844144267802335), (1025, 0.3278287443401714), (1026, 0.10852219418102228), (1027, 0.37210982820427213), (1028, 0.48533607764866904), (1029, 0.1195632488846888), (1030, 0.2663054693174539), (1031, 0.40359220268608853), (1032, 0.3198187203939487), (1033, 0.30548427814754514), (1034, 0.30101264901566316), (1035, 0.2806148408648633), (1036, 0.2669940723748646), (1037, 0.2204430901359042), (1038, 0.27415976437592066), (1039, 0.3307995785571642), (1040, 0.3065526324228433), (1041, 0.49863974624565877), (1042, 0.34121869434956875), (1043, 0.4019662271129884), (1044, 0.4867733586517923), (1045, 0.4076210154061292), (1046, 0.21083165710250673), (1047, 0.4693285851437173), (1048, 0.42805506760233303), (1049, 0.3636795766810759), (1050, 0.4983618846349081), (1051, 0.2797448290403343), (1052, 0.4466095762957092), (1053, 0.33621419167069916), (1054, 0.3771511738412908), (1055, 0.3523984829312034), (1056, 0.4986990092967301), (1057, 0.5573152706293751), (1058, 0.34708632426588526), (1059, 0.4396357107049606), (1060, 0.4717778496154061), (1061, 0.3596796701020111), (1062, 0.21499347965468596), (1063, 0.524390943725387), (1064, 0.2907066006857936), (1065, 0.35272049317095905), (1066, 0.3905651677040424), (1067, 0.5445211753367991), (1068, 0.5401892213908677), (1069, 0.5503054945637855), (1070, 0.3589227602907803), (1071, 0.38678789985249684), (1072, 0.3674087239324038), (1073, 0.5628001666172191), (1074, 0.39980254023354517), (1075, 0.30282920648838874), (1076, 0.5125233546753276), (1077, 0.30465853710798513), (1078, 0.43585933303877744), (1079, 0.2899723895380329), (1080, 0.4802487064398338), (1081, 0.39827922045695136), (1082, 0.3923824349595856), (1083, 0.40796653965985147), (1084, 0.28954366827670047), (1085, 0.2841786170196289), (1086, 0.21988586618360403), (1087, 0.3385693971940012), (1088, 0.4274046792829854), (1089, 0.36865538280643273), (1090, 0.2631768468248223), (1091, 0.5172076110003426), (1092, 0.3579864277626898), (1093, 0.5296169066914546), (1094, 0.44940345275017113), (1095, 0.261033299653508), (1096, 0.3658452661893277), (1097, 0.5274836505902136), (1098, 0.3229413403112899), (1099, 0.2995027462880016), (1100, 0.22816726101033805), (1101, 0.5146449616248367), (1102, 0.3063586886672407), (1103, 0.4059897951437934), (1104, 0.35979197384890804), (1105, 0.526490235411894), (1106, 0.48792348726198376), (1107, 0.5564938490597646), (1108, 0.32352333803349065), (1109, 0.28515089201709576), (1110, 0.45347725296251357), (1111, 0.5116139680474731), (1112, 0.40099167439314576), (1113, 0.3355444367530379), (1114, 0.4352805637824686), (1115, 0.29261115436567914), (1116, 0.46743165796427916), (1117, 0.3389006396056733), (1118, 0.5769734627809212), (1119, 0.5307327628323275), (1120, 0.3426177080124507), (1121, 0.5531489113030399), (1122, 0.5682973592401922), (1123, 0.33421787890062665), (1124, 0.4833343650175129), (1125, 0.19529253499412216), (1126, 0.4027569503985616), (1127, 0.4118750094763143), (1128, 0.5242688270336471), (1129, 0.5768457546853607), (1130, 0.2889220261114459), (1131, 0.3989917032416942), (1132, 0.21000312204012037), (1133, 0.29055875503243506), (1134, 0.34612385858463407), (1135, 0.5399518051844122), (1136, 0.2616383829895627), (1137, 0.37767208769637), (1138, 0.36578690126888014), (1139, 0.42084585134908853), (1140, 0.5375941127381019), (1141, 0.5498215655094277), (1142, 0.409728019203421), (1143, 0.39070878243643514), (1144, 0.24717516484612018), (1145, 0.37604572889038246), (1146, 0.5438161617056249), (1147, 0.3363406874784718), (1148, 0.5102360335055796), (1149, 0.3613567148723471), (1150, 0.25923791047067263), (1151, 0.3159927051837521), (1152, 0.5707766993492419), (1153, 0.558055268112876), (1154, 0.5442143200092067), (1155, 0.41792334741095677), (1156, 0.2847468898561444), (1157, 0.2886385999938205), (1158, 0.374018043848835), (1159, 0.27780055732598763), (1160, 0.4853260613751253), (1161, 0.2769960008587764), (1162, 0.44222516243991444), (1163, 0.29922904057647104), (1164, 0.5721245833032151), (1165, 0.5048349318943264), (1166, 0.3370397759083546), (1167, 0.5338989912570613), (1168, 0.32451149146917224), (1169, 0.3382774046034332), (1170, 0.4095659948600697), (1171, 0.24272369156677792), (1172, 0.45015391208855837), (1173, 0.5885077891136057), (1174, 0.4661976385619229), (1175, 0.1758001943380817), (1176, 0.46104988020021237), (1177, 0.49793473227477936), (1178, 0.24540654537347936), (1179, 0.5197992694174721), (1180, 0.4759713052924464), (1181, 0.5572304663287824), (1182, 0.25321095433764856), (1183, 0.20957210977061602), (1184, 0.24035880143103006), (1185, 0.2773217874860058), (1186, 0.37936610621989614), (1187, 0.24875750344328784), (1188, 0.4291108562021382), (1189, 0.5140045228164467), (1190, 0.5377105231306571), (1191, 0.4947686366395438), (1192, 0.35056962779355294), (1193, 0.30816712972016064), (1194, 0.4045575824139358), (1195, 0.44597492556485835), (1196, 0.46070101310832773), (1197, 0.2977775929166526), (1198, 0.37227536969903485), (1199, 0.2573292061989226), (1200, 0.321005169730629), (1201, 0.3260682312171337), (1202, 0.39589696612144337), (1203, 0.46705337588359613), (1204, 0.25856741940547634), (1205, 0.3028815152859332), (1206, 0.35240327726875365), (1207, 0.5156067170328184), (1208, 0.24963314878382487), (1209, 0.3403044133320652), (1210, 0.260000637071317), (1211, 0.38307249507422053), (1212, 0.2933137644568937), (1213, 0.4313381216493011), (1214, 0.289431972790764), (1215, 0.49428351655058167), (1216, 0.2392875988871878), (1217, 0.38053599429280555), (1218, 0.5135528129087724), (1219, 0.3314447096761271), (1220, 0.34138710593224936), (1221, 0.3953057721617277), (1222, 0.265575409805125), (1223, 0.2590555978821659), (1224, 0.3136250124128347), (1225, 0.361502959385736), (1226, 0.5589686290875215), (1227, 0.32508387078844386), (1228, 0.3850422948264456), (1229, 0.5466437017389232), (1230, 0.28615649849003305), (1231, 0.31218788829962774), (1232, 0.32090466545736734), (1233, 0.532974561082816), (1234, 0.5082785610323317), (1235, 0.33397843180144565), (1236, 0.4055970218270309), (1237, 0.28064886469034145), (1238, 0.4131448092202074), (1239, 0.5355325564136866), (1240, 0.4353965548058542), (1241, 0.35244719430668786), (1242, 0.3240256124345705), (1243, 0.3602008589121531), (1244, 0.3322517014926922), (1245, 0.3238161915474385), (1246, 0.5033650867167309), (1247, 0.27209880290988786), (1248, 0.2872705792625529), (1249, 0.3975590812180189), (1250, 0.3543325921945868), (1251, 0.47742971795200645), (1252, 0.2723966317917701), (1253, 0.32397332396221634), (1254, 0.30970238161982727), (1255, 0.34880121665981), (1256, 0.3065790381300086), (1257, 0.3360491207206562), (1258, 0.40176365697524347), (1259, 0.3385900230354378), (1260, 0.45019021415682353), (1261, 0.355877896240831), (1262, 0.5852028954253515), (1263, 0.35205511053435895), (1264, 0.2976342997161132), (1265, 0.48921694586048337), (1266, 0.4486146162618787), (1267, 0.5624830416272282), (1268, 0.2716841560733386), (1269, 0.3402086357866202), (1270, 0.4891183236997984), (1271, 0.5515548180706755), (1272, 0.5384543521858759), (1273, 0.5148965529043942), (1274, 0.4218056281973745), (1275, 0.3375750735457492), (1276, 0.25313756317552094), (1277, 0.22352481308698355), (1278, 0.2928513632452219), (1279, 0.5625363609810025), (1280, 0.5153108510413877), (1281, 0.3438093812730058), (1282, 0.561867060995087), (1283, 0.5219524500084927), (1284, 0.5551624490135737), (1285, 0.2554941766464523), (1286, 0.2598779610654897), (1287, 0.4768592564809653), (1288, 0.2590765156763691), (1289, 0.5608039459187484), (1290, 0.24733721107406895), (1291, 0.3492113976124781), (1292, 0.40364832070483686), (1293, 0.28045209230725643), (1294, 0.3512734193500122), (1295, 0.4531607173003998), (1296, 0.49397416675411104), (1297, 0.3359352683146088), (1298, 0.44749220648933236), (1299, 0.2770940504819081), (1300, 0.2673439500330797), (1301, 0.2809573709610038), (1302, 0.282974606922743), (1303, 0.35065865394818246), (1304, 0.26954979227650827), (1305, 0.46940782441207374), (1306, 0.43481602929518304), (1307, 0.4333771339903066), (1308, 0.3233932596939032), (1309, 0.30889125952504426), (1310, 0.4148852118792228), (1311, 0.40135899159732824), (1312, 0.41315063463958274), (1313, 0.5145907495826952), (1314, 0.2579185539515488), (1315, 0.5423987783381027), (1316, 0.3196857100113338), (1317, 0.31917267437663266), (1318, 0.2357259527709846), (1319, 0.33837450931482693), (1320, 0.31561844258472704), (1321, 0.33652752154198523), (1322, 0.5564122391156788), (1323, 0.3905722115672087), (1324, 0.5526116604499237), (1325, 0.5660930500674289), (1326, 0.3042782634966728), (1327, 0.3763971353021058), (1328, 0.4735315189045498), (1329, 0.42199513633302727), (1330, 0.2580207963351209), (1331, 0.3823256241068084), (1332, 0.41826027690114276), (1333, 0.34276040042070127), (1334, 0.4878928009507699), (1335, 0.5674792049466247), (1336, 0.3210599559045379), (1337, 0.42272912726878653), (1338, 0.270178331366007), (1339, 0.21112052859603964), (1340, 0.4567652248602852), (1341, 0.3631755652900123), (1342, 0.5345590820919479), (1343, 0.2936580360784728), (1344, 0.33334602670682717), (1345, 0.3948053642884688), (1346, 0.4853482849051725), (1347, 0.48429200784642595), (1348, 0.43773780183625655), (1349, 0.40679296510177637), (1350, 0.26158561647774337), (1351, 0.4107213351028296), (1352, 0.37665892664754735), (1353, 0.4367026566219575), (1354, 0.563044817549014), (1355, 0.4913411902635244), (1356, 0.42184565355361126), (1357, 0.5796453883257416), (1358, 0.4793451992917615), (1359, 0.25595481335083403), (1360, 0.4571374695262043), (1361, 0.3267752086528322), (1362, 0.4533827930364361), (1363, 0.29587996432028696), (1364, 0.3931706993543253), (1365, 0.4402378382301551), (1366, 0.27319430676273093), (1367, 0.3129816348429936), (1368, 0.5483116431887105), (1369, 0.2756526160315522), (1370, 0.296520523455081), (1371, 0.3200512735650544), (1372, 0.32566538029882847), (1373, 0.3184059424038859), (1374, 0.5177228352274273), (1375, 0.47339010101545115), (1376, 0.31356399304974775), (1377, 0.5166967173038597), (1378, 0.536526200319726), (1379, 0.2518724655255307), (1380, 0.5572186244585277), (1381, 0.5536729200059406), (1382, 0.24538141515952655), (1383, 0.32488827208712656), (1384, 0.304951858466263), (1385, 0.27262378384911184), (1386, 0.27764662600873136), (1387, 0.4712972152236928), (1388, 0.5650958563610359), (1389, 0.3197639429786934), (1390, 0.2978585732844569), (1391, 0.5632252853610306), (1392, 0.301531215046179), (1393, 0.5627484477209247), (1394, 0.2651251782876585), (1395, 0.25259798735199174), (1396, 0.3725448117865268), (1397, 0.2694669588991899), (1398, 0.536514776824481), (1399, 0.5071102058428893), (1400, 0.370597714112235), (1401, 0.2816232248314761), (1402, 0.5104493630989805), (1403, 0.4519564320339), (1404, 0.5485560878537105), (1405, 0.2992551367555927), (1406, 0.4528613799638551), (1407, 0.29743287584714084), (1408, 0.28100535492576445), (1409, 0.3018425296526664), (1410, 0.3399893035486008), (1411, 0.22875648099559695), (1412, 0.5274743535622997), (1413, 0.5573555785223173), (1414, 0.4667879115826928), (1415, 0.21929865712282673), (1416, 0.30996536492064414), (1417, 0.35559055601423395), (1418, 0.2758662591729655), (1419, 0.3098409091418678), (1420, 0.2849436824332526), (1421, 0.34833456138260255), (1422, 0.26893299051325936), (1423, 0.2257328655271691), (1424, 0.5462014859781193), (1425, 0.3160244505116736), (1426, 0.2288954187837049), (1427, 0.39560970739716883), (1428, 0.2822098895720806), (1429, 0.3993899849719151), (1430, 0.2643150369999735), (1431, 0.3162036517539083), (1432, 0.41291541542053833), (1433, 0.5205079131757291), (1434, 0.38474096861272855), (1435, 0.29834440594334366), (1436, 0.47105090690082496), (1437, 0.34976869268699484), (1438, 0.43977499944163806), (1439, 0.3566805256689741), (1440, 0.3154541179187023), (1441, 0.3112189108033689), (1442, 0.27265337673832957), (1443, 0.5506943528709443), (1444, 0.24629410386273767), (1445, 0.4746680582696967), (1446, 0.3433058620378412), (1447, 0.2956778941410359), (1448, 0.2868630678492287), (1449, 0.2097530569588469), (1450, 0.3002483703380836), (1451, 0.33966237966326396), (1452, 0.33535351351389214), (1453, 0.28688712447322806), (1454, 0.4033601649541141), (1455, 0.5739873201280954), (1456, 0.4741218180433912), (1457, 0.5470715622828308), (1458, 0.46315164870032804), (1459, 0.5182982169549508), (1460, 0.5131131922135191), (1461, 0.41949342792643923), (1462, 0.3822508401355308), (1463, 0.3949103695277203), (1464, 0.49488908052283864), (1465, 0.25374025009848583), (1466, 0.41047353367098766), (1467, 0.20755212200383288), (1468, 0.33128850048904646), (1469, 0.4493264411077139), (1470, 0.25184174935807163), (1471, 0.5158151511943276), (1472, 0.39354642690830227), (1473, 0.5019991088318919), (1474, 0.393691086800855), (1475, 0.41721204411262763), (1476, 0.3976183252678632), (1477, 0.24694751796085304), (1478, 0.3111933361431537), (1479, 0.2986542613833323), (1480, 0.44950093204307545), (1481, 0.4237110558187327), (1482, 0.3037217815868682), (1483, 0.5510377140352601), (1484, 0.5760984192764526), (1485, 0.28561886006824855), (1486, 0.3883669853224417), (1487, 0.44190481270578247), (1488, 0.30771115118232206), (1489, 0.3757459861150066), (1490, 0.3475007676417098), (1491, 0.37051636479540934), (1492, 0.40822119398751844), (1493, 0.5541850136136257), (1494, 0.45028276770923237), (1495, 0.383288779710186), (1496, 0.36588609711565784), (1497, 0.4123888867084861), (1498, 0.5529994090970206), (1499, 0.3271636343121505), (1500, 0.40534970669583636), (1501, 0.3210050882512835), (1502, 0.5349893438364778), (1503, 0.3361783549112405), (1504, 0.45365787888303216), (1505, 0.492963615503443), (1506, 0.3709366032711436), (1507, 0.3409263058805917), (1508, 0.32359016685523884), (1509, 0.43389871682395426), (1510, 0.3471306919587308), (1511, 0.5713546388092784), (1512, 0.5615381146477262), (1513, 0.38919266404616926), (1514, 0.3687498309727977), (1515, 0.38874454031255995), (1516, 0.4146571236123565), (1517, 0.380878399887224), (1518, 0.3834148981466656), (1519, 0.3947064871489), (1520, 0.3897431596166941), (1521, 0.4280175409034504), (1522, 0.3808176400528373), (1523, 0.44343048236272453), (1524, 0.42532022201835007), (1525, 0.42450643315074815), (1526, 0.3978637759977551), (1527, 0.40603400401245454), (1528, 0.38565567904627185), (1529, 0.3724469529403361), (1530, 0.3649836179649622), (1531, 0.47741858181444036), (1532, 0.5812608324041838), (1533, 0.27110285549267427), (1534, 0.4141462624055432), (1535, 0.4401742630947953), (1536, 0.32327846153795076), (1537, 0.3448410982480152), (1538, 0.3772211782623457), (1539, 0.4033153753776572), (1540, 0.4443166694456278), (1541, 0.37700149016152595), (1542, 0.38026159700891315), (1543, 0.39850803569795007), (1544, 0.35357847295742467), (1545, 0.33164679062276725), (1546, 0.36333212468452447), (1547, 0.3204806549615262), (1548, 0.42026135551017185), (1549, 0.38682495617869306), (1550, 0.5492070772823209), (1551, 0.416451340385379), (1552, 0.49041550113092514), (1553, 0.4121323321451364), (1554, 0.4568450678675995), (1555, 0.41821334431958307), (1556, 0.5560874725107194), (1557, 0.41248143420180466), (1558, 0.3288893950217046), (1559, 0.4135356967223722), (1560, 0.505268307097262), (1561, 0.44411680018187993), (1562, 0.3170448013891629), (1563, 0.3602389945551053), (1564, 0.39806397932064247), (1565, 0.4701450909976347), (1566, 0.42052580640890763), (1567, 0.3425423563803534), (1568, 0.33237003418207295), (1569, 0.5181719827048218), (1570, 0.3318985671358936), (1571, 0.3854807273787036), (1572, 0.2737390801502305), (1573, 0.34349472393862945), (1574, 0.31271590420762796), (1575, 0.2982226407209907), (1576, 0.3146480062650021), (1577, 0.3118712971914982), (1578, 0.2957475008485034), (1579, 0.44917730295965186), (1580, 0.2260324231184414), (1581, 0.4427497194627488), (1582, 0.31637339596991376), (1583, 0.2848315998808409), (1584, 0.5414140191063007), (1585, 0.2843849107669026), (1586, 0.30523694007943486), (1587, 0.4716510479187273), (1588, 0.3133333475446265), (1589, 0.2667000252662909), (1590, 0.2868928831111663), (1591, 0.38613371882423414), (1592, 0.3245509943202689), (1593, 0.35481893645916457), (1594, 0.22878151847377395), (1595, 0.3049054450628297), (1596, 0.22608856246850512), (1597, 0.4354508840652351), (1598, 0.1635845208221226), (1599, 0.439937551996755), (1600, 0.45507578009888644), (1601, 0.24662743331311232), (1602, 0.44791205951081725), (1603, 0.4549279494358581), (1604, 0.15697541626754635), (1605, 0.23824936875163863), (1606, 0.45962316272890136), (1607, 0.48381028542267923), (1608, 0.5429990107446485), (1609, 0.4788721265011487), (1610, 0.2048977735698008), (1611, 0.5651271425581728), (1612, 0.30804836454102485), (1613, 0.29049279773721054), (1614, 0.38765934541166125), (1615, 0.3319547723927097), (1616, 0.4336314304621744), (1617, 0.4050654003134042), (1618, 0.3440197507474183), (1619, 0.2764394255966862), (1620, 0.36224589325809664), (1621, 0.45968768692468304), (1622, 0.2243672914227521), (1623, 0.2916540103388965), (1624, 0.33864045226745343), (1625, 0.23542292476358978), (1626, 0.4035177647358952), (1627, 0.29452137885901775), (1628, 0.23245429759081065), (1629, 0.3547830973531616), (1630, 0.26210859094115285), (1631, 0.31772178951577645), (1632, 0.23853308993318936), (1633, 0.3688021290347867), (1634, 0.43031085121959856), (1635, 0.2409764568305281), (1636, 0.39688367055891116), (1637, 0.5317339938713234), (1638, 0.5036170631162096), (1639, 0.2832878407511461), (1640, 0.342019323224652), (1641, 0.5281010608337247), (1642, 0.37337367725370885), (1643, 0.5583174441576814), (1644, 0.28613245029178136), (1645, 0.3003226694778944), (1646, 0.4597833323868919), (1647, 0.20406141526119256), (1648, 0.27680593236052287), (1649, 0.3649535628717883), (1650, 0.27939928904839223), (1651, 0.4109501884484403), (1652, 0.2042784347602981), (1653, 0.32206804769314257), (1654, 0.3291379358537388), (1655, 0.30859997846385495), (1656, 0.4142230082745725), (1657, 0.27497769356577734), (1658, 0.2559619013143754), (1659, 0.37020664031784184), (1660, 0.34171083623536513), (1661, 0.22174335590065178), (1662, 0.506255321615249), (1663, 0.42931448980145154), (1664, 0.46024481163190845), (1665, 0.47199241276919085), (1666, 0.26038682784547496), (1667, 0.516633369853389), (1668, 0.24462168156370362), (1669, 0.4789857957839811), (1670, 0.2771574996570153), (1671, 0.2779462821453424), (1672, 0.4115103077953975), (1673, 0.2686148713773698), (1674, 0.491074516087165), (1675, 0.3183208804261125), (1676, 0.29131862147130444), (1677, 0.2648222614151264), (1678, 0.3972664592124573), (1679, 0.28533365116697473), (1680, 0.4281180454418508), (1681, 0.4151460422606259), (1682, 0.27396891753482233), (1683, 0.29869926214331055), (1684, 0.3180269310558277), (1685, 0.4334646412906128), (1686, 0.3134078182218734), (1687, 0.3153495030840307), (1688, 0.2689712701230652), (1689, 0.2269981519007404), (1690, 0.17631327068049185), (1691, 0.4276070356542582), (1692, 0.25987882785350536), (1693, 0.483242419491116), (1694, 0.24929580408631377), (1695, 0.3173121044918141), (1696, 0.5038555597231513), (1697, 0.37803113466141086), (1698, 0.22540672553158006), (1699, 0.48878635247256613), (1700, 0.43419910680449963), (1701, 0.38733148886515584), (1702, 0.1928977075591447), (1703, 0.18292502630833554), (1704, 0.25558544748749007), (1705, 0.41704367569042494), (1706, 0.37620931957183884), (1707, 0.2748310596987785), (1708, 0.29117038520892924), (1709, 0.29503255815085255), (1710, 0.4987041954106617), (1711, 0.4352669256484532), (1712, 0.32907103966008505), (1713, 0.3323013193297774), (1714, 0.5132871907829273), (1715, 0.20446904847867564), (1716, 0.5632422770398324), (1717, 0.19896170729684254), (1718, 0.4043928443087725), (1719, 0.23980090238587426), (1720, 0.363451031716658), (1721, 0.3798529868308358), (1722, 0.4231985606722888), (1723, 0.4678233986097198), (1724, 0.28564901388199765), (1725, 0.32717657199103506), (1726, 0.36857259341625154), (1727, 0.41857848231038197), (1728, 0.5712372279934754), (1729, 0.5601737322694395), (1730, 0.3799236932477356), (1731, 0.3248345641605199), (1732, 0.26938488469937905), (1733, 0.32369674657097747), (1734, 0.3645173432858676), (1735, 0.2943446128492801), (1736, 0.2977158718587107), (1737, 0.486887924121806), (1738, 0.3925265731411067), (1739, 0.40063770344763255), (1740, 0.5186327110546274), (1741, 0.20080499318721814), (1742, 0.4079177163881596), (1743, 0.259483108512289), (1744, 0.23077996943118353), (1745, 0.209916631855335), (1746, 0.25269877981517075), (1747, 0.2562263655507764), (1748, 0.20695948216303484), (1749, 0.22396214551682317), (1750, 0.28746375227284837), (1751, 0.4413390105871866), (1752, 0.2936752483688314), (1753, 0.16071227893577342), (1754, 0.3943149784902186), (1755, 0.4036637491879317), (1756, 0.3180017091573673), (1757, 0.3030055640181243), (1758, 0.5064691868045081), (1759, 0.2385995195386285), (1760, 0.34662609961146895), (1761, 0.2569553981549251), (1762, 0.4039029065461969), (1763, 0.3495791213169894), (1764, 0.2577151373195139), (1765, 0.48461466184234636), (1766, 0.44577051537069207), (1767, 0.41122663027262524), (1768, 0.34544725876131327), (1769, 0.49782135102220787), (1770, 0.5533550978444541), (1771, 0.48082977150208206), (1772, 0.47540666545879945), (1773, 0.5641035234088053), (1774, 0.37917602844909004), (1775, 0.5892316226030819), (1776, 0.46543342013971356), (1777, 0.312940720027762), (1778, 0.40521760174549515), (1779, 0.48014938570910104), (1780, 0.3092018969122885), (1781, 0.4062298207275306), (1782, 0.38746435941535007), (1783, 0.34687521324685855), (1784, 0.3333335626272279), (1785, 0.35267747596737503), (1786, 0.3545091039425544), (1787, 0.43013211233791837), (1788, 0.5530221975284637), (1789, 0.387105584554624), (1790, 0.2894293671507708), (1791, 0.49079126126325023), (1792, 0.33681762031746915), (1793, 0.3486428455505481), (1794, 0.35022511634175285), (1795, 0.44724389276324705), (1796, 0.5100940060705268), (1797, 0.2629443676625502), (1798, 0.2907170898398488), (1799, 0.5261485140816383), (1800, 0.23373980644969242), (1801, 0.304562358720899), (1802, 0.44481784260623913), (1803, 0.3674926986183348), (1804, 0.5350522262755072), (1805, 0.23457915760636525), (1806, 0.4816375347184149), (1807, 0.34993764876100636), (1808, 0.26299124735191176), (1809, 0.4236279884485075), (1810, 0.5026395979840673), (1811, 0.3610010713660857), (1812, 0.25144382042675956), (1813, 0.22762001006801671), (1814, 0.3605581820914561), (1815, 0.533923735933222), (1816, 0.27838490547669603), (1817, 0.31947917956478183), (1818, 0.30064647098630337), (1819, 0.26506175463113657), (1820, 0.4321043518117939), (1821, 0.3523512872964227), (1822, 0.24829014798380308), (1823, 0.4992121260362721), (1824, 0.40422691679672335), (1825, 0.5121562963016226), (1826, 0.2415224935171914), (1827, 0.3585898407383419), (1828, 0.3162396972740556), (1829, 0.42157095772821324), (1830, 0.2719479440861605), (1831, 0.48414604831171276), (1832, 0.20687178781364296), (1833, 0.2695796284241485), (1834, 0.32616927377261246), (1835, 0.4382051732990185), (1836, 0.27485458986788847), (1837, 0.2781146321206686), (1838, 0.4554997355191044), (1839, 0.4047713182719987), (1840, 0.3796992552410355), (1841, 0.14960078386583814), (1842, 0.31115554651431704), (1843, 0.3503518111848522), (1844, 0.2943251799278512), (1845, 0.26748180166628793), (1846, 0.48296721585759683), (1847, 0.3018931391051414), (1848, 0.2752628890556225), (1849, 0.3283009848118257), (1850, 0.3603616991535937), (1851, 0.2843201450757814), (1852, 0.5505195627688909), (1853, 0.3012430497914623), (1854, 0.41660362299849096), (1855, 0.5611485225902653), (1856, 0.3375887429466092), (1857, 0.33273177978134666), (1858, 0.27347864315929954), (1859, 0.4038153982343287), (1860, 0.49596313208202486), (1861, 0.4138895010946067), (1862, 0.28195367541084526), (1863, 0.4478591470188276), (1864, 0.41789884279859396), (1865, 0.23502426294695491), (1866, 0.3658726345598442), (1867, 0.24910783417794655), (1868, 0.3130466141096009), (1869, 0.43757571756544233), (1870, 0.552976498209577), (1871, 0.23988210546794858), (1872, 0.4672507575210337), (1873, 0.46508506581589787), (1874, 0.4742366549421045), (1875, 0.2692067094991693), (1876, 0.5545382139208688), (1877, 0.17363753190495795), (1878, 0.2976776507936591), (1879, 0.2674975430323585), (1880, 0.4699322321010095), (1881, 0.4621937409116028), (1882, 0.40736458411052934), (1883, 0.24521738463111928), (1884, 0.2692862362748517), (1885, 0.3204801762703027), (1886, 0.4026960995450783), (1887, 0.3311328606909422), (1888, 0.4131596742262522), (1889, 0.2988489261127916), (1890, 0.40102907802198173), (1891, 0.2694937625868574), (1892, 0.26834122062673893), (1893, 0.31005912504214367), (1894, 0.329963318267044), (1895, 0.3249246750228623), (1896, 0.48309943167397507), (1897, 0.5307761443061111), (1898, 0.27948313374737904), (1899, 0.5340686591964927), (1900, 0.3849183563030698), (1901, 0.5456443702522409), (1902, 0.29141384439651824), (1903, 0.44883131928171976), (1904, 0.5364584287702325), (1905, 0.38764073811567185), (1906, 0.4297868665953915), (1907, 0.26837760211233724), (1908, 0.3081897195109547), (1909, 0.2657222130443372), (1910, 0.5443422858165906), (1911, 0.4872895410904205), (1912, 0.40948261327484226), (1913, 0.33273110717056353), (1914, 0.2871892715880419), (1915, 0.269367062735649), (1916, 0.3124501448084216), (1917, 0.32312836286028823), (1918, 0.28493225690327634), (1919, 0.2363867678537266), (1920, 0.2666401985762043), (1921, 0.43940898267569056), (1922, 0.5651726686479043), (1923, 0.39316798906340794), (1924, 0.45561782085520935), (1925, 0.380867108207925), (1926, 0.28269525926000755), (1927, 0.5501131571833218), (1928, 0.5635068318730785), (1929, 0.306105421918527), (1930, 0.28992357465967933), (1931, 0.44926987033604304), (1932, 0.30513542289503526), (1933, 0.298231573650926), (1934, 0.25410818376872407), (1935, 0.2529844866233994), (1936, 0.557664469609385), (1937, 0.3500590430531119), (1938, 0.31923347930781004), (1939, 0.36168540978123953), (1940, 0.5554726754660012), (1941, 0.2783449430564958), (1942, 0.29581034591703353), (1943, 0.27978803721084666), (1944, 0.41363383013556554), (1945, 0.2721305239346904), (1946, 0.3703271449836316), (1947, 0.24554635737632602), (1948, 0.3735232766862009), (1949, 0.28612260410633966), (1950, 0.4025272703612136), (1951, 0.42594391292176703), (1952, 0.41707848917841506), (1953, 0.24391599914162632), (1954, 0.20853284116951634), (1955, 0.5618334806314695), (1956, 0.3041002895249906), (1957, 0.35619260239322414), (1958, 0.26161235421372425), (1959, 0.27369197342231344), (1960, 0.24465420400086252), (1961, 0.5130031171176422), (1962, 0.4990625457608978), (1963, 0.28384451618138445), (1964, 0.39121322365539235), (1965, 0.24993684728143578), (1966, 0.29828300146264514), (1967, 0.25759544456465466), (1968, 0.3448657651932218), (1969, 0.5070547245196599), (1970, 0.40323875057823316), (1971, 0.2569058863240239), (1972, 0.22252690118430699), (1973, 0.49621989160226526), (1974, 0.47155407301281577), (1975, 0.27353095408845257), (1976, 0.3600569930503238), (1977, 0.247588436001824), (1978, 0.44960753366386186), (1979, 0.4204493806136873), (1980, 0.2828694516918656), (1981, 0.2777208691019128), (1982, 0.488399885336031), (1983, 0.3383420275288381), (1984, 0.2980431514031467), (1985, 0.35345684724922494), (1986, 0.31695251456862517), (1987, 0.4032798915047628), (1988, 0.45304712555550886), (1989, 0.38758130813151176), (1990, 0.28596894844272175), (1991, 0.22017536647141833), (1992, 0.2421973398960105), (1993, 0.4390401428473941), (1994, 0.3226966302384983), (1995, 0.3505459423632369), (1996, 0.2765245797250418), (1997, 0.49375459947630024), (1998, 0.561692664440116), (1999, 0.40778562252296646), (2000, 0.2971762797088337), (2001, 0.4058973095803884), (2002, 0.28504322716472946), (2003, 0.2967311558681864), (2004, 0.3299955651333104), (2005, 0.3093423061389684), (2006, 0.3480301665435771), (2007, 0.4465393728821936), (2008, 0.26181311241579236), (2009, 0.3236371551416373), (2010, 0.2753516055559577), (2011, 0.4879789889643732), (2012, 0.34785540489814504), (2013, 0.3701371191903033), (2014, 0.279348414582532), (2015, 0.39338242776206794), (2016, 0.5689067397263684), (2017, 0.5284279255561567), (2018, 0.2244970061092511), (2019, 0.43058867999858425), (2020, 0.2960335007338424), (2021, 0.3014641679359716), (2022, 0.4551406481321208), (2023, 0.511305013653556), (2024, 0.29361691745309315), (2025, 0.2285584233709504), (2026, 0.4701650321970744), (2027, 0.475010969472926), (2028, 0.3007625486805653), (2029, 0.318832580616531), (2030, 0.25076396387706085), (2031, 0.5446482659901242), (2032, 0.523435523640133), (2033, 0.3210745667082865), (2034, 0.20367837714037051), (2035, 0.42784649491275323), (2036, 0.3327825243225974), (2037, 0.3053409833795425), (2038, 0.33960359462137196), (2039, 0.4800235980236415), (2040, 0.530029627848517), (2041, 0.41462496664268317), (2042, 0.21521171676351528), (2043, 0.25876678832721417), (2044, 0.253781055211386), (2045, 0.570899425028302), (2046, 0.26678015220002865), (2047, 0.2726079768312053), (2048, 0.23754421482993757), (2049, 0.25286376612671446), (2050, 0.3137794815131242), (2051, 0.3555740158683731), (2052, 0.5053694335976703), (2053, 0.45450803236490805), (2054, 0.3232290443469897), (2055, 0.3282646987800473), (2056, 0.2810596500351025), (2057, 0.35278751881557513), (2058, 0.3803010154767335), (2059, 0.35506811141109784), (2060, 0.28320804688932616), (2061, 0.43827302960378983), (2062, 0.35875652682087567), (2063, 0.21145934372227754), (2064, 0.27904652002189145), (2065, 0.2832356146037153), (2066, 0.2822430882311168), (2067, 0.5167854800151789), (2068, 0.2740473125196465), (2069, 0.4725459168930416), (2070, 0.5012041858699823), (2071, 0.2595833647506611), (2072, 0.31980087385393313), (2073, 0.3504704124160774), (2074, 0.2546754478841258), (2075, 0.27858460757789616), (2076, 0.26589856080703245), (2077, 0.25957209154071575), (2078, 0.5098793208437684), (2079, 0.4740372215985887), (2080, 0.250207113662811), (2081, 0.30844157395770777), (2082, 0.4073502129744873), (2083, 0.4614319013204496), (2084, 0.5543047993575929), (2085, 0.31025887544398667), (2086, 0.34570383672468435), (2087, 0.30087455701976706), (2088, 0.540347708659519), (2089, 0.500613643824612), (2090, 0.33952518037757934), (2091, 0.3969367323915738), (2092, 0.39114065356348277), (2093, 0.30381236091256975), (2094, 0.30532063708084267), (2095, 0.37361687014757977), (2096, 0.3176290552799709), (2097, 0.27517387598144655), (2098, 0.4479228240361922), (2099, 0.2974829331175716), (2100, 0.4179451235473476), (2101, 0.31853256185461426), (2102, 0.34647655615507067), (2103, 0.36737388688821443), (2104, 0.42265794661928635), (2105, 0.4910974439338094), (2106, 0.40364239421364967), (2107, 0.37169544196156434), (2108, 0.3728433101196682), (2109, 0.4254984898291432), (2110, 0.42919372068208206), (2111, 0.40057763971696253), (2112, 0.5583915241313203), (2113, 0.2573797854158826), (2114, 0.3472061028842987), (2115, 0.2536630773413693), (2116, 0.42812000672131817), (2117, 0.36765037012830426), (2118, 0.28947229998995894), (2119, 0.2404483408658804), (2120, 0.44404435692140387), (2121, 0.3121916493970825), (2122, 0.42887041394402425), (2123, 0.33937885612253177), (2124, 0.329667437745629), (2125, 0.22121239780802487), (2126, 0.31365141592937884), (2127, 0.39613391318676033), (2128, 0.4695570834077333), (2129, 0.13281205926609851), (2130, 0.4089315386827146), (2131, 0.3730094434030115), (2132, 0.5036202134370562), (2133, 0.09103995179082493), (2134, 0.3099324340247135), (2135, 0.28417158566253353), (2136, 0.4009897005499046), (2137, 0.36333807022208836), (2138, 0.26629968643614566), (2139, 0.2662061912659654), (2140, 0.2406771712385161), (2141, 0.24146055608174108), (2142, 0.2881234451902333), (2143, 0.3014650336438509), (2144, 0.42755064458414715), (2145, 0.2812407530335437), (2146, 0.21651706022278705), (2147, 0.2802206881139529), (2148, 0.4332265183886017), (2149, 0.37822422374672643), (2150, 0.3513190251795965), (2151, 0.3227687574800253), (2152, 0.2642967950455025), (2153, 0.4739231780109187), (2154, 0.2650595131568707), (2155, 0.27855585556096335), (2156, 0.4670835151718796), (2157, 0.32100835741689926), (2158, 0.3028213167273683), (2159, 0.28240777298727127), (2160, 0.29486295409714625), (2161, 0.42095796388472967), (2162, 0.46644811359306887), (2163, 0.20112806157366667), (2164, 0.2858677222394438), (2165, 0.3402207989015455), (2166, 0.2920041574671834), (2167, 0.30254654735099634), (2168, 0.38012330934578986), (2169, 0.51073666606683), (2170, 0.3456142371379368), (2171, 0.17849497016252777), (2172, 0.4198234176495939), (2173, 0.3144079510617291), (2174, 0.43156984098205686), (2175, 0.15154899667925792), (2176, 0.2009207766285029), (2177, 0.3917026301356247), (2178, 0.3719979918448955), (2179, 0.16852705044139948), (2180, 0.1268961937553541), (2181, 0.5754276395061435), (2182, 0.36795773238118407), (2183, 0.45207708738045066), (2184, 0.5466911895181509), (2185, 0.3320366723628908), (2186, 0.11242687176305365), (2187, 0.2853967470773753), (2188, 0.1920606572290518), (2189, 0.38724611675375714), (2190, 0.428371313525737), (2191, 0.16935536463082468), (2192, 0.30869536615828286), (2193, 0.4371835054197866), (2194, 0.30801372009992256), (2195, 0.13670270350504257), (2196, 0.33763364661853135), (2197, 0.5138538481257298), (2198, 0.5357253952778139), (2199, 0.11694790146053065), (2200, 0.33459502326917884), (2201, 0.1466849664648019), (2202, 0.16127120462286934), (2203, 0.42052659865179176), (2204, 0.189955331483854), (2205, 0.4333496036284506), (2206, 0.3441659832030133), (2207, 0.1593215232990912), (2208, 0.1713981450976051), (2209, 0.14728342048541282), (2210, 0.16152626401449538), (2211, 0.3357185698715433), (2212, 0.16160226578877276), (2213, 0.5452840158062873), (2214, 0.3552278553844237), (2215, 0.18885708367674572), (2216, 0.3338404208158381), (2217, 0.28627098361637043), (2218, 0.22725061941908156), (2219, 0.3655683988060134), (2220, 0.21348199518884636), (2221, 0.27496434138178744), (2222, 0.3244592568935059), (2223, 0.16795953556800666), (2224, 0.14807938646883662), (2225, 0.35266877070793673), (2226, 0.14582762865150778), (2227, 0.16810496144855988), (2228, 0.3322995860335877), (2229, 0.3553447592205123), (2230, 0.31634329455762306), (2231, 0.560952203892828), (2232, 0.5461651599179017), (2233, 0.4271278403168008), (2234, 0.19100980792558758), (2235, 0.4852260642658171), (2236, 0.13743134350387368), (2237, 0.4615734514089468), (2238, 0.24349405317644887), (2239, 0.3410511385959487), (2240, 0.2917809853573286), (2241, 0.1847927850346412), (2242, 0.10848934654487978), (2243, 0.19628961532241304), (2244, 0.11624286042816563), (2245, 0.47322420313243224), (2246, 0.3250927660039014), (2247, 0.20281229461238687), (2248, 0.1390744061094148), (2249, 0.47696539244085145), (2250, 0.14629396218232005), (2251, 0.2837271101275385), (2252, 0.35522327906988355), (2253, 0.24949111722425898), (2254, 0.3631392359177117), (2255, 0.17023086028145715), (2256, 0.23266380405403747), (2257, 0.09825356425206841), (2258, 0.38198325456383697), (2259, 0.4636350449654001), (2260, 0.17717033800756474), (2261, 0.3475640409782855), (2262, 0.270860158635321), (2263, 0.2662802256551469), (2264, 0.354204887931456), (2265, 0.2210703823069004), (2266, 0.1665364595914462), (2267, 0.4371678180968816), (2268, 0.43433337741314354), (2269, 0.10922163203335297), (2270, 0.4814277984741893), (2271, 0.4878985140898849), (2272, 0.45716962793275656), (2273, 0.39963674379003983), (2274, 0.28975300045974683), (2275, 0.2387296934489436), (2276, 0.35222627532450773), (2277, 0.37202214078089874), (2278, 0.3102396995832924), (2279, 0.5017919579750425), (2280, 0.37022222020407625), (2281, 0.1763918654738013), (2282, 0.2117697006109796), (2283, 0.3331523971591332), (2284, 0.4721413013652868), (2285, 0.33948555094803406), (2286, 0.15012495965330142), (2287, 0.3454279009907252), (2288, 0.1748596331637956), (2289, 0.12463972217867834), (2290, 0.1790941163827503), (2291, 0.19378789662274884), (2292, 0.445876122508505), (2293, 0.3322675299248949), (2294, 0.5735265962087881), (2295, 0.4207653834715709), (2296, 0.1886775799824731), (2297, 0.13506177278788953), (2298, 0.10363204556566902), (2299, 0.184181249282349), (2300, 0.34759263500410437), (2301, 0.3372597543845326), (2302, 0.09996255322356723), (2303, 0.4274709955022784), (2304, 0.13035323746034244), (2305, 0.242685207868056), (2306, 0.25163228015614647), (2307, 0.0926789784807554), (2308, 0.21252268213654424), (2309, 0.15807633384304628), (2310, 0.1828877946939593), (2311, 0.15056617818781912), (2312, 0.1366844461551788), (2313, 0.3196587256741941), (2314, 0.1361489003307352), (2315, 0.1830651036425037), (2316, 0.4990782657595202), (2317, 0.41615271901471623), (2318, 0.3092078870457634), (2319, 0.16218640411087853), (2320, 0.10865333276130985), (2321, 0.24528041820012556), (2322, 0.43593061766611657), (2323, 0.10589353420550551), (2324, 0.14591321914914177), (2325, 0.35098017987723), (2326, 0.33242770672243155), (2327, 0.19929154026457235), (2328, 0.13732913077364087), (2329, 0.5161957944835629), (2330, 0.2158380933220589), (2331, 0.21038739357350264), (2332, 0.2108623865629174), (2333, 0.2579167749352763), (2334, 0.4637279375134036), (2335, 0.35826837272102074), (2336, 0.41710789489971817), (2337, 0.501101015387604), (2338, 0.35143267204492074), (2339, 0.2139470438675615), (2340, 0.11688115478694523), (2341, 0.17857470793126995), (2342, 0.17045006246758967), (2343, 0.17990610379739674), (2344, 0.1460531177583424), (2345, 0.09763015240151224), (2346, 0.10969576896859527), (2347, 0.14535295602032955), (2348, 0.14147811025891063), (2349, 0.4235068839133995), (2350, 0.21099727481362912), (2351, 0.5439270267462332), (2352, 0.3602641602267972), (2353, 0.26870980208992074), (2354, 0.36690571028701763), (2355, 0.12133192052907861), (2356, 0.43735605653264914), (2357, 0.1630189761216376), (2358, 0.1353110282810607), (2359, 0.3918921593304041), (2360, 0.20823919194991558), (2361, 0.3701697785193987), (2362, 0.3677235303830859), (2363, 0.14829333018353621), (2364, 0.13969080737550668), (2365, 0.44223095430254417), (2366, 0.35982490077188045), (2367, 0.17682015282859592), (2368, 0.34575770240650616), (2369, 0.3681988729994977), (2370, 0.1344158421830956), (2371, 0.532368081946895), (2372, 0.2781990095090325), (2373, 0.394226771110155), (2374, 0.555588409752987), (2375, 0.17710730197922073), (2376, 0.17758521349240217), (2377, 0.3689793119889822), (2378, 0.11229050073129236), (2379, 0.15501495426633305), (2380, 0.22203985265516962), (2381, 0.4273581677156083), (2382, 0.4950683107381601), (2383, 0.10789956532758598), (2384, 0.1843739909342675), (2385, 0.195114473121906), (2386, 0.42926320364111464), (2387, 0.25412714100029454), (2388, 0.1450334899958403), (2389, 0.3772864195816446), (2390, 0.4772333704387341), (2391, 0.2383187231856083), (2392, 0.08925854525090715), (2393, 0.1597444367137599), (2394, 0.14595235551203503), (2395, 0.18865539792670066), (2396, 0.20859140353063604), (2397, 0.18649886359625834), (2398, 0.45808331425598986), (2399, 0.48332029007241706), (2400, 0.1933294230243014), (2401, 0.2241738704588427), (2402, 0.3218892426318498), (2403, 0.09530931044814303), (2404, 0.16122958793512404), (2405, 0.4767934052503968), (2406, 0.2546392490816622), (2407, 0.10543902223988853), (2408, 0.428462406552414), (2409, 0.44720023217123095), (2410, 0.46277046545093253), (2411, 0.19239733316716234), (2412, 0.4075235623225753), (2413, 0.42947070303485146), (2414, 0.2849019291550795), (2415, 0.4617635683540976), (2416, 0.37500942979709073), (2417, 0.37251848725368547), (2418, 0.44828891511058055), (2419, 0.37273188924871187), (2420, 0.19851311336808583), (2421, 0.5253132906749787), (2422, 0.284797471080867), (2423, 0.41646571579620534), (2424, 0.28963993943197575), (2425, 0.19929971028775836), (2426, 0.1479866124711124), (2427, 0.20702064791107375), (2428, 0.3513979639722211), (2429, 0.5420781680557347), (2430, 0.38825281146825885), (2431, 0.1197584856571209), (2432, 0.2687967686728263), (2433, 0.16206201870718745), (2434, 0.3929987837203468), (2435, 0.23792681560196388), (2436, 0.1917897537246674), (2437, 0.3205306438225652), (2438, 0.4090986801964254), (2439, 0.30235081512231765), (2440, 0.1009173054092908), (2441, 0.17718967994581497), (2442, 0.22813492866074542), (2443, 0.27670052251261695), (2444, 0.12631799900534152), (2445, 0.542765760977594), (2446, 0.11050696085211441), (2447, 0.3653979293465663), (2448, 0.20600771777717025), (2449, 0.17956991838058442), (2450, 0.17227531411478478), (2451, 0.30246683958705856), (2452, 0.3303179015101407), (2453, 0.37191682167782153), (2454, 0.10516944645843548), (2455, 0.19574716466909917), (2456, 0.3753513928116283), (2457, 0.13073294185552556), (2458, 0.1886933380502825), (2459, 0.4687321190085568), (2460, 0.35831574139683753), (2461, 0.2489318647123418), (2462, 0.3927998334418317), (2463, 0.2070439515640482), (2464, 0.14203718393469905), (2465, 0.18171127747404514), (2466, 0.19019638383773468), (2467, 0.1265374027747249), (2468, 0.18828723320113094), (2469, 0.17847492089413336), (2470, 0.2185575310786529), (2471, 0.10295745224136257), (2472, 0.2947973530377871), (2473, 0.2734878270314285), (2474, 0.15059888940798358), (2475, 0.14123161911144697), (2476, 0.4415552184092073), (2477, 0.15881191819256235), (2478, 0.35215927499645355), (2479, 0.14423660827093124), (2480, 0.5403249521266018), (2481, 0.3711008823952703), (2482, 0.5421203504428477), (2483, 0.3749123337273189), (2484, 0.08889601730117777), (2485, 0.2971601923974748), (2486, 0.24116068333155546), (2487, 0.3611051466547726), (2488, 0.15279253332982792), (2489, 0.26155737800386764), (2490, 0.13743134350387368), (2491, 0.3948801031179094), (2492, 0.38352607151911594), (2493, 0.3523889945690244), (2494, 0.4528686249732435), (2495, 0.4017087164529356), (2496, 0.3850887534731393), (2497, 0.36148688742593793), (2498, 0.4027355743996862), (2499, 0.30988666182329344), (2500, 0.2361733657941793), (2501, 0.37794706295341557), (2502, 0.3967291403950856), (2503, 0.27503706487734536), (2504, 0.38417200985892436), (2505, 0.10666125482061001), (2506, 0.16525909419191515), (2507, 0.411375781716752), (2508, 0.38043012925109976), (2509, 0.2063036347771683), (2510, 0.37183855945482136), (2511, 0.24371034507109754), (2512, 0.0983526058560974), (2513, 0.15357590390616938), (2514, 0.1615066260171917), (2515, 0.2604569831221957), (2516, 0.3958864462154979), (2517, 0.2546617615302327), (2518, 0.5442769728886258), (2519, 0.26984228390194953), (2520, 0.34074902901718623), (2521, 0.2830476001531036), (2522, 0.44549974851858004), (2523, 0.4005840302429095), (2524, 0.5755093439881773), (2525, 0.4283583462294864), (2526, 0.3842930300893166), (2527, 0.31725693357787277), (2528, 0.37233436200257974), (2529, 0.3172415804207795), (2530, 0.12516261580541826), (2531, 0.11625384752508357), (2532, 0.26735985841062), (2533, 0.3088549678557279), (2534, 0.3830990276820657), (2535, 0.5322178556997512), (2536, 0.34917895835600815), (2537, 0.20259528984609823), (2538, 0.33931346808240964), (2539, 0.2929743929306354), (2540, 0.484736825375673), (2541, 0.5266371482774461), (2542, 0.3649922071006765), (2543, 0.3254457795118686), (2544, 0.4596974902878242), (2545, 0.3075467678850556), (2546, 0.18806903968164013), (2547, 0.43377780600428617), (2548, 0.5233365085766313), (2549, 0.27849153927828224), (2550, 0.10038012537640546), (2551, 0.15780099350091079), (2552, 0.12105557301831277), (2553, 0.29695006076880126), (2554, 0.17341012754139074), (2555, 0.4981879411654197), (2556, 0.1310155370776695), (2557, 0.40258019130001077), (2558, 0.43377498601431336), (2559, 0.2689538745444813), (2560, 0.17441463100010665), (2561, 0.13564369316884892), (2562, 0.3308206804632281), (2563, 0.20109748239136302), (2564, 0.32561597828344946), (2565, 0.40983426492177155), (2566, 0.3814340372288503), (2567, 0.17384507053401146), (2568, 0.23999254949782686), (2569, 0.23466298124792362), (2570, 0.36696773070713284), (2571, 0.38834214382538357), (2572, 0.15896462811926806), (2573, 0.4638208313308606), (2574, 0.46302056202115793), (2575, 0.2837182757222108), (2576, 0.47132781991726463), (2577, 0.09661884670759664), (2578, 0.5261789803231105), (2579, 0.10841417130810052), (2580, 0.1960231328825142), (2581, 0.18516449206104194), (2582, 0.3983087831099382), (2583, 0.2619575507287394), (2584, 0.2957568656401677), (2585, 0.13082623037766739), (2586, 0.42241191651484733), (2587, 0.22573603006798074), (2588, 0.34893468467491406), (2589, 0.23787309972379672), (2590, 0.14602662652129267), (2591, 0.1787178493390661), (2592, 0.23026036997141466), (2593, 0.2544191198766958), (2594, 0.23867826401055933), (2595, 0.31094401129401444), (2596, 0.10873366287631564), (2597, 0.32209026560381143), (2598, 0.33459292241395405), (2599, 0.31310304491199903), (2600, 0.16886969541259086), (2601, 0.21614407565821558), (2602, 0.30487777922914666), (2603, 0.49863350737330364), (2604, 0.1700973333160574), (2605, 0.3868970352908118), (2606, 0.39542858242524526), (2607, 0.13063376890849057), (2608, 0.2868408591874685), (2609, 0.42055492485328333), (2610, 0.4396222800624802), (2611, 0.3389869135528237), (2612, 0.34648407004111303), (2613, 0.3336552376166738), (2614, 0.400340357706605), (2615, 0.5399069061122117), (2616, 0.3589901482643368), (2617, 0.484112955473869), (2618, 0.18794641903526263), (2619, 0.210453089396936), (2620, 0.38878633320490374), (2621, 0.4215767823128499), (2622, 0.5510862724051795), (2623, 0.4650339733692677), (2624, 0.2896288762481657), (2625, 0.3407188449730201), (2626, 0.1385342825941598), (2627, 0.1741997213359381), (2628, 0.21596697036256324), (2629, 0.4716159440962837), (2630, 0.24136711722320037), (2631, 0.3284601507777392), (2632, 0.20258042297778597), (2633, 0.08179799681280685), (2634, 0.2525636159187456), (2635, 0.09810688437968106), (2636, 0.1632106853070046), (2637, 0.2683416285618533), (2638, 0.4648637619117814), (2639, 0.39322714194285435), (2640, 0.15932623646752525), (2641, 0.5758633785062988), (2642, 0.20625611374962627), (2643, 0.4941674291021856), (2644, 0.10952110558224937), (2645, 0.18613282687243793), (2646, 0.15353417771459857), (2647, 0.17932119533858684), (2648, 0.4218990915577025), (2649, 0.21449893736108527), (2650, 0.1814992801453889), (2651, 0.12132928956605529), (2652, 0.43805292306840726), (2653, 0.3229395531493543), (2654, 0.2071509739748936), (2655, 0.1207925557923287), (2656, 0.2522287932834035), (2657, 0.1141925131541254), (2658, 0.09478298710268572), (2659, 0.11207581321707423), (2660, 0.3088888683195075), (2661, 0.4942668032846786), (2662, 0.24000814744176294), (2663, 0.39878334370614016), (2664, 0.1696008670102006), (2665, 0.4273597791530069), (2666, 0.16893070717942724), (2667, 0.3980114880607141), (2668, 0.395351831538149), (2669, 0.1665739162286803), (2670, 0.15750159001611358), (2671, 0.2770779039419186), (2672, 0.3361077229362374), (2673, 0.00206233392716094), (2674, 0.17076778089267272), (2675, 0.33157340577934385), (2676, 0.21053075954661052), (2677, 0.3342710499829101), (2678, 0.11046455427383561), (2679, 0.11529014295806143), (2680, 0.3242803444887862), (2681, 0.2252173081242314), (2682, 0.5184712522912588), (2683, 0.336725291865282), (2684, 0.208180528773416), (2685, 0.25113000279369185), (2686, 0.4756891639120246), (2687, 0.45531208832235887), (2688, 0.30593029426621776), (2689, 0.4568768632004128), (2690, 0.3459939622461241), (2691, 0.5515729167584768), (2692, 0.9999999999999998), (2693, 0.194745157679474), (2694, 0.3627239343574506), (2695, 0.10919308828574677), (2696, 0.2709872301005819), (2697, 0.122504872141084), (2698, 0.10947767665181073), (2699, 0.09443469859051347), (2700, 0.08705359403029152), (2701, 0.3373155768106664), (2702, 0.10527918758937402), (2703, 0.29728614879705256), (2704, 0.39871931544744743), (2705, 0.14921198051644827), (2706, 0.24695365816723197), (2707, 0.12221594026655662), (2708, 0.1446091656070411), (2709, 0.1810953306720657), (2710, 0.3958557167389273), (2711, 0.5495324592915563), (2712, 0.13049407315665856), (2713, 0.4306692346866738), (2714, 0.43164363552893725), (2715, 0.3023744595118573), (2716, 0.5596702439315352), (2717, 0.0004402993274416559), (2718, 0.4011067724100983), (2719, 0.35613354935261554), (2720, 0.2986111849208122), (2721, 0.2254999997860905), (2722, 0.15944801166845843), (2723, 0.41806469445606526), (2724, 0.1744932312943881), (2725, 0.3488227334485231), (2726, 0.0974007893561939), (2727, 0.4014740653693707), (2728, 0.34684863751867717), (2729, 0.3420077175009167), (2730, 0.3223981644901525), (2731, 0.20629842229238513), (2732, 0.3774700193705252), (2733, 0.16927053004605266), (2734, 0.15025663621990004), (2735, 0.17510894588441742), (2736, 0.4381621153529057), (2737, 0.2049194313188899), (2738, 0.1912097556112976), (2739, 0.15344278497289468), (2740, 0.1705654271228042), (2741, 0.09864118394485975), (2742, 0.46419919875848376), (2743, 0.2857234821432604), (2744, 0.2385825590552935), (2745, 0.20355992068097356), (2746, 0.2709257710916395), (2747, 0.18589858620862687), (2748, 0.1386613319956283), (2749, 0.3586820964145909), (2750, 0.19542427391939135), (2751, 0.14416035868946636), (2752, 0.14671720246633643), (2753, 0.33409262841269505), (2754, 0.4470491141679626), (2755, 0.39048318907572516), (2756, 0.32016791747357265), (2757, 0.3216839768998316), (2758, 0.3824544484421249), (2759, 0.32799667120899095), (2760, 0.2729063671086522), (2761, 0.3053840195258635), (2762, 0.14230273668264856), (2763, 0.4236378300024605), (2764, 0.3593681642165781), (2765, 0.18855337380086518), (2766, 0.40671465335153795), (2767, 0.21644499016442664), (2768, 0.2430701249345223), (2769, 0.23479358186967236), (2770, 0.1662233299427595), (2771, 0.30281220703878786), (2772, 0.09752208236768367), (2773, 0.09635132699319345), (2774, 0.24775777139768795), (2775, 0.16391599866498083), (2776, 0.22499848689587515), (2777, 0.13068996311908787), (2778, 0.17381020222291868), (2779, 0.40990601156132034), (2780, 0.44680055762572995), (2781, 0.38386088170593025), (2782, 0.132495648667573), (2783, 0.143312602254393), (2784, 0.49387905865299037), (2785, 0.34513573710863077), (2786, 0.10526150274734321), (2787, 0.16709839012057395), (2788, 0.3430239513469492), (2789, 0.3833156008495659), (2790, 0.33907432848845953), (2791, 0.39092030555830853), (2792, 0.49320321635215414), (2793, 0.3753891103208609), (2794, 0.31847122984266996), (2795, 0.2566790053721085), (2796, 0.19357686195748877), (2797, 0.2815628927319781), (2798, 0.45335214940585866), (2799, 0.5257368191191758), (2800, 0.46381754134571745), (2801, 0.5376930456099124), (2802, 0.4132414620444553), (2803, 0.5339349984588484), (2804, 0.40954102909322637), (2805, 0.17228009091541377), (2806, 0.10211664853080762), (2807, 0.4452436789943885), (2808, 0.4861056025546392), (2809, 0.3547969036094991), (2810, 0.18100266828286837), (2811, 0.3175226875624682), (2812, 0.33919647145501775), (2813, 0.3591769579178166), (2814, 0.15617168621433794), (2815, 0.4688349134026754), (2816, 0.13118852089309593), (2817, 0.3815252996980076), (2818, 0.2450045731402752), (2819, 0.4804028246289704), (2820, 0.34469248704471434), (2821, 0.12882985150704115), (2822, 0.39479672208106736), (2823, 0.3530275163310457), (2824, 0.3751044138069357), (2825, 0.28071445717852306), (2826, 0.5266440564236939), (2827, 0.20215585420902502), (2828, 0.3516351324931572), (2829, 0.10799362539179351), (2830, 0.4731459541439444), (2831, 0.13620538485577152), (2832, 0.14354704711893262), (2833, 0.17013230771261414), (2834, 0.31606747143504615), (2835, 0.09193039322573078), (2836, 0.19364499578889838), (2837, 0.18490405821809525), (2838, 0.1544358456214795), (2839, 0.35419619019881304), (2840, 0.14568025082663474), (2841, 0.3372094324027405), (2842, 0.14932307202566256), (2843, 0.21398333077889126), (2844, 0.1873568789429756), (2845, 0.400181762881051), (2846, 0.3831919054979111), (2847, 0.2561095246687226), (2848, 0.43299778968436986), (2849, 0.141307563547971), (2850, 0.5449752125136242), (2851, 0.17049213869675622), (2852, 0.32695509770415837), (2853, 0.4101685779984582), (2854, 0.28606437141980307), (2855, 0.1754573585527851), (2856, 0.38971320517365626), (2857, 0.10439426916122055), (2858, 0.23925525088355604), (2859, 0.2596007162064106), (2860, 0.21998940114347845), (2861, 0.3431353284494599), (2862, 0.24829836094246008), (2863, 0.3633389991584021), (2864, 0.1489630087166319), (2865, 0.3555745273937913), (2866, 0.2262790780796867), (2867, 0.3093357007695076), (2868, 0.4179421205912575), (2869, 0.21500751805521334), (2870, 0.09473273381701428), (2871, 0.26889403465979544), (2872, 0.28225068505049156), (2873, 0.356376035859806), (2874, 0.14993207784738166), (2875, 0.14270682973858834), (2876, 0.13425603093194538), (2877, 0.21724413233982556), (2878, 0.42751568830978454), (2879, 0.13978187694045113), (2880, 0.20615268838674491), (2881, 0.2776643573723527), (2882, 0.3579633050283103), (2883, 0.17497098877956488), (2884, 0.13748350077753052), (2885, 0.16181792206771214), (2886, 0.4370048061709346), (2887, 0.13808143037243112), (2888, 0.3282101835891152), (2889, 0.16016305488130725), (2890, 0.15376425618992431), (2891, 0.143035276452032), (2892, 0.3873151264576931), (2893, 0.3381722859744737), (2894, 0.3603329076998369), (2895, 0.3407739584812791), (2896, 0.5273598179670745), (2897, 0.2061511101115273), (2898, 0.3999596828448926), (2899, 0.2777405793201909), (2900, 0.10408812555550029), (2901, 0.13061152078169921), (2902, 0.173686991317038), (2903, 0.51951029072835), (2904, 0.3507556858217127), (2905, 0.2195050294107943), (2906, 0.32197697356101074), (2907, 0.3113692405871707), (2908, 0.43534691862029995), (2909, 0.4044691423212709), (2910, 0.34660693278714216), (2911, 0.20040319979802426), (2912, 0.4535996285193865), (2913, 0.10272937121676999), (2914, 0.13564369316884892), (2915, 0.2737531468853332), (2916, 0.17009492308064594), (2917, 0.28767006656374605), (2918, 0.5079882763227641), (2919, 0.5343582546812647), (2920, 0.4945996371630107), (2921, 0.4660453492308727), (2922, 0.32383724226458693), (2923, 0.17389374642916583), (2924, 0.14590179167952674), (2925, 0.15624549918508765), (2926, 0.2775486273897108), (2927, 0.31066598325563344), (2928, 0.20229277633917173), (2929, 0.3451794311836519), (2930, 0.09374447981586109), (2931, 0.4193308779876358), (2932, 0.1167395605281644), (2933, 0.18298362315731592), (2934, 0.10235770514156226), (2935, 0.18591276542404472), (2936, 0.12936288644092137), (2937, 0.1062126266872132), (2938, 0.27719394056531815), (2939, 0.267302934113293), (2940, 0.2309721622254337), (2941, 0.09122405848566748), (2942, 0.4135606141647933), (2943, 0.18334579627888284), (2944, 0.3841450263057663), (2945, 0.10595223305127159), (2946, 0.1810628671452987), (2947, 0.35280305423145597), (2948, 0.10226198740132446), (2949, 0.12990019076652795), (2950, 0.3727406841732247), (2951, 0.1804451020942991), (2952, 0.2758149200172604), (2953, 0.30158164501294016), (2954, 0.15962082508577996), (2955, 0.3208489378171408), (2956, 0.3594077766186869), (2957, 0.3941400044355854), (2958, 0.32289764155598677), (2959, 0.3801360307444225), (2960, 0.5677798058717243), (2961, 0.5004165215574414), (2962, 0.2870385607157514), (2963, 0.4128534166850358), (2964, 0.2902669443099844), (2965, 0.23496831169645044), (2966, 0.15810731023791266), (2967, 0.11654865537876173), (2968, 0.1683234157317091), (2969, 0.323109971445499), (2970, 0.35577204712456395), (2971, 0.2738708257300483), (2972, 0.2855976925745075), (2973, 0.2765874144257322), (2974, 0.1434664576423295), (2975, 0.4071302823686174), (2976, 0.35256240239424913), (2977, 0.2771648413420991), (2978, 0.3221307712535019), (2979, 0.28494944928768023), (2980, 0.49831521635090376), (2981, 0.39958361674913495), (2982, 0.2641689273903914), (2983, 0.17211867893355096), (2984, 0.5018285359159349), (2985, 0.46005761475170626), (2986, 0.3804192166447509), (2987, 0.14890705124619624), (2988, 0.39487445388983844), (2989, 0.15063761347617702), (2990, 0.15835053126712867), (2991, 0.3184811200450819), (2992, 0.11090573783269968), (2993, 0.09811846057087842), (2994, 0.19332413542026225), (2995, 0.24850853869690895), (2996, 0.3908886475505508), (2997, 0.14287739341224673), (2998, 0.16358540355755388), (2999, 0.09694257546100779), (3000, 0.14202283921298212), (3001, 0.35302202315969206), (3002, 0.5475679218308622), (3003, 0.12275790010438692), (3004, 0.15188464511386277), (3005, 0.28582070848217384), (3006, 0.22382388551080165), (3007, 0.08072904457691504), (3008, 0.29434880315108974), (3009, 0.1370094533242888), (3010, 0.43116109963077653), (3011, 0.41605281912887354), (3012, 0.37585394814690704), (3013, 0.36314524585234076), (3014, 0.1696148197104617), (3015, 0.2736638582344195), (3016, 0.1967288227569332), (3017, 0.09416172441291654), (3018, 0.31090655440391224), (3019, 0.0880917490814522), (3020, 0.09857906925069185), (3021, 0.3678925658986356), (3022, 0.28046780849506797), (3023, 0.24902503559205025), (3024, 0.1783604361249737), (3025, 0.09665459814450765), (3026, 0.30492094141118636), (3027, 0.23612015403528602), (3028, 0.3615885298410317), (3029, 0.10704249426347646), (3030, 0.35642156454572277), (3031, 0.32076447525777846), (3032, 0.11466879927101138), (3033, 0.1955998773113901), (3034, 0.12294724658128417), (3035, 0.12222219557347669), (3036, 0.181426306830904), (3037, 0.1290074292129964), (3038, 0.24607394444509648), (3039, 0.42871822049705116), (3040, 0.15942995891793313), (3041, 0.0960510936710021), (3042, 0.3681336118326414), (3043, 0.5008230064731154), (3044, 0.13305835189199647), (3045, 0.37050867474198435), (3046, 0.14750095282086825), (3047, 0.5399349903244672), (3048, 0.2385730236767707), (3049, 0.14817639103833932), (3050, 0.13935019715503716), (3051, 0.16782792277814587), (3052, 0.3383010085496502), (3053, 0.34709235158884094), (3054, 0.19169600581993826), (3055, 0.10603492976175695), (3056, 0.18558775540222114), (3057, 0.20879979330202214), (3058, 0.5001917842967023), (3059, 0.08674003798787513), (3060, 0.3880191992421667), (3061, 0.3672636704754337), (3062, 0.2025444790733945), (3063, 0.11425473508705764), (3064, 0.31401133248825797), (3065, 0.28378571688956333), (3066, 0.5368693066300487), (3067, 0.1732502588745235), (3068, 0.3068669962140228), (3069, 0.367425025600954), (3070, 0.1959755053951922), (3071, 0.2734957631969707), (3072, 0.39736798018270447), (3073, 0.3896416816970152), (3074, 0.14707368158360834), (3075, 0.10515993766043129), (3076, 0.2425182362369402), (3077, 0.47925956503048606), (3078, 0.4189865479172214), (3079, 0.4058890678997892), (3080, 0.12161928971253673), (3081, 0.32110119191643116), (3082, 0.15547638993588542), (3083, 0.40716225412518653), (3084, 0.17252236053469064), (3085, 0.4202047383162665), (3086, 0.13873032267075744), (3087, 0.10904626844280449), (3088, 0.09766088479283985), (3089, 0.209087122816129), (3090, 0.10188463451075523), (3091, 0.4053101509161566), (3092, 0.14236169886835445), (3093, 0.3084348484153751), (3094, 0.3511455284820267), (3095, 0.18294161740928425), (3096, 0.44230395855761795), (3097, 0.37927176703449744), (3098, 0.3242086251238899), (3099, 0.2525108560443912), (3100, 0.5242553040993456), (3101, 0.16373529101063988), (3102, 0.35189856386979135), (3103, 0.24032445390977264), (3104, 0.40683953459531885), (3105, 0.32268716168834355), (3106, 0.2980185349918916), (3107, 0.14581595331517633), (3108, 0.10461730227444417), (3109, 0.13524148838990288), (3110, 0.10753333726063594), (3111, 0.20736274047964154), (3112, 0.18325311176557393), (3113, 0.14329112029172864), (3114, 0.47555963990073546), (3115, 0.1752712734665798), (3116, 0.1035271962444326), (3117, 0.1593506592908969), (3118, 0.10179441054069813), (3119, 0.28789342632501813), (3120, 0.26852995633498505), (3121, 0.12063146539158848), (3122, 0.47251586615492275), (3123, 0.14190370257735352), (3124, 0.5675112138681433), (3125, 0.10525661282167888), (3126, 0.5705836977622137), (3127, 0.32315211477830186), (3128, 0.15170770956804783), (3129, 0.4453332369181115), (3130, 0.5735012145437438), (3131, 0.5755139102294362), (3132, 0.4223073372383056), (3133, 0.43585204417673423), (3134, 0.48612068669205244), (3135, 0.2670599810817906), (3136, 0.21102650060360448), (3137, 0.24067494114058183), (3138, 0.1817311633055796), (3139, 0.1997547322972866), (3140, 0.1102773244129626), (3141, 0.3452407375808156), (3142, 0.10061846175058763), (3143, 0.4332333593153764), (3144, 0.3743313396546501), (3145, 0.31978975898294115), (3146, 0.26243408653043565), (3147, 0.4149305647526452), (3148, 0.1100533999914032), (3149, 0.2624540310522675), (3150, 0.4486219081112111), (3151, 0.17116808024769353), (3152, 0.09660855309925988), (3153, 0.389637943022491), (3154, 0.18750811717716465), (3155, 0.3159060407650336), (3156, 0.31716239036760846), (3157, 0.10644182642514184), (3158, 0.3913122899410147), (3159, 0.10366816500828872), (3160, 0.5009743389517003), (3161, 0.4267497640077301), (3162, 0.20794184614995076), (3163, 0.46766689809722467), (3164, 0.49664721057980515), (3165, 0.12788043447855613), (3166, 0.3456577933028455), (3167, 0.561882035510416), (3168, 0.38529094740133113), (3169, 0.5701207529691094), (3170, 0.2627166560662698), (3171, 0.3086558024676259), (3172, 0.1770276513116024), (3173, 0.2560452487920807), (3174, 0.4137815267559461), (3175, 0.1497853280385147), (3176, 0.13531066706693334), (3177, 0.1052608856680961), (3178, 0.3255361516240555), (3179, 0.445443065139891), (3180, 0.5082750780766818), (3181, 0.3487576695950487), (3182, 0.3920478707818109), (3183, 0.36711156271029327), (3184, 0.20060165360905047), (3185, 0.14052781719245047), (3186, 0.3640513900154943), (3187, 0.16410970778649572), (3188, 0.3174333803383184), (3189, 0.24785744096571402), (3190, 0.2765068341405292), (3191, 0.3872656116995553), (3192, 0.4743023004640195), (3193, 0.4641075536691294), (3194, 0.25374321438833003), (3195, 0.307674447121444), (3196, 0.17384315338380713), (3197, 0.19430096550334122), (3198, 0.1502107022406395), (3199, 0.1887816864286856), (3200, 0.33802416061830703), (3201, 0.44009585934880563), (3202, 0.4462157109362138), (3203, 0.15886118761606965), (3204, 0.40162240375221736), (3205, 0.17944896322517465), (3206, 0.09661146005628415), (3207, 0.43663531995643884), (3208, 0.46302002165692907), (3209, 0.2197372593308978), (3210, 0.3223689124590977), (3211, 0.3611737952375331), (3212, 0.507153174169962), (3213, 0.1740006564451975), (3214, 0.1117259599893531), (3215, 0.2751470456124286), (3216, 0.32392355495566877), (3217, 0.10495047356154315), (3218, 0.3490882756104667), (3219, 0.17659255254681924), (3220, 0.32476254728101056), (3221, 0.2827569583840886), (3222, 0.17169492067528147), (3223, 0.33168418966120666), (3224, 0.40544379742991327), (3225, 0.48889057663749125), (3226, 0.36386626257792304), (3227, 0.304336902701246), (3228, 0.32142026798215373), (3229, 0.28501752738496006), (3230, 0.5120568135821519), (3231, 0.5238603812213768), (3232, 0.3558002768705287), (3233, 0.5153369378103816), (3234, 0.2952425966709664), (3235, 0.09533004988189298), (3236, 0.3000384041967273), (3237, 0.15216860779517322), (3238, 0.3245576615178727), (3239, 0.22015420720176754), (3240, 0.099001189555625), (3241, 0.4626285950683483), (3242, 0.1936911783075722), (3243, 0.11253802991518472), (3244, 0.10113985648380283), (3245, 0.2253872077531499), (3246, 0.31785857889379593), (3247, 0.4236224045809185), (3248, 0.15824805727129682), (3249, 0.153662290893674), (3250, 0.3553161445634455), (3251, 0.148648678443117), (3252, 0.28725295674301876), (3253, 0.1773808878498459), (3254, 0.34019366400082246), (3255, 0.09933418707623971), (3256, 0.3558016631595688), (3257, 0.11521193506020815), (3258, 0.09640503488311221), (3259, 0.3787996286852031), (3260, 0.4914639240007095), (3261, 0.10259298223609246), (3262, 0.09559795192217918), (3263, 0.11166973740657875), (3264, 0.14300361349146995), (3265, 0.1855362582468436), (3266, 0.0005611990440590346), (3267, 0.14756460421646558), (3268, 0.25556739614470025), (3269, 0.1062211763305822), (3270, 0.42490247819052107), (3271, 0.36260363863166784), (3272, 0.34048401827706953), (3273, 0.24205416068338076), (3274, 0.24602967114426383), (3275, 0.5334900965759478), (3276, 0.37267461852096895), (3277, 0.14377579934952317), (3278, 0.3594896009087687), (3279, 0.42165195313312304), (3280, 0.3579361560638202), (3281, 0.2670052528317412), (3282, 0.1372228006555667), (3283, 0.10409615744947354), (3284, 0.40803262151647174), (3285, 0.16048764501817883), (3286, 0.3977928565373834), (3287, 0.2863443172402046), (3288, 0.545396714366803), (3289, 0.15680851831659684), (3290, 0.49528411656292654), (3291, 0.21981537184502412), (3292, 0.34441411806652505), (3293, 0.1144862956224535), (3294, 0.33326322630222416), (3295, 0.16089533995523916), (3296, 0.19620483724829244), (3297, 0.15949167868280856), (3298, 0.45938706340250796), (3299, 0.37326044763816907), (3300, 0.38060246423409216), (3301, 0.39135987010723305), (3302, 0.17696074876024376), (3303, 0.1608726821834918), (3304, 0.3018900114115342), (3305, 0.3651282376073538), (3306, 0.187065123673557), (3307, 0.21881223434973054), (3308, 0.3959937254273308), (3309, 0.13422697572132458), (3310, 0.5677069508939819), (3311, 0.3757419781225357), (3312, 0.15646538536986218), (3313, 0.4021349954272305), (3314, 0.3544389610047891), (3315, 0.23633754468390675), (3316, 0.4709611121456009), (3317, 0.32013916010992866), (3318, 0.3583877512395256), (3319, 0.3613553661137436), (3320, 0.41112723386711825), (3321, 0.22324978995201555), (3322, 0.25800519977446795), (3323, 0.0004884282279264917), (3324, 0.1961319147344815), (3325, 0.004311274129119214), (3326, 0.3392075006985453), (3327, 0.368578180873874), (3328, 0.30101241681166463), (3329, 0.4159027789366465), (3330, 0.2998617232687329), (3331, 0.2564468934247793), (3332, 0.2577295164445757), (3333, 0.3658010708421176), (3334, 0.3239207539231181), (3335, 0.5276861095978672), (3336, 0.14921868876966532), (3337, 0.40429693293396807), (3338, 0.49791183819734847), (3339, 0.4531379940351826), (3340, 0.30914602673645325), (3341, 0.14284290190434412), (3342, 0.5281900228851728), (3343, 0.3395393863680451), (3344, 0.5571114100024694), (3345, 0.12419287869350658), (3346, 0.34916286184492), (3347, 0.2481783250591043), (3348, 0.1543923757850542), (3349, 0.22516259712078798), (3350, 0.09877387436314666), (3351, 0.4428491857202981), (3352, 0.4101134704984258), (3353, 0.15731535956626597), (3354, 0.1509052157692822), (3355, 0.34672932815701457), (3356, 0.3988865962878048), (3357, 0.3273060777851072), (3358, 0.42216022792815455), (3359, 0.22685833432348881), (3360, 0.5552405405028313), (3361, 0.5644354188585011), (3362, 0.3603258438925752), (3363, 0.406380789831402), (3364, 0.2093381642755828), (3365, 0.23846944032988376), (3366, 0.3095245568190168), (3367, 0.5115374478465984), (3368, 0.5568776677508874), (3369, 0.16948720479180834), (3370, 0.47194078557140673), (3371, 0.19697104113932126), (3372, 0.1059017904145416), (3373, 0.43408350155239467), (3374, 0.3611900442836652), (3375, 0.3434679325862601), (3376, 0.4382124862563686), (3377, 0.32115585639020083), (3378, 0.2073461442633574), (3379, 0.5451837399007812), (3380, 0.2771878018471947), (3381, 0.5043031338067848), (3382, 0.1415810393925285), (3383, 0.20015372522597416), (3384, 0.43619302544981325), (3385, 0.4156122597409294), (3386, 0.23796716106930293), (3387, 0.42734429888148345), (3388, 0.4198657293228988), (3389, 0.1066324343861201), (3390, 0.3366463678487151), (3391, 0.1971332018764204), (3392, 0.29423155570391013), (3393, 0.34362874236862473), (3394, 0.42730197684122), (3395, 0.3379269879911594), (3396, 0.09979412579511829), (3397, 0.08860228436541683), (3398, 0.5297367976820463), (3399, 0.18292946198319418), (3400, 0.12876309829657626), (3401, 0.2830086841905504), (3402, 0.3239635006253096), (3403, 0.16391135039299617), (3404, 0.3691697325277076), (3405, 0.40466777896851), (3406, 0.3948544775832481), (3407, 0.33639498453833294), (3408, 0.13863536176928018), (3409, 0.501313748680913), (3410, 0.3954733422229271), (3411, 0.2861074774980946), (3412, 0.14634992930441848), (3413, 0.32075152515601324), (3414, 0.11373159053825854), (3415, 0.319277886294048), (3416, 0.5271493328631641), (3417, 0.15146770474678953), (3418, 0.1773194046115937), (3419, 0.1531872684369204), (3420, 0.0005068570301352177), (3421, 0.29863371423691815), (3422, 0.12430227324669339), (3423, 0.2257447148004297), (3424, 0.1075476561239947), (3425, 0.3098133263654686), (3426, 0.33502159898638056), (3427, 0.5717158590617479), (3428, 0.10177847090626138), (3429, 0.5373884172411634), (3430, 0.3765952551799551), (3431, 0.2809641759756507), (3432, 0.4462203532235746), (3433, 0.3885236741997151), (3434, 0.14171321299429845), (3435, 0.507126596317342), (3436, 0.5038277446886136), (3437, 0.27888415242405973), (3438, 0.3437790870339348), (3439, 0.15639657242673585), (3440, 0.32074371388248574), (3441, 0.10446688758170622), (3442, 0.47112696782410723), (3443, 0.3365402835940643), (3444, 0.4576788762821969), (3445, 0.5571763219047909), (3446, 0.357888489920068), (3447, 0.5001193159434051), (3448, 0.4007466157518428), (3449, 0.24031887055835466), (3450, 0.5903918391571542), (3451, 0.5647368584182214), (3452, 0.48294559085496663), (3453, 0.534428864153904), (3454, 0.5021300035716069), (3455, 0.1113186491621685), (3456, 0.1460636012110747), (3457, 0.3952526190576594), (3458, 0.14217325918951335), (3459, 0.20181102094131567), (3460, 0.4096989821153587), (3461, 0.3325122068800021), (3462, 0.5085622136238759), (3463, 0.5060192591660259), (3464, 0.43675810573096485), (3465, 0.20608867866538133), (3466, 0.4164267540689178), (3467, 0.5969241570318724), (3468, 0.45631749112986597), (3469, 0.4975277774267734), (3470, 0.5020956568188765), (3471, 0.20259161553226204), (3472, 0.13964430550204898), (3473, 0.46012992796362395), (3474, 0.33577003417319506), (3475, 0.09999156176222193), (3476, 0.22991578336551136), (3477, 0.3185107657102014), (3478, 0.515490087302168), (3479, 0.11739021952606031), (3480, 0.44800277980754966), (3481, 0.30499067094877375), (3482, 0.24328353990673846), (3483, 0.448016238169171), (3484, 0.5213858639122726), (3485, 0.36621301835274345), (3486, 0.3883887582644093), (3487, 0.31666128886865014), (3488, 0.21944880418534957), (3489, 0.18102667895413482), (3490, 0.5167159187318608), (3491, 0.36798906576328744), (3492, 0.5502458232993378), (3493, 0.4862352074375196), (3494, 0.3353755197601464), (3495, 0.3253006379115053), (3496, 0.5018818023750754), (3497, 0.38682862951088076), (3498, 0.4114067405190724), (3499, 0.40965363157671275), (3500, 0.24952777478248342), (3501, 0.09252488306195869), (3502, 0.16525730263200705), (3503, 0.4296748675490288), (3504, 0.22442821269222354), (3505, 0.4881371924922947), (3506, 0.1368221412014456), (3507, 0.5665924223366585), (3508, 0.5243895477368224), (3509, 0.4279989764124494), (3510, 0.11717564668740832), (3511, 0.24722325628501965), (3512, 0.10364298319575446), (3513, 0.23721017747137094), (3514, 0.2184118127194903), (3515, 0.19131166555372361), (3516, 0.3660369517130969), (3517, 0.17847095712180736), (3518, 0.17970274608027872), (3519, 0.47542798415988197), (3520, 0.471150081123785), (3521, 0.1358731348968024), (3522, 0.4519657920190421), (3523, 0.10326711902847723), (3524, 0.1064345019980315), (3525, 0.5420643836162827), (3526, 0.12164265705037278), (3527, 0.32115295668315363), (3528, 0.15761186493754176), (3529, 0.15125301963449098), (3530, 0.09862021765546948), (3531, 0.3814948621267072), (3532, 0.5666422559411889), (3533, 0.17949202688023824), (3534, 0.29705162328188556), (3535, 0.10753865508157252), (3536, 0.15457892728938305), (3537, 0.1075624324944039), (3538, 0.1473275460106816), (3539, 0.30647154839207463), (3540, 0.33161580489288645), (3541, 0.3861886392328964), (3542, 0.39709418720717543), (3543, 0.38883418333748676), (3544, 0.0970931915665176), (3545, 0.11308465470384706), (3546, 0.4123793764897767), (3547, 0.2195275993885348), (3548, 0.43274319129044064), (3549, 0.4809201691557103), (3550, 0.48437579560083777), (3551, 0.41197998307027944), (3552, 0.0020679388149163203), (3553, 0.2499038903427232), (3554, 0.3633942532671921), (3555, 0.40674766038883803), (3556, 0.17364406209220554), (3557, 0.28805644262421726), (3558, 0.13026462570965036), (3559, 0.4594848643436223), (3560, 0.19646668449182558), (3561, 0.10863192222588244), (3562, 0.25670129800421043), (3563, 0.21473110466205841), (3564, 0.44806779047554746), (3565, 0.4862179242226764), (3566, 0.5689394403542234), (3567, 0.47038254409739816), (3568, 0.4584235073031469), (3569, 0.5071076320379251), (3570, 0.35259154554777894), (3571, 0.10919356153772906), (3572, 0.4896110401124386), (3573, 0.22653225373525512), (3574, 0.33320542893300836), (3575, 0.165274865815269), (3576, 0.3629938998541325), (3577, 0.10722009544067872), (3578, 0.18615807416269045), (3579, 0.17728977079208644), (3580, 0.28937637699124974), (3581, 0.3002700172493908), (3582, 0.20076192313810667), (3583, 0.325175360027957), (3584, 0.3059618205905464), (3585, 0.11832287424652671), (3586, 0.46276485582085974), (3587, 0.5092772298393629), (3588, 0.17440513214444447), (3589, 0.13616699993895864), (3590, 0.3910154429739271), (3591, 0.39371557232667176), (3592, 0.5198332276667635), (3593, 0.47960236074023427), (3594, 0.17942405796261496), (3595, 0.4206810267031094), (3596, 0.40927923623304885), (3597, 0.3777654893248246), (3598, 0.41105243165651423), (3599, 0.3866863011508393), (3600, 0.24393549800190542), (3601, 0.09810034110703462), (3602, 0.3969535730438265), (3603, 0.46633565737485516), (3604, 0.5112904293008448), (3605, 0.49442748088593247), (3606, 0.34822145711206876), (3607, 0.42071371166923216), (3608, 0.27514750656456316), (3609, 0.40097985408113485), (3610, 0.19418411808281638), (3611, 0.5069722565463157), (3612, 0.5421926360332965), (3613, 0.30968082006451747), (3614, 0.22204515360809052), (3615, 0.0954652003635038), (3616, 0.22805948775689636), (3617, 0.24867907391363306), (3618, 0.5075566703902786), (3619, 0.42247934485157435), (3620, 0.09291447886875451), (3621, 0.3455102280092063), (3622, 0.14864753963189992), (3623, 0.556042776495526), (3624, 0.15731682063235997), (3625, 0.2559497430535632), (3626, 0.30525036479288653), (3627, 0.10277237607719147), (3628, 0.43978837348025623), (3629, 0.28586661879812386), (3630, 0.13573005294468563), (3631, 0.3201794327632984), (3632, 0.3702914814199921), (3633, 0.493544435697293), (3634, 0.28346085375159724), (3635, 0.46060396536094317), (3636, 0.10115955236955562), (3637, 0.4946968270507291), (3638, 0.16001254534224024), (3639, 0.37506125547921065), (3640, 0.14478405669511552), (3641, 0.42420115100723493), (3642, 0.547331494384322), (3643, 0.376458228742818), (3644, 0.19169335856293124), (3645, 0.14274080191133523), (3646, 0.4121481648890154), (3647, 0.1959119470114836), (3648, 0.2751947293722548), (3649, 0.48063860456610297), (3650, 0.18418866401861994), (3651, 0.34076591820842916), (3652, 0.24430115170603484), (3653, 0.18668821872074673), (3654, 0.3547150761383318), (3655, 0.3437355110868493), (3656, 0.20630094518701125), (3657, 0.5268438065615453), (3658, 0.49796417578297625), (3659, 0.37865979060055466), (3660, 0.5352971542870042), (3661, 0.3464623489727631), (3662, 0.4832649172522422), (3663, 0.08584105417595073), (3664, 0.22500680999430803), (3665, 0.31318141267052196), (3666, 0.42959489577696436), (3667, 0.26968636873902435), (3668, 0.09906959797752739), (3669, 0.1709963160393592), (3670, 0.5756291067089503), (3671, 0.38586733023135505), (3672, 0.08683325808415104), (3673, 0.35094119532732276), (3674, 0.1661457526697675), (3675, 0.15252200574319674), (3676, 0.08804144871955596), (3677, 0.3534657469131988), (3678, 0.11989941594932074), (3679, 0.12674386521645417), (3680, 0.14528493791951508), (3681, 0.5295865618192764), (3682, 0.30957023568676834), (3683, 0.1607780136957507), (3684, 0.3989474310990295), (3685, 0.30452171359303926), (3686, 0.13089498396087343), (3687, 0.11517194241991037), (3688, 0.4054172359189793), (3689, 0.546018027073947), (3690, 0.4314120716516196), (3691, 0.5256486129873983), (3692, 0.5567418456709156), (3693, 0.4126010025083398), (3694, 0.39852275579986535), (3695, 0.44553496356742267), (3696, 0.5088804518384902), (3697, 0.5768311467755378), (3698, 0.5220059784105137), (3699, 0.2429400257833683), (3700, 0.4607962572397809), (3701, 0.3665369071217234), (3702, 0.1438049273084478), (3703, 0.10911850157911394), (3704, 0.164108238964497), (3705, 0.5588428231925889), (3706, 0.375511471013548), (3707, 0.3126591971621156), (3708, 0.5339017578906933), (3709, 0.5005190534976416), (3710, 0.3496007252549839), (3711, 0.38308168154948957), (3712, 0.0921698334756755), (3713, 0.42679110781122426), (3714, 0.1034566931317071), (3715, 0.09774388398064221), (3716, 0.1990929007107692), (3717, 0.10131592527728113), (3718, 0.555600089577871), (3719, 0.28351297199951236), (3720, 0.4964854764725289), (3721, 0.23066580263611447), (3722, 0.3383635477737945), (3723, 0.44298064453274105), (3724, 0.38795465651909583), (3725, 0.37001869871510207), (3726, 0.3919562123798697), (3727, 0.43025229849384433), (3728, 0.19457565667264773), (3729, 0.2349466291373301), (3730, 0.35515847456218547), (3731, 0.13586429191724275), (3732, 0.45867637803859607), (3733, 0.32734584350994184), (3734, 0.4456989899702164), (3735, 0.3855534874790064), (3736, 0.3501600592522058), (3737, 0.1427213993113602), (3738, 0.40937085163001025), (3739, 0.4896626066965903), (3740, 0.35690846579136853), (3741, 0.45309460961912496), (3742, 0.4976336762634972), (3743, 0.5224458572533069), (3744, 0.43239966301819227), (3745, 0.20370649549017575), (3746, 0.4379738487593362), (3747, 0.39292363728255825), (3748, 0.23913134887321225), (3749, 0.12761264566523434), (3750, 0.14163549807528272), (3751, 0.4083042282746489), (3752, 0.09084015721509267), (3753, 0.35605696750317084), (3754, 0.3842132444616663), (3755, 0.13813940438125843), (3756, 0.38079752578789827), (3757, 0.2495884221448992), (3758, 0.17879562544682143), (3759, 0.3040138474473674), (3760, 0.09044795118533201), (3761, 0.09901799538738833), (3762, 0.180887369854425), (3763, 0.15000865052276552), (3764, 0.19000111999268507), (3765, 0.20345501375232214), (3766, 0.10237228920445315), (3767, 0.5673879041259194), (3768, 0.3155720491219561), (3769, 0.4170991858406541), (3770, 0.14408625591467702), (3771, 0.49705848379272705), (3772, 0.2920681482083734), (3773, 0.4288966702764826), (3774, 0.22191035547303362), (3775, 0.4580313438950206), (3776, 0.46406154645596626), (3777, 0.4767944846767087), (3778, 0.3563741920119856), (3779, 0.3241140252378747), (3780, 0.3374977714164903), (3781, 0.4110592937641524), (3782, 0.5564585793075659), (3783, 0.5494066741120109), (3784, 0.5367949017849252), (3785, 0.43132853584750863), (3786, 0.47283289300112696), (3787, 0.5325375569974901), (3788, 0.46520689564857765), (3789, 0.294860940720146), (3790, 0.3082427983166706), (3791, 0.31089040910797183), (3792, 0.40594313074836263), (3793, 0.39416471568900735), (3794, 0.30456401271575473), (3795, 0.4901461365246958), (3796, 0.144074007954043), (3797, 0.4976642435211309), (3798, 0.5196647906697235), (3799, 0.45239120500368396), (3800, 0.21377967925363267), (3801, 0.5244832525464599), (3802, 0.22706115110563302), (3803, 0.39050781924319783), (3804, 0.10566011512415982), (3805, 0.4443735963051464), (3806, 0.2844075786523221), (3807, 0.3424656843336038), (3808, 0.3356218915845549), (3809, 0.2092004342928596), (3810, 0.5481596168692723), (3811, 0.40780801592759275), (3812, 0.29541446212538186), (3813, 0.29958466464510275), (3814, 0.37098684205146), (3815, 0.4363757819808462), (3816, 0.28980862341965274), (3817, 0.3032425667727003), (3818, 0.3076652711316264), (3819, 0.237568000144219), (3820, 0.20589302491607772), (3821, 0.1364472120201085), (3822, 0.11741848363008049), (3823, 0.3841263812630865), (3824, 0.2385028753012714), (3825, 0.2412115779859937), (3826, 0.3174315173003165), (3827, 0.09131900508545444), (3828, 0.4406506009957873), (3829, 0.12708985533867054), (3830, 0.10257779031992686), (3831, 0.46395953243691024), (3832, 0.3242997497106021), (3833, 0.3109544664694276), (3834, 0.5402489203893737), (3835, 0.35103329073984646), (3836, 0.2360310284360223), (3837, 0.35955981344144594), (3838, 0.16383861617727682), (3839, 0.3132839449575908), (3840, 0.5528852204441512), (3841, 0.32379162395611477), (3842, 0.323233846534431), (3843, 0.3289532917788705), (3844, 0.18571759092888265), (3845, 0.34899205556519314), (3846, 0.4834152114250599), (3847, 0.3124693213244554), (3848, 0.1671934286708826), (3849, 0.24819840453372274), (3850, 0.3771036977475265), (3851, 0.16907836723487446), (3852, 0.4308947648589349), (3853, 0.3550835555896816), (3854, 0.38502391111574497), (3855, 0.3856514944778866), (3856, 0.1102126439872333), (3857, 0.31791991225603483), (3858, 0.33826640706964783), (3859, 0.380446356973435), (3860, 0.42942426159851643), (3861, 0.2984668350512102), (3862, 0.5581357473154556), (3863, 0.41171041173638423), (3864, 0.28330992539639477), (3865, 0.4564816064565092), (3866, 0.5279748383082034), (3867, 0.4770771188550112), (3868, 0.36289897081369465), (3869, 0.5095748304011047), (3870, 0.404653891049004), (3871, 0.2999649431836731), (3872, 0.4492741112632434), (3873, 0.5538191867348249), (3874, 0.24240504525786466), (3875, 0.3791139202132706), (3876, 0.2159095110175451), (3877, 0.3210912845175122), (3878, 0.18698753732517237), (3879, 0.48985746111438794), (3880, 0.3300976480793575), (3881, 0.358069811518513), (3882, 0.24635250252053822), (3883, 0.2038796707642653), (3884, 0.1334092854363682), (3885, 0.41294094235394224), (3886, 0.49537170502548794), (3887, 0.2366669400103591), (3888, 0.3668400472630708), (3889, 0.3896870153147003), (3890, 0.25839977900683636), (3891, 0.12821661986593527), (3892, 0.12489379381180904), (3893, 0.3228098907850082), (3894, 0.426585380470668), (3895, 0.3106759298611118), (3896, 0.16240352681617043), (3897, 0.12082013689744814), (3898, 0.3943102158168982), (3899, 0.08987884577661864), (3900, 0.14189919481778954), (3901, 0.34640202627074507), (3902, 0.40395900226938086), (3903, 0.5342012595817701), (3904, 0.38762668153257573), (3905, 0.2930217614648968), (3906, 0.3199945030050791), (3907, 0.5602389374677454), (3908, 0.36696138971476405), (3909, 0.23692730152333247), (3910, 0.4539446058230824), (3911, 0.5574771766778204), (3912, 0.2744154883797639), (3913, 0.19767759672891058), (3914, 0.5584900283412962), (3915, 0.38746530151984476), (3916, 0.45450691368296187), (3917, 0.42033958984724257), (3918, 0.1479306798863075), (3919, 0.3548366728344087), (3920, 0.31509283611890443), (3921, 0.31611462035628324), (3922, 0.3494382225188115), (3923, 0.34883082189188996), (3924, 0.34796195709529193), (3925, 0.2915055616896362), (3926, 0.4487819456012718), (3927, 0.20300796812784594), (3928, 0.21913214248121055), (3929, 0.08975955057259556), (3930, 0.26458613721549357), (3931, 0.222623142608046), (3932, 0.11316582762759322), (3933, 0.10685131659548813), (3934, 0.31586457055363865), (3935, 0.2518203431033233), (3936, 0.12253352587124211), (3937, 0.5307399123960965), (3938, 0.37794024939962606), (3939, 0.3389992780013271), (3940, 0.21386750913595232), (3941, 0.39511671820237054), (3942, 0.28506024956630943), (3943, 0.4156105736877383), (3944, 0.5015879259010058), (3945, 0.0986278500016545), (3946, 0.3055750285149776), (3947, 0.447690614783471), (3948, 0.28944456347711706), (3949, 0.41759478067475586), (3950, 0.25174413990061145), (3951, 0.15515644479702856), (3952, 0.1484208960573139), (3953, 0.38654523630994636), (3954, 0.43975072242833024), (3955, 0.45361420482606757), (3956, 0.37800495032092374), (3957, 0.5144697359664504), (3958, 0.3143300117901688), (3959, 0.49810607829259207), (3960, 0.39171686175246573), (3961, 0.5210484965296031), (3962, 0.20993780489598882), (3963, 0.4663570190582058), (3964, 0.3145033354846099), (3965, 0.3991201379117523), (3966, 0.3075463191212848), (3967, 0.14899694977664016), (3968, 0.5306443172619745), (3969, 0.3822000623888603), (3970, 0.5412013052240304), (3971, 0.2798648252291736), (3972, 0.4844624520664136), (3973, 0.2450338785153434), (3974, 0.48932924870036054), (3975, 0.3484751848258834), (3976, 0.32176892156656656), (3977, 0.4829404093760979), (3978, 0.34240887299701595), (3979, 0.5637275846444874), (3980, 0.35623250323685357), (3981, 0.0005068570301352177), (3982, 0.5868014628974798), (3983, 0.20187740906522042), (3984, 0.2893682155699576), (3985, 0.2998466929439578), (3986, 0.3918176483211249), (3987, 0.37312269451523505), (3988, 0.15131747309901936), (3989, 0.4093972751893781), (3990, 0.10053796498813831), (3991, 0.27818134010198753), (3992, 0.5799773061486867), (3993, 0.4492712270529182), (3994, 0.13659018138118334), (3995, 0.13267940410308673), (3996, 0.4591724486982666), (3997, 0.5644194641669297), (3998, 0.312985126172063), (3999, 0.20021708688554035), (4000, 0.363292544549917), (4001, 0.45816793035025594), (4002, 0.36717521151606575), (4003, 0.36192938157209853), (4004, 0.34507411003502675), (4005, 0.5463648857787953), (4006, 0.5011525570926101), (4007, 0.5028179923470093), (4008, 0.2978256994377253), (4009, 0.38646990200427955), (4010, 0.4067469418281686), (4011, 0.39869220128160776), (4012, 0.44346072788904095), (4013, 0.3992769323735861), (4014, 0.22646349824976933), (4015, 0.4450931617490498), (4016, 0.43412719848058745), (4017, 0.3576008421060724), (4018, 0.21385765414822958), (4019, 0.0962606076865953), (4020, 0.2947026244671807), (4021, 0.28016356266867243), (4022, 0.34968499030876604), (4023, 0.4028169791413007), (4024, 0.3474178316572773), (4025, 0.357850622155494), (4026, 0.0036780510465817783), (4027, 0.4609782535393187), (4028, 0.10501888125826615), (4029, 0.28504687068105855), (4030, 0.17256220920545523), (4031, 0.24596423429055103), (4032, 0.14652320424704812), (4033, 0.4839129590519083), (4034, 0.39291691500969145), (4035, 0.37396424218799834), (4036, 0.41920170847350285), (4037, 0.23923084602273753), (4038, 0.3772468565742355), (4039, 0.4328345546971623), (4040, 0.277678477175982), (4041, 0.5421227950319524), (4042, 0.17355418134841416), (4043, 0.40269140286310773), (4044, 0.49912081786198936), (4045, 0.4396648097524986), (4046, 0.5837808191075986), (4047, 0.2847645711162721), (4048, 0.12729579016563022), (4049, 0.47924517694791463), (4050, 0.09361514693943875), (4051, 0.354051786140292), (4052, 0.3469790795085495), (4053, 0.5082019352071907), (4054, 0.33242890987363677), (4055, 0.5687153129401833), (4056, 0.30913065557972025), (4057, 0.38484324491077526), (4058, 0.4820942445125312), (4059, 0.21343553177984775), (4060, 0.1254127341738206), (4061, 0.15766612744145378), (4062, 0.09750367374428066), (4063, 0.36964289031957664), (4064, 0.10801761808758238), (4065, 0.09619304406819175), (4066, 0.2911756680542414), (4067, 0.1831663800046089), (4068, 0.3560308205018142), (4069, 0.3564215172270413), (4070, 0.5391184967022415), (4071, 0.2942074533784055), (4072, 0.08962907423725378), (4073, 0.3652484841137212), (4074, 0.5216774197525591), (4075, 0.4952197401130225), (4076, 0.5660820207840576), (4077, 0.5818773546349415), (4078, 0.3101029078407728), (4079, 0.2048700824581111), (4080, 0.4197700923178355), (4081, 0.544001349093841), (4082, 0.15178667643995333), (4083, 0.34840156675496525), (4084, 0.30170760978858746), (4085, 0.5265074357857709), (4086, 0.1777647570592745), (4087, 0.2603171408853378), (4088, 0.3978324565501734), (4089, 0.41265403142650203), (4090, 0.5065635828592514), (4091, 0.6069240465422377), (4092, 0.10755584330606677), (4093, 0.4390686370780009), (4094, 0.35024846456629116), (4095, 0.5192962567363208), (4096, 0.5226825671613632), (4097, 0.30100111197395396), (4098, 0.45313456880349634), (4099, 0.4354600918775353), (4100, 0.5641848873465762), (4101, 0.3023332253120282), (4102, 0.09702117103286173), (4103, 0.5405943312992738), (4104, 0.4594322454628684), (4105, 0.5065455631977716), (4106, 0.508297052546362), (4107, 0.10133697794355669), (4108, 0.253646168575554), (4109, 0.23701192264783638), (4110, 0.1368996305875331), (4111, 0.14721506937654905), (4112, 0.39766147286786696), (4113, 0.37497294188203834), (4114, 0.2637054403416351), (4115, 0.26755569150832825), (4116, 0.490717910802011), (4117, 0.2082973787236031), (4118, 0.23041521317649144), (4119, 0.5343024521222972), (4120, 0.13225357191558496), (4121, 0.3532913590335206), (4122, 0.33538844839211857), (4123, 0.4845265618961072), (4124, 0.37205528148080935), (4125, 0.35208032777895937), (4126, 0.19637316864074142), (4127, 0.23799461513426354), (4128, 0.2914359052823478), (4129, 0.11904253417470906), (4130, 0.5716167961878892), (4131, 0.12589797519854998), (4132, 0.3189178353499795), (4133, 0.14011553317718528), (4134, 0.09703419841942602), (4135, 0.4648485000584436), (4136, 0.5102828167412543), (4137, 0.39021930330033333), (4138, 0.3641500954454406), (4139, 0.4104823314503179), (4140, 0.3442336893080496), (4141, 0.20207481458981627), (4142, 0.4763129329596307), (4143, 0.4020545891469116), (4144, 0.17379906731994435), (4145, 0.18300520845702603), (4146, 0.24899308018567062), (4147, 0.2144778604963493), (4148, 0.5392802637265753), (4149, 0.12469815835723948), (4150, 0.1467138052653491), (4151, 0.23563129602695052), (4152, 0.5697492494890918), (4153, 0.5641267561782672), (4154, 0.5238978930515507), (4155, 0.3638304735221242), (4156, 0.382240172208964), (4157, 0.31889180862668953), (4158, 0.4219590735012678), (4159, 0.48265215140445267), (4160, 0.28167398015201295), (4161, 0.45663102520701326), (4162, 0.4713862226599017), (4163, 0.10305892591627833), (4164, 0.31452967113046065), (4165, 0.3052333733766751), (4166, 0.1489773719875934), (4167, 0.24878518579451733), (4168, 0.5486163977864424), (4169, 0.25876176736638445), (4170, 0.09913407069423624), (4171, 0.19995611103143016), (4172, 0.21149739023645492), (4173, 0.2589928987611904), (4174, 0.33148491999421825), (4175, 0.15198035912253718), (4176, 0.2650660082534868), (4177, 0.1364941621372007), (4178, 0.3960486540785858), (4179, 0.2002988152255219), (4180, 0.14165875883513673), (4181, 0.5644128304412511), (4182, 0.12363534633987022), (4183, 0.5386234700849544), (4184, 0.4916514202389335), (4185, 0.5728671015559023), (4186, 0.36817639496476223), (4187, 0.47638896677376014), (4188, 0.13975878466615343), (4189, 0.5144453391984382), (4190, 0.19179276858536715), (4191, 0.4411214263853252), (4192, 0.4038649757043023), (4193, 0.48689569610662814), (4194, 0.21466421506996522), (4195, 0.39308321655169787), (4196, 0.13964140650975357), (4197, 0.34123412979930756), (4198, 0.10127391360647958), (4199, 0.08710306061248342), (4200, 0.3578350158100136), (4201, 0.18650561376541974), (4202, 0.35207837781432966), (4203, 0.35250866338608394), (4204, 0.35923849412821324), (4205, 0.3294989884368008), (4206, 0.19684840840515908), (4207, 0.30578647883919624), (4208, 0.14028633398409318), (4209, 0.2638867954098125), (4210, 0.4515664293076581), (4211, 0.557244563940965), (4212, 0.2940608077107571), (4213, 0.44369422553570176), (4214, 0.365378748136558), (4215, 0.2994848403778781), (4216, 0.5283215398399944), (4217, 0.35704271562738443), (4218, 0.5298146699661884), (4219, 0.2867166482892894), (4220, 0.1524321046764136), (4221, 0.34954165960693795), (4222, 0.14586848460676957), (4223, 0.36885023151725227), (4224, 0.5159643752943474), (4225, 0.1680937244597214), (4226, 0.1839422937113569), (4227, 0.5403377746340254), (4228, 0.3547805006087956), (4229, 0.12858682576882804), (4230, 0.11808676767363549), (4231, 0.44839174161412293), (4232, 0.20030468382934902), (4233, 0.4488778643906255), (4234, 0.3715212049274354), (4235, 0.39749479184362424), (4236, 0.49753907393237745), (4237, 0.11205489389786401), (4238, 0.5575124507717693), (4239, 0.14911989632893574), (4240, 0.45897524345343493), (4241, 0.534845056741588), (4242, 0.515052924418836), (4243, 0.25171603774083684), (4244, 0.47545064855912283), (4245, 0.37516078037452844), (4246, 0.2987488701159644), (4247, 0.3208043027499688), (4248, 0.4749402424477179), (4249, 0.2137377582173863), (4250, 0.18791140788143185), (4251, 0.10439404788374182), (4252, 0.20152367397662088), (4253, 0.24158969257618154), (4254, 0.23148323458604164), (4255, 0.4559073225544575), (4256, 0.5416291410196842), (4257, 0.5234839712010215), (4258, 0.4665229805469847), (4259, 0.522963069029591), (4260, 0.23025773474714328), (4261, 0.47698296333070694), (4262, 0.15388979677143563), (4263, 0.303234629315485), (4264, 0.54534005862717), (4265, 0.32216079528704944), (4266, 0.3401419642217906), (4267, 0.4598714226658632), (4268, 0.5116919431355653), (4269, 0.30137762223524767), (4270, 0.2932870649115565), (4271, 0.10104124067775565), (4272, 0.5619375106998036), (4273, 0.5302292168792656), (4274, 0.4320478052052286), (4275, 0.4946505725040632), (4276, 0.17434574723609922), (4277, 0.39473033699927185), (4278, 0.3485416004213093), (4279, 0.5296097586897821), (4280, 0.45604494837029547), (4281, 0.532781505241334), (4282, 0.49125635942061807), (4283, 0.5406509645857746), (4284, 0.16013496648565165), (4285, 0.19013388035775156), (4286, 0.12003072139224652), (4287, 0.1902465525216108), (4288, 0.3627935536710944), (4289, 0.572506561273075), (4290, 0.426442646459472), (4291, 0.2627647911005656), (4292, 0.21507281117166155), (4293, 0.16150500833700496), (4294, 0.5781527605328269), (4295, 0.41352954582810303), (4296, 0.42711999427930764), (4297, 0.1426024426598548), (4298, 0.4223038784823352), (4299, 0.5588685034321978), (4300, 0.5236651218095707), (4301, 0.25033958248753563), (4302, 0.2264321138312024), (4303, 0.321517068007963), (4304, 0.20645414343503804), (4305, 0.4821263762059315), (4306, 0.4890419785041441), (4307, 0.26614806168182925), (4308, 0.16880773441084415), (4309, 0.47219802782542464), (4310, 0.5254852118143446), (4311, 0.2052094548487245), (4312, 0.5070900190937859), (4313, 0.13547423638053716), (4314, 0.5422669987576854), (4315, 0.34758490446104795), (4316, 0.09884782651640167), (4317, 0.09976081991815118), (4318, 0.38089946615649545), (4319, 0.21691240443006235), (4320, 0.5204104033890214), (4321, 0.5398408395283365), (4322, 0.5048228421284284), (4323, 0.4268675701642692), (4324, 0.5397901184285593), (4325, 0.1472613946355097), (4326, 0.17364752084026286), (4327, 0.46255083063410635), (4328, 0.4695672585215227), (4329, 0.4737533894065481), (4330, 0.23807594554554615), (4331, 0.46974169385488473), (4332, 0.509127188765938), (4333, 0.23135069373371378), (4334, 0.3613988276903054), (4335, 0.45607670940398065), (4336, 0.5548787767477577), (4337, 0.2800306897290625), (4338, 0.4393700711561595), (4339, 0.45009170385639263), (4340, 0.42889367508556037), (4341, 0.20242634918680205), (4342, 0.30829362233044333), (4343, 0.46182832242963645), (4344, 0.520821505463761), (4345, 0.5583238215751019), (4346, 0.40928211455864727), (4347, 0.49140871821230614), (4348, 0.21580493142796775), (4349, 0.29483840657160637), (4350, 0.4483225978191578), (4351, 0.33781518180156916), (4352, 0.095681172457317), (4353, 0.36997310550965784), (4354, 0.5321484119326515), (4355, 0.24248703307379238), (4356, 0.23732993913800293), (4357, 0.3169612275414795), (4358, 0.28473244237501877), (4359, 0.24886695867486144), (4360, 0.4899582397027205), (4361, 0.21010874843160676), (4362, 0.3909721803316461), (4363, 0.3408812857125585), (4364, 0.5104909063744695), (4365, 0.5040365378490209), (4366, 0.5242904372560799), (4367, 0.275370558249665), (4368, 0.4718021413735483), (4369, 0.21224267739996194), (4370, 0.23705837268126748), (4371, 0.295358336984728), (4372, 0.1535430736205102), (4373, 0.5167238128039237), (4374, 0.5389150405197279), (4375, 0.4839327971352393), (4376, 0.4652609484790921), (4377, 0.4693053756394629), (4378, 0.5447997916078806), (4379, 0.4996075737215035), (4380, 0.27220149094702234), (4381, 0.5290468190704682), (4382, 0.12653338962054256), (4383, 0.5091754351801123), (4384, 0.37806290960050326), (4385, 0.512502471321462), (4386, 0.2583360880799803), (4387, 0.5431351859244672), (4388, 0.5410549505780149), (4389, 0.49641994716059906), (4390, 0.19835462841314772), (4391, 0.2207847926733694), (4392, 0.43614372554359954), (4393, 0.23384822274654987), (4394, 0.2726160898032856), (4395, 0.17165839620447132), (4396, 0.28367686481190424), (4397, 0.248695567586711), (4398, 0.3176513688559808), (4399, 0.51542852312441), (4400, 0.49443932011123987), (4401, 0.5145272601701797), (4402, 0.3158071480098409), (4403, 0.2812483533578919), (4404, 0.3585522938411895), (4405, 0.12000312080147278), (4406, 0.5650405574310396), (4407, 0.10473255519192556), (4408, 0.37013292489782185), (4409, 0.41493283023527877), (4410, 0.4938608408898662), (4411, 0.38929895729194364), (4412, 0.15230894504576145), (4413, 0.1399694813693115), (4414, 0.5045476775334307), (4415, 0.2847367171198742), (4416, 0.10849199196145677), (4417, 0.35727115290623096), (4418, 0.24342299482177943), (4419, 0.18256770181261825), (4420, 0.3102766416528888), (4421, 0.3654689841575181), (4422, 0.3745522558947888), (4423, 0.19304082592617453), (4424, 0.22308468567619372), (4425, 0.17540553812161802), (4426, 0.39258641534039873), (4427, 0.27324967032348974), (4428, 0.5325651933447495), (4429, 0.3089010730342528), (4430, 0.4825491067193108), (4431, 0.3733229385410336), (4432, 0.5451627794690509), (4433, 0.4443255363793723), (4434, 0.4199702531570327), (4435, 0.46404460339402365), (4436, 0.3704086583897974), (4437, 0.1708629669787017), (4438, 0.4295162304745936), (4439, 0.4018796439919119), (4440, 0.42388100312708527), (4441, 0.474009929798849), (4442, 0.5012718607331705), (4443, 0.16024340301073653), (4444, 0.4149897899002133), (4445, 0.5626121612419017), (4446, 0.18834472285024934), (4447, 0.41468235433699124), (4448, 0.4321367555648797), (4449, 0.5289064416411853), (4450, 0.55035618006585), (4451, 0.4187326515496371), (4452, 0.39199511493598044), (4453, 0.41377942530383016), (4454, 0.4307499535749576), (4455, 0.14034709488106123), (4456, 0.33475784922725793), (4457, 0.28344772118785944), (4458, 0.09986366336380215), (4459, 0.5369208685026412), (4460, 0.37794295277417117), (4461, 0.22657451629210712), (4462, 0.5667213925232254), (4463, 0.25987596392668166), (4464, 0.29961804159921984), (4465, 0.5447851978967658), (4466, 0.5497340595013058), (4467, 0.5288134354965175), (4468, 0.4924378661816066), (4469, 0.15213279490461873), (4470, 0.3794639737013936), (4471, 0.5228409789563065), (4472, 0.5057373836418454), (4473, 0.38789358887466335), (4474, 0.5168562163339876), (4475, 0.24494971955876538), (4476, 0.4781545405563322), (4477, 0.4854348016704514), (4478, 0.4191375006478282), (4479, 0.542619855431284), (4480, 0.10540633647288151), (4481, 0.5195026331857462), (4482, 0.3781504131436021), (4483, 0.37415537889387124), (4484, 0.22043306033301138), (4485, 0.1672813452300743), (4486, 0.36610000117639085), (4487, 0.1153071265454133), (4488, 0.43763472047639557), (4489, 0.3150481933636401), (4490, 0.29089754729822836), (4491, 0.2826774805722031), (4492, 0.19926302348591582), (4493, 0.5779073886697671), (4494, 0.34368173757177345), (4495, 0.12551061059690058), (4496, 0.42638162048465844), (4497, 0.27194601361659854), (4498, 0.49309108353551634), (4499, 0.14562118111980976), (4500, 0.21145891019402852), (4501, 0.3371981452027605), (4502, 0.5425713502449134), (4503, 0.5211591443972149), (4504, 0.34347292446325933), (4505, 0.19741121994062638), (4506, 0.3926988105880648), (4507, 0.5626360000046173), (4508, 0.17154491583402037), (4509, 0.5371674303175534), (4510, 0.5044424872174411), (4511, 0.40056940255249923), (4512, 0.22681061263795058), (4513, 0.43835769530284874), (4514, 0.30696821937986574), (4515, 0.3100701467723904), (4516, 0.42237619251345987), (4517, 0.5153751948043003), (4518, 0.28043746974930844), (4519, 0.12236030361873547), (4520, 0.2475978387138363), (4521, 0.15867860418262603), (4522, 0.12795503417048196), (4523, 0.5606801195119446), (4524, 0.48227499461184187), (4525, 0.5314603085180506), (4526, 0.19553170758155847), (4527, 0.4360124568886933), (4528, 0.30858614070250406), (4529, 0.33121358047382715), (4530, 0.3751696215560894), (4531, 0.38929384061173855), (4532, 0.2348370004981432), (4533, 0.48725890255141857), (4534, 0.4577641240237361), (4535, 0.5471274614782123), (4536, 0.34933591975901634), (4537, 0.13449647541531304), (4538, 0.5307457858309909), (4539, 0.22101657731458219), (4540, 0.20476070938225877), (4541, 0.10109127824906501), (4542, 0.4924049267139383), (4543, 0.45744560583882404), (4544, 0.15574809069109954), (4545, 0.14021065837559002), (4546, 0.15198975213344484), (4547, 0.2103569090015296), (4548, 0.2470014417920163), (4549, 0.1525176231817141), (4550, 0.25529767647845103), (4551, 0.28091104517883675), (4552, 0.33311407124268816), (4553, 0.23439407210539354), (4554, 0.17662455608038774), (4555, 0.35153945395574027), (4556, 0.27665890766583956), (4557, 0.5105826533531553), (4558, 0.3728748644697247), (4559, 0.21572942709756218), (4560, 0.34064169555845925), (4561, 0.08804271502048527), (4562, 0.17269430524360735), (4563, 0.3952373691952531), (4564, 0.5333563071993072), (4565, 0.20493870150217813), (4566, 0.3971206216307889), (4567, 0.1419912734995653), (4568, 0.5571336845440108), (4569, 0.48390911798002706), (4570, 0.11027382448698163), (4571, 0.12685071179265983), (4572, 0.27667208639819424), (4573, 0.11914128962882917), (4574, 0.3908209579637147), (4575, 0.49340542584288327), (4576, 0.5440055336534985), (4577, 0.4916899532233552), (4578, 0.0956636632275795), (4579, 0.4921898464820692), (4580, 0.10198227787342865), (4581, 0.5748424578732894), (4582, 0.4077924554900306), (4583, 0.480876745993561), (4584, 0.20699941804169159), (4585, 0.2330006595763939), (4586, 0.29512076302380297), (4587, 0.23653646368240527), (4588, 0.5189133023480688), (4589, 0.2922207065367644), (4590, 0.5471400908366394), (4591, 0.5623564452919003), (4592, 0.13553971610108762), (4593, 0.1727003964771406), (4594, 0.2484865671032489), (4595, 0.49059369396640895), (4596, 0.20043725211981675), (4597, 0.4404587749977696), (4598, 0.3919689870560469), (4599, 0.356447228183333), (4600, 0.5160046708293259), (4601, 0.25678016600353626), (4602, 0.46160156649289164), (4603, 0.15732759331747), (4604, 0.27185660956343805), (4605, 0.20208905326815582), (4606, 0.4635744570490202), (4607, 0.10193033540843931), (4608, 0.32811776338313653), (4609, 0.3183546840917675), (4610, 0.15562695684713657), (4611, 0.4463889570714341), (4612, 0.3880918295637762), (4613, 0.1999696659747165), (4614, 0.35267664024024514), (4615, 0.46254028640217454), (4616, 0.28245962514278733), (4617, 0.2702634024782651), (4618, 0.09324628807597421), (4619, 0.09748151095261363), (4620, 0.5300642520740005), (4621, 0.4695675765414554), (4622, 0.14296387749049785), (4623, 0.5023651167105663), (4624, 0.5601048935270274), (4625, 0.5080526969190231), (4626, 0.3357708349054777), (4627, 0.5306702621074755), (4628, 0.2628116422355043), (4629, 0.5425504012351932), (4630, 0.5061873563044009), (4631, 0.18136073502912972), (4632, 0.21268880041086063), (4633, 0.5572153124921645), (4634, 0.18997801561508695), (4635, 0.16146053553972708), (4636, 0.2763806605568578), (4637, 0.1837432846667684), (4638, 0.3591992589216346), (4639, 0.49597319953544056), (4640, 0.5241636571997258), (4641, 0.5439399611862655), (4642, 0.21835213673041315), (4643, 0.4640789555086881), (4644, 0.09546484406958236), (4645, 0.23256314932581496), (4646, 0.09650792958056888), (4647, 0.4089255519437249), (4648, 0.3273183356659169), (4649, 0.4976337702606762), (4650, 0.37621428008526997), (4651, 0.17619238666520387), (4652, 0.22056737035382956), (4653, 0.5640309075494648), (4654, 0.000540905189295448), (4655, 0.3849547023424677), (4656, 0.4263131832221514), (4657, 0.17726196469650837), (4658, 0.46638274092771703), (4659, 0.33249149811228873), (4660, 0.19090485037343594), (4661, 0.4645537351779689), (4662, 0.45358226350674324), (4663, 0.4936664342249608), (4664, 0.475089134136888), (4665, 0.5199906083802485), (4666, 0.4258880847479334), (4667, 0.35045989656964693), (4668, 0.33891105770279695), (4669, 0.49900228850533246), (4670, 0.3958555491956713), (4671, 0.13099562460611447), (4672, 0.26290796432436414), (4673, 0.498296664416538), (4674, 0.48958680772814994), (4675, 0.1865940901138807), (4676, 0.23320562133016948), (4677, 0.5128658314865348), (4678, 0.5204898860006363), (4679, 0.4772644285660492), (4680, 0.42128134664347133), (4681, 0.09095816003187679), (4682, 0.37740425664192595), (4683, 0.15061345715938895), (4684, 0.40340016837705295), (4685, 0.37147368515314083), (4686, 0.2332271110582294), (4687, 0.37407639504689116), (4688, 0.4147832868650279), (4689, 0.14703181245313535), (4690, 0.3697466835532937), (4691, 0.14432133245680315), (4692, 0.1578606357764594), (4693, 0.2237129359403773), (4694, 0.2813839753740062), (4695, 0.3787150095749965), (4696, 0.2863080225465778), (4697, 0.4472006275658963), (4698, 0.10940300438310432), (4699, 0.24726777596396096), (4700, 0.33961249810143657), (4701, 0.19012634202735687), (4702, 0.21295659630787173), (4703, 0.11122524133101919), (4704, 0.4775081156366099), (4705, 0.1593573677430867), (4706, 0.1733260655255714), (4707, 0.3882717755585657), (4708, 0.1341689363076102), (4709, 0.20766266013828208), (4710, 0.15616860878429747), (4711, 0.0005286206471061087), (4712, 0.14669285134186197), (4713, 0.18802363575979378), (4714, 0.1648191621376243), (4715, 0.13523988030442147), (4716, 0.35691179097425985), (4717, 0.12497040011762188), (4718, 0.40541557130604583), (4719, 0.001932738182393117), (4720, 0.2154112391291818), (4721, 0.1628764152357597), (4722, 0.21623504396176457), (4723, 0.33805708568447623), (4724, 0.16868104043800916), (4725, 0.2853677917852483), (4726, 0.1598248820625311), (4727, 0.192952893141626), (4728, 0.18522323203717347), (4729, 0.20517504472829018), (4730, 0.3310550940316908), (4731, 0.3384259303857732), (4732, 0.2910682542646033), (4733, 0.2694936579236156), (4734, 0.1856406972765921), (4735, 0.44146387953341015), (4736, 0.15976719853253485), (4737, 0.18561728077281894), (4738, 0.1914598964137621), (4739, 0.005834365822520094), (4740, 0.257419054992243), (4741, 0.10119182780425764), (4742, 0.16422166333570917), (4743, 0.22889385510587712), (4744, 0.1888697509240646), (4745, 0.33058692841549975), (4746, 0.23532036235127365), (4747, 0.4220415071247817), (4748, 0.21850058503663966), (4749, 0.1585263706061574), (4750, 0.14312221572875838), (4751, 0.1333064875340774), (4752, 0.1998852092907254), (4753, 0.09629626054388725), (4754, 0.3765817845498279), (4755, 0.08623006123384923), (4756, 0.16725673375750275), (4757, 0.14546481347409895), (4758, 0.00054063717573857), (4759, 0.0958669022802208)]\n"
          ]
        }
      ]
    },
    {
      "cell_type": "code",
      "source": [
        "len(Recommendation_Score)"
      ],
      "metadata": {
        "id": "KPvYZ7k-2ozC",
        "outputId": "8b54d6fd-9683-4fa7-83b2-adac56d6df84",
        "colab": {
          "base_uri": "https://localhost:8080/"
        }
      },
      "execution_count": null,
      "outputs": [
        {
          "output_type": "execute_result",
          "data": {
            "text/plain": [
              "4760"
            ]
          },
          "metadata": {},
          "execution_count": 36
        }
      ]
    },
    {
      "cell_type": "code",
      "source": [
        "#sorting the movies based on their similarity score\n",
        "Sorted_similar_movies = sorted(Recommendation_Score, key = lambda x:x[1], reverse = True)\n",
        "print (Sorted_similar_movies)"
      ],
      "metadata": {
        "colab": {
          "base_uri": "https://localhost:8080/"
        },
        "id": "_Gxe_oA9ahZ7",
        "outputId": "958b59bc-0808-49ff-b32c-7d0b4926e8ab"
      },
      "execution_count": null,
      "outputs": [
        {
          "output_type": "stream",
          "name": "stdout",
          "text": [
            "[(2692, 0.9999999999999998), (4091, 0.6069240465422377), (763, 0.5982761843080995), (3467, 0.5969241570318724), (3450, 0.5903918391571542), (1775, 0.5892316226030819), (27, 0.5885256061334734), (1173, 0.5885077891136057), (307, 0.5872818383895747), (3982, 0.5868014628974798), (631, 0.586144595816414), (1262, 0.5852028954253515), (143, 0.5851336026482474), (4046, 0.5837808191075986), (84, 0.5831667256908623), (10, 0.5821826082089502), (4077, 0.5818773546349415), (1532, 0.5812608324041838), (247, 0.5810310870592625), (502, 0.5804328456077456), (731, 0.5803573638659038), (3992, 0.5799773061486867), (264, 0.5798575332616859), (299, 0.579827668212023), (1357, 0.5796453883257416), (386, 0.5791561442946729), (297, 0.5786346516698732), (189, 0.5783914913843129), (369, 0.5783068500108266), (70, 0.5782740688101268), (880, 0.5782708718892013), (614, 0.5781939167842145), (4294, 0.5781527605328269), (4493, 0.5779073886697671), (135, 0.5778247008468306), (280, 0.5770765709355336), (1118, 0.5769734627809212), (1129, 0.5768457546853607), (3697, 0.5768311467755378), (283, 0.5768280798017162), (1012, 0.5766539897019133), (298, 0.5765338405956614), (1484, 0.5760984192764526), (123, 0.5760746905563734), (2641, 0.5758633785062988), (3670, 0.5756291067089503), (3131, 0.5755139102294362), (2524, 0.5755093439881773), (2181, 0.5754276395061435), (909, 0.5751040188704977), (4581, 0.5748424578732894), (583, 0.574536686619474), (1455, 0.5739873201280954), (2294, 0.5735265962087881), (3130, 0.5735012145437438), (231, 0.5733797235856903), (4185, 0.5728671015559023), (960, 0.5727100759843521), (4289, 0.572506561273075), (661, 0.5724003453443437), (425, 0.572388392613113), (1164, 0.5721245833032151), (727, 0.572118381272323), (6, 0.5720162330898722), (980, 0.571882871598647), (3427, 0.5717158590617479), (4130, 0.5716167961878892), (170, 0.5715732706443037), (1511, 0.5713546388092784), (1728, 0.5712372279934754), (728, 0.5711462998527223), (656, 0.5709247883246186), (41, 0.5709188121492078), (2045, 0.570899425028302), (230, 0.5708450970777448), (1152, 0.5707766993492419), (729, 0.5706790028287868), (3126, 0.5705836977622137), (286, 0.5705169705089109), (411, 0.5704553245575938), (3169, 0.5701207529691094), (4152, 0.5697492494890918), (302, 0.5696701173743294), (753, 0.5696700357328305), (9, 0.5695309324548467), (650, 0.5694768824150791), (651, 0.5694313101196465), (906, 0.5692105316657535), (3566, 0.5689394403542234), (2016, 0.5689067397263684), (4055, 0.5687153129401833), (3, 0.5686323673743893), (829, 0.568372372797742), (1122, 0.5682973592401922), (994, 0.5682036096268472), (2960, 0.5677798058717243), (3310, 0.5677069508939819), (3124, 0.5675112138681433), (1335, 0.5674792049466247), (3767, 0.5673879041259194), (196, 0.5668631701496273), (4, 0.5668422097814859), (4462, 0.5667213925232254), (3532, 0.5666422559411889), (3507, 0.5665924223366585), (444, 0.566420350380059), (263, 0.5663256905516472), (1325, 0.5660930500674289), (4076, 0.5660820207840576), (83, 0.5658843791940986), (53, 0.565487657482595), (39, 0.5653094277336979), (1922, 0.5651726686479043), (1611, 0.5651271425581728), (1388, 0.5650958563610359), (4406, 0.5650405574310396), (3451, 0.5647368584182214), (730, 0.5646927408405742), (512, 0.5646151689594784), (3361, 0.5644354188585011), (3997, 0.5644194641669297), (4181, 0.5644128304412511), (4100, 0.5641848873465762), (4153, 0.5641267561782672), (1773, 0.5641035234088053), (229, 0.5640344577875209), (4653, 0.5640309075494648), (235, 0.5640239839760985), (3979, 0.5637275846444874), (837, 0.5635986140775088), (1928, 0.5635068318730785), (1716, 0.5632422770398324), (1391, 0.5632252853610306), (1354, 0.563044817549014), (1073, 0.5628001666172191), (1007, 0.5627919846820808), (744, 0.5627805724855768), (1393, 0.5627484477209247), (141, 0.5627210912183339), (4507, 0.5626360000046173), (625, 0.5626339911867668), (4445, 0.5626121612419017), (1279, 0.5625363609810025), (1267, 0.5624830416272282), (4591, 0.5623564452919003), (849, 0.5621617595412151), (136, 0.562124167656787), (839, 0.562117276006832), (938, 0.5620473821503335), (4272, 0.5619375106998036), (3167, 0.561882035510416), (1282, 0.561867060995087), (1955, 0.5618334806314695), (1998, 0.561692664440116), (1512, 0.5615381146477262), (588, 0.5613889876589981), (1855, 0.5611485225902653), (2231, 0.560952203892828), (1289, 0.5608039459187484), (4523, 0.5606801195119446), (868, 0.5606391936992314), (954, 0.5605887572755988), (3907, 0.5602389374677454), (893, 0.5602027898574279), (244, 0.5601944671946588), (1729, 0.5601737322694395), (4624, 0.5601048935270274), (710, 0.5600085077189327), (312, 0.5599358329678182), (2716, 0.5596702439315352), (675, 0.5594283201659179), (387, 0.5592448922817731), (999, 0.5591908230823992), (1226, 0.5589686290875215), (4299, 0.5588685034321978), (3705, 0.5588428231925889), (181, 0.558699082634933), (712, 0.5586152516046125), (253, 0.55849355984434), (3914, 0.5584900283412962), (762, 0.5584812689454991), (2112, 0.5583915241313203), (4345, 0.5583238215751019), (1643, 0.5583174441576814), (72, 0.5581630900981133), (3862, 0.5581357473154556), (1153, 0.558055268112876), (594, 0.5579109046584881), (152, 0.557844145490228), (1936, 0.557664469609385), (540, 0.5575955096796428), (50, 0.557590778729387), (4238, 0.5575124507717693), (3911, 0.5574771766778204), (1413, 0.5573555785223173), (1057, 0.5573152706293751), (820, 0.5572648084802845), (496, 0.5572629944618395), (4211, 0.557244563940965), (1181, 0.5572304663287824), (1380, 0.5572186244585277), (4633, 0.5572153124921645), (3445, 0.5571763219047909), (4568, 0.5571336845440108), (3344, 0.5571114100024694), (68, 0.5570000361721933), (3368, 0.5568776677508874), (3692, 0.5567418456709156), (1107, 0.5564938490597646), (481, 0.5564920343087958), (3782, 0.5564585793075659), (1322, 0.5564122391156788), (758, 0.5561205405297355), (1556, 0.5560874725107194), (3623, 0.556042776495526), (250, 0.5560101995681315), (756, 0.5557649748528466), (795, 0.5556891736920597), (3718, 0.555600089577871), (2374, 0.555588409752987), (171, 0.5555336943979273), (268, 0.5555270672804278), (1940, 0.5554726754660012), (278, 0.5554374855854053), (3360, 0.5552405405028313), (1284, 0.5551624490135737), (492, 0.5550900491034421), (360, 0.5549790147538444), (4336, 0.5548787767477577), (1876, 0.5545382139208688), (686, 0.5543705561529857), (2084, 0.5543047993575929), (329, 0.5542306606125132), (1493, 0.5541850136136257), (424, 0.5540183023090289), (3873, 0.5538191867348249), (1381, 0.5536729200059406), (1770, 0.5533550978444541), (875, 0.5533289358172276), (1121, 0.5531489113030399), (1788, 0.5530221975284637), (1498, 0.5529994090970206), (1870, 0.552976498209577), (3840, 0.5528852204441512), (1324, 0.5526116604499237), (418, 0.5523761950185804), (20, 0.5521729873991892), (1006, 0.551872043373148), (572, 0.5517473841166135), (2691, 0.5515729167584768), (1271, 0.5515548180706755), (615, 0.5514822031783805), (2622, 0.5510862724051795), (1483, 0.5510377140352601), (771, 0.5507998552402408), (678, 0.5507728100566606), (1443, 0.5506943528709443), (1852, 0.5505195627688909), (676, 0.5504103718572376), (292, 0.5503981197530402), (4450, 0.55035618006585), (1069, 0.5503054945637855), (952, 0.550250938143493), (3492, 0.5502458232993378), (1927, 0.5501131571833218), (26, 0.5500791220252185), (750, 0.5499503835163493), (1141, 0.5498215655094277), (4466, 0.5497340595013058), (679, 0.5496772776938368), (992, 0.5496581472881016), (997, 0.5495696102674591), (2711, 0.5495324592915563), (3783, 0.5494066741120109), (706, 0.5493536446137987), (371, 0.5493250469346491), (1550, 0.5492070772823209), (76, 0.5491481586598396), (4168, 0.5486163977864424), (1404, 0.5485560878537105), (1368, 0.5483116431887105), (3810, 0.5481596168692723), (151, 0.547731838142671), (857, 0.5476022705890145), (3002, 0.5475679218308622), (3642, 0.547331494384322), (233, 0.5472638579419541), (4590, 0.5471400908366394), (4535, 0.5471274614782123), (1457, 0.5470715622828308), (124, 0.5469951505690828), (2184, 0.5466911895181509), (1229, 0.5466437017389232), (4005, 0.5463648857787953), (1424, 0.5462014859781193), (2232, 0.5461651599179017), (974, 0.5460974728556875), (3689, 0.546018027073947), (1901, 0.5456443702522409), (3288, 0.545396714366803), (150, 0.5453787365657825), (4264, 0.54534005862717), (126, 0.545315829136675), (2213, 0.5452840158062873), (3379, 0.5451837399007812), (4432, 0.5451627794690509), (2850, 0.5449752125136242), (4378, 0.5447997916078806), (4465, 0.5447851978967658), (2031, 0.5446482659901242), (811, 0.5445864426948333), (1067, 0.5445211753367991), (664, 0.5444069927549575), (833, 0.5443664300017412), (1910, 0.5443422858165906), (2518, 0.5442769728886258), (1154, 0.5442143200092067), (4576, 0.5440055336534985), (4081, 0.544001349093841), (4641, 0.5439399611862655), (2351, 0.5439270267462332), (523, 0.5438570541027884), (1146, 0.5438161617056249), (88, 0.5435478027357974), (529, 0.5435075026844483), (4387, 0.5431351859244672), (514, 0.5431007721037863), (1608, 0.5429990107446485), (2445, 0.542765760977594), (4479, 0.542619855431284), (4502, 0.5425713502449134), (4629, 0.5425504012351932), (470, 0.5424418252051062), (1315, 0.5423987783381027), (671, 0.542370391154435), (4314, 0.5422669987576854), (544, 0.5422533943072585), (3612, 0.5421926360332965), (4041, 0.5421227950319524), (2482, 0.5421203504428477), (2429, 0.5420781680557347), (3525, 0.5420643836162827), (517, 0.5420594526301684), (225, 0.5416724297173161), (4256, 0.5416291410196842), (1584, 0.5414140191063007), (536, 0.5413678759113876), (516, 0.5413651853139455), (3970, 0.5412013052240304), (4388, 0.5410549505780149), (860, 0.5410483039420885), (700, 0.5408787856974349), (4283, 0.5406509645857746), (23, 0.5406095063197504), (4103, 0.5405943312992738), (341, 0.5403496126392812), (2088, 0.540347708659519), (4227, 0.5403377746340254), (2480, 0.5403249521266018), (308, 0.5403193942734343), (3834, 0.5402489203893737), (1068, 0.5401892213908677), (724, 0.54003759086381), (1135, 0.5399518051844122), (3047, 0.5399349903244672), (2615, 0.5399069061122117), (4321, 0.5398408395283365), (4324, 0.5397901184285593), (24, 0.5397527671124279), (628, 0.5394322206829846), (902, 0.53937729537572), (4148, 0.5392802637265753), (4070, 0.5391184967022415), (92, 0.5390214109729304), (4374, 0.5389150405197279), (746, 0.5386900854005199), (4183, 0.5386234700849544), (810, 0.5385527025853724), (1272, 0.5384543521858759), (125, 0.5383388643537503), (332, 0.5383351287068088), (74, 0.5381750910104476), (1190, 0.5377105231306571), (2801, 0.5376930456099124), (965, 0.5376619526672125), (1140, 0.5375941127381019), (128, 0.5375893648204283), (3429, 0.5373884172411634), (4509, 0.5371674303175534), (621, 0.5370645314854458), (867, 0.5369979682580956), (4459, 0.5369208685026412), (3066, 0.5368693066300487), (0, 0.536868148725694), (3784, 0.5367949017849252), (1378, 0.536526200319726), (1398, 0.536514776824481), (1904, 0.5364584287702325), (2198, 0.5357253952778139), (1239, 0.5355325564136866), (3660, 0.5352971542870042), (1804, 0.5350522262755072), (1502, 0.5349893438364778), (4241, 0.534845056741588), (1342, 0.5345590820919479), (3453, 0.534428864153904), (242, 0.5344045150652584), (2919, 0.5343582546812647), (4119, 0.5343024521222972), (3903, 0.5342012595817701), (519, 0.534102388257471), (1899, 0.5340686591964927), (342, 0.5339438001409722), (2803, 0.5339349984588484), (1002, 0.5339322521995051), (1815, 0.533923735933222), (3708, 0.5339017578906933), (1167, 0.5338989912570613), (3275, 0.5334900965759478), (4564, 0.5333563071993072), (1233, 0.532974561082816), (4281, 0.532781505241334), (815, 0.5327559079242615), (4428, 0.5325651933447495), (3787, 0.5325375569974901), (1009, 0.5324917501870976), (384, 0.5323869774563768), (2371, 0.532368081946895), (850, 0.5323231447129122), (2535, 0.5322178556997512), (714, 0.5321802339017818), (4354, 0.5321484119326515), (1637, 0.5317339938713234), (4525, 0.5314603085180506), (451, 0.5310796488894906), (1897, 0.5307761443061111), (4538, 0.5307457858309909), (3937, 0.5307399123960965), (1119, 0.5307327628323275), (4627, 0.5306702621074755), (3968, 0.5306443172619745), (215, 0.5305206228425486), (4273, 0.5302292168792656), (4620, 0.5300642520740005), (2040, 0.530029627848517), (673, 0.529960804926969), (4218, 0.5298146699661884), (3398, 0.5297367976820463), (1093, 0.5296169066914546), (4279, 0.5296097586897821), (3681, 0.5295865618192764), (4381, 0.5290468190704682), (4449, 0.5289064416411853), (4467, 0.5288134354965175), (443, 0.528798260750783), (2017, 0.5284279255561567), (894, 0.5283525754723939), (4216, 0.5283215398399944), (3342, 0.5281900228851728), (1641, 0.5281010608337247), (3866, 0.5279748383082034), (447, 0.5278569059726705), (3335, 0.5276861095978672), (1097, 0.5274836505902136), (1412, 0.5274743535622997), (2896, 0.5273598179670745), (3416, 0.5271493328631641), (3657, 0.5268438065615453), (988, 0.526689101201917), (2826, 0.5266440564236939), (2541, 0.5266371482774461), (193, 0.5265324173425873), (4085, 0.5265074357857709), (1105, 0.526490235411894), (343, 0.5263559498926248), (2578, 0.5261789803231105), (1799, 0.5261485140816383), (2799, 0.5257368191191758), (3691, 0.5256486129873983), (4310, 0.5254852118143446), (2421, 0.5253132906749787), (46, 0.5252583015370188), (537, 0.5245159998478666), (3801, 0.5244832525464599), (1063, 0.524390943725387), (3508, 0.5243895477368224), (346, 0.5243420250086117), (4366, 0.5242904372560799), (1128, 0.5242688270336471), (3100, 0.5242553040993456), (4640, 0.5241636571997258), (81, 0.5239881648556607), (4154, 0.5238978930515507), (3231, 0.5238603812213768), (4300, 0.5236651218095707), (413, 0.5235890560596584), (4257, 0.5234839712010215), (2032, 0.523435523640133), (164, 0.5233542349537867), (2548, 0.5233365085766313), (4259, 0.522963069029591), (4471, 0.5228409789563065), (4096, 0.5226825671613632), (276, 0.5224728898671142), (3743, 0.5224458572533069), (3698, 0.5220059784105137), (1283, 0.5219524500084927), (4074, 0.5216774197525591), (3484, 0.5213858639122726), (271, 0.5212809124284934), (4503, 0.5211591443972149), (463, 0.5211184706759133), (3961, 0.5210484965296031), (255, 0.5208394802616043), (4344, 0.520821505463761), (472, 0.5205630923101766), (1433, 0.5205079131757291), (4678, 0.5204898860006363), (4320, 0.5204104033890214), (4665, 0.5199906083802485), (3592, 0.5198332276667635), (1179, 0.5197992694174721), (3798, 0.5196647906697235), (258, 0.519581355009696), (2903, 0.51951029072835), (4481, 0.5195026331857462), (4095, 0.5192962567363208), (4588, 0.5189133023480688), (116, 0.5187911556398502), (1740, 0.5186327110546274), (259, 0.5185673468964239), (2682, 0.5184712522912588), (1459, 0.5182982169549508), (1569, 0.5181719827048218), (633, 0.5179864774469993), (1374, 0.5177228352274273), (85, 0.5176796823574419), (137, 0.517444677802243), (47, 0.5174138718943265), (1091, 0.5172076110003426), (4474, 0.5168562163339876), (2067, 0.5167854800151789), (4373, 0.5167238128039237), (3490, 0.5167159187318608), (1377, 0.5166967173038597), (1667, 0.516633369853389), (971, 0.5163523895608466), (2329, 0.5161957944835629), (361, 0.5161163289455662), (4600, 0.5160046708293259), (4224, 0.5159643752943474), (1471, 0.5158151511943276), (1207, 0.5156067170328184), (3478, 0.515490087302168), (4399, 0.51542852312441), (4517, 0.5153751948043003), (3233, 0.5153369378103816), (1280, 0.5153108510413877), (4242, 0.515052924418836), (207, 0.514902571754469), (1273, 0.5148965529043942), (191, 0.5147027740359672), (1101, 0.5146449616248367), (657, 0.5146000467450941), (1313, 0.5145907495826952), (4401, 0.5145272601701797), (3957, 0.5144697359664504), (4189, 0.5144453391984382), (245, 0.5141134712821445), (1189, 0.5140045228164467), (2197, 0.5138538481257298), (362, 0.5137162401548152), (334, 0.5136788462098643), (1218, 0.5135528129087724), (1714, 0.5132871907829273), (60, 0.5132643323813492), (1460, 0.5131131922135191), (1961, 0.5130031171176422), (4677, 0.5128658314865348), (747, 0.5127612297959752), (1076, 0.5125233546753276), (4385, 0.512502471321462), (1825, 0.5121562963016226), (3230, 0.5120568135821519), (4268, 0.5116919431355653), (1111, 0.5116139680474731), (3367, 0.5115374478465984), (636, 0.5115062162114946), (102, 0.511386588011534), (111, 0.5113535250276797), (2023, 0.511305013653556), (3604, 0.5112904293008448), (599, 0.5110597301741355), (2169, 0.51073666606683), (4557, 0.5105826533531553), (4364, 0.5104909063744695), (1402, 0.5104493630989805), (805, 0.5103366711550075), (4136, 0.5102828167412543), (1148, 0.5102360335055796), (1796, 0.5100940060705268), (2078, 0.5098793208437684), (3869, 0.5095748304011047), (695, 0.5093678288227148), (107, 0.5093430199942339), (3587, 0.5092772298393629), (619, 0.5091997859195354), (4383, 0.5091754351801123), (4332, 0.509127188765938), (2, 0.5090572688743586), (3696, 0.5088804518384902), (402, 0.5087524747651032), (45, 0.508615226863064), (3462, 0.5085622136238759), (347, 0.5084395247597087), (4106, 0.508297052546362), (1234, 0.5082785610323317), (3180, 0.5082750780766818), (4053, 0.5082019352071907), (858, 0.5081673974757912), (4625, 0.5080526969190231), (2918, 0.5079882763227641), (467, 0.5077066256375163), (513, 0.5076848685531602), (203, 0.5076468623119819), (220, 0.5076185881773204), (3618, 0.5075566703902786), (3212, 0.507153174169962), (3435, 0.507126596317342), (1399, 0.5071102058428893), (3569, 0.5071076320379251), (4312, 0.5070900190937859), (1969, 0.5070547245196599), (3611, 0.5069722565463157), (4090, 0.5065635828592514), (4105, 0.5065455631977716), (436, 0.5064992387165143), (1758, 0.5064691868045081), (1662, 0.506255321615249), (518, 0.5062344303889305), (689, 0.5062005249983814), (4630, 0.5061873563044009), (3463, 0.5060192591660259), (4472, 0.5057373836418454), (2052, 0.5053694335976703), (1560, 0.505268307097262), (1165, 0.5048349318943264), (4322, 0.5048228421284284), (4414, 0.5045476775334307), (4510, 0.5044424872174411), (35, 0.5044132528933228), (3381, 0.5043031338067848), (932, 0.5042672941745486), (987, 0.5042171850479577), (4365, 0.5040365378490209), (1696, 0.5038555597231513), (3436, 0.5038277446886136), (206, 0.5036503533806977), (2132, 0.5036202134370562), (1638, 0.5036170631162096), (410, 0.5034530507686671), (1246, 0.5033650867167309), (4007, 0.5028179923470093), (1810, 0.5026395979840673), (419, 0.5023915133120286), (4623, 0.5023651167105663), (3454, 0.5021300035716069), (3470, 0.5020956568188765), (1473, 0.5019991088318919), (3496, 0.5018818023750754), (2984, 0.5018285359159349), (2279, 0.5017919579750425), (3944, 0.5015879259010058), (3409, 0.501313748680913), (530, 0.5012758220981628), (4442, 0.5012718607331705), (2070, 0.5012041858699823), (4006, 0.5011525570926101), (2337, 0.501101015387604), (3160, 0.5009743389517003), (3043, 0.5008230064731154), (37, 0.5007668299522574), (190, 0.5007103563123622), (452, 0.5006996970745231), (935, 0.5006172041889645), (2089, 0.500613643824612), (3709, 0.5005190534976416), (2961, 0.5004165215574414), (3058, 0.5001917842967023), (3447, 0.5001193159434051), (622, 0.4999428879648619), (4379, 0.4996075737215035), (1823, 0.4992121260362721), (4044, 0.49912081786198936), (2316, 0.4990782657595202), (1962, 0.4990625457608978), (4669, 0.49900228850533246), (1710, 0.4987041954106617), (1056, 0.4986990092967301), (1041, 0.49863974624565877), (2603, 0.49863350737330364), (318, 0.4984516312927921), (1050, 0.4983618846349081), (2980, 0.49831521635090376), (4673, 0.498296664416538), (304, 0.49827804651103086), (2555, 0.4981879411654197), (3959, 0.49810607829259207), (323, 0.4980066756607368), (3658, 0.49796417578297625), (1177, 0.49793473227477936), (3338, 0.49791183819734847), (1769, 0.49782135102220787), (3797, 0.4976642435211309), (4649, 0.4976337702606762), (3742, 0.4976336762634972), (4236, 0.49753907393237745), (3469, 0.4975277774267734), (13, 0.497282889744986), (778, 0.4971594046349537), (3771, 0.49705848379272705), (3164, 0.49664721057980515), (3720, 0.4964854764725289), (4389, 0.49641994716059906), (769, 0.4962247470305508), (1973, 0.49621989160226526), (4639, 0.49597319953544056), (1860, 0.49596313208202486), (3886, 0.49537170502548794), (3290, 0.49528411656292654), (4075, 0.4952197401130225), (2382, 0.4950683107381601), (1464, 0.49488908052283864), (448, 0.49485848033557517), (1191, 0.4947686366395438), (3637, 0.4946968270507291), (855, 0.49467822356039287), (4275, 0.4946505725040632), (2920, 0.4945996371630107), (234, 0.4945086998431761), (817, 0.494504403718245), (4400, 0.49443932011123987), (3605, 0.49442748088593247), (1215, 0.49428351655058167), (2661, 0.4942668032846786), (2643, 0.4941674291021856), (344, 0.49410555413106344), (1296, 0.49397416675411104), (2784, 0.49387905865299037), (4410, 0.4938608408898662), (1997, 0.49375459947630024), (4663, 0.4936664342249608), (3633, 0.493544435697293), (4575, 0.49340542584288327), (109, 0.4933433623502783), (43, 0.49332952897099985), (2792, 0.49320321635215414), (4498, 0.49309108353551634), (1505, 0.492963615503443), (379, 0.4926924123687522), (4468, 0.4924378661816066), (4542, 0.4924049267139383), (154, 0.4921980963703395), (4579, 0.4921898464820692), (4577, 0.4916899532233552), (4184, 0.4916514202389335), (830, 0.4915425654756158), (3260, 0.4914639240007095), (4347, 0.49140871821230614), (1355, 0.4913411902635244), (274, 0.4913325090839228), (4282, 0.49125635942061807), (333, 0.49114132122588966), (2105, 0.4910974439338094), (1674, 0.491074516087165), (1791, 0.49079126126325023), (4116, 0.490717910802011), (4595, 0.49059369396640895), (1552, 0.49041550113092514), (3795, 0.4901461365246958), (4360, 0.4899582397027205), (3879, 0.48985746111438794), (3739, 0.4896626066965903), (3572, 0.4896110401124386), (4674, 0.48958680772814994), (48, 0.48958220072365444), (3974, 0.48932924870036054), (110, 0.48921908000898334), (1265, 0.48921694586048337), (1270, 0.4891183236997984), (89, 0.4890830171351033), (4306, 0.4890419785041441), (3225, 0.48889057663749125), (232, 0.4888342131472017), (1699, 0.48878635247256613), (623, 0.48871691214914864), (392, 0.48842204627599706), (1982, 0.488399885336031), (3505, 0.4881371924922947), (2011, 0.4879789889643732), (1106, 0.48792348726198376), (2271, 0.4878985140898849), (1334, 0.4878928009507699), (391, 0.4877716857200361), (5, 0.4875653885622384), (423, 0.48744145493535196), (887, 0.48736322582415037), (1911, 0.4872895410904205), (591, 0.4872835980772038), (4533, 0.48725890255141857), (617, 0.4868967505247592), (4193, 0.48689569610662814), (1737, 0.486887924121806), (1044, 0.4867733586517923), (169, 0.4863132694314103), (3493, 0.4862352074375196), (3565, 0.4862179242226764), (267, 0.4861493518853752), (556, 0.48613400535150986), (3134, 0.48612068669205244), (2808, 0.4861056025546392), (626, 0.4859739853439741), (365, 0.48560484346617694), (639, 0.4854576269388337), (4477, 0.4854348016704514), (1346, 0.4853482849051725), (1028, 0.48533607764866904), (1160, 0.4853260613751253), (2235, 0.4852260642658171), (185, 0.48483338229841794), (2540, 0.484736825375673), (590, 0.48461882691908237), (1765, 0.48461466184234636), (4123, 0.4845265618961072), (3972, 0.4844624520664136), (3550, 0.48437579560083777), (1347, 0.48429200784642595), (1831, 0.48414604831171276), (2617, 0.484112955473869), (4375, 0.4839327971352393), (4033, 0.4839129590519083), (4569, 0.48390911798002706), (1607, 0.48381028542267923), (946, 0.4837563763984379), (3846, 0.4834152114250599), (1124, 0.4833343650175129), (2399, 0.48332029007241706), (3662, 0.4832649172522422), (842, 0.4832576947571741), (1693, 0.483242419491116), (1896, 0.48309943167397507), (145, 0.4830398447672222), (500, 0.48299745884860834), (328, 0.4829822327489171), (1846, 0.48296721585759683), (3452, 0.48294559085496663), (3977, 0.4829404093760979), (4159, 0.48265215140445267), (4430, 0.4825491067193108), (12, 0.4822771809886536), (4524, 0.48227499461184187), (4305, 0.4821263762059315), (4058, 0.4820942445125312), (175, 0.481770067589898), (592, 0.4816415853539293), (1806, 0.4816375347184149), (586, 0.4814517694328815), (611, 0.48144672818468914), (187, 0.48143965988750026), (2270, 0.4814277984741893), (3549, 0.4809201691557103), (4583, 0.480876745993561), (51, 0.4808610592696145), (1771, 0.48082977150208206), (705, 0.4806772114405746), (3649, 0.48063860456610297), (2819, 0.4804028246289704), (900, 0.4803547000817633), (1080, 0.4802487064398338), (1779, 0.48014938570910104), (2039, 0.4800235980236415), (476, 0.47987521855716), (3593, 0.47960236074023427), (955, 0.47941532270391857), (1358, 0.4793451992917615), (3077, 0.47925956503048606), (4049, 0.47924517694791463), (1669, 0.4789857957839811), (663, 0.47894422359945305), (1609, 0.4788721265011487), (558, 0.4786478335951346), (4476, 0.4781545405563322), (1003, 0.47797049663293817), (130, 0.4777913705631414), (4704, 0.4775081156366099), (1251, 0.47742971795200645), (1531, 0.47741858181444036), (439, 0.4773706812082972), (4679, 0.4772644285660492), (2390, 0.4772333704387341), (3867, 0.4770771188550112), (4261, 0.47698296333070694), (2249, 0.47696539244085145), (1287, 0.4768592564809653), (499, 0.4768501372822947), (246, 0.47684116159950307), (3777, 0.4767944846767087), (2405, 0.4767934052503968), (4187, 0.47638896677376014), (4142, 0.4763129329596307), (620, 0.47623418944790274), (816, 0.47623355971063375), (765, 0.47606123541269085), (1180, 0.4759713052924464), (61, 0.47582728455922024), (2686, 0.4756891639120246), (828, 0.47567107383848994), (3114, 0.47555963990073546), (4244, 0.47545064855912283), (3519, 0.47542798415988197), (1772, 0.47540666545879945), (4664, 0.475089134136888), (2027, 0.475010969472926), (4248, 0.4749402424477179), (354, 0.4749393280021503), (213, 0.4747877150563391), (1445, 0.4746680582696967), (493, 0.4744481756423093), (494, 0.47430881438987715), (3192, 0.4743023004640195), (1874, 0.4742366549421045), (303, 0.4741769242798079), (119, 0.47417254720499075), (1456, 0.4741218180433912), (2079, 0.4740372215985887), (4441, 0.474009929798849), (2153, 0.4739231780109187), (4329, 0.4737533894065481), (698, 0.4737336324778608), (183, 0.47364833697316894), (1328, 0.4735315189045498), (1375, 0.47339010101545115), (446, 0.473353251533286), (2245, 0.47322420313243224), (2830, 0.4731459541439444), (300, 0.47309098725645093), (3786, 0.47283289300112696), (2069, 0.4725459168930416), (3122, 0.47251586615492275), (885, 0.4723946461515927), (4309, 0.47219802782542464), (2284, 0.4721413013652868), (986, 0.47213198854646127), (1665, 0.47199241276919085), (3370, 0.47194078557140673), (4368, 0.4718021413735483), (1060, 0.4717778496154061), (1587, 0.4716510479187273), (2629, 0.4716159440962837), (1974, 0.47155407301281577), (4162, 0.4713862226599017), (511, 0.47137912121385916), (2576, 0.47132781991726463), (1387, 0.4712972152236928), (3520, 0.471150081123785), (3442, 0.47112696782410723), (662, 0.4711103150793501), (352, 0.47107141207996533), (1436, 0.47105090690082496), (3316, 0.4709611121456009), (560, 0.47072112974684577), (3567, 0.47038254409739816), (732, 0.4703619153630386), (654, 0.4702496956675546), (2026, 0.4701650321970744), (1565, 0.4701450909976347), (1880, 0.4699322321010095), (4331, 0.46974169385488473), (4621, 0.4695675765414554), (4328, 0.4695672585215227), (2128, 0.4695570834077333), (1004, 0.4694359855381999), (1305, 0.46940782441207374), (1047, 0.4693285851437173), (4377, 0.4693053756394629), (873, 0.46905577721659497), (2815, 0.4688349134026754), (2459, 0.4687321190085568), (55, 0.4686964546554778), (177, 0.4685897454219661), (1723, 0.4678233986097198), (3163, 0.46766689809722467), (1116, 0.46743165796427916), (1872, 0.4672507575210337), (2156, 0.4670835151718796), (1203, 0.46705337588359613), (1414, 0.4667879115826928), (4258, 0.4665229805469847), (2162, 0.46644811359306887), (4658, 0.46638274092771703), (3963, 0.4663570190582058), (3603, 0.46633565737485516), (1174, 0.4661976385619229), (834, 0.46605756755588224), (2921, 0.4660453492308727), (77, 0.4656342759296747), (1776, 0.46543342013971356), (4376, 0.4652609484790921), (3788, 0.46520689564857765), (144, 0.46515963237365876), (1873, 0.46508506581589787), (2623, 0.4650339733692677), (2638, 0.4648637619117814), (4135, 0.4648485000584436), (819, 0.4646165669057257), (62, 0.46458777342528695), (655, 0.4645779101027038), (4661, 0.4645537351779689), (2742, 0.46419919875848376), (788, 0.46417773185344713), (3193, 0.4641075536691294), (4643, 0.4640789555086881), (3776, 0.46406154645596626), (4435, 0.46404460339402365), (3831, 0.46395953243691024), (407, 0.46390308719192447), (2573, 0.4638208313308606), (2800, 0.46381754134571745), (2334, 0.4637279375134036), (31, 0.46370761566608476), (2259, 0.4636350449654001), (4606, 0.4635744570490202), (1458, 0.46315164870032804), (2574, 0.46302056202115793), (3208, 0.46302002165692907), (2410, 0.46277046545093253), (3586, 0.46276485582085974), (3241, 0.4626285950683483), (4327, 0.46255083063410635), (4615, 0.46254028640217454), (1881, 0.4621937409116028), (551, 0.4620406374213318), (4343, 0.46182832242963645), (2415, 0.4617635683540976), (348, 0.4617080681320884), (4602, 0.46160156649289164), (2237, 0.4615734514089468), (768, 0.461551438817674), (2083, 0.4614319013204496), (979, 0.4614310245589592), (1176, 0.46104988020021237), (4027, 0.4609782535393187), (3700, 0.4607962572397809), (1196, 0.46070101310832773), (3635, 0.46060396536094317), (1011, 0.4603919317715882), (1664, 0.46024481163190845), (3473, 0.46012992796362395), (2985, 0.46005761475170626), (14, 0.46001188071259), (4267, 0.4598714226658632), (1646, 0.4597833323868919), (942, 0.45975280906720767), (489, 0.45971515065579965), (2544, 0.4596974902878242), (1621, 0.45968768692468304), (484, 0.4596388046230341), (1606, 0.45962316272890136), (3559, 0.4594848643436223), (4104, 0.4594322454628684), (3298, 0.45938706340250796), (18, 0.4593398457710524), (97, 0.4593343670839634), (806, 0.4592683731275661), (699, 0.45925368659384735), (3996, 0.4591724486982666), (674, 0.459156642428062), (4240, 0.45897524345343493), (156, 0.45876981910111747), (3732, 0.45867637803859607), (3568, 0.4584235073031469), (4001, 0.45816793035025594), (2398, 0.45808331425598986), (604, 0.45806041102730466), (3775, 0.4580313438950206), (184, 0.4578379545951236), (4534, 0.4577641240237361), (3444, 0.4576788762821969), (4543, 0.45744560583882404), (254, 0.45743112469874053), (104, 0.4574076362633301), (2272, 0.45716962793275656), (1360, 0.4571374695262043), (288, 0.45690168157170485), (2689, 0.4568768632004128), (1554, 0.4568450678675995), (1340, 0.4567652248602852), (4161, 0.45663102520701326), (3865, 0.4564816064565092), (52, 0.45634519969054954), (3468, 0.45631749112986597), (843, 0.45625976511874516), (4335, 0.45607670940398065), (4280, 0.45604494837029547), (4255, 0.4559073225544575), (353, 0.4556484568616146), (1924, 0.45561782085520935), (1838, 0.4554997355191044), (131, 0.4553331247700604), (2687, 0.45531208832235887), (977, 0.4551700756486042), (2022, 0.4551406481321208), (1600, 0.45507578009888644), (1603, 0.4549279494358581), (2053, 0.45450803236490805), (3916, 0.45450691368296187), (3910, 0.4539446058230824), (989, 0.45369559150106537), (1504, 0.45365787888303216), (792, 0.45365274560688545), (3955, 0.45361420482606757), (2912, 0.4535996285193865), (4662, 0.45358226350674324), (1110, 0.45347725296251357), (1362, 0.4533827930364361), (2798, 0.45335214940585866), (1295, 0.4531607173003998), (3339, 0.4531379940351826), (4098, 0.45313456880349634), (3741, 0.45309460961912496), (1988, 0.45304712555550886), (2494, 0.4528686249732435), (1406, 0.4528613799638551), (3799, 0.45239120500368396), (2183, 0.45207708738045066), (3522, 0.4519657920190421), (1403, 0.4519564320339), (4210, 0.4515664293076581), (734, 0.45128430380153844), (566, 0.4508942214189569), (422, 0.4506282815167524), (66, 0.4504064022110131), (1494, 0.45028276770923237), (1260, 0.45019021415682353), (1172, 0.45015391208855837), (4339, 0.45009170385639263), (1978, 0.44960753366386186), (1480, 0.44950093204307545), (165, 0.44944144482539466), (1094, 0.44940345275017113), (480, 0.44938408283181064), (755, 0.44933464023720227), (1469, 0.4493264411077139), (3872, 0.4492741112632434), (3993, 0.4492712270529182), (1931, 0.44926987033604304), (1579, 0.44917730295965186), (4233, 0.4488778643906255), (1903, 0.44883131928171976), (426, 0.4488146425945981), (3926, 0.4487819456012718), (301, 0.4486599107289863), (3150, 0.4486219081112111), (1266, 0.4486146162618787), (4231, 0.44839174161412293), (4350, 0.4483225978191578), (959, 0.44831546265486455), (2418, 0.44828891511058055), (957, 0.4482549036625166), (3564, 0.44806779047554746), (160, 0.44806551564999775), (3483, 0.448016238169171), (3480, 0.44800277980754966), (2098, 0.4479228240361922), (541, 0.44791853665686876), (1602, 0.44791205951081725), (1863, 0.4478591470188276), (239, 0.4477667336024019), (3947, 0.447690614783471), (1298, 0.44749220648933236), (1795, 0.44724389276324705), (4697, 0.4472006275658963), (2409, 0.44720023217123095), (2754, 0.4470491141679626), (330, 0.4469354832327198), (2780, 0.44680055762572995), (1052, 0.4466095762957092), (54, 0.446602156209589), (2007, 0.4465393728821936), (4611, 0.4463889570714341), (3432, 0.4462203532235746), (3202, 0.4462157109362138), (132, 0.4461671161916189), (1195, 0.44597492556485835), (340, 0.4459383433212163), (2292, 0.445876122508505), (1766, 0.44577051537069207), (3734, 0.4456989899702164), (3695, 0.44553496356742267), (2522, 0.44549974851858004), (3179, 0.445443065139891), (694, 0.4453972801716564), (3129, 0.4453332369181115), (2807, 0.4452436789943885), (4015, 0.4450931617490498), (378, 0.445079506981037), (822, 0.44503104742389554), (1802, 0.44481784260623913), (3805, 0.4443735963051464), (4433, 0.4443255363793723), (1540, 0.4443166694456278), (1561, 0.44411680018187993), (2120, 0.44404435692140387), (36, 0.44401004361427593), (4213, 0.44369422553570176), (468, 0.44358014077193375), (4012, 0.44346072788904095), (1523, 0.44343048236272453), (1005, 0.4432213093093451), (3723, 0.44298064453274105), (56, 0.44285602203638275), (3351, 0.4428491857202981), (1581, 0.4427497194627488), (16, 0.44241853824480837), (3096, 0.44230395855761795), (2365, 0.44223095430254417), (1162, 0.44222516243991444), (469, 0.44220462845380415), (22, 0.4421306122037368), (696, 0.4420329575590766), (265, 0.4420039157234966), (368, 0.44198472602195354), (1487, 0.44190481270578247), (2476, 0.4415552184092073), (4735, 0.44146387953341015), (1751, 0.4413390105871866), (4191, 0.4411214263853252), (466, 0.4406720843133675), (3828, 0.4406506009957873), (984, 0.44055448739401004), (44, 0.44053227460099587), (915, 0.44053169147771387), (4597, 0.4404587749977696), (293, 0.44037449351066793), (752, 0.44027254379236275), (1365, 0.4402378382301551), (1535, 0.4401742630947953), (237, 0.4401335414311615), (825, 0.44012690526700593), (3201, 0.44009585934880563), (715, 0.43995049474109027), (1599, 0.439937551996755), (3628, 0.43978837348025623), (1438, 0.43977499944163806), (3954, 0.43975072242833024), (713, 0.4397468676109493), (4045, 0.4396648097524986), (1059, 0.4396357107049606), (2610, 0.4396222800624802), (1921, 0.43940898267569056), (4338, 0.4393700711561595), (4093, 0.4390686370780009), (1993, 0.4390401428473941), (794, 0.43884600734328866), (883, 0.43880271622988765), (725, 0.43858985549198876), (4513, 0.43835769530284874), (2061, 0.43827302960378983), (3376, 0.4382124862563686), (1835, 0.4382051732990185), (2736, 0.4381621153529057), (799, 0.438139207018468), (2652, 0.43805292306840726), (3746, 0.4379738487593362), (73, 0.43795380446569476), (899, 0.4379200524515296), (1348, 0.43773780183625655), (4488, 0.43763472047639557), (1869, 0.43757571756544233), (2356, 0.43735605653264914), (2193, 0.4371835054197866), (2267, 0.4371678180968816), (835, 0.43706312184153423), (2886, 0.4370048061709346), (3464, 0.43675810573096485), (335, 0.43672173615311405), (1353, 0.4367026566219575), (3207, 0.43663531995643884), (243, 0.4366169357194747), (3815, 0.4363757819808462), (3384, 0.43619302544981325), (4392, 0.43614372554359954), (40, 0.4360839040297651), (4527, 0.4360124568886933), (635, 0.4359946667958574), (2322, 0.43593061766611657), (1078, 0.43585933303877744), (3133, 0.43585204417673423), (227, 0.435833602032187), (509, 0.4357775938626158), (404, 0.43572585118911694), (872, 0.43562557765255316), (179, 0.43556474157885877), (4099, 0.4354600918775353), (1597, 0.4354508840652351), (1240, 0.4353965548058542), (409, 0.4353555250936396), (2908, 0.43534691862029995), (1114, 0.4352805637824686), (1711, 0.4352669256484532), (208, 0.43505071679873974), (563, 0.4349473219601349), (1010, 0.43486877718084305), (1306, 0.43481602929518304), (465, 0.4343430898482818), (2268, 0.43433337741314354), (802, 0.43425119230144094), (1700, 0.43419910680449963), (4016, 0.43412719848058745), (3373, 0.43408350155239467), (1509, 0.43389871682395426), (240, 0.43385509553934276), (2547, 0.43377780600428617), (2558, 0.43377498601431336), (1616, 0.4336314304621744), (1685, 0.4334646412906128), (1307, 0.4333771339903066), (2205, 0.4333496036284506), (3143, 0.4332333593153764), (2148, 0.4332265183886017), (2848, 0.43299778968436986), (919, 0.4329287913561388), (4039, 0.4328345546971623), (3548, 0.43274319129044064), (59, 0.43271117943728094), (3744, 0.43239966301819227), (4448, 0.4321367555648797), (1820, 0.4321043518117939), (4274, 0.4320478052052286), (372, 0.4317887204641188), (256, 0.4317551596441102), (2714, 0.43164363552893725), (2174, 0.43156984098205686), (3690, 0.4314120716516196), (1213, 0.4313381216493011), (3785, 0.43132853584750863), (3010, 0.43116109963077653), (3852, 0.4308947648589349), (4454, 0.4307499535749576), (2713, 0.4306692346866738), (2019, 0.43058867999858425), (803, 0.4303463500361211), (1634, 0.43031085121959856), (3727, 0.43025229849384433), (166, 0.43018316829608216), (1787, 0.43013211233791837), (506, 0.43008221096785265), (1906, 0.4297868665953915), (3503, 0.4296748675490288), (3666, 0.42959489577696436), (4438, 0.4295162304745936), (2413, 0.42947070303485146), (3860, 0.42942426159851643), (1663, 0.42931448980145154), (2386, 0.42926320364111464), (2110, 0.42919372068208206), (1023, 0.42912935269335284), (1188, 0.4291108562021382), (3773, 0.4288966702764826), (4340, 0.42889367508556037), (2122, 0.42887041394402425), (3039, 0.42871822049705116), (2408, 0.428462406552414), (2190, 0.428371313525737), (2525, 0.4283583462294864), (209, 0.4282919382911231), (2116, 0.42812000672131817), (1680, 0.4281180454418508), (1048, 0.42805506760233303), (1521, 0.4280175409034504), (3509, 0.4279989764124494), (2035, 0.42784649491275323), (532, 0.42762650652006934), (1691, 0.4276070356542582), (2144, 0.42755064458414715), (2878, 0.42751568830978454), (2303, 0.4274709955022784), (1088, 0.4274046792829854), (2665, 0.4273597791530069), (2381, 0.4273581677156083), (3387, 0.42734429888148345), (3394, 0.42730197684122), (306, 0.4272250884648387), (2233, 0.4271278403168008), (4296, 0.42711999427930764), (28, 0.4270390306466132), (4323, 0.4268675701642692), (3713, 0.42679110781122426), (3161, 0.4267497640077301), (3894, 0.426585380470668), (4290, 0.426442646459472), (4496, 0.42638162048465844), (4656, 0.4263131832221514), (667, 0.42596286520351256), (1951, 0.42594391292176703), (4666, 0.4258880847479334), (912, 0.4255853299948303), (2109, 0.4254984898291432), (1524, 0.42532022201835007), (3270, 0.42490247819052107), (923, 0.42480871990386665), (1525, 0.42450643315074815), (522, 0.42447133496189077), (3641, 0.42420115100723493), (266, 0.423886407362027), (4440, 0.42388100312708527), (1481, 0.4237110558187327), (2763, 0.4236378300024605), (1809, 0.4236279884485075), (3247, 0.4236224045809185), (2349, 0.4235068839133995), (681, 0.423441043552691), (485, 0.4233066766371998), (1722, 0.4231985606722888), (390, 0.42308237822224437), (1337, 0.42272912726878653), (2104, 0.42265794661928635), (3619, 0.42247934485157435), (2586, 0.42241191651484733), (4516, 0.42237619251345987), (416, 0.42235520172123353), (3132, 0.4223073372383056), (4298, 0.4223038784823352), (95, 0.42229176970154725), (643, 0.42218686633607716), (3358, 0.42216022792815455), (4747, 0.4220415071247817), (1329, 0.42199513633302727), (4158, 0.4219590735012678), (2648, 0.4218990915577025), (1356, 0.42184565355361126), (751, 0.4218246843258528), (1274, 0.4218056281973745), (129, 0.4217161805221961), (3279, 0.42165195313312304), (2621, 0.4215767823128499), (1829, 0.42157095772821324), (1008, 0.42145314322056415), (4680, 0.42128134664347133), (248, 0.4210803295276958), (317, 0.42101778861960676), (2161, 0.42095796388472967), (1139, 0.42084585134908853), (2295, 0.4207653834715709), (844, 0.4207275509781083), (3607, 0.42071371166923216), (3595, 0.4206810267031094), (2609, 0.42055492485328333), (2203, 0.42052659865179176), (1566, 0.42052580640890763), (172, 0.42052010879532636), (1979, 0.4204493806136873), (3917, 0.42033958984724257), (261, 0.4202841895230962), (1548, 0.42026135551017185), (3085, 0.4202047383162665), (4434, 0.4199702531570327), (928, 0.4199457339011142), (3388, 0.4198657293228988), (2172, 0.4198234176495939), (4080, 0.4197700923178355), (397, 0.4195194263252303), (1461, 0.41949342792643923), (2931, 0.4193308779876358), (4036, 0.41920170847350285), (4478, 0.4191375006478282), (3078, 0.4189865479172214), (4451, 0.4187326515496371), (367, 0.41862132885813147), (1727, 0.41857848231038197), (1332, 0.41826027690114276), (1555, 0.41821334431958307), (2723, 0.41806469445606526), (2100, 0.4179451235473476), (2868, 0.4179421205912575), (1155, 0.41792334741095677), (1864, 0.41789884279859396), (464, 0.41787427402213195), (257, 0.41770110543476957), (3949, 0.41759478067475586), (701, 0.41731135432906136), (1475, 0.41721204411262763), (2336, 0.41710789489971817), (3769, 0.4170991858406541), (1952, 0.41707848917841506), (1705, 0.41704367569042494), (435, 0.41678233578371926), (1854, 0.41660362299849096), (2423, 0.41646571579620534), (1551, 0.416451340385379), (3466, 0.4164267540689178), (2317, 0.41615271901471623), (797, 0.41605713798256716), (3011, 0.41605281912887354), (892, 0.4160218488497283), (3329, 0.4159027789366465), (827, 0.4156774960729361), (3385, 0.4156122597409294), (3943, 0.4156105736877383), (222, 0.41552409929258893), (449, 0.4152441749308717), (1681, 0.4151460422606259), (4444, 0.4149897899002133), (565, 0.41496921735516296), (17, 0.41494108558960446), (4409, 0.41493283023527877), (3147, 0.4149305647526452), (1310, 0.4148852118792228), (4688, 0.4147832868650279), (878, 0.4147704160779196), (204, 0.41471874160109123), (4447, 0.41468235433699124), (1516, 0.4146571236123565), (2041, 0.41462496664268317), (589, 0.4145418649680407), (1656, 0.4142230082745725), (1534, 0.4141462624055432), (1861, 0.4138895010946067), (3174, 0.4137815267559461), (4453, 0.41377942530383016), (1944, 0.41363383013556554), (2942, 0.4135606141647933), (1559, 0.4135356967223722), (4295, 0.41352954582810303), (1, 0.4134089941598853), (2802, 0.4132414620444553), (1888, 0.4131596742262522), (1312, 0.41315063463958274), (1238, 0.4131448092202074), (956, 0.41307712872067803), (3885, 0.41294094235394224), (1432, 0.41291541542053833), (2963, 0.4128534166850358), (4089, 0.41265403142650203), (3693, 0.4126010025083398), (908, 0.41251770315106295), (602, 0.41248201348842556), (1557, 0.41248143420180466), (1497, 0.4123888867084861), (3546, 0.4123793764897767), (3646, 0.4121481648890154), (1553, 0.4121323321451364), (587, 0.4120250717187765), (3551, 0.41197998307027944), (219, 0.41193491238928553), (1127, 0.4118750094763143), (327, 0.4118405065126307), (3863, 0.41171041173638423), (260, 0.4116112177620062), (1672, 0.4115103077953975), (3498, 0.4114067405190724), (2507, 0.411375781716752), (1767, 0.41122663027262524), (716, 0.4112115022034738), (3320, 0.41112723386711825), (3781, 0.4110592937641524), (3598, 0.41105243165651423), (793, 0.4109708373053652), (1651, 0.4109501884484403), (351, 0.41083070648604064), (1351, 0.4107213351028296), (168, 0.41058059053502843), (4139, 0.4104823314503179), (1466, 0.41047353367098766), (366, 0.41028955880101764), (2853, 0.4101685779984582), (3352, 0.4101134704984258), (281, 0.4100373670871132), (2779, 0.40990601156132034), (2565, 0.40983426492177155), (1142, 0.409728019203421), (3460, 0.4096989821153587), (3499, 0.40965363157671275), (142, 0.4096455112861292), (1170, 0.4095659948600697), (2804, 0.40954102909322637), (1912, 0.40948261327484226), (3989, 0.4093972751893781), (3738, 0.40937085163001025), (4346, 0.40928211455864727), (3596, 0.40927923623304885), (2438, 0.4090986801964254), (1021, 0.40907366021051417), (105, 0.40902688378602003), (2130, 0.4089315386827146), (4647, 0.4089255519437249), (1024, 0.40844144267802335), (186, 0.4083221345663426), (3751, 0.4083042282746489), (1492, 0.40822119398751844), (859, 0.40821972003881346), (3284, 0.40803262151647174), (1083, 0.40796653965985147), (1742, 0.4079177163881596), (127, 0.40786218610638847), (3811, 0.40780801592759275), (4582, 0.4077924554900306), (1999, 0.40778562252296646), (456, 0.4077655695631742), (338, 0.40763105669003036), (1045, 0.4076210154061292), (483, 0.4075619698167212), (2412, 0.4075235623225753), (1882, 0.40736458411052934), (2082, 0.4073502129744873), (3083, 0.40716225412518653), (2975, 0.4071302823686174), (548, 0.40708700481772825), (3104, 0.40683953459531885), (1349, 0.40679296510177637), (3555, 0.40674766038883803), (4010, 0.4067469418281686), (174, 0.40673228496046265), (2766, 0.40671465335153795), (669, 0.4065911244315282), (3363, 0.406380789831402), (504, 0.4063632441459769), (1781, 0.4062298207275306), (1527, 0.40603400401245454), (1103, 0.4059897951437934), (961, 0.40596436520196266), (612, 0.40594647304629816), (3792, 0.40594313074836263), (2001, 0.4058973095803884), (3079, 0.4058890678997892), (869, 0.4057407629105624), (597, 0.40572813030807775), (1236, 0.4055970218270309), (3224, 0.40544379742991327), (3688, 0.4054172359189793), (4718, 0.40541557130604583), (1500, 0.40534970669583636), (3091, 0.4053101509161566), (93, 0.40527869021157154), (1778, 0.40521760174549515), (1617, 0.4050654003134042), (350, 0.40487656521446524), (1839, 0.4047713182719987), (3405, 0.40466777896851), (3870, 0.404653891049004), (310, 0.40461647646979015), (1194, 0.4045575824139358), (2909, 0.4044691423212709), (1718, 0.4043928443087725), (3337, 0.40429693293396807), (1824, 0.40422691679672335), (3902, 0.40395900226938086), (1762, 0.4039029065461969), (4192, 0.4038649757043023), (1859, 0.4038153982343287), (1755, 0.4036637491879317), (1292, 0.40364832070483686), (2106, 0.40364239421364967), (1031, 0.40359220268608853), (603, 0.40355674445039436), (1626, 0.4035177647358952), (845, 0.40349471672705745), (4684, 0.40340016837705295), (1454, 0.4033601649541141), (804, 0.40334417875849493), (1539, 0.4033153753776572), (1987, 0.4032798915047628), (1970, 0.40323875057823316), (305, 0.4029497837765774), (4023, 0.4028169791413007), (1126, 0.4027569503985616), (2498, 0.4027355743996862), (414, 0.4027309987599288), (1886, 0.4026960995450783), (4043, 0.40269140286310773), (2557, 0.40258019130001077), (1950, 0.4025272703612136), (3313, 0.4021349954272305), (4143, 0.4020545891469116), (567, 0.4020286879011612), (1043, 0.4019662271129884), (4439, 0.4018796439919119), (1258, 0.40176365697524347), (2495, 0.4017087164529356), (917, 0.40166993533325446), (562, 0.40164392659178605), (3204, 0.40162240375221736), (2727, 0.4014740653693707), (94, 0.40142849880039505), (1311, 0.40135899159732824), (316, 0.4013072296343998), (438, 0.40127882657599606), (841, 0.40118921174187505), (2718, 0.4011067724100983), (1890, 0.40102907802198173), (1112, 0.40099167439314576), (2136, 0.4009897005499046), (3609, 0.40097985408113485), (3448, 0.4007466157518428), (228, 0.40066117373397164), (375, 0.40063893752763086), (1739, 0.40063770344763255), (2523, 0.4005840302429095), (2111, 0.40057763971696253), (4511, 0.40056940255249923), (2614, 0.400340357706605), (2845, 0.400181762881051), (2898, 0.3999596828448926), (877, 0.3999576184967712), (1074, 0.39980254023354517), (376, 0.3997720832591243), (749, 0.3997621956711608), (2273, 0.39963674379003983), (2981, 0.39958361674913495), (1429, 0.3993899849719151), (4013, 0.3992769323735861), (291, 0.3991797326676612), (221, 0.39915261920531286), (3965, 0.3991201379117523), (653, 0.3990012485416158), (1131, 0.3989917032416942), (427, 0.39898060689582504), (3684, 0.3989474310990295), (3356, 0.3988865962878048), (2663, 0.39878334370614016), (394, 0.3987284816275379), (2704, 0.39871931544744743), (4011, 0.39869220128160776), (3694, 0.39852275579986535), (1543, 0.39850803569795007), (2582, 0.3983087831099382), (1081, 0.39827922045695136), (112, 0.3982737059543734), (458, 0.3980887689753057), (1564, 0.39806397932064247), (2667, 0.3980114880607141), (262, 0.39792208075348845), (916, 0.39791779417415435), (1526, 0.3978637759977551), (4088, 0.3978324565501734), (3286, 0.3977928565373834), (459, 0.3977225052471639), (4112, 0.39766147286786696), (322, 0.3976443091436035), (1476, 0.3976183252678632), (1249, 0.3975590812180189), (4235, 0.39749479184362424), (405, 0.3974685851569006), (3072, 0.39736798018270447), (1678, 0.3972664592124573), (4566, 0.3971206216307889), (3542, 0.39709418720717543), (3602, 0.3969535730438265), (2091, 0.3969367323915738), (773, 0.3969356578977371), (1636, 0.39688367055891116), (2502, 0.3967291403950856), (2127, 0.39613391318676033), (809, 0.3960887119429778), (4178, 0.3960486540785858), (3308, 0.3959937254273308), (1202, 0.39589696612144337), (2516, 0.3958864462154979), (2710, 0.3958557167389273), (4670, 0.3958555491956713), (415, 0.3957412637404853), (30, 0.395626325808833), (1427, 0.39560970739716883), (65, 0.39548115739965223), (3410, 0.3954733422229271), (2606, 0.39542858242524526), (2668, 0.395351831538149), (1221, 0.3953057721617277), (3457, 0.3952526190576594), (4563, 0.3952373691952531), (3941, 0.39511671820237054), (100, 0.39501373141320273), (1463, 0.3949103695277203), (2491, 0.3948801031179094), (2988, 0.39487445388983844), (3406, 0.3948544775832481), (314, 0.39482262256449924), (1345, 0.3948053642884688), (2822, 0.39479672208106736), (677, 0.39476417864434177), (4277, 0.39473033699927185), (1519, 0.3947064871489), (535, 0.3946172929991244), (1754, 0.3943149784902186), (3898, 0.3943102158168982), (2373, 0.394226771110155), (3793, 0.39416471568900735), (2957, 0.3941400044355854), (904, 0.3940783528938817), (733, 0.39396976113939464), (930, 0.39388961779332443), (3591, 0.39371557232667176), (182, 0.3936926109126079), (1474, 0.393691086800855), (1472, 0.39354642690830227), (2015, 0.39338242776206794), (2639, 0.39322714194285435), (528, 0.393218959537986), (1364, 0.3931706993543253), (1923, 0.39316798906340794), (321, 0.39314420984691867), (739, 0.3931061294354881), (4195, 0.39308321655169787), (178, 0.3930111017240578), (2434, 0.3929987837203468), (786, 0.3929598506781593), (3747, 0.39292363728255825), (4034, 0.39291691500969145), (2462, 0.3927998334418317), (4506, 0.3926988105880648), (4426, 0.39258641534039873), (1738, 0.3925265731411067), (1082, 0.3923824349595856), (707, 0.3923682570337715), (3182, 0.3920478707818109), (4452, 0.39199511493598044), (4598, 0.3919689870560469), (3726, 0.3919562123798697), (2359, 0.3918921593304041), (241, 0.3918307974201796), (3986, 0.3918176483211249), (3960, 0.39171686175246573), (2177, 0.3917026301356247), (582, 0.39139902573947966), (3301, 0.39135987010723305), (3158, 0.3913122899410147), (1964, 0.39121322365539235), (2092, 0.39114065356348277), (3590, 0.3910154429739271), (4362, 0.3909721803316461), (2791, 0.39092030555830853), (2996, 0.3908886475505508), (4574, 0.3908209579637147), (1143, 0.39070878243643514), (1323, 0.3905722115672087), (1066, 0.3905651677040424), (3803, 0.39050781924319783), (2755, 0.39048318907572516), (4137, 0.39021930330033333), (91, 0.3901431117847674), (652, 0.3901120118155152), (683, 0.39001652014413285), (1520, 0.3897431596166941), (2856, 0.38971320517365626), (920, 0.3896976074013216), (3889, 0.3896870153147003), (3073, 0.3896416816970152), (3153, 0.389637943022491), (821, 0.3896349315562008), (722, 0.38960446206419086), (4411, 0.38929895729194364), (4531, 0.38929384061173855), (1513, 0.38919266404616926), (3543, 0.38883418333748676), (103, 0.38881101022054537), (2620, 0.38878633320490374), (818, 0.38878631705003663), (1515, 0.38874454031255995), (963, 0.3887275006148941), (3433, 0.3885236741997151), (277, 0.3884429520781366), (748, 0.38839815334009437), (3486, 0.3883887582644093), (1486, 0.3883669853224417), (2571, 0.38834214382538357), (4707, 0.3882717755585657), (2430, 0.38825281146825885), (4612, 0.3880918295637762), (3060, 0.3880191992421667), (3724, 0.38795465651909583), (4473, 0.38789358887466335), (417, 0.3877344332462186), (1614, 0.38765934541166125), (1905, 0.38764073811567185), (3904, 0.38762668153257573), (1989, 0.38758130813151176), (3915, 0.38746530151984476), (1782, 0.38746435941535007), (1701, 0.38733148886515584), (2892, 0.3873151264576931), (521, 0.38729435148662184), (3191, 0.3872656116995553), (993, 0.38724995335505435), (2189, 0.38724611675375714), (211, 0.3871604573803312), (1789, 0.387105584554624), (399, 0.38690484867617686), (2605, 0.3868970352908118), (3497, 0.38682862951088076), (1549, 0.38682495617869306), (1071, 0.38678789985249684), (3599, 0.3866863011508393), (3953, 0.38654523630994636), (891, 0.3865333876832595), (4009, 0.38646990200427955), (429, 0.38646291729999616), (161, 0.38633041914079586), (3541, 0.3861886392328964), (450, 0.38618743764958846), (1591, 0.38613371882423414), (315, 0.3860203595067848), (3671, 0.38586733023135505), (1528, 0.38565567904627185), (3855, 0.3856514944778866), (3735, 0.3855534874790064), (1571, 0.3854807273787036), (736, 0.3853514090738413), (3168, 0.38529094740133113), (507, 0.38528292644692247), (282, 0.38523699778487447), (945, 0.3851788412885548), (2496, 0.3850887534731393), (1228, 0.3850422948264456), (3854, 0.38502391111574497), (4655, 0.3849547023424677), (1900, 0.3849183563030698), (4057, 0.38484324491077526), (613, 0.38477274861657884), (1434, 0.38474096861272855), (57, 0.38472250164253996), (249, 0.38465610660616356), (2526, 0.3842930300893166), (3754, 0.3842132444616663), (2504, 0.38417200985892436), (2944, 0.3841450263057663), (3823, 0.3841263812630865), (823, 0.3840057961878558), (726, 0.3839514728554153), (2781, 0.38386088170593025), (895, 0.38364052706151675), (2492, 0.38352607151911594), (269, 0.38341975629727765), (412, 0.3834183677529923), (1518, 0.3834148981466656), (320, 0.3833242748208392), (2789, 0.3833156008495659), (1495, 0.383288779710186), (2846, 0.3831919054979111), (2534, 0.3830990276820657), (3711, 0.38308168154948957), (1211, 0.38307249507422053), (491, 0.38304339330640574), (180, 0.3825426342805922), (2758, 0.3824544484421249), (1331, 0.3823256241068084), (1462, 0.3822508401355308), (4156, 0.382240172208964), (3969, 0.3822000623888603), (2258, 0.38198325456383697), (685, 0.3819616093214889), (862, 0.38178600306172483), (527, 0.38159229150325774), (738, 0.3815393222241253), (2817, 0.3815252996980076), (3531, 0.3814948621267072), (2566, 0.3814340372288503), (848, 0.38141532623555635), (836, 0.38135053317214146), (118, 0.3812736623719953), (58, 0.38122095702515657), (217, 0.3812033511154052), (876, 0.3810175559032709), (357, 0.3810168094819571), (4318, 0.38089946615649545), (1517, 0.380878399887224), (1925, 0.380867108207925), (1522, 0.3808176400528373), (3756, 0.38079752578789827), (3300, 0.38060246423409216), (1217, 0.38053599429280555), (3859, 0.380446356973435), (2508, 0.38043012925109976), (2986, 0.3804192166447509), (2058, 0.3803010154767335), (1542, 0.38026159700891315), (618, 0.38023818456479896), (2959, 0.3801360307444225), (2168, 0.38012330934578986), (1730, 0.3799236932477356), (1721, 0.3798529868308358), (408, 0.37981637220421577), (634, 0.3797182689603447), (1840, 0.3796992552410355), (218, 0.37958741151371944), (4470, 0.3794639737013936), (944, 0.3793898000928428), (1186, 0.37936610621989614), (680, 0.37930053485896387), (3097, 0.37927176703449744), (990, 0.3792343107064435), (1774, 0.37917602844909004), (3875, 0.3791139202132706), (757, 0.3790034272363588), (554, 0.3788723633511044), (3259, 0.3787996286852031), (275, 0.3787870992355547), (4695, 0.3787150095749965), (3659, 0.37865979060055466), (798, 0.3786528623103374), (148, 0.3785072540754816), (2149, 0.37822422374672643), (4482, 0.3781504131436021), (4384, 0.37806290960050326), (1697, 0.37803113466141086), (3956, 0.37800495032092374), (2501, 0.37794706295341557), (4460, 0.37794295277417117), (3938, 0.37794024939962606), (3597, 0.3777654893248246), (1137, 0.37767208769637), (2732, 0.3774700193705252), (4682, 0.37740425664192595), (2389, 0.3772864195816446), (4038, 0.3772468565742355), (1538, 0.3772211782623457), (1054, 0.3771511738412908), (3850, 0.3771036977475265), (684, 0.37706328056340255), (1541, 0.37700149016152595), (852, 0.3769339755941274), (538, 0.37684031709472326), (273, 0.3766647515704378), (1352, 0.37665892664754735), (3430, 0.3765952551799551), (4754, 0.3765817845498279), (490, 0.376504772326941), (3643, 0.376458228742818), (851, 0.3764445500146088), (1327, 0.3763971353021058), (398, 0.3763759811040064), (846, 0.3763589000090459), (4650, 0.37621428008526997), (1706, 0.37620931957183884), (607, 0.3761471168163924), (1145, 0.37604572889038246), (401, 0.3759894944232571), (3012, 0.37585394814690704), (1489, 0.3757459861150066), (3311, 0.3757419781225357), (3706, 0.375511471013548), (2793, 0.3753891103208609), (2456, 0.3753513928116283), (4530, 0.3751696215560894), (4245, 0.37516078037452844), (2824, 0.3751044138069357), (3639, 0.37506125547921065), (2416, 0.37500942979709073), (4113, 0.37497294188203834), (460, 0.37494065779462965), (2483, 0.3749123337273189), (272, 0.3746909903312985), (4422, 0.3745522558947888), (505, 0.3744812039024031), (853, 0.37439270017919984), (3144, 0.3743313396546501), (4483, 0.37415537889387124), (4687, 0.37407639504689116), (1158, 0.374018043848835), (721, 0.3739913804692416), (526, 0.3739738705393403), (4035, 0.37396424218799834), (313, 0.37384199188904904), (601, 0.37372335983855154), (856, 0.3736219784584343), (2095, 0.37361687014757977), (1948, 0.3735232766862009), (1642, 0.37337367725370885), (4431, 0.3733229385410336), (121, 0.37326876406366066), (3299, 0.37326044763816907), (3987, 0.37312269451523505), (2131, 0.3730094434030115), (4558, 0.3728748644697247), (2108, 0.3728433101196682), (2950, 0.3727406841732247), (2419, 0.37273188924871187), (3276, 0.37267461852096895), (1396, 0.3725448117865268), (2417, 0.37251848725368547), (339, 0.3725069481310677), (162, 0.3724885312868961), (1529, 0.3724469529403361), (2528, 0.37233436200257974), (1198, 0.37227536969903485), (718, 0.3721685792581334), (1027, 0.37210982820427213), (4124, 0.37205528148080935), (2277, 0.37202214078089874), (2178, 0.3719979918448955), (389, 0.3719841405410787), (2453, 0.37191682167782153), (2510, 0.37183855945482136), (637, 0.37172411911762393), (2107, 0.37169544196156434), (331, 0.37168820569308303), (4234, 0.3715212049274354), (4685, 0.37147368515314083), (238, 0.3714155313891608), (884, 0.371384759068319), (552, 0.3713204164095613), (801, 0.37118365186294866), (2481, 0.3711008823952703), (15, 0.3710791504031756), (3814, 0.37098684205146), (879, 0.37096387632787314), (1506, 0.3709366032711436), (21, 0.37060924125537975), (1400, 0.370597714112235), (1491, 0.37051636479540934), (3045, 0.37050867474198435), (4436, 0.3704086583897974), (1946, 0.3703271449836316), (3632, 0.3702914814199921), (2280, 0.37022222020407625), (1659, 0.37020664031784184), (2361, 0.3701697785193987), (2013, 0.3701371191903033), (4408, 0.37013292489782185), (25, 0.3700729736039414), (3725, 0.37001869871510207), (4353, 0.36997310550965784), (648, 0.36990710123725795), (570, 0.36982306338358967), (4690, 0.3697466835532937), (4063, 0.36964289031957664), (279, 0.3692232323185316), (3404, 0.3691697325277076), (101, 0.36912395368322654), (553, 0.36908211371275446), (2377, 0.3689793119889822), (4223, 0.36885023151725227), (1633, 0.3688021290347867), (1514, 0.3687498309727977), (1089, 0.36865538280643273), (290, 0.3686383526238387), (3327, 0.368578180873874), (1726, 0.36857259341625154), (163, 0.3684889400040706), (1014, 0.36829986529843806), (2369, 0.3681988729994977), (4186, 0.36817639496476223), (3042, 0.3681336118326414), (3491, 0.36798906576328744), (2182, 0.36795773238118407), (568, 0.36793433246703217), (3021, 0.3678925658986356), (2362, 0.3677235303830859), (2117, 0.36765037012830426), (252, 0.36754949142635074), (1803, 0.3674926986183348), (665, 0.36743420529856335), (3069, 0.367425025600954), (1072, 0.3674087239324038), (2103, 0.36737388688821443), (90, 0.3673673174667684), (34, 0.36727759601231547), (3061, 0.3672636704754337), (4002, 0.36717521151606575), (3183, 0.36711156271029327), (596, 0.36703468097597813), (593, 0.36702201481491126), (2570, 0.36696773070713284), (3908, 0.36696138971476405), (2354, 0.36690571028701763), (3888, 0.3668400472630708), (176, 0.3666575070978504), (646, 0.366554919782635), (3701, 0.3665369071217234), (772, 0.3665007775591955), (3485, 0.36621301835274345), (910, 0.3661960714368928), (4486, 0.36610000117639085), (3516, 0.3660369517130969), (1496, 0.36588609711565784), (1866, 0.3658726345598442), (1096, 0.3658452661893277), (3333, 0.3658010708421176), (1138, 0.36578690126888014), (976, 0.3657707473384901), (381, 0.36566144375474224), (2219, 0.3655683988060134), (4421, 0.3654689841575181), (2447, 0.3653979293465663), (4214, 0.365378748136558), (687, 0.365332372361913), (4073, 0.3652484841137212), (205, 0.3651309796359225), (3305, 0.3651282376073538), (382, 0.36504012034821853), (2542, 0.3649922071006765), (1530, 0.3649836179649622), (1649, 0.3649535628717883), (1734, 0.3645173432858676), (890, 0.3644876988654422), (864, 0.36439078303321887), (4138, 0.3641500954454406), (3186, 0.3640513900154943), (3226, 0.36386626257792304), (4155, 0.3638304735221242), (571, 0.3638014520874089), (1049, 0.3636795766810759), (488, 0.36358084706047994), (1720, 0.363451031716658), (3554, 0.3633942532671921), (2863, 0.3633389991584021), (2137, 0.36333807022208836), (1546, 0.36333212468452447), (4000, 0.363292544549917), (1341, 0.3631755652900123), (3013, 0.36314524585234076), (598, 0.36313929555547886), (2254, 0.3631392359177117), (1001, 0.3631226670067081), (3576, 0.3629938998541325), (3868, 0.36289897081369465), (808, 0.362836172280969), (4288, 0.3627935536710944), (2694, 0.3627239343574506), (659, 0.36268475056417243), (3271, 0.36260363863166784), (647, 0.36239519543003396), (1620, 0.36224589325809664), (4003, 0.36192938157209853), (1939, 0.36168540978123953), (3028, 0.3615885298410317), (1225, 0.361502959385736), (2497, 0.36148688742593793), (380, 0.36142014256266014), (4334, 0.3613988276903054), (1149, 0.3613567148723471), (3319, 0.3613553661137436), (782, 0.36129364063190017), (658, 0.3612411582805069), (3374, 0.3611900442836652), (3211, 0.3611737952375331), (898, 0.36111666804959164), (2487, 0.3611051466547726), (1811, 0.3610010713660857), (1814, 0.3605581820914561), (1850, 0.3603616991535937), (575, 0.36035335972870325), (2894, 0.3603329076998369), (3362, 0.3603258438925752), (2352, 0.3602641602267972), (1563, 0.3602389945551053), (1243, 0.3602008589121531), (581, 0.3601944283962207), (534, 0.36006197742648466), (1976, 0.3600569930503238), (75, 0.3599654398834516), (515, 0.3598823344890527), (2366, 0.35982490077188045), (1104, 0.35979197384890804), (214, 0.3597463477350893), (1061, 0.3596796701020111), (682, 0.35962628321808976), (3837, 0.35955981344144594), (295, 0.359518830960016), (3278, 0.3594896009087687), (2956, 0.3594077766186869), (2764, 0.3593681642165781), (486, 0.35935119585960124), (4204, 0.35923849412821324), (4638, 0.3591992589216346), (2813, 0.3591769579178166), (420, 0.359138477324896), (688, 0.35909908117364264), (2616, 0.3589901482643368), (1070, 0.3589227602907803), (503, 0.3588581110087525), (2062, 0.35875652682087567), (2749, 0.3586820964145909), (433, 0.35863002703447905), (1827, 0.3585898407383419), (223, 0.3585674700735112), (4404, 0.3585522938411895), (847, 0.35850002061039904), (3318, 0.3583877512395256), (2460, 0.35831574139683753), (2335, 0.35826837272102074), (3881, 0.358069811518513), (474, 0.35806604442423473), (1092, 0.3579864277626898), (2882, 0.3579633050283103), (3280, 0.3579361560638202), (3446, 0.357888489920068), (4025, 0.357850622155494), (4200, 0.3578350158100136), (4017, 0.3576008421060724), (4417, 0.35727115290623096), (120, 0.35725752754695905), (4217, 0.35704271562738443), (4716, 0.35691179097425985), (3740, 0.35690846579136853), (670, 0.35686399423669957), (1439, 0.3566805256689741), (578, 0.35647994117780873), (4599, 0.356447228183333), (3030, 0.35642156454572277), (4069, 0.3564215172270413), (2873, 0.356376035859806), (3778, 0.3563741920119856), (775, 0.35637151958945973), (3980, 0.35623250323685357), (82, 0.3562251623366177), (1957, 0.35619260239322414), (377, 0.35616016698134634), (2719, 0.35613354935261554), (774, 0.3560740901482171), (950, 0.3560625177378184), (3753, 0.35605696750317084), (4068, 0.3560308205018142), (1261, 0.355877896240831), (3256, 0.3558016631595688), (3232, 0.3558002768705287), (2970, 0.35577204712456395), (1417, 0.35559055601423395), (2865, 0.3555745273937913), (2051, 0.3555740158683731), (87, 0.35552138532223176), (2229, 0.3553447592205123), (610, 0.3553357141225687), (3250, 0.3553161445634455), (2214, 0.3552278553844237), (2252, 0.35522327906988355), (3730, 0.35515847456218547), (3853, 0.3550835555896816), (2059, 0.35506811141109784), (3919, 0.3548366728344087), (1593, 0.35481893645916457), (2809, 0.3547969036094991), (1629, 0.3547830973531616), (4228, 0.3547805006087956), (3654, 0.3547150761383318), (349, 0.35469389470883683), (1786, 0.3545091039425544), (3314, 0.3544389610047891), (1250, 0.3543325921945868), (2264, 0.354204887931456), (2839, 0.35419619019881304), (251, 0.35416648247947774), (4051, 0.354051786140292), (202, 0.3539622235795283), (400, 0.3539608078899882), (1544, 0.35357847295742467), (770, 0.35354385872459465), (3677, 0.3534657469131988), (1985, 0.35345684724922494), (557, 0.3533816011783429), (4121, 0.3532913590335206), (157, 0.3532593914083024), (2823, 0.3530275163310457), (3001, 0.35302202315969206), (19, 0.3529742552050515), (2947, 0.35280305423145597), (2057, 0.35278751881557513), (720, 0.35278425334738445), (1065, 0.35272049317095905), (1785, 0.35267747596737503), (4614, 0.35267664024024514), (2225, 0.35266877070793673), (717, 0.352651889690319), (3570, 0.35259154554777894), (2976, 0.35256240239424913), (693, 0.3525286264919827), (4203, 0.35250866338608394), (1241, 0.35244719430668786), (1206, 0.35240327726875365), (440, 0.3524010770757336), (1055, 0.3523984829312034), (2493, 0.3523889945690244), (1821, 0.3523512872964227), (640, 0.3523030408094315), (2276, 0.35222627532450773), (800, 0.3521902333460512), (477, 0.3521640400528537), (2478, 0.35215927499645355), (289, 0.3521195235802883), (790, 0.3520993242731234), (4125, 0.35208032777895937), (4202, 0.35207837781432966), (1263, 0.35205511053435895), (3102, 0.35189856386979135), (188, 0.3517224122417636), (2828, 0.3516351324931572), (4555, 0.35153945395574027), (580, 0.35153207670480185), (325, 0.35143995152908114), (2338, 0.35143267204492074), (2428, 0.3513979639722211), (991, 0.3513347790079199), (2150, 0.3513190251795965), (1294, 0.3512734193500122), (167, 0.35118009688012103), (3094, 0.3511455284820267), (3835, 0.35103329073984646), (2325, 0.35098017987723), (3673, 0.35094119532732276), (373, 0.3509331364380817), (2904, 0.3507556858217127), (576, 0.35070593285924806), (1303, 0.35065865394818246), (824, 0.35059614311550674), (1192, 0.35056962779355294), (1995, 0.3505459423632369), (2073, 0.3504704124160774), (4667, 0.35045989656964693), (363, 0.3503869036875137), (1843, 0.3503518111848522), (455, 0.35026102776374346), (4094, 0.35024846456629116), (1794, 0.35022511634175285), (3736, 0.3501600592522058), (431, 0.3501492286793086), (1937, 0.3500590430531119), (1807, 0.34993764876100636), (1437, 0.34976869268699484), (4022, 0.34968499030876604), (3710, 0.3496007252549839), (743, 0.34958783091249834), (1763, 0.3495791213169894), (4221, 0.34954165960693795), (616, 0.3495104471048756), (3922, 0.3494382225188115), (4536, 0.34933591975901634), (1291, 0.3492113976124781), (2536, 0.34917895835600815), (3346, 0.34916286184492), (71, 0.3491275183699221), (3218, 0.3490882756104667), (973, 0.3490344590505867), (3845, 0.34899205556519314), (2588, 0.34893468467491406), (3923, 0.34883082189188996), (2725, 0.3488227334485231), (1255, 0.34880121665981), (3181, 0.3487576695950487), (1793, 0.3486428455505481), (4278, 0.3485416004213093), (3975, 0.3484751848258834), (4083, 0.34840156675496525), (1421, 0.34833456138260255), (638, 0.3482219452592304), (3606, 0.34822145711206876), (285, 0.3481430062871272), (195, 0.34812876304941387), (38, 0.348041040992771), (2006, 0.3480301665435771), (3924, 0.34796195709529193), (870, 0.3478782878961954), (2012, 0.34785540489814504), (937, 0.3476854142655863), (2300, 0.34759263500410437), (4315, 0.34758490446104795), (2261, 0.3475640409782855), (1490, 0.3475007676417098), (4024, 0.3474178316572773), (2114, 0.3472061028842987), (1510, 0.3471306919587308), (3053, 0.34709235158884094), (1058, 0.34708632426588526), (4052, 0.3469790795085495), (649, 0.3468939865520348), (1783, 0.34687521324685855), (2728, 0.34684863751867717), (3355, 0.34672932815701457), (445, 0.3466924741779579), (113, 0.34662957267031436), (1760, 0.34662609961146895), (692, 0.3466201375627787), (2910, 0.34660693278714216), (2612, 0.34648407004111303), (2102, 0.34647655615507067), (3661, 0.3464623489727631), (545, 0.34640241546882), (3901, 0.34640202627074507), (606, 0.34621724689596683), (1134, 0.34612385858463407), (2690, 0.3459939622461241), (2368, 0.34575770240650616), (2086, 0.34570383672468435), (1013, 0.34569011762873103), (854, 0.3456838866544696), (99, 0.3456594347225262), (3166, 0.3456577933028455), (2170, 0.3456142371379368), (777, 0.34555133748716127), (3621, 0.3455102280092063), (7, 0.3454686159996179), (1768, 0.34544725876131327), (2287, 0.3454279009907252), (585, 0.34533945810128563), (3141, 0.3452407375808156), (2929, 0.3451794311836519), (2785, 0.34513573710863077), (4004, 0.34507411003502675), (497, 0.34494692597590726), (1968, 0.3448657651932218), (1537, 0.3448410982480152), (2820, 0.34469248704471434), (454, 0.3445873835711179), (3292, 0.34441411806652505), (4140, 0.3442336893080496), (2206, 0.3441659832030133), (1618, 0.3440197507474183), (1281, 0.3438093812730058), (3438, 0.3437790870339348), (3655, 0.3437355110868493), (4494, 0.34368173757177345), (3393, 0.34362874236862473), (80, 0.3435379995540759), (1573, 0.34349472393862945), (4504, 0.34347292446325933), (3375, 0.3434679325862601), (1446, 0.3433058620378412), (345, 0.34324245593263597), (2861, 0.3431353284494599), (396, 0.3431066890907381), (2788, 0.3430239513469492), (374, 0.3429245320567078), (1333, 0.34276040042070127), (8, 0.3427295073813772), (1120, 0.3426177080124507), (67, 0.34260552488754126), (114, 0.3425543787494696), (1567, 0.3425423563803534), (3807, 0.3424656843336038), (3978, 0.34240887299701595), (791, 0.34226646563107527), (796, 0.3422464975725609), (1640, 0.342019323224652), (2729, 0.3420077175009167), (442, 0.3420016952880302), (226, 0.34175802606742905), (1660, 0.34171083623536513), (336, 0.3414319707248238), (1220, 0.34138710593224936), (158, 0.34129423807202636), (4197, 0.34123412979930756), (355, 0.341232348196562), (1042, 0.34121869434956875), (2239, 0.3410511385959487), (370, 0.3409832959434515), (1507, 0.3409263058805917), (4363, 0.3408812857125585), (754, 0.3408339437832172), (2895, 0.3407739584812791), (3651, 0.34076591820842916), (2520, 0.34074902901718623), (2625, 0.3407188449730201), (4560, 0.34064169555845925), (975, 0.3406245158434267), (3272, 0.34048401827706953), (550, 0.3403607982042823), (1209, 0.3403044133320652), (2165, 0.3402207989015455), (1269, 0.3402086357866202), (3254, 0.34019366400082246), (4266, 0.3401419642217906), (194, 0.34001438395223743), (1410, 0.3399893035486008), (359, 0.3398981361157374), (1016, 0.3398643237269207), (1451, 0.33966237966326396), (4700, 0.33961249810143657), (2038, 0.33960359462137196), (3343, 0.3395393863680451), (2090, 0.33952518037757934), (2285, 0.33948555094803406), (2123, 0.33937885612253177), (2538, 0.33931346808240964), (584, 0.3392884622633357), (3326, 0.3392075006985453), (2812, 0.33919647145501775), (2790, 0.33907432848845953), (212, 0.3390112082887123), (3939, 0.3389992780013271), (2611, 0.3389869135528237), (4668, 0.33891105770279695), (1117, 0.3389006396056733), (966, 0.3388043945718596), (395, 0.33872622359859456), (813, 0.33867782803333835), (1624, 0.33864045226745343), (1259, 0.3385900230354378), (1087, 0.3385693971940012), (4731, 0.3384259303857732), (1319, 0.33837450931482693), (3722, 0.3383635477737945), (1983, 0.3383420275288381), (3052, 0.3383010085496502), (1169, 0.3382774046034332), (3858, 0.33826640706964783), (539, 0.33823426229957254), (2893, 0.3381722859744737), (4723, 0.33805708568447623), (3200, 0.33802416061830703), (3395, 0.3379269879911594), (4351, 0.33781518180156916), (2196, 0.33763364661853135), (1856, 0.3375887429466092), (1275, 0.3375750735457492), (3780, 0.3374977714164903), (2701, 0.3373155768106664), (2301, 0.3372597543845326), (2841, 0.3372094324027405), (201, 0.33720049677641967), (4501, 0.3371981452027605), (122, 0.33715327706748366), (1166, 0.3370397759083546), (1792, 0.33681762031746915), (2683, 0.336725291865282), (479, 0.3366615942650217), (3390, 0.3366463678487151), (3443, 0.3365402835940643), (1321, 0.33652752154198523), (3407, 0.33639498453833294), (1147, 0.3363406874784718), (1053, 0.33621419167069916), (1503, 0.3361783549112405), (2672, 0.3361077229362374), (1257, 0.3360491207206562), (1297, 0.3359352683146088), (4626, 0.3357708349054777), (3474, 0.33577003417319506), (2211, 0.3357185698715433), (3808, 0.3356218915845549), (918, 0.33559879630163536), (1113, 0.3355444367530379), (970, 0.3354652442908563), (4122, 0.33538844839211857), (3494, 0.3353755197601464), (1452, 0.33535351351389214), (3426, 0.33502159898638056), (882, 0.33500067130524586), (473, 0.33497623005852695), (4456, 0.33475784922725793), (2200, 0.33459502326917884), (2598, 0.33459292241395405), (949, 0.3344922708268674), (284, 0.33438560729531164), (632, 0.3343565370835043), (2677, 0.3342710499829101), (983, 0.3342671920239656), (1123, 0.33421787890062665), (2753, 0.33409262841269505), (1235, 0.33397843180144565), (605, 0.33388336085163134), (457, 0.3338569849538242), (2216, 0.3338404208158381), (533, 0.3337224903418707), (2613, 0.3336552376166738), (1344, 0.33334602670682717), (1784, 0.3333335626272279), (3294, 0.33326322630222416), (3574, 0.33320542893300836), (2283, 0.3331523971591332), (4552, 0.33311407124268816), (2036, 0.3327825243225974), (1857, 0.33273177978134666), (1913, 0.33273110717056353), (953, 0.3326873604804977), (428, 0.33254805262332826), (3461, 0.3325122068800021), (4659, 0.33249149811228873), (4054, 0.33242890987363677), (2326, 0.33242770672243155), (1568, 0.33237003418207295), (1713, 0.3323013193297774), (2228, 0.3322995860335877), (2293, 0.3322675299248949), (1244, 0.3322517014926922), (600, 0.3321253467422694), (2185, 0.3320366723628908), (1615, 0.3319547723927097), (1570, 0.3318985671358936), (385, 0.33186417099547233), (3223, 0.33168418966120666), (564, 0.3316610007087006), (1545, 0.33164679062276725), (3540, 0.33161580489288645), (2675, 0.33157340577934385), (546, 0.33149279680676863), (4174, 0.33148491999421825), (1219, 0.3314447096761271), (64, 0.33130402450486107), (1468, 0.33128850048904646), (4529, 0.33121358047382715), (1887, 0.3311328606909422), (543, 0.3310994113687186), (4730, 0.3310550940316908), (403, 0.3310140216916874), (1000, 0.3309096875592467), (2562, 0.3308206804632281), (781, 0.3308007551415943), (1039, 0.3307995785571642), (4745, 0.33058692841549975), (2452, 0.3303179015101407), (948, 0.3303088958650494), (3880, 0.3300976480793575), (2004, 0.3299955651333104), (1894, 0.329963318267044), (117, 0.3297349515435938), (2124, 0.329667437745629), (609, 0.32955472265270497), (807, 0.32954987744625425), (4205, 0.3294989884368008), (224, 0.32940918041117967), (735, 0.32938525917280276), (645, 0.3293002216378175), (1654, 0.3291379358537388), (608, 0.32910798341609415), (1712, 0.32907103966008505), (3843, 0.3289532917788705), (1558, 0.3288893950217046), (2631, 0.3284601507777392), (32, 0.3284470145024675), (964, 0.3284359082981358), (1849, 0.3283009848118257), (2055, 0.3282646987800473), (2888, 0.3282101835891152), (1015, 0.3282035901813808), (913, 0.3281498615519582), (4608, 0.32811776338313653), (2759, 0.32799667120899095), (927, 0.3279691724207362), (787, 0.3278822109231492), (1025, 0.3278287443401714), (969, 0.3277248529439704), (69, 0.3276623102465834), (108, 0.32739422525582623), (812, 0.32736518131070513), (3733, 0.32734584350994184), (4648, 0.3273183356659169), (3357, 0.3273060777851072), (1725, 0.32717657199103506), (1499, 0.3271636343121505), (2852, 0.32695509770415837), (1361, 0.3267752086528322), (995, 0.32655724223496724), (569, 0.32653346400521044), (1834, 0.32616927377261246), (1201, 0.3260682312171337), (901, 0.32591026561986247), (861, 0.3257407583405386), (393, 0.32570120698911303), (1372, 0.32566538029882847), (2564, 0.32561597828344946), (3178, 0.3255361516240555), (2543, 0.3254457795118686), (3495, 0.3253006379115053), (742, 0.32522284312955135), (3583, 0.325175360027957), (2246, 0.3250927660039014), (1227, 0.32508387078844386), (1895, 0.3249246750228623), (1383, 0.32488827208712656), (1731, 0.3248345641605199), (3220, 0.32476254728101056), (3238, 0.3245576615178727), (1592, 0.3245509943202689), (294, 0.3245424329665829), (1168, 0.32451149146917224), (2222, 0.3244592568935059), (3832, 0.3242997497106021), (2680, 0.3242803444887862), (3098, 0.3242086251238899), (3779, 0.3241140252378747), (702, 0.32409825163749967), (1242, 0.3240256124345705), (1253, 0.32397332396221634), (3402, 0.3239635006253096), (3216, 0.32392355495566877), (3334, 0.3239207539231181), (2922, 0.32383724226458693), (1245, 0.3238161915474385), (3841, 0.32379162395611477), (934, 0.32374049934914806), (1733, 0.32369674657097747), (482, 0.3236769980676691), (2009, 0.3236371551416373), (1508, 0.32359016685523884), (1108, 0.32352333803349065), (1308, 0.3233932596939032), (1536, 0.32327846153795076), (3842, 0.323233846534431), (2054, 0.3232290443469897), (3127, 0.32315211477830186), (1917, 0.32312836286028823), (2969, 0.323109971445499), (1098, 0.3229413403112899), (2653, 0.3229395531493543), (2958, 0.32289764155598677), (525, 0.3228434105053108), (3893, 0.3228098907850082), (2151, 0.3227687574800253), (1994, 0.3226966302384983), (3105, 0.32268716168834355), (814, 0.32245100869710563), (2730, 0.3223981644901525), (3210, 0.3223689124590977), (147, 0.3222300372315115), (4265, 0.32216079528704944), (2978, 0.3221307712535019), (2597, 0.32209026560381143), (1653, 0.32206804769314257), (2906, 0.32197697356101074), (981, 0.32195463625586435), (2402, 0.3218892426318498), (3976, 0.32176892156656656), (2757, 0.3216839768998316), (198, 0.32161150956581175), (383, 0.32159439283213637), (4303, 0.321517068007963), (3228, 0.32142026798215373), (3377, 0.32115585639020083), (3527, 0.32115295668315363), (3081, 0.32110119191643116), (3877, 0.3210912845175122), (2033, 0.3210745667082865), (1336, 0.3210599559045379), (2157, 0.32100835741689926), (1200, 0.321005169730629), (1501, 0.3210050882512835), (1232, 0.32090466545736734), (2955, 0.3208489378171408), (4247, 0.3208043027499688), (3031, 0.32076447525777846), (3413, 0.32075152515601324), (42, 0.32075074399196424), (3440, 0.32074371388248574), (2437, 0.3205306438225652), (1547, 0.3204806549615262), (1885, 0.3204801762703027), (968, 0.32042705131267185), (760, 0.3203222819756063), (3631, 0.3201794327632984), (2756, 0.32016791747357265), (3317, 0.32013916010992866), (1371, 0.3200512735650544), (3906, 0.3199945030050791), (1032, 0.3198187203939487), (2072, 0.31980087385393313), (3145, 0.31978975898294115), (1389, 0.3197639429786934), (1316, 0.3196857100113338), (2313, 0.3196587256741941), (1817, 0.31947917956478183), (159, 0.3193072828634717), (3415, 0.319277886294048), (1938, 0.31923347930781004), (1317, 0.31917267437663266), (4132, 0.3189178353499795), (4157, 0.31889180862668953), (2029, 0.318832580616531), (2101, 0.31853256185461426), (3477, 0.3185107657102014), (2991, 0.3184811200450819), (2794, 0.31847122984266996), (1373, 0.3184059424038859), (4609, 0.3183546840917675), (1675, 0.3183208804261125), (495, 0.3182766823574164), (1684, 0.3180269310558277), (1756, 0.3180017091573673), (3857, 0.31791991225603483), (3246, 0.31785857889379593), (1631, 0.31772178951577645), (4398, 0.3176513688559808), (2096, 0.3176290552799709), (719, 0.31754485065779803), (2811, 0.3175226875624682), (29, 0.31749064194076354), (3188, 0.3174333803383184), (3826, 0.3174315173003165), (199, 0.3174000859993697), (624, 0.317320330182088), (1695, 0.3173121044918141), (2527, 0.31725693357787277), (2529, 0.3172415804207795), (78, 0.3172379477489846), (508, 0.3172188262514479), (3156, 0.31716239036760846), (1562, 0.3170448013891629), (4357, 0.3169612275414795), (1986, 0.31695251456862517), (432, 0.31681520862887436), (155, 0.3167559814325663), (309, 0.3166772120624741), (106, 0.3166734579900457), (3487, 0.31666128886865014), (1582, 0.31637339596991376), (2230, 0.31634329455762306), (1828, 0.3162396972740556), (1431, 0.3162036517539083), (3921, 0.31611462035628324), (2834, 0.31606747143504615), (149, 0.3160340495834296), (1425, 0.3160244505116736), (1151, 0.3159927051837521), (3155, 0.3159060407650336), (3934, 0.31586457055363865), (4402, 0.3158071480098409), (1320, 0.31561844258472704), (3768, 0.3155720491219561), (49, 0.31551373433362295), (1440, 0.3154541179187023), (1687, 0.3153495030840307), (3920, 0.31509283611890443), (4489, 0.3150481933636401), (911, 0.3148029343920428), (1576, 0.3146480062650021), (4164, 0.31452967113046065), (3964, 0.3145033354846099), (2173, 0.3144079510617291), (3958, 0.3143300117901688), (627, 0.3142249067180149), (642, 0.31401403474584244), (3064, 0.31401133248825797), (11, 0.31394207644844324), (2050, 0.3137794815131242), (2126, 0.31365141592937884), (1224, 0.3136250124128347), (1376, 0.31356399304974775), (1686, 0.3134078182218734), (1588, 0.3133333475446265), (3839, 0.3132839449575908), (79, 0.3132308049643844), (98, 0.31323033743905854), (3665, 0.31318141267052196), (2599, 0.31310304491199903), (1868, 0.3130466141096009), (3998, 0.312985126172063), (1367, 0.3129816348429936), (1777, 0.312940720027762), (1574, 0.31271590420762796), (3707, 0.3126591971621156), (3847, 0.3124693213244554), (1916, 0.3124501448084216), (2121, 0.3121916493970825), (1231, 0.31218788829962774), (139, 0.31211007440352256), (924, 0.3119098638466855), (1577, 0.3118712971914982), (388, 0.31163393314092447), (866, 0.3116024736200991), (2907, 0.3113692405871707), (1441, 0.3112189108033689), (1478, 0.3111933361431537), (1842, 0.31115554651431704), (3833, 0.3109544664694276), (2595, 0.31094401129401444), (3018, 0.31090655440391224), (3791, 0.31089040910797183), (905, 0.3108747927565592), (3895, 0.3106759298611118), (2927, 0.31066598325563344), (4420, 0.3102766416528888), (2085, 0.31025887544398667), (2278, 0.3102396995832924), (939, 0.3101757943221645), (4078, 0.3101029078407728), (4515, 0.3100701467723904), (1893, 0.31005912504214367), (1416, 0.30996536492064414), (2134, 0.3099324340247135), (2499, 0.30988666182329344), (1419, 0.3098409091418678), (3425, 0.3098133263654686), (1254, 0.30970238161982727), (3613, 0.30968082006451747), (3682, 0.30957023568676834), (3366, 0.3095245568190168), (2005, 0.3093423061389684), (2867, 0.3093357007695076), (2318, 0.3092078870457634), (1780, 0.3092018969122885), (3340, 0.30914602673645325), (4056, 0.30913065557972025), (197, 0.30905486884559896), (4429, 0.3089010730342528), (1309, 0.30889125952504426), (2660, 0.3088888683195075), (2533, 0.3088549678557279), (2192, 0.30869536615828286), (3171, 0.3086558024676259), (421, 0.30861672463783324), (1655, 0.30859997846385495), (4528, 0.30858614070250406), (319, 0.3085184853337384), (2081, 0.30844157395770777), (3093, 0.3084348484153751), (4342, 0.30829362233044333), (3790, 0.3082427983166706), (940, 0.3082187305569794), (1908, 0.3081897195109547), (1193, 0.30816712972016064), (903, 0.3081484199579737), (1612, 0.30804836454102485), (2194, 0.30801372009992256), (881, 0.30799071067667916), (1488, 0.30771115118232206), (3195, 0.307674447121444), (3818, 0.3076652711316264), (2545, 0.3075467678850556), (3966, 0.3075463191212848), (709, 0.30715377498642976), (4514, 0.30696821937986574), (3068, 0.3068669962140228), (1256, 0.3065790381300086), (1040, 0.3065526324228433), (3539, 0.30647154839207463), (1102, 0.3063586886672407), (972, 0.30628536081615243), (1929, 0.306105421918527), (3584, 0.3059618205905464), (2688, 0.30593029426621776), (4207, 0.30578647883919624), (3946, 0.3055750285149776), (1033, 0.30548427814754514), (2761, 0.3053840195258635), (2037, 0.3053409833795425), (2094, 0.30532063708084267), (3626, 0.30525036479288653), (1586, 0.30523694007943486), (4165, 0.3052333733766751), (1932, 0.30513542289503526), (3481, 0.30499067094877375), (1384, 0.304951858466263), (3026, 0.30492094141118636), (1595, 0.3049054450628297), (2602, 0.30487777922914666), (1077, 0.30465853710798513), (3794, 0.30456401271575473), (1801, 0.304562358720899), (3685, 0.30452171359303926), (3227, 0.304336902701246), (1326, 0.3042782634966728), (1956, 0.3041002895249906), (3759, 0.3040138474473674), (2093, 0.30381236091256975), (1482, 0.3037217815868682), (703, 0.30355861060337336), (740, 0.30339775533419255), (3817, 0.3032425667727003), (4263, 0.303234629315485), (783, 0.30300978063575607), (1757, 0.3030055640181243), (1205, 0.3028815152859332), (1075, 0.30282920648838874), (2158, 0.3028213167273683), (134, 0.3028167477763676), (2771, 0.30281220703878786), (287, 0.3026875741013866), (2167, 0.30254654735099634), (2451, 0.30246683958705856), (2715, 0.3023744595118573), (2439, 0.30235081512231765), (4101, 0.3023332253120282), (63, 0.3022570396666679), (889, 0.3020026939665923), (520, 0.30196234188622084), (1847, 0.3018931391051414), (3304, 0.3018900114115342), (1409, 0.3018425296526664), (4084, 0.30170760978858746), (2953, 0.30158164501294016), (1392, 0.301531215046179), (2143, 0.3014650336438509), (2021, 0.3014641679359716), (4269, 0.30137762223524767), (1853, 0.3012430497914623), (1034, 0.30101264901566316), (3328, 0.30101241681166463), (4097, 0.30100111197395396), (2087, 0.30087455701976706), (2028, 0.3007625486805653), (1818, 0.30064647098630337), (337, 0.30043211546812165), (1645, 0.3003226694778944), (3581, 0.3002700172493908), (1450, 0.3002483703380836), (1017, 0.3000882712606068), (3236, 0.3000384041967273), (3871, 0.2999649431836731), (3330, 0.2998617232687329), (3985, 0.2998466929439578), (236, 0.2997964690636676), (967, 0.2996257762357107), (4464, 0.29961804159921984), (3813, 0.29958466464510275), (146, 0.2995256888708618), (1099, 0.2995027462880016), (871, 0.299497733022301), (4215, 0.2994848403778781), (840, 0.29931314375365736), (1405, 0.2992551367555927), (1163, 0.29922904057647104), (1889, 0.2988489261127916), (4246, 0.2987488701159644), (1683, 0.29869926214331055), (1479, 0.2986542613833323), (3421, 0.29863371423691815), (2720, 0.2986111849208122), (461, 0.2985498528189618), (3861, 0.2984668350512102), (1435, 0.29834440594334366), (1966, 0.29828300146264514), (1933, 0.298231573650926), (1575, 0.2982226407209907), (1984, 0.2980431514031467), (364, 0.29803869984068043), (3106, 0.2980185349918916), (1390, 0.2978585732844569), (4008, 0.2978256994377253), (1197, 0.2977775929166526), (1736, 0.2977158718587107), (1878, 0.2976776507936591), (1264, 0.2976342997161132), (2099, 0.2974829331175716), (1407, 0.29743287584714084), (672, 0.2973331006360384), (2703, 0.29728614879705256), (2000, 0.2971762797088337), (2485, 0.2971601923974748), (3534, 0.29705162328188556), (2553, 0.29695006076880126), (2003, 0.2967311558681864), (1370, 0.296520523455081), (356, 0.29649031387357005), (784, 0.2963631975229372), (2020, 0.2960335007338424), (785, 0.2959152097396202), (1363, 0.29587996432028696), (1942, 0.29581034591703353), (2584, 0.2957568656401677), (1578, 0.2957475008485034), (1447, 0.2956778941410359), (3812, 0.29541446212538186), (4371, 0.295358336984728), (3234, 0.2952425966709664), (4586, 0.29512076302380297), (1709, 0.29503255815085255), (192, 0.2949703603876992), (2160, 0.29486295409714625), (3789, 0.294860940720146), (4349, 0.29483840657160637), (2472, 0.2947973530377871), (4020, 0.2947026244671807), (324, 0.29454861258419507), (1627, 0.29452137885901775), (3008, 0.29434880315108974), (1735, 0.2943446128492801), (1844, 0.2943251799278512), (3392, 0.29423155570391013), (4071, 0.2942074533784055), (4212, 0.2940608077107571), (1752, 0.2936752483688314), (1343, 0.2936580360784728), (2024, 0.29361691745309315), (296, 0.29356123128199013), (922, 0.293392208097941), (776, 0.2933484133230019), (831, 0.293314892283373), (1212, 0.2933137644568937), (4270, 0.2932870649115565), (3905, 0.2930217614648968), (2539, 0.2929743929306354), (1278, 0.2928513632452219), (1115, 0.29261115436567914), (33, 0.2924417486446102), (4589, 0.2922207065367644), (3772, 0.2920681482083734), (2166, 0.2920041574671834), (2240, 0.2917809853573286), (1623, 0.2916540103388965), (3925, 0.2915055616896362), (4128, 0.2914359052823478), (1902, 0.29141384439651824), (1676, 0.29131862147130444), (745, 0.291277527364467), (561, 0.291269806909872), (4066, 0.2911756680542414), (1708, 0.29117038520892924), (4732, 0.2910682542646033), (4490, 0.29089754729822836), (1798, 0.2907170898398488), (1064, 0.2907066006857936), (1133, 0.29055875503243506), (1613, 0.29049279773721054), (138, 0.2904258431311388), (779, 0.29031514407245024), (2964, 0.2902669443099844), (216, 0.29002282031510085), (1079, 0.2899723895380329), (1930, 0.28992357465967933), (931, 0.28987375259113735), (3816, 0.28980862341965274), (2274, 0.28975300045974683), (2424, 0.28963993943197575), (2624, 0.2896288762481657), (173, 0.28962223228700074), (1084, 0.28954366827670047), (2118, 0.28947229998995894), (3948, 0.28944456347711706), (1214, 0.289431972790764), (1790, 0.2894293671507708), (3580, 0.28937637699124974), (3984, 0.2893682155699576), (1130, 0.2889220261114459), (1157, 0.2886385999938205), (270, 0.2883774109795139), (761, 0.2882749568780457), (2142, 0.2881234451902333), (3557, 0.28805644262421726), (3119, 0.28789342632501813), (780, 0.2877691459887415), (2917, 0.28767006656374605), (1750, 0.28746375227284837), (1248, 0.2872705792625529), (3252, 0.28725295674301876), (723, 0.2872250298050416), (1914, 0.2871892715880419), (2962, 0.2870385607157514), (1590, 0.2868928831111663), (1453, 0.28688712447322806), (1448, 0.2868630678492287), (2608, 0.2868408591874685), (4219, 0.2867166482892894), (577, 0.2864787180290136), (3287, 0.2863443172402046), (4696, 0.2863080225465778), (2217, 0.28627098361637043), (1230, 0.28615649849003305), (1644, 0.28613245029178136), (1949, 0.28612260410633966), (3411, 0.2861074774980946), (2854, 0.28606437141980307), (1990, 0.28596894844272175), (2164, 0.2858677222394438), (3629, 0.28586661879812386), (3005, 0.28582070848217384), (2743, 0.2857234821432604), (1724, 0.28564901388199765), (501, 0.28562997199001544), (1485, 0.28561886006824855), (2972, 0.2855976925745075), (2187, 0.2853967470773753), (764, 0.2853794173930246), (4725, 0.2853677917852483), (1679, 0.28533365116697473), (1109, 0.28515089201709576), (3942, 0.28506024956630943), (4029, 0.28504687068105855), (2002, 0.28504322716472946), (3229, 0.28501752738496006), (943, 0.2849967124239841), (2979, 0.28494944928768023), (1420, 0.2849436824332526), (1918, 0.28493225690327634), (2414, 0.2849019291550795), (1583, 0.2848315998808409), (2422, 0.284797471080867), (4047, 0.2847645711162721), (1156, 0.2847468898561444), (4415, 0.2847367171198742), (4358, 0.28473244237501877), (510, 0.28451906004306365), (3806, 0.2844075786523221), (1585, 0.2843849107669026), (1851, 0.2843201450757814), (1085, 0.2841786170196289), (2135, 0.28417158566253353), (1963, 0.28384451618138445), (896, 0.2838167562117543), (3065, 0.28378571688956333), (996, 0.2837744991064885), (2251, 0.2837271101275385), (2575, 0.2837182757222108), (4396, 0.28367686481190424), (3719, 0.28351297199951236), (3634, 0.28346085375159724), (4457, 0.28344772118785944), (3864, 0.28330992539639477), (1639, 0.2832878407511461), (886, 0.2832492966360626), (2065, 0.2832356146037153), (2060, 0.28320804688932616), (2521, 0.2830476001531036), (3401, 0.2830086841905504), (936, 0.2829750123558148), (1302, 0.282974606922743), (1980, 0.2828694516918656), (3221, 0.2827569583840886), (1926, 0.28269525926000755), (4491, 0.2826774805722031), (4616, 0.28245962514278733), (978, 0.2824118951828635), (2159, 0.28240777298727127), (2872, 0.28225068505049156), (2066, 0.2822430882311168), (1428, 0.2822098895720806), (1862, 0.28195367541084526), (4160, 0.28167398015201295), (1401, 0.2816232248314761), (2797, 0.2815628927319781), (595, 0.2815357401271947), (86, 0.28145209847659464), (4694, 0.2813839753740062), (441, 0.28126803403289297), (4403, 0.2812483533578919), (2145, 0.2812407530335437), (951, 0.2810871584556569), (2056, 0.2810596500351025), (1408, 0.28100535492576445), (3431, 0.2809641759756507), (1301, 0.2809573709610038), (4551, 0.28091104517883675), (140, 0.28081742800743237), (2825, 0.28071445717852306), (1237, 0.28064886469034145), (1035, 0.2806148408648633), (666, 0.2806111632362052), (3022, 0.28046780849506797), (1293, 0.28045209230725643), (4518, 0.28043746974930844), (865, 0.28029284230369306), (2147, 0.2802206881139529), (4021, 0.28016356266867243), (4337, 0.2800306897290625), (555, 0.2798888570930735), (3971, 0.2798648252291736), (1943, 0.27978803721084666), (1051, 0.2797448290403343), (1898, 0.27948313374737904), (1650, 0.27939928904839223), (2014, 0.279348414582532), (2064, 0.27904652002189145), (660, 0.27888957996794156), (3437, 0.27888415242405973), (2075, 0.27858460757789616), (2155, 0.27855585556096335), (471, 0.27850042129006974), (2549, 0.27849153927828224), (1816, 0.27838490547669603), (1941, 0.2783449430564958), (2372, 0.2781990095090325), (3991, 0.27818134010198753), (1837, 0.2781146321206686), (1671, 0.2779462821453424), (1159, 0.27780055732598763), (2899, 0.2777405793201909), (1981, 0.2777208691019128), (4040, 0.277678477175982), (2881, 0.2776643573723527), (1386, 0.27764662600873136), (2926, 0.2775486273897108), (697, 0.2775017197182734), (478, 0.27747075718477726), (1185, 0.2773217874860058), (2938, 0.27719394056531815), (3380, 0.2771878018471947), (2977, 0.2771648413420991), (1670, 0.2771574996570153), (1299, 0.2770940504819081), (2671, 0.2770779039419186), (1161, 0.2769960008587764), (1648, 0.27680593236052287), (2443, 0.27670052251261695), (4572, 0.27667208639819424), (4556, 0.27665890766583956), (2973, 0.2765874144257322), (1996, 0.2765245797250418), (3190, 0.2765068341405292), (1619, 0.2764394255966862), (4636, 0.2763806605568578), (789, 0.2759216580943739), (1418, 0.2758662591729655), (711, 0.27585960273314036), (2952, 0.2758149200172604), (1369, 0.2756526160315522), (4367, 0.275370558249665), (2010, 0.2753516055559577), (1848, 0.2752628890556225), (3648, 0.2751947293722548), (2097, 0.27517387598144655), (3608, 0.27514750656456316), (3215, 0.2751470456124286), (200, 0.2751356178172126), (2503, 0.27503706487734536), (434, 0.27498115474690177), (1657, 0.27497769356577734), (2221, 0.27496434138178744), (1836, 0.27485458986788847), (1707, 0.2748310596987785), (863, 0.27450303159835243), (3912, 0.2744154883797639), (1038, 0.27415976437592066), (2068, 0.2740473125196465), (1682, 0.27396891753482233), (2971, 0.2738708257300483), (2915, 0.2737531468853332), (1572, 0.2737390801502305), (115, 0.27371445856570925), (1959, 0.27369197342231344), (3015, 0.2736638582344195), (1975, 0.27353095408845257), (3071, 0.2734957631969707), (2473, 0.2734878270314285), (1858, 0.27347864315929954), (691, 0.2734365435806302), (4427, 0.27324967032348974), (1366, 0.27319430676273093), (2760, 0.2729063671086522), (1442, 0.27265337673832957), (1385, 0.27262378384911184), (4394, 0.2726160898032856), (2047, 0.2726079768312053), (1252, 0.2723966317917701), (4380, 0.27220149094702234), (1945, 0.2721305239346904), (1247, 0.27209880290988786), (1830, 0.2719479440861605), (4497, 0.27194601361659854), (4604, 0.27185660956343805), (1268, 0.2716841560733386), (1533, 0.27110285549267427), (2696, 0.2709872301005819), (358, 0.2709573838664481), (2746, 0.2709257710916395), (2262, 0.270860158635321), (888, 0.27060317765740943), (914, 0.27044896704072224), (4617, 0.2702634024782651), (1338, 0.270178331366007), (2519, 0.26984228390194953), (641, 0.26977283416233433), (3667, 0.26968636873902435), (1833, 0.2695796284241485), (1304, 0.26954979227650827), (1891, 0.2694937625868574), (4733, 0.2694936579236156), (1397, 0.2694669588991899), (1732, 0.26938488469937905), (1915, 0.269367062735649), (1884, 0.2692862362748517), (1875, 0.2692067094991693), (1688, 0.2689712701230652), (2559, 0.2689538745444813), (1422, 0.26893299051325936), (2871, 0.26889403465979544), (2432, 0.2687967686728263), (2353, 0.26870980208992074), (1673, 0.2686148713773698), (3120, 0.26852995633498505), (1907, 0.26837760211233724), (2637, 0.2683416285618533), (1892, 0.26834122062673893), (4115, 0.26755569150832825), (1879, 0.2674975430323585), (1845, 0.26748180166628793), (2532, 0.26735985841062), (1300, 0.2673439500330797), (2939, 0.267302934113293), (3135, 0.2670599810817906), (3281, 0.2670052528317412), (1036, 0.2669940723748646), (2046, 0.26678015220002865), (1589, 0.2667000252662909), (1920, 0.2666401985762043), (1030, 0.2663054693174539), (2138, 0.26629968643614566), (2263, 0.2662802256551469), (2139, 0.2662061912659654), (4307, 0.26614806168182925), (2076, 0.26589856080703245), (1909, 0.2657222130443372), (1222, 0.265575409805125), (1394, 0.2651251782876585), (4176, 0.2650660082534868), (1819, 0.26506175463113657), (2154, 0.2650595131568707), (1677, 0.2648222614151264), (3930, 0.26458613721549357), (1430, 0.2643150369999735), (2152, 0.2642967950455025), (2982, 0.2641689273903914), (668, 0.26404808233860955), (838, 0.26391630089629614), (4209, 0.2638867954098125), (475, 0.26380207283246154), (4114, 0.2637054403416351), (1090, 0.2631768468248223), (1808, 0.26299124735191176), (1797, 0.2629443676625502), (4672, 0.26290796432436414), (4628, 0.2628116422355043), (4291, 0.2627647911005656), (3170, 0.2627166560662698), (3149, 0.2624540310522675), (3146, 0.26243408653043565), (704, 0.26232434112389075), (437, 0.2621535484212762), (1630, 0.26210859094115285), (2583, 0.2619575507287394), (96, 0.2618184186696873), (2008, 0.26181311241579236), (1136, 0.2616383829895627), (1958, 0.26161235421372425), (1350, 0.26158561647774337), (2489, 0.26155737800386764), (897, 0.2610950695238313), (1095, 0.261033299653508), (2515, 0.2604569831221957), (1666, 0.26038682784547496), (4087, 0.2603171408853378), (644, 0.260153302981414), (1210, 0.260000637071317), (1692, 0.25987882785350536), (1286, 0.2598779610654897), (4463, 0.25987596392668166), (741, 0.25972682986143397), (2859, 0.2596007162064106), (2071, 0.2595833647506611), (2077, 0.25957209154071575), (1743, 0.259483108512289), (1150, 0.25923791047067263), (1288, 0.2590765156763691), (1223, 0.2590555978821659), (4173, 0.2589928987611904), (498, 0.2588531252413236), (2043, 0.25876678832721417), (4169, 0.25876176736638445), (1204, 0.25856741940547634), (3890, 0.25839977900683636), (4386, 0.2583360880799803), (1330, 0.2580207963351209), (3322, 0.25800519977446795), (1314, 0.2579185539515488), (2333, 0.2579167749352763), (3332, 0.2577295164445757), (1764, 0.2577151373195139), (1967, 0.25759544456465466), (4740, 0.257419054992243), (2113, 0.2573797854158826), (1199, 0.2573292061989226), (1761, 0.2569553981549251), (1971, 0.2569058863240239), (4601, 0.25678016600353626), (3562, 0.25670129800421043), (2795, 0.2566790053721085), (3331, 0.2564468934247793), (1747, 0.2562263655507764), (2847, 0.2561095246687226), (3173, 0.2560452487920807), (1658, 0.2559619013143754), (1359, 0.25595481335083403), (3625, 0.2559497430535632), (1704, 0.25558544748749007), (3268, 0.25556739614470025), (1285, 0.2554941766464523), (4550, 0.25529767647845103), (210, 0.25522409797357454), (2074, 0.2546754478841258), (2517, 0.2546617615302327), (2406, 0.2546392490816622), (2593, 0.2544191198766958), (2387, 0.25412714100029454), (1934, 0.25410818376872407), (2044, 0.253781055211386), (3194, 0.25374321438833003), (1465, 0.25374025009848583), (2115, 0.2536630773413693), (4108, 0.253646168575554), (1182, 0.25321095433764856), (1276, 0.25313756317552094), (1935, 0.2529844866233994), (2049, 0.25286376612671446), (1746, 0.25269877981517075), (1395, 0.25259798735199174), (2634, 0.2525636159187456), (3099, 0.2525108560443912), (2656, 0.2522287932834035), (1379, 0.2518724655255307), (1470, 0.25184174935807163), (3935, 0.2518203431033233), (3950, 0.25174413990061145), (4243, 0.25171603774083684), (2306, 0.25163228015614647), (1812, 0.25144382042675956), (2685, 0.25113000279369185), (2030, 0.25076396387706085), (766, 0.25041543837395963), (4301, 0.25033958248753563), (2080, 0.250207113662811), (1965, 0.24993684728143578), (3553, 0.2499038903427232), (531, 0.24984183689288567), (1208, 0.24963314878382487), (3757, 0.2495884221448992), (3500, 0.24952777478248342), (2253, 0.24949111722425898), (1694, 0.24929580408631377), (1867, 0.24910783417794655), (3023, 0.24902503559205025), (4146, 0.24899308018567062), (2461, 0.2489318647123418), (4359, 0.24886695867486144), (4167, 0.24878518579451733), (1187, 0.24875750344328784), (4397, 0.248695567586711), (3617, 0.24867907391363306), (2995, 0.24850853869690895), (4594, 0.2484865671032489), (2862, 0.24829836094246008), (1822, 0.24829014798380308), (3849, 0.24819840453372274), (3347, 0.2481783250591043), (3189, 0.24785744096571402), (2774, 0.24775777139768795), (4520, 0.2475978387138363), (1977, 0.247588436001824), (1290, 0.24733721107406895), (4699, 0.24726777596396096), (690, 0.24722810326190453), (3511, 0.24722325628501965), (1144, 0.24717516484612018), (4548, 0.2470014417920163), (2706, 0.24695365816723197), (1477, 0.24694751796085304), (1601, 0.24662743331311232), (153, 0.24646503450471705), (3882, 0.24635250252053822), (1444, 0.24629410386273767), (3038, 0.24607394444509648), (3274, 0.24602967114426383), (4031, 0.24596423429055103), (874, 0.24588244781396484), (1947, 0.24554635737632602), (1178, 0.24540654537347936), (1382, 0.24538141515952655), (2321, 0.24528041820012556), (1883, 0.24521738463111928), (832, 0.24512626117843322), (3973, 0.2450338785153434), (2818, 0.2450045731402752), (4475, 0.24494971955876538), (1960, 0.24465420400086252), (1668, 0.24462168156370362), (3652, 0.24430115170603484), (3600, 0.24393549800190542), (1953, 0.24391599914162632), (2511, 0.24371034507109754), (2238, 0.24349405317644887), (4418, 0.24342299482177943), (3482, 0.24328353990673846), (2768, 0.2430701249345223), (3699, 0.2429400257833683), (1171, 0.24272369156677792), (2305, 0.242685207868056), (3076, 0.2425182362369402), (4355, 0.24248703307379238), (3874, 0.24240504525786466), (326, 0.24234649568590452), (1992, 0.2421973398960105), (3273, 0.24205416068338076), (4253, 0.24158969257618154), (1826, 0.2415224935171914), (2141, 0.24146055608174108), (2630, 0.24136711722320037), (3825, 0.2412115779859937), (559, 0.24118213729701213), (2486, 0.24116068333155546), (1635, 0.2409764568305281), (2140, 0.2406771712385161), (3137, 0.24067494114058183), (2119, 0.2404483408658804), (1184, 0.24035880143103006), (3103, 0.24032445390977264), (3449, 0.24031887055835466), (2662, 0.24000814744176294), (2568, 0.23999254949782686), (1871, 0.23988210546794858), (1719, 0.23980090238587426), (1216, 0.2392875988871878), (2858, 0.23925525088355604), (4037, 0.23923084602273753), (3748, 0.23913134887321225), (542, 0.2388762986243916), (2275, 0.2387296934489436), (2594, 0.23867826401055933), (1759, 0.2385995195386285), (2744, 0.2385825590552935), (3048, 0.2385730236767707), (1632, 0.23853308993318936), (3824, 0.2385028753012714), (3365, 0.23846944032988376), (2391, 0.2383187231856083), (1605, 0.23824936875163863), (958, 0.23808406468525034), (4330, 0.23807594554554615), (4127, 0.23799461513426354), (3386, 0.23796716106930293), (2435, 0.23792681560196388), (2589, 0.23787309972379672), (3819, 0.237568000144219), (2048, 0.23754421482993757), (926, 0.23735169650089724), (4356, 0.23732993913800293), (3513, 0.23721017747137094), (4370, 0.23705837268126748), (4109, 0.23701192264783638), (547, 0.23692874779344328), (3909, 0.23692730152333247), (3887, 0.2366669400103591), (4587, 0.23653646368240527), (1919, 0.2363867678537266), (3315, 0.23633754468390675), (2500, 0.2361733657941793), (3027, 0.23612015403528602), (3836, 0.2360310284360223), (1318, 0.2357259527709846), (4151, 0.23563129602695052), (1625, 0.23542292476358978), (4746, 0.23532036235127365), (1865, 0.23502426294695491), (2965, 0.23496831169645044), (3729, 0.2349466291373301), (4532, 0.2348370004981432), (2769, 0.23479358186967236), (2569, 0.23466298124792362), (1805, 0.23457915760636525), (4553, 0.23439407210539354), (4393, 0.23384822274654987), (1800, 0.23373980644969242), (453, 0.23367613950510113), (947, 0.2334996724250652), (985, 0.2332880456509104), (4686, 0.2332271110582294), (4676, 0.23320562133016948), (4585, 0.2330006595763939), (2256, 0.23266380405403747), (4645, 0.23256314932581496), (1628, 0.23245429759081065), (708, 0.23238526116439578), (4254, 0.23148323458604164), (4333, 0.23135069373371378), (2940, 0.2309721622254337), (1744, 0.23077996943118353), (3721, 0.23066580263611447), (4118, 0.23041521317649144), (2592, 0.23026036997141466), (4260, 0.23025773474714328), (982, 0.2301466058875203), (549, 0.23013440174969585), (3476, 0.22991578336551136), (1426, 0.2288954187837049), (4743, 0.22889385510587712), (1594, 0.22878151847377395), (1411, 0.22875648099559695), (2025, 0.2285584233709504), (1100, 0.22816726101033805), (2442, 0.22813492866074542), (3616, 0.22805948775689636), (1813, 0.22762001006801671), (998, 0.2274218970626013), (133, 0.22725145605422972), (2218, 0.22725061941908156), (3802, 0.22706115110563302), (1689, 0.2269981519007404), (3359, 0.22685833432348881), (4512, 0.22681061263795058), (4461, 0.22657451629210712), (3573, 0.22653225373525512), (4014, 0.22646349824976933), (4302, 0.2264321138312024), (2866, 0.2262790780796867), (1596, 0.22608856246850512), (1580, 0.2260324231184414), (3423, 0.2257447148004297), (2587, 0.22573603006798074), (1423, 0.2257328655271691), (2721, 0.2254999997860905), (1698, 0.22540672553158006), (3245, 0.2253872077531499), (2681, 0.2252173081242314), (3349, 0.22516259712078798), (3664, 0.22500680999430803), (2776, 0.22499848689587515), (2018, 0.2244970061092511), (3504, 0.22442821269222354), (1622, 0.2243672914227521), (2401, 0.2241738704588427), (1749, 0.22396214551682317), (3006, 0.22382388551080165), (4693, 0.2237129359403773), (1277, 0.22352481308698355), (3321, 0.22324978995201555), (4424, 0.22308468567619372), (3931, 0.222623142608046), (1972, 0.22252690118430699), (3614, 0.22204515360809052), (2380, 0.22203985265516962), (3774, 0.22191035547303362), (1661, 0.22174335590065178), (2125, 0.22121239780802487), (2265, 0.2210703823069004), (4539, 0.22101657731458219), (4391, 0.2207847926733694), (4652, 0.22056737035382956), (1037, 0.2204430901359042), (4484, 0.22043306033301138), (1991, 0.22017536647141833), (3239, 0.22015420720176754), (2860, 0.21998940114347845), (1086, 0.21988586618360403), (3291, 0.21981537184502412), (3209, 0.2197372593308978), (406, 0.2196257175544734), (3547, 0.2195275993885348), (2905, 0.2195050294107943), (3488, 0.21944880418534957), (1415, 0.21929865712282673), (462, 0.2191515871756779), (3928, 0.21913214248121055), (3307, 0.21881223434973054), (2470, 0.2185575310786529), (4748, 0.21850058503663966), (3514, 0.2184118127194903), (4642, 0.21835213673041315), (2877, 0.21724413233982556), (4319, 0.21691240443006235), (962, 0.21667772403144828), (2146, 0.21651706022278705), (2767, 0.21644499016442664), (4722, 0.21623504396176457), (2601, 0.21614407565821558), (2628, 0.21596697036256324), (3876, 0.2159095110175451), (2330, 0.2158380933220589), (4348, 0.21580493142796775), (4559, 0.21572942709756218), (4720, 0.2154112391291818), (2042, 0.21521171676351528), (941, 0.2151400205797253), (4292, 0.21507281117166155), (2869, 0.21500751805521334), (1062, 0.21499347965468596), (3563, 0.21473110466205841), (4194, 0.21466421506996522), (2649, 0.21449893736108527), (4147, 0.2144778604963493), (2843, 0.21398333077889126), (2339, 0.2139470438675615), (3940, 0.21386750913595232), (4018, 0.21385765414822958), (3800, 0.21377967925363267), (4249, 0.2137377582173863), (2220, 0.21348199518884636), (4059, 0.21343553177984775), (4702, 0.21295659630787173), (4632, 0.21268880041086063), (2308, 0.21252268213654424), (925, 0.21233291355553333), (921, 0.21228466074084032), (4369, 0.21224267739996194), (2282, 0.2117697006109796), (4172, 0.21149739023645492), (2063, 0.21145934372227754), (4500, 0.21145891019402852), (1339, 0.21112052859603964), (3136, 0.21102650060360448), (2350, 0.21099727481362912), (2332, 0.2108623865629174), (1046, 0.21083165710250673), (2676, 0.21053075954661052), (2619, 0.210453089396936), (2331, 0.21038739357350264), (4547, 0.2103569090015296), (4361, 0.21010874843160676), (1132, 0.21000312204012037), (3962, 0.20993780489598882), (1745, 0.209916631855335), (1449, 0.2097530569588469), (1183, 0.20957210977061602), (3364, 0.2093381642755828), (3809, 0.2092004342928596), (3089, 0.209087122816129), (3057, 0.20879979330202214), (2396, 0.20859140353063604), (1954, 0.20853284116951634), (4117, 0.2082973787236031), (2360, 0.20823919194991558), (2684, 0.208180528773416), (3162, 0.20794184614995076), (4709, 0.20766266013828208), (1467, 0.20755212200383288), (3111, 0.20736274047964154), (3378, 0.2073461442633574), (2654, 0.2071509739748936), (2463, 0.2070439515640482), (2427, 0.20702064791107375), (4584, 0.20699941804169159), (1748, 0.20695948216303484), (1832, 0.20687178781364296), (4304, 0.20645414343503804), (2509, 0.2063036347771683), (3656, 0.20630094518701125), (2731, 0.20629842229238513), (2642, 0.20625611374962627), (2880, 0.20615268838674491), (2897, 0.2061511101115273), (3465, 0.20608867866538133), (2448, 0.20600771777717025), (3820, 0.20589302491607772), (767, 0.20525452497738708), (4311, 0.2052094548487245), (4729, 0.20517504472829018), (4565, 0.20493870150217813), (2737, 0.2049194313188899), (1610, 0.2048977735698008), (4079, 0.2048700824581111), (4540, 0.20476070938225877), (1715, 0.20446904847867564), (1652, 0.2042784347602981), (1647, 0.20406141526119256), (3883, 0.2038796707642653), (3745, 0.20370649549017575), (2034, 0.20367837714037051), (2745, 0.20355992068097356), (3765, 0.20345501375232214), (3927, 0.20300796812784594), (2247, 0.20281229461238687), (933, 0.20268657907317644), (2537, 0.20259528984609823), (3471, 0.20259161553226204), (2632, 0.20258042297778597), (3062, 0.2025444790733945), (4341, 0.20242634918680205), (2928, 0.20229277633917173), (2827, 0.20215585420902502), (4605, 0.20208905326815582), (4141, 0.20207481458981627), (3983, 0.20187740906522042), (3459, 0.20181102094131567), (4252, 0.20152367397662088), (2163, 0.20112806157366667), (2563, 0.20109748239136302), (2176, 0.2009207766285029), (1741, 0.20080499318721814), (3582, 0.20076192313810667), (3184, 0.20060165360905047), (4596, 0.20043725211981675), (2911, 0.20040319979802426), (4232, 0.20030468382934902), (4179, 0.2002988152255219), (3999, 0.20021708688554035), (3383, 0.20015372522597416), (4613, 0.1999696659747165), (4171, 0.19995611103143016), (4752, 0.1998852092907254), (3139, 0.1997547322972866), (2425, 0.19929971028775836), (2327, 0.19929154026457235), (4492, 0.19926302348591582), (3716, 0.1990929007107692), (1717, 0.19896170729684254), (2420, 0.19851311336808583), (4390, 0.19835462841314772), (573, 0.19796353087813112), (3913, 0.19767759672891058), (4505, 0.19741121994062638), (3391, 0.1971332018764204), (3371, 0.19697104113932126), (4206, 0.19684840840515908), (1018, 0.1967973352493116), (3016, 0.1967288227569332), (3560, 0.19646668449182558), (4126, 0.19637316864074142), (2243, 0.19628961532241304), (3296, 0.19620483724829244), (3324, 0.1961319147344815), (2580, 0.1960231328825142), (3070, 0.1959755053951922), (3647, 0.1959119470114836), (2455, 0.19574716466909917), (3033, 0.1955998773113901), (4526, 0.19553170758155847), (2750, 0.19542427391939135), (759, 0.19534363476316755), (1125, 0.19529253499412216), (2385, 0.195114473121906), (907, 0.1949897974821683), (1019, 0.1948608598871414), (2693, 0.194745157679474), (3728, 0.19457565667264773), (3197, 0.19430096550334122), (3610, 0.19418411808281638), (2291, 0.19378789662274884), (3242, 0.1936911783075722), (2836, 0.19364499578889838), (2796, 0.19357686195748877), (2400, 0.1933294230243014), (2994, 0.19332413542026225), (4423, 0.19304082592617453), (4727, 0.192952893141626), (1702, 0.1928977075591447), (2411, 0.19239733316716234), (2188, 0.1920606572290518), (4190, 0.19179276858536715), (2436, 0.1917897537246674), (3054, 0.19169600581993826), (3644, 0.19169335856293124), (4738, 0.1914598964137621), (3515, 0.19131166555372361), (2738, 0.1912097556112976), (2234, 0.19100980792558758), (4660, 0.19090485037343594), (4287, 0.1902465525216108), (2466, 0.19019638383773468), (4285, 0.19013388035775156), (4701, 0.19012634202735687), (3764, 0.19000111999268507), (4634, 0.18997801561508695), (2204, 0.189955331483854), (4744, 0.1888697509240646), (2215, 0.18885708367674572), (3199, 0.1887816864286856), (2458, 0.1886933380502825), (2296, 0.1886775799824731), (2395, 0.18865539792670066), (2765, 0.18855337380086518), (4446, 0.18834472285024934), (2468, 0.18828723320113094), (2546, 0.18806903968164013), (4713, 0.18802363575979378), (2618, 0.18794641903526263), (4250, 0.18791140788143185), (3154, 0.18750811717716465), (2844, 0.1873568789429756), (3306, 0.187065123673557), (3878, 0.18698753732517237), (3653, 0.18668821872074673), (4675, 0.1865940901138807), (4201, 0.18650561376541974), (2397, 0.18649886359625834), (3578, 0.18615807416269045), (2645, 0.18613282687243793), (2935, 0.18591276542404472), (2747, 0.18589858620862687), (3844, 0.18571759092888265), (4734, 0.1856406972765921), (4737, 0.18561728077281894), (3056, 0.18558775540222114), (3265, 0.1855362582468436), (4728, 0.18522323203717347), (2581, 0.18516449206104194), (2837, 0.18490405821809525), (2241, 0.1847927850346412), (1022, 0.1843870224272361), (2384, 0.1843739909342675), (3650, 0.18418866401861994), (2299, 0.184181249282349), (4226, 0.1839422937113569), (4637, 0.1837432846667684), (2943, 0.18334579627888284), (3112, 0.18325311176557393), (4067, 0.1831663800046089), (2315, 0.1830651036425037), (4145, 0.18300520845702603), (2933, 0.18298362315731592), (3095, 0.18294161740928425), (3399, 0.18292946198319418), (1703, 0.18292502630833554), (2310, 0.1828877946939593), (4419, 0.18256770181261825), (3138, 0.1817311633055796), (2465, 0.18171127747404514), (2650, 0.1814992801453889), (3036, 0.181426306830904), (4631, 0.18136073502912972), (2709, 0.1810953306720657), (2946, 0.1810628671452987), (3489, 0.18102667895413482), (2810, 0.18100266828286837), (3762, 0.180887369854425), (2951, 0.1804451020942991), (2343, 0.17990610379739674), (430, 0.1797898941065232), (3518, 0.17970274608027872), (2449, 0.17956991838058442), (3533, 0.17949202688023824), (3205, 0.17944896322517465), (3594, 0.17942405796261496), (2647, 0.17932119533858684), (2290, 0.1790941163827503), (3758, 0.17879562544682143), (2591, 0.1787178493390661), (2341, 0.17857470793126995), (2171, 0.17849497016252777), (2469, 0.17847492089413336), (3517, 0.17847095712180736), (3024, 0.1783604361249737), (4086, 0.1777647570592745), (2376, 0.17758521349240217), (3253, 0.1773808878498459), (3418, 0.1773194046115937), (3579, 0.17728977079208644), (4657, 0.17726196469650837), (2441, 0.17718967994581497), (2260, 0.17717033800756474), (2375, 0.17710730197922073), (3172, 0.1770276513116024), (3302, 0.17696074876024376), (2367, 0.17682015282859592), (4554, 0.17662455608038774), (3219, 0.17659255254681924), (2281, 0.1763918654738013), (1690, 0.17631327068049185), (4651, 0.17619238666520387), (311, 0.17605367814059075), (1175, 0.1758001943380817), (2855, 0.1754573585527851), (4425, 0.17540553812161802), (3115, 0.1752712734665798), (2735, 0.17510894588441742), (2883, 0.17497098877956488), (2288, 0.1748596331637956), (2724, 0.1744932312943881), (2560, 0.17441463100010665), (3588, 0.17440513214444447), (4276, 0.17434574723609922), (2627, 0.1741997213359381), (3213, 0.1740006564451975), (2923, 0.17389374642916583), (2567, 0.17384507053401146), (3196, 0.17384315338380713), (2778, 0.17381020222291868), (4144, 0.17379906731994435), (2902, 0.173686991317038), (4326, 0.17364752084026286), (3556, 0.17364406209220554), (1877, 0.17363753190495795), (4042, 0.17355418134841416), (2554, 0.17341012754139074), (4706, 0.1733260655255714), (3067, 0.1732502588745235), (4593, 0.1727003964771406), (4562, 0.17269430524360735), (4030, 0.17256220920545523), (3084, 0.17252236053469064), (2805, 0.17228009091541377), (2450, 0.17227531411478478), (2983, 0.17211867893355096), (3222, 0.17169492067528147), (4395, 0.17165839620447132), (4508, 0.17154491583402037), (2208, 0.1713981450976051), (737, 0.1712851068487558), (3151, 0.17116808024769353), (3669, 0.1709963160393592), (4437, 0.1708629669787017), (2674, 0.17076778089267272), (2740, 0.1705654271228042), (2851, 0.17049213869675622), (2342, 0.17045006246758967), (2255, 0.17023086028145715), (2833, 0.17013230771261414), (2604, 0.1700973333160574), (2916, 0.17009492308064594), (3014, 0.1696148197104617), (2664, 0.1696008670102006), (3369, 0.16948720479180834), (2191, 0.16935536463082468), (2733, 0.16927053004605266), (3851, 0.16907836723487446), (2666, 0.16893070717942724), (2600, 0.16886969541259086), (4308, 0.16880773441084415), (4724, 0.16868104043800916), (2179, 0.16852705044139948), (2968, 0.1683234157317091), (2227, 0.16810496144855988), (4225, 0.1680937244597214), (2223, 0.16795953556800666), (3051, 0.16782792277814587), (4485, 0.1672813452300743), (4756, 0.16725673375750275), (3848, 0.1671934286708826), (2787, 0.16709839012057395), (2669, 0.1665739162286803), (2266, 0.1665364595914462), (2770, 0.1662233299427595), (3674, 0.1661457526697675), (487, 0.1655788190300236), (3575, 0.165274865815269), (2506, 0.16525909419191515), (3502, 0.16525730263200705), (4714, 0.1648191621376243), (579, 0.16428775459261613), (4742, 0.16422166333570917), (3187, 0.16410970778649572), (3704, 0.164108238964497), (2775, 0.16391599866498083), (3403, 0.16391135039299617), (3838, 0.16383861617727682), (3101, 0.16373529101063988), (2998, 0.16358540355755388), (1598, 0.1635845208221226), (2636, 0.1632106853070046), (2357, 0.1630189761216376), (4721, 0.1628764152357597), (1020, 0.16272190518036747), (3896, 0.16240352681617043), (630, 0.1622573556412481), (2319, 0.16218640411087853), (2433, 0.16206201870718745), (2885, 0.16181792206771214), (2212, 0.16160226578877276), (2210, 0.16152626401449538), (2514, 0.1615066260171917), (4293, 0.16150500833700496), (4635, 0.16146053553972708), (2202, 0.16127120462286934), (2404, 0.16122958793512404), (3295, 0.16089533995523916), (3303, 0.1608726821834918), (3683, 0.1607780136957507), (1753, 0.16071227893577342), (3285, 0.16048764501817883), (4443, 0.16024340301073653), (2889, 0.16016305488130725), (4284, 0.16013496648565165), (3638, 0.16001254534224024), (4726, 0.1598248820625311), (4736, 0.15976719853253485), (2393, 0.1597444367137599), (2954, 0.15962082508577996), (3297, 0.15949167868280856), (2722, 0.15944801166845843), (3040, 0.15942995891793313), (4705, 0.1593573677430867), (3117, 0.1593506592908969), (2640, 0.15932623646752525), (2207, 0.1593215232990912), (2572, 0.15896462811926806), (3203, 0.15886118761606965), (2477, 0.15881191819256235), (4521, 0.15867860418262603), (4749, 0.1585263706061574), (2990, 0.15835053126712867), (3248, 0.15824805727129682), (2966, 0.15810731023791266), (2309, 0.15807633384304628), (4692, 0.1578606357764594), (2551, 0.15780099350091079), (4061, 0.15766612744145378), (3528, 0.15761186493754176), (2670, 0.15750159001611358), (4603, 0.15732759331747), (3624, 0.15731682063235997), (3353, 0.15731535956626597), (1604, 0.15697541626754635), (3289, 0.15680851831659684), (3312, 0.15646538536986218), (3439, 0.15639657242673585), (2925, 0.15624549918508765), (2814, 0.15617168621433794), (4710, 0.15616860878429747), (4544, 0.15574809069109954), (4610, 0.15562695684713657), (3082, 0.15547638993588542), (3951, 0.15515644479702856), (2379, 0.15501495426633305), (3536, 0.15457892728938305), (2838, 0.1544358456214795), (3348, 0.1543923757850542), (4262, 0.15388979677143563), (2890, 0.15376425618992431), (3249, 0.153662290893674), (2513, 0.15357590390616938), (4372, 0.1535430736205102), (2646, 0.15353417771459857), (2739, 0.15344278497289468), (929, 0.15328864095322167), (3419, 0.1531872684369204), (2488, 0.15279253332982792), (3675, 0.15252200574319674), (4549, 0.1525176231817141), (4220, 0.1524321046764136), (4412, 0.15230894504576145), (3237, 0.15216860779517322), (4469, 0.15213279490461873), (4546, 0.15198975213344484), (4175, 0.15198035912253718), (3004, 0.15188464511386277), (4082, 0.15178667643995333), (3128, 0.15170770956804783), (2175, 0.15154899667925792), (3417, 0.15146770474678953), (3988, 0.15131747309901936), (3529, 0.15125301963449098), (3354, 0.1509052157692822), (2989, 0.15063761347617702), (4683, 0.15061345715938895), (2474, 0.15059888940798358), (2311, 0.15056617818781912), (524, 0.15035258120734218), (2734, 0.15025663621990004), (3198, 0.1502107022406395), (2286, 0.15012495965330142), (3763, 0.15000865052276552), (2874, 0.14993207784738166), (3175, 0.1497853280385147), (1841, 0.14960078386583814), (2842, 0.14932307202566256), (3336, 0.14921868876966532), (2705, 0.14921198051644827), (4239, 0.14911989632893574), (3967, 0.14899694977664016), (4166, 0.1489773719875934), (2864, 0.1489630087166319), (2987, 0.14890705124619624), (3251, 0.148648678443117), (3622, 0.14864753963189992), (3952, 0.1484208960573139), (2363, 0.14829333018353621), (3049, 0.14817639103833932), (2224, 0.14807938646883662), (2426, 0.1479866124711124), (3918, 0.1479306798863075), (3267, 0.14756460421646558), (3046, 0.14750095282086825), (3538, 0.1473275460106816), (2209, 0.14728342048541282), (4325, 0.1472613946355097), (4111, 0.14721506937654905), (3074, 0.14707368158360834), (4689, 0.14703181245313535), (2752, 0.14671720246633643), (4150, 0.1467138052653491), (4712, 0.14669285134186197), (2201, 0.1466849664648019), (4032, 0.14652320424704812), (3412, 0.14634992930441848), (2250, 0.14629396218232005), (574, 0.14614442317656723), (3456, 0.1460636012110747), (2344, 0.1460531177583424), (2590, 0.14602662652129267), (2394, 0.14595235551203503), (2324, 0.14591321914914177), (2924, 0.14590179167952674), (4222, 0.14586848460676957), (2226, 0.14582762865150778), (3107, 0.14581595331517633), (2840, 0.14568025082663474), (4499, 0.14562118111980976), (4757, 0.14546481347409895), (2347, 0.14535295602032955), (3680, 0.14528493791951508), (2388, 0.1450334899958403), (3640, 0.14478405669511552), (2708, 0.1446091656070411), (4691, 0.14432133245680315), (2479, 0.14423660827093124), (2751, 0.14416035868946636), (3770, 0.14408625591467702), (3796, 0.144074007954043), (3702, 0.1438049273084478), (3277, 0.14377579934952317), (2832, 0.14354704711893262), (2974, 0.1434664576423295), (2783, 0.143312602254393), (3113, 0.14329112029172864), (4750, 0.14312221572875838), (2891, 0.143035276452032), (3264, 0.14300361349146995), (4622, 0.14296387749049785), (2997, 0.14287739341224673), (3341, 0.14284290190434412), (3645, 0.14274080191133523), (3737, 0.1427213993113602), (2875, 0.14270682973858834), (4297, 0.1426024426598548), (3092, 0.14236169886835445), (2762, 0.14230273668264856), (3458, 0.14217325918951335), (2464, 0.14203718393469905), (3000, 0.14202283921298212), (4567, 0.1419912734995653), (3123, 0.14190370257735352), (3900, 0.14189919481778954), (3434, 0.14171321299429845), (4180, 0.14165875883513673), (3750, 0.14163549807528272), (3382, 0.1415810393925285), (2348, 0.14147811025891063), (2849, 0.141307563547971), (2475, 0.14123161911144697), (3185, 0.14052781719245047), (4455, 0.14034709488106123), (4208, 0.14028633398409318), (4545, 0.14021065837559002), (4133, 0.14011553317718528), (4413, 0.1399694813693115), (2879, 0.13978187694045113), (4188, 0.13975878466615343), (2364, 0.13969080737550668), (3472, 0.13964430550204898), (4196, 0.13964140650975357), (3050, 0.13935019715503716), (2248, 0.1390744061094148), (3086, 0.13873032267075744), (2748, 0.1386613319956283), (3408, 0.13863536176928018), (2626, 0.1385342825941598), (3755, 0.13813940438125843), (2887, 0.13808143037243112), (2884, 0.13748350077753052), (2236, 0.13743134350387368), (2490, 0.13743134350387368), (2328, 0.13732913077364087), (3282, 0.1372228006555667), (3009, 0.1370094533242888), (4110, 0.1368996305875331), (3506, 0.1368221412014456), (2195, 0.13670270350504257), (2312, 0.1366844461551788), (3994, 0.13659018138118334), (4177, 0.1364941621372007), (3821, 0.1364472120201085), (2831, 0.13620538485577152), (3589, 0.13616699993895864), (2314, 0.1361489003307352), (629, 0.13588486246443363), (3521, 0.1358731348968024), (3731, 0.13586429191724275), (3630, 0.13573005294468563), (2561, 0.13564369316884892), (2914, 0.13564369316884892), (4592, 0.13553971610108762), (4313, 0.13547423638053716), (2358, 0.1353110282810607), (3176, 0.13531066706693334), (3109, 0.13524148838990288), (4715, 0.13523988030442147), (2297, 0.13506177278788953), (4537, 0.13449647541531304), (2370, 0.1344158421830956), (2876, 0.13425603093194538), (3309, 0.13422697572132458), (4708, 0.1341689363076102), (3884, 0.1334092854363682), (4751, 0.1333064875340774), (3044, 0.13305835189199647), (2129, 0.13281205926609851), (3995, 0.13267940410308673), (2782, 0.132495648667573), (4120, 0.13225357191558496), (2816, 0.13118852089309593), (2556, 0.1310155370776695), (4671, 0.13099562460611447), (3686, 0.13089498396087343), (2585, 0.13082623037766739), (2457, 0.13073294185552556), (2777, 0.13068996311908787), (2607, 0.13063376890849057), (2901, 0.13061152078169921), (2712, 0.13049407315665856), (2304, 0.13035323746034244), (3558, 0.13026462570965036), (2949, 0.12990019076652795), (2936, 0.12936288644092137), (3037, 0.1290074292129964), (2821, 0.12882985150704115), (3400, 0.12876309829657626), (4229, 0.12858682576882804), (3891, 0.12821661986593527), (4522, 0.12795503417048196), (3165, 0.12788043447855613), (3749, 0.12761264566523434), (4048, 0.12729579016563022), (3829, 0.12708985533867054), (2180, 0.1268961937553541), (4571, 0.12685071179265983), (3679, 0.12674386521645417), (2467, 0.1265374027747249), (4382, 0.12653338962054256), (826, 0.12641048927582121), (2444, 0.12631799900534152), (4131, 0.12589797519854998), (4495, 0.12551061059690058), (4060, 0.1254127341738206), (2530, 0.12516261580541826), (4717, 0.12497040011762188), (3892, 0.12489379381180904), (4149, 0.12469815835723948), (2289, 0.12463972217867834), (3422, 0.12430227324669339), (3345, 0.12419287869350658), (4182, 0.12363534633987022), (3034, 0.12294724658128417), (3003, 0.12275790010438692), (3936, 0.12253352587124211), (2697, 0.122504872141084), (4519, 0.12236030361873547), (3035, 0.12222219557347669), (2707, 0.12221594026655662), (3526, 0.12164265705037278), (3080, 0.12161928971253673), (2355, 0.12133192052907861), (2651, 0.12132928956605529), (2552, 0.12105557301831277), (3897, 0.12082013689744814), (2655, 0.1207925557923287), (3121, 0.12063146539158848), (4286, 0.12003072139224652), (4405, 0.12000312080147278), (3678, 0.11989941594932074), (2431, 0.1197584856571209), (1029, 0.1195632488846888), (4573, 0.11914128962882917), (4129, 0.11904253417470906), (3585, 0.11832287424652671), (4230, 0.11808676767363549), (3822, 0.11741848363008049), (3479, 0.11739021952606031), (3510, 0.11717564668740832), (2199, 0.11694790146053065), (2340, 0.11688115478694523), (2932, 0.1167395605281644), (2967, 0.11654865537876173), (2531, 0.11625384752508357), (2244, 0.11624286042816563), (4487, 0.1153071265454133), (2679, 0.11529014295806143), (3257, 0.11521193506020815), (3687, 0.11517194241991037), (3032, 0.11466879927101138), (3293, 0.1144862956224535), (3063, 0.11425473508705764), (2657, 0.1141925131541254), (3414, 0.11373159053825854), (3932, 0.11316582762759322), (3545, 0.11308465470384706), (3243, 0.11253802991518472), (2186, 0.11242687176305365), (2378, 0.11229050073129236), (2659, 0.11207581321707423), (4237, 0.11205489389786401), (3214, 0.1117259599893531), (3263, 0.11166973740657875), (3455, 0.1113186491621685), (4703, 0.11122524133101919), (2992, 0.11090573783269968), (2446, 0.11050696085211441), (2678, 0.11046455427383561), (3140, 0.1102773244129626), (4570, 0.11027382448698163), (3856, 0.1102126439872333), (3148, 0.1100533999914032), (2346, 0.10969576896859527), (2644, 0.10952110558224937), (2698, 0.10947767665181073), (4698, 0.10940300438310432), (2269, 0.10922163203335297), (3571, 0.10919356153772906), (2695, 0.10919308828574677), (3703, 0.10911850157911394), (3087, 0.10904626844280449), (2596, 0.10873366287631564), (2320, 0.10865333276130985), (3561, 0.10863192222588244), (1026, 0.10852219418102228), (4416, 0.10849199196145677), (2242, 0.10848934654487978), (2579, 0.10841417130810052), (4064, 0.10801761808758238), (2829, 0.10799362539179351), (2383, 0.10789956532758598), (3537, 0.1075624324944039), (4092, 0.10755584330606677), (3424, 0.1075476561239947), (3535, 0.10753865508157252), (3110, 0.10753333726063594), (3577, 0.10722009544067872), (3029, 0.10704249426347646), (3933, 0.10685131659548813), (2505, 0.10666125482061001), (3389, 0.1066324343861201), (3157, 0.10644182642514184), (3524, 0.1064345019980315), (3269, 0.1062211763305822), (2937, 0.1062126266872132), (3055, 0.10603492976175695), (2945, 0.10595223305127159), (3372, 0.1059017904145416), (2323, 0.10589353420550551), (3804, 0.10566011512415982), (2407, 0.10543902223988853), (4480, 0.10540633647288151), (2702, 0.10527918758937402), (2786, 0.10526150274734321), (3177, 0.1052608856680961), (3125, 0.10525661282167888), (2454, 0.10516944645843548), (3075, 0.10515993766043129), (4028, 0.10501888125826615), (3217, 0.10495047356154315), (4407, 0.10473255519192556), (3108, 0.10461730227444417), (3441, 0.10446688758170622), (2857, 0.10439426916122055), (4251, 0.10439404788374182), (3283, 0.10409615744947354), (2900, 0.10408812555550029), (3159, 0.10366816500828872), (3512, 0.10364298319575446), (2298, 0.10363204556566902), (3116, 0.1035271962444326), (3714, 0.1034566931317071), (3523, 0.10326711902847723), (4163, 0.10305892591627833), (2471, 0.10295745224136257), (3627, 0.10277237607719147), (2913, 0.10272937121676999), (3261, 0.10259298223609246), (3830, 0.10257779031992686), (3766, 0.10237228920445315), (2934, 0.10235770514156226), (2948, 0.10226198740132446), (2806, 0.10211664853080762), (4580, 0.10198227787342865), (4607, 0.10193033540843931), (3090, 0.10188463451075523), (3118, 0.10179441054069813), (3428, 0.10177847090626138), (4107, 0.10133697794355669), (3717, 0.10131592527728113), (4198, 0.10127391360647958), (4741, 0.10119182780425764), (3636, 0.10115955236955562), (3244, 0.10113985648380283), (4541, 0.10109127824906501), (4271, 0.10104124067775565), (2440, 0.1009173054092908), (3142, 0.10061846175058763), (3990, 0.10053796498813831), (2550, 0.10038012537640546), (3475, 0.09999156176222193), (2302, 0.09996255322356723), (4458, 0.09986366336380215), (3396, 0.09979412579511829), (4317, 0.09976081991815118), (3255, 0.09933418707623971), (4170, 0.09913407069423624), (3668, 0.09906959797752739), (3761, 0.09901799538738833), (3240, 0.099001189555625), (4316, 0.09884782651640167), (3350, 0.09877387436314666), (2741, 0.09864118394485975), (3945, 0.0986278500016545), (3530, 0.09862021765546948), (3020, 0.09857906925069185), (2512, 0.0983526058560974), (2257, 0.09825356425206841), (2993, 0.09811846057087842), (2635, 0.09810688437968106), (3601, 0.09810034110703462), (3715, 0.09774388398064221), (3088, 0.09766088479283985), (2345, 0.09763015240151224), (2772, 0.09752208236768367), (4062, 0.09750367374428066), (4619, 0.09748151095261363), (2726, 0.0974007893561939), (3544, 0.0970931915665176), (4134, 0.09703419841942602), (4102, 0.09702117103286173), (2999, 0.09694257546100779), (3025, 0.09665459814450765), (2577, 0.09661884670759664), (3206, 0.09661146005628415), (3152, 0.09660855309925988), (4646, 0.09650792958056888), (3258, 0.09640503488311221), (2773, 0.09635132699319345), (4753, 0.09629626054388725), (4019, 0.0962606076865953), (4065, 0.09619304406819175), (3041, 0.0960510936710021), (4759, 0.0958669022802208), (4352, 0.095681172457317), (4578, 0.0956636632275795), (3262, 0.09559795192217918), (3615, 0.0954652003635038), (4644, 0.09546484406958236), (3235, 0.09533004988189298), (2403, 0.09530931044814303), (2658, 0.09478298710268572), (2870, 0.09473273381701428), (2699, 0.09443469859051347), (3017, 0.09416172441291654), (2930, 0.09374447981586109), (4050, 0.09361514693943875), (4618, 0.09324628807597421), (3620, 0.09291447886875451), (2307, 0.0926789784807554), (3501, 0.09252488306195869), (3712, 0.0921698334756755), (2835, 0.09193039322573078), (3827, 0.09131900508545444), (2941, 0.09122405848566748), (2133, 0.09103995179082493), (4681, 0.09095816003187679), (3752, 0.09084015721509267), (3760, 0.09044795118533201), (3899, 0.08987884577661864), (3929, 0.08975955057259556), (4072, 0.08962907423725378), (2392, 0.08925854525090715), (2484, 0.08889601730117777), (3397, 0.08860228436541683), (3019, 0.0880917490814522), (4561, 0.08804271502048527), (3676, 0.08804144871955596), (4199, 0.08710306061248342), (2700, 0.08705359403029152), (3672, 0.08683325808415104), (3059, 0.08674003798787513), (4755, 0.08623006123384923), (3663, 0.08584105417595073), (2633, 0.08179799681280685), (3007, 0.08072904457691504), (4739, 0.005834365822520094), (3325, 0.004311274129119214), (4026, 0.0036780510465817783), (3552, 0.0020679388149163203), (2673, 0.00206233392716094), (4719, 0.001932738182393117), (3266, 0.0005611990440590346), (4654, 0.000540905189295448), (4758, 0.00054063717573857), (4711, 0.0005286206471061087), (3420, 0.0005068570301352177), (3981, 0.0005068570301352177), (3323, 0.0004884282279264917), (2717, 0.0004402993274416559)]\n"
          ]
        }
      ]
    },
    {
      "cell_type": "code",
      "source": [
        "print ('Top 30 Movies suggested for you : \\n')\n",
        "i=1\n",
        "for movie in Sorted_similar_movies :\n",
        "    index = movie[0]\n",
        "    title_from_index = df[df.index==index]['Movie_Title'].values[0]\n",
        "    if (i<31):\n",
        "       print(i,'.',title_from_index)\n",
        "       i+=1"
      ],
      "metadata": {
        "colab": {
          "base_uri": "https://localhost:8080/"
        },
        "id": "V420IFVtLA8w",
        "outputId": "b158fabd-5707-4b06-d285-a91cb695154e"
      },
      "execution_count": null,
      "outputs": [
        {
          "output_type": "stream",
          "name": "stdout",
          "text": [
            "Top 30 Movies suggested for you : \n",
            "\n",
            "1 . Niagara\n",
            "2 . Jurassic World\n",
            "3 . The Chronicles of Riddick\n",
            "4 . John Carter\n",
            "5 . The Dark Knight Rises\n",
            "6 . The Alamo\n",
            "7 . War of the Worlds\n",
            "8 . Bad Boys II\n",
            "9 . Contact\n",
            "10 . Ant-Man\n",
            "11 . Alexander\n",
            "12 . The Core\n",
            "13 . Catwoman\n",
            "14 . Dawn of the Planet of the Apes\n",
            "15 . Minority Report\n",
            "16 . Kill Bill: Vol. 1\n",
            "17 . The Hunger Games: Mockingjay - Part 2\n",
            "18 . Cursed\n",
            "19 . Big Fish\n",
            "20 . Collateral\n",
            "21 . The Aviator\n",
            "22 . The Wolf of Wall Street\n",
            "23 . Men in Black II\n",
            "24 . Harry Potter and the Prisoner of Azkaban\n",
            "25 . Tears of the Sun\n",
            "26 . Black Hawk Down\n",
            "27 . Harry Potter and the Philosopher's Stone\n",
            "28 . The Day After Tomorrow\n",
            "29 . Austin Powers in Goldmember\n",
            "30 . Ocean's Eleven\n"
          ]
        }
      ]
    },
    {
      "cell_type": "markdown",
      "source": [
        "Top 10 Movie Recommendation System"
      ],
      "metadata": {
        "id": "eATPOKQ3MlSf"
      }
    },
    {
      "cell_type": "code",
      "source": [
        "Movie_name = input ('enter your favourite movie name:')"
      ],
      "metadata": {
        "colab": {
          "base_uri": "https://localhost:8080/"
        },
        "id": "eHk_Kuo5M49w",
        "outputId": "a63856dd-7135-40f4-d553-eb100656c8ae"
      },
      "execution_count": null,
      "outputs": [
        {
          "name": "stdout",
          "output_type": "stream",
          "text": [
            "enter your favourite movie name:avtaar\n"
          ]
        }
      ]
    },
    {
      "cell_type": "code",
      "source": [
        "list_of_all_titles = df['Movie_Title'].tolist()"
      ],
      "metadata": {
        "id": "GF2luFFwNGtP"
      },
      "execution_count": null,
      "outputs": []
    },
    {
      "cell_type": "code",
      "source": [
        "Find_Close_Match = difflib.get_close_matches(Movie_name,list_of_all_titles)"
      ],
      "metadata": {
        "id": "XVCCmm_XNZO4"
      },
      "execution_count": null,
      "outputs": []
    },
    {
      "cell_type": "code",
      "source": [
        "Close_Match = Find_Close_Match[0]"
      ],
      "metadata": {
        "id": "NXOv2ivYNoO3"
      },
      "execution_count": null,
      "outputs": []
    },
    {
      "cell_type": "code",
      "source": [
        "Index_of_movie = df[df.Movie_Title == Close_Match]['Movie_ID'].values[0]"
      ],
      "metadata": {
        "id": "2UESAlQ5Nxd2"
      },
      "execution_count": null,
      "outputs": []
    },
    {
      "cell_type": "code",
      "source": [
        "Recommendation_Score = list(enumerate(Similarity_score[Index_of_Close_Match_Movie]))"
      ],
      "metadata": {
        "id": "bCy_vpqSOKEW"
      },
      "execution_count": null,
      "outputs": []
    },
    {
      "cell_type": "code",
      "source": [
        "Sorted_similar_movies = sorted(Recommendation_Score, key = lambda x:x[1], reverse = True)"
      ],
      "metadata": {
        "id": "GIrtk9VROfht"
      },
      "execution_count": null,
      "outputs": []
    },
    {
      "cell_type": "code",
      "source": [
        "print ('Top 10 Movies suggested for you : \\n')\n",
        "i=1\n",
        "for movie in Sorted_similar_movies :\n",
        "    index = movie[0]\n",
        "    title_from_index = df[df.index==index]['Movie_Title'].values[0]\n",
        "    if (i<31):\n",
        "       print(i,'.',title_from_index)\n",
        "       i+=1"
      ],
      "metadata": {
        "colab": {
          "base_uri": "https://localhost:8080/"
        },
        "id": "nSyekt_YOoPE",
        "outputId": "54bc87e4-0250-45e2-ba3f-8cce8d7aa7b1"
      },
      "execution_count": null,
      "outputs": [
        {
          "output_type": "stream",
          "name": "stdout",
          "text": [
            "Top 10 Movies suggested for you : \n",
            "\n",
            "1 . Niagara\n",
            "2 . Jurassic World\n",
            "3 . The Chronicles of Riddick\n",
            "4 . John Carter\n",
            "5 . The Dark Knight Rises\n",
            "6 . The Alamo\n",
            "7 . War of the Worlds\n",
            "8 . Bad Boys II\n",
            "9 . Contact\n",
            "10 . Ant-Man\n",
            "11 . Alexander\n",
            "12 . The Core\n",
            "13 . Catwoman\n",
            "14 . Dawn of the Planet of the Apes\n",
            "15 . Minority Report\n",
            "16 . Kill Bill: Vol. 1\n",
            "17 . The Hunger Games: Mockingjay - Part 2\n",
            "18 . Cursed\n",
            "19 . Big Fish\n",
            "20 . Collateral\n",
            "21 . The Aviator\n",
            "22 . The Wolf of Wall Street\n",
            "23 . Men in Black II\n",
            "24 . Harry Potter and the Prisoner of Azkaban\n",
            "25 . Tears of the Sun\n",
            "26 . Black Hawk Down\n",
            "27 . Harry Potter and the Philosopher's Stone\n",
            "28 . The Day After Tomorrow\n",
            "29 . Austin Powers in Goldmember\n",
            "30 . Ocean's Eleven\n"
          ]
        }
      ]
    }
  ]
}